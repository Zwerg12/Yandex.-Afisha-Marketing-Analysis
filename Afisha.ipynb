{
 "cells": [
  {
   "cell_type": "markdown",
   "metadata": {},
   "source": [
    "### Загрузка данных и подготовка их к анализу  <a class=\"anchor\" id=\"start\"></a>"
   ]
  },
  {
   "cell_type": "markdown",
   "metadata": {},
   "source": [
    "Импортируем необходимые для работы библиотеки и изучим данные с помощью методов info() и describe()"
   ]
  },
  {
   "cell_type": "code",
   "execution_count": 1,
   "metadata": {},
   "outputs": [],
   "source": [
    "import pandas as pd\n",
    "import numpy as np\n",
    "import seaborn as sns\n",
    "import matplotlib.pyplot as plt\n",
    "visits = pd.read_csv('/datasets/visits_log.csv')\n",
    "orders = pd.read_csv('/datasets/orders_log.csv')\n",
    "costs = pd.read_csv('/datasets/costs.csv')"
   ]
  },
  {
   "cell_type": "code",
   "execution_count": 2,
   "metadata": {},
   "outputs": [
    {
     "data": {
      "text/html": [
       "<div>\n",
       "<style scoped>\n",
       "    .dataframe tbody tr th:only-of-type {\n",
       "        vertical-align: middle;\n",
       "    }\n",
       "\n",
       "    .dataframe tbody tr th {\n",
       "        vertical-align: top;\n",
       "    }\n",
       "\n",
       "    .dataframe thead th {\n",
       "        text-align: right;\n",
       "    }\n",
       "</style>\n",
       "<table border=\"1\" class=\"dataframe\">\n",
       "  <thead>\n",
       "    <tr style=\"text-align: right;\">\n",
       "      <th></th>\n",
       "      <th>Device</th>\n",
       "      <th>End Ts</th>\n",
       "      <th>Source Id</th>\n",
       "      <th>Start Ts</th>\n",
       "      <th>Uid</th>\n",
       "    </tr>\n",
       "  </thead>\n",
       "  <tbody>\n",
       "    <tr>\n",
       "      <td>0</td>\n",
       "      <td>touch</td>\n",
       "      <td>2017-12-20 17:38:00</td>\n",
       "      <td>4</td>\n",
       "      <td>2017-12-20 17:20:00</td>\n",
       "      <td>16879256277535980062</td>\n",
       "    </tr>\n",
       "    <tr>\n",
       "      <td>1</td>\n",
       "      <td>desktop</td>\n",
       "      <td>2018-02-19 17:21:00</td>\n",
       "      <td>2</td>\n",
       "      <td>2018-02-19 16:53:00</td>\n",
       "      <td>104060357244891740</td>\n",
       "    </tr>\n",
       "    <tr>\n",
       "      <td>2</td>\n",
       "      <td>touch</td>\n",
       "      <td>2017-07-01 01:54:00</td>\n",
       "      <td>5</td>\n",
       "      <td>2017-07-01 01:54:00</td>\n",
       "      <td>7459035603376831527</td>\n",
       "    </tr>\n",
       "    <tr>\n",
       "      <td>3</td>\n",
       "      <td>desktop</td>\n",
       "      <td>2018-05-20 11:23:00</td>\n",
       "      <td>9</td>\n",
       "      <td>2018-05-20 10:59:00</td>\n",
       "      <td>16174680259334210214</td>\n",
       "    </tr>\n",
       "    <tr>\n",
       "      <td>4</td>\n",
       "      <td>desktop</td>\n",
       "      <td>2017-12-27 14:06:00</td>\n",
       "      <td>3</td>\n",
       "      <td>2017-12-27 14:06:00</td>\n",
       "      <td>9969694820036681168</td>\n",
       "    </tr>\n",
       "    <tr>\n",
       "      <td>...</td>\n",
       "      <td>...</td>\n",
       "      <td>...</td>\n",
       "      <td>...</td>\n",
       "      <td>...</td>\n",
       "      <td>...</td>\n",
       "    </tr>\n",
       "    <tr>\n",
       "      <td>359395</td>\n",
       "      <td>desktop</td>\n",
       "      <td>2017-07-29 19:07:19</td>\n",
       "      <td>2</td>\n",
       "      <td>2017-07-29 19:07:00</td>\n",
       "      <td>18363291481961487539</td>\n",
       "    </tr>\n",
       "    <tr>\n",
       "      <td>359396</td>\n",
       "      <td>touch</td>\n",
       "      <td>2018-01-25 17:38:19</td>\n",
       "      <td>1</td>\n",
       "      <td>2018-01-25 17:38:00</td>\n",
       "      <td>18370831553019119586</td>\n",
       "    </tr>\n",
       "    <tr>\n",
       "      <td>359397</td>\n",
       "      <td>desktop</td>\n",
       "      <td>2018-03-03 10:12:19</td>\n",
       "      <td>4</td>\n",
       "      <td>2018-03-03 10:12:00</td>\n",
       "      <td>18387297585500748294</td>\n",
       "    </tr>\n",
       "    <tr>\n",
       "      <td>359398</td>\n",
       "      <td>desktop</td>\n",
       "      <td>2017-11-02 10:12:19</td>\n",
       "      <td>5</td>\n",
       "      <td>2017-11-02 10:12:00</td>\n",
       "      <td>18388616944624776485</td>\n",
       "    </tr>\n",
       "    <tr>\n",
       "      <td>359399</td>\n",
       "      <td>touch</td>\n",
       "      <td>2017-09-10 13:13:19</td>\n",
       "      <td>2</td>\n",
       "      <td>2017-09-10 13:13:00</td>\n",
       "      <td>18396128934054549559</td>\n",
       "    </tr>\n",
       "  </tbody>\n",
       "</table>\n",
       "<p>359400 rows × 5 columns</p>\n",
       "</div>"
      ],
      "text/plain": [
       "         Device               End Ts  Source Id             Start Ts  \\\n",
       "0         touch  2017-12-20 17:38:00          4  2017-12-20 17:20:00   \n",
       "1       desktop  2018-02-19 17:21:00          2  2018-02-19 16:53:00   \n",
       "2         touch  2017-07-01 01:54:00          5  2017-07-01 01:54:00   \n",
       "3       desktop  2018-05-20 11:23:00          9  2018-05-20 10:59:00   \n",
       "4       desktop  2017-12-27 14:06:00          3  2017-12-27 14:06:00   \n",
       "...         ...                  ...        ...                  ...   \n",
       "359395  desktop  2017-07-29 19:07:19          2  2017-07-29 19:07:00   \n",
       "359396    touch  2018-01-25 17:38:19          1  2018-01-25 17:38:00   \n",
       "359397  desktop  2018-03-03 10:12:19          4  2018-03-03 10:12:00   \n",
       "359398  desktop  2017-11-02 10:12:19          5  2017-11-02 10:12:00   \n",
       "359399    touch  2017-09-10 13:13:19          2  2017-09-10 13:13:00   \n",
       "\n",
       "                         Uid  \n",
       "0       16879256277535980062  \n",
       "1         104060357244891740  \n",
       "2        7459035603376831527  \n",
       "3       16174680259334210214  \n",
       "4        9969694820036681168  \n",
       "...                      ...  \n",
       "359395  18363291481961487539  \n",
       "359396  18370831553019119586  \n",
       "359397  18387297585500748294  \n",
       "359398  18388616944624776485  \n",
       "359399  18396128934054549559  \n",
       "\n",
       "[359400 rows x 5 columns]"
      ]
     },
     "metadata": {},
     "output_type": "display_data"
    }
   ],
   "source": [
    "display(visits)"
   ]
  },
  {
   "cell_type": "code",
   "execution_count": 3,
   "metadata": {},
   "outputs": [
    {
     "name": "stdout",
     "output_type": "stream",
     "text": [
      "<class 'pandas.core.frame.DataFrame'>\n",
      "RangeIndex: 359400 entries, 0 to 359399\n",
      "Data columns (total 5 columns):\n",
      "Device       359400 non-null object\n",
      "End Ts       359400 non-null object\n",
      "Source Id    359400 non-null int64\n",
      "Start Ts     359400 non-null object\n",
      "Uid          359400 non-null uint64\n",
      "dtypes: int64(1), object(3), uint64(1)\n",
      "memory usage: 13.7+ MB\n"
     ]
    }
   ],
   "source": [
    "visits.info()"
   ]
  },
  {
   "cell_type": "markdown",
   "metadata": {},
   "source": [
    "Пропусков в данных нет; Данные в колонках End Ts, Start Ts имеют формат object, а должны иметь формат даты и времени. Нужно перевести их в правильный формат."
   ]
  },
  {
   "cell_type": "code",
   "execution_count": 4,
   "metadata": {},
   "outputs": [],
   "source": [
    "visits['End Ts'] = pd.to_datetime(visits['End Ts'])"
   ]
  },
  {
   "cell_type": "code",
   "execution_count": 5,
   "metadata": {},
   "outputs": [],
   "source": [
    "visits['Start Ts'] = pd.to_datetime(visits['Start Ts'])"
   ]
  },
  {
   "cell_type": "code",
   "execution_count": 6,
   "metadata": {},
   "outputs": [
    {
     "name": "stdout",
     "output_type": "stream",
     "text": [
      "<class 'pandas.core.frame.DataFrame'>\n",
      "RangeIndex: 359400 entries, 0 to 359399\n",
      "Data columns (total 5 columns):\n",
      "Device       359400 non-null object\n",
      "End Ts       359400 non-null datetime64[ns]\n",
      "Source Id    359400 non-null int64\n",
      "Start Ts     359400 non-null datetime64[ns]\n",
      "Uid          359400 non-null uint64\n",
      "dtypes: datetime64[ns](2), int64(1), object(1), uint64(1)\n",
      "memory usage: 13.7+ MB\n"
     ]
    }
   ],
   "source": [
    "visits.info()"
   ]
  },
  {
   "cell_type": "code",
   "execution_count": 7,
   "metadata": {},
   "outputs": [
    {
     "data": {
      "text/html": [
       "<div>\n",
       "<style scoped>\n",
       "    .dataframe tbody tr th:only-of-type {\n",
       "        vertical-align: middle;\n",
       "    }\n",
       "\n",
       "    .dataframe tbody tr th {\n",
       "        vertical-align: top;\n",
       "    }\n",
       "\n",
       "    .dataframe thead th {\n",
       "        text-align: right;\n",
       "    }\n",
       "</style>\n",
       "<table border=\"1\" class=\"dataframe\">\n",
       "  <thead>\n",
       "    <tr style=\"text-align: right;\">\n",
       "      <th></th>\n",
       "      <th>Buy Ts</th>\n",
       "      <th>Revenue</th>\n",
       "      <th>Uid</th>\n",
       "    </tr>\n",
       "  </thead>\n",
       "  <tbody>\n",
       "    <tr>\n",
       "      <td>0</td>\n",
       "      <td>2017-06-01 00:10:00</td>\n",
       "      <td>17.00</td>\n",
       "      <td>10329302124590727494</td>\n",
       "    </tr>\n",
       "    <tr>\n",
       "      <td>1</td>\n",
       "      <td>2017-06-01 00:25:00</td>\n",
       "      <td>0.55</td>\n",
       "      <td>11627257723692907447</td>\n",
       "    </tr>\n",
       "    <tr>\n",
       "      <td>2</td>\n",
       "      <td>2017-06-01 00:27:00</td>\n",
       "      <td>0.37</td>\n",
       "      <td>17903680561304213844</td>\n",
       "    </tr>\n",
       "    <tr>\n",
       "      <td>3</td>\n",
       "      <td>2017-06-01 00:29:00</td>\n",
       "      <td>0.55</td>\n",
       "      <td>16109239769442553005</td>\n",
       "    </tr>\n",
       "    <tr>\n",
       "      <td>4</td>\n",
       "      <td>2017-06-01 07:58:00</td>\n",
       "      <td>0.37</td>\n",
       "      <td>14200605875248379450</td>\n",
       "    </tr>\n",
       "    <tr>\n",
       "      <td>...</td>\n",
       "      <td>...</td>\n",
       "      <td>...</td>\n",
       "      <td>...</td>\n",
       "    </tr>\n",
       "    <tr>\n",
       "      <td>50410</td>\n",
       "      <td>2018-05-31 23:50:00</td>\n",
       "      <td>4.64</td>\n",
       "      <td>12296626599487328624</td>\n",
       "    </tr>\n",
       "    <tr>\n",
       "      <td>50411</td>\n",
       "      <td>2018-05-31 23:50:00</td>\n",
       "      <td>5.80</td>\n",
       "      <td>11369640365507475976</td>\n",
       "    </tr>\n",
       "    <tr>\n",
       "      <td>50412</td>\n",
       "      <td>2018-05-31 23:54:00</td>\n",
       "      <td>0.30</td>\n",
       "      <td>1786462140797698849</td>\n",
       "    </tr>\n",
       "    <tr>\n",
       "      <td>50413</td>\n",
       "      <td>2018-05-31 23:56:00</td>\n",
       "      <td>3.67</td>\n",
       "      <td>3993697860786194247</td>\n",
       "    </tr>\n",
       "    <tr>\n",
       "      <td>50414</td>\n",
       "      <td>2018-06-01 00:02:00</td>\n",
       "      <td>3.42</td>\n",
       "      <td>83872787173869366</td>\n",
       "    </tr>\n",
       "  </tbody>\n",
       "</table>\n",
       "<p>50415 rows × 3 columns</p>\n",
       "</div>"
      ],
      "text/plain": [
       "                    Buy Ts  Revenue                   Uid\n",
       "0      2017-06-01 00:10:00    17.00  10329302124590727494\n",
       "1      2017-06-01 00:25:00     0.55  11627257723692907447\n",
       "2      2017-06-01 00:27:00     0.37  17903680561304213844\n",
       "3      2017-06-01 00:29:00     0.55  16109239769442553005\n",
       "4      2017-06-01 07:58:00     0.37  14200605875248379450\n",
       "...                    ...      ...                   ...\n",
       "50410  2018-05-31 23:50:00     4.64  12296626599487328624\n",
       "50411  2018-05-31 23:50:00     5.80  11369640365507475976\n",
       "50412  2018-05-31 23:54:00     0.30   1786462140797698849\n",
       "50413  2018-05-31 23:56:00     3.67   3993697860786194247\n",
       "50414  2018-06-01 00:02:00     3.42     83872787173869366\n",
       "\n",
       "[50415 rows x 3 columns]"
      ]
     },
     "metadata": {},
     "output_type": "display_data"
    }
   ],
   "source": [
    "display(orders)"
   ]
  },
  {
   "cell_type": "code",
   "execution_count": 8,
   "metadata": {},
   "outputs": [
    {
     "name": "stdout",
     "output_type": "stream",
     "text": [
      "<class 'pandas.core.frame.DataFrame'>\n",
      "RangeIndex: 50415 entries, 0 to 50414\n",
      "Data columns (total 3 columns):\n",
      "Buy Ts     50415 non-null object\n",
      "Revenue    50415 non-null float64\n",
      "Uid        50415 non-null uint64\n",
      "dtypes: float64(1), object(1), uint64(1)\n",
      "memory usage: 1.2+ MB\n"
     ]
    }
   ],
   "source": [
    "orders.info()"
   ]
  },
  {
   "cell_type": "markdown",
   "metadata": {},
   "source": [
    "Пропусков в данных нет; надо перевести данные в колонке Buy Ts в формат даты и времени из формата object."
   ]
  },
  {
   "cell_type": "code",
   "execution_count": 9,
   "metadata": {},
   "outputs": [],
   "source": [
    "orders['Buy Ts'] = pd.to_datetime(orders['Buy Ts'])"
   ]
  },
  {
   "cell_type": "code",
   "execution_count": 10,
   "metadata": {},
   "outputs": [
    {
     "name": "stdout",
     "output_type": "stream",
     "text": [
      "<class 'pandas.core.frame.DataFrame'>\n",
      "RangeIndex: 50415 entries, 0 to 50414\n",
      "Data columns (total 3 columns):\n",
      "Buy Ts     50415 non-null datetime64[ns]\n",
      "Revenue    50415 non-null float64\n",
      "Uid        50415 non-null uint64\n",
      "dtypes: datetime64[ns](1), float64(1), uint64(1)\n",
      "memory usage: 1.2 MB\n"
     ]
    }
   ],
   "source": [
    "orders.info()"
   ]
  },
  {
   "cell_type": "code",
   "execution_count": 11,
   "metadata": {},
   "outputs": [
    {
     "data": {
      "text/html": [
       "<div>\n",
       "<style scoped>\n",
       "    .dataframe tbody tr th:only-of-type {\n",
       "        vertical-align: middle;\n",
       "    }\n",
       "\n",
       "    .dataframe tbody tr th {\n",
       "        vertical-align: top;\n",
       "    }\n",
       "\n",
       "    .dataframe thead th {\n",
       "        text-align: right;\n",
       "    }\n",
       "</style>\n",
       "<table border=\"1\" class=\"dataframe\">\n",
       "  <thead>\n",
       "    <tr style=\"text-align: right;\">\n",
       "      <th></th>\n",
       "      <th>Revenue</th>\n",
       "      <th>Uid</th>\n",
       "    </tr>\n",
       "  </thead>\n",
       "  <tbody>\n",
       "    <tr>\n",
       "      <td>count</td>\n",
       "      <td>50415.000000</td>\n",
       "      <td>5.041500e+04</td>\n",
       "    </tr>\n",
       "    <tr>\n",
       "      <td>mean</td>\n",
       "      <td>4.999647</td>\n",
       "      <td>9.098161e+18</td>\n",
       "    </tr>\n",
       "    <tr>\n",
       "      <td>std</td>\n",
       "      <td>21.818359</td>\n",
       "      <td>5.285742e+18</td>\n",
       "    </tr>\n",
       "    <tr>\n",
       "      <td>min</td>\n",
       "      <td>0.000000</td>\n",
       "      <td>3.135781e+14</td>\n",
       "    </tr>\n",
       "    <tr>\n",
       "      <td>25%</td>\n",
       "      <td>1.220000</td>\n",
       "      <td>4.533567e+18</td>\n",
       "    </tr>\n",
       "    <tr>\n",
       "      <td>50%</td>\n",
       "      <td>2.500000</td>\n",
       "      <td>9.102274e+18</td>\n",
       "    </tr>\n",
       "    <tr>\n",
       "      <td>75%</td>\n",
       "      <td>4.890000</td>\n",
       "      <td>1.368290e+19</td>\n",
       "    </tr>\n",
       "    <tr>\n",
       "      <td>max</td>\n",
       "      <td>2633.280000</td>\n",
       "      <td>1.844617e+19</td>\n",
       "    </tr>\n",
       "  </tbody>\n",
       "</table>\n",
       "</div>"
      ],
      "text/plain": [
       "            Revenue           Uid\n",
       "count  50415.000000  5.041500e+04\n",
       "mean       4.999647  9.098161e+18\n",
       "std       21.818359  5.285742e+18\n",
       "min        0.000000  3.135781e+14\n",
       "25%        1.220000  4.533567e+18\n",
       "50%        2.500000  9.102274e+18\n",
       "75%        4.890000  1.368290e+19\n",
       "max     2633.280000  1.844617e+19"
      ]
     },
     "execution_count": 11,
     "metadata": {},
     "output_type": "execute_result"
    }
   ],
   "source": [
    "orders.describe()"
   ]
  },
  {
   "cell_type": "markdown",
   "metadata": {},
   "source": [
    "Видим, что средняя выручка 4,9 у.е.; максимальная - 2633 у.е."
   ]
  },
  {
   "cell_type": "code",
   "execution_count": 12,
   "metadata": {},
   "outputs": [
    {
     "data": {
      "text/html": [
       "<div>\n",
       "<style scoped>\n",
       "    .dataframe tbody tr th:only-of-type {\n",
       "        vertical-align: middle;\n",
       "    }\n",
       "\n",
       "    .dataframe tbody tr th {\n",
       "        vertical-align: top;\n",
       "    }\n",
       "\n",
       "    .dataframe thead th {\n",
       "        text-align: right;\n",
       "    }\n",
       "</style>\n",
       "<table border=\"1\" class=\"dataframe\">\n",
       "  <thead>\n",
       "    <tr style=\"text-align: right;\">\n",
       "      <th></th>\n",
       "      <th>source_id</th>\n",
       "      <th>dt</th>\n",
       "      <th>costs</th>\n",
       "    </tr>\n",
       "  </thead>\n",
       "  <tbody>\n",
       "    <tr>\n",
       "      <td>0</td>\n",
       "      <td>1</td>\n",
       "      <td>2017-06-01</td>\n",
       "      <td>75.20</td>\n",
       "    </tr>\n",
       "    <tr>\n",
       "      <td>1</td>\n",
       "      <td>1</td>\n",
       "      <td>2017-06-02</td>\n",
       "      <td>62.25</td>\n",
       "    </tr>\n",
       "    <tr>\n",
       "      <td>2</td>\n",
       "      <td>1</td>\n",
       "      <td>2017-06-03</td>\n",
       "      <td>36.53</td>\n",
       "    </tr>\n",
       "    <tr>\n",
       "      <td>3</td>\n",
       "      <td>1</td>\n",
       "      <td>2017-06-04</td>\n",
       "      <td>55.00</td>\n",
       "    </tr>\n",
       "    <tr>\n",
       "      <td>4</td>\n",
       "      <td>1</td>\n",
       "      <td>2017-06-05</td>\n",
       "      <td>57.08</td>\n",
       "    </tr>\n",
       "    <tr>\n",
       "      <td>...</td>\n",
       "      <td>...</td>\n",
       "      <td>...</td>\n",
       "      <td>...</td>\n",
       "    </tr>\n",
       "    <tr>\n",
       "      <td>2537</td>\n",
       "      <td>10</td>\n",
       "      <td>2018-05-27</td>\n",
       "      <td>9.92</td>\n",
       "    </tr>\n",
       "    <tr>\n",
       "      <td>2538</td>\n",
       "      <td>10</td>\n",
       "      <td>2018-05-28</td>\n",
       "      <td>21.26</td>\n",
       "    </tr>\n",
       "    <tr>\n",
       "      <td>2539</td>\n",
       "      <td>10</td>\n",
       "      <td>2018-05-29</td>\n",
       "      <td>11.32</td>\n",
       "    </tr>\n",
       "    <tr>\n",
       "      <td>2540</td>\n",
       "      <td>10</td>\n",
       "      <td>2018-05-30</td>\n",
       "      <td>33.15</td>\n",
       "    </tr>\n",
       "    <tr>\n",
       "      <td>2541</td>\n",
       "      <td>10</td>\n",
       "      <td>2018-05-31</td>\n",
       "      <td>17.60</td>\n",
       "    </tr>\n",
       "  </tbody>\n",
       "</table>\n",
       "<p>2542 rows × 3 columns</p>\n",
       "</div>"
      ],
      "text/plain": [
       "      source_id          dt  costs\n",
       "0             1  2017-06-01  75.20\n",
       "1             1  2017-06-02  62.25\n",
       "2             1  2017-06-03  36.53\n",
       "3             1  2017-06-04  55.00\n",
       "4             1  2017-06-05  57.08\n",
       "...         ...         ...    ...\n",
       "2537         10  2018-05-27   9.92\n",
       "2538         10  2018-05-28  21.26\n",
       "2539         10  2018-05-29  11.32\n",
       "2540         10  2018-05-30  33.15\n",
       "2541         10  2018-05-31  17.60\n",
       "\n",
       "[2542 rows x 3 columns]"
      ]
     },
     "metadata": {},
     "output_type": "display_data"
    }
   ],
   "source": [
    "display(costs)"
   ]
  },
  {
   "cell_type": "code",
   "execution_count": 13,
   "metadata": {},
   "outputs": [
    {
     "name": "stdout",
     "output_type": "stream",
     "text": [
      "<class 'pandas.core.frame.DataFrame'>\n",
      "RangeIndex: 2542 entries, 0 to 2541\n",
      "Data columns (total 3 columns):\n",
      "source_id    2542 non-null int64\n",
      "dt           2542 non-null object\n",
      "costs        2542 non-null float64\n",
      "dtypes: float64(1), int64(1), object(1)\n",
      "memory usage: 59.7+ KB\n"
     ]
    }
   ],
   "source": [
    "costs.info()"
   ]
  },
  {
   "cell_type": "markdown",
   "metadata": {},
   "source": [
    "Пропусков в данных нет; надо перевести столбец \"dt\" в формат даты и времени из формата object"
   ]
  },
  {
   "cell_type": "code",
   "execution_count": 14,
   "metadata": {},
   "outputs": [],
   "source": [
    "costs['dt'] = pd.to_datetime(costs['dt'])"
   ]
  },
  {
   "cell_type": "code",
   "execution_count": 15,
   "metadata": {},
   "outputs": [
    {
     "name": "stdout",
     "output_type": "stream",
     "text": [
      "<class 'pandas.core.frame.DataFrame'>\n",
      "RangeIndex: 2542 entries, 0 to 2541\n",
      "Data columns (total 3 columns):\n",
      "source_id    2542 non-null int64\n",
      "dt           2542 non-null datetime64[ns]\n",
      "costs        2542 non-null float64\n",
      "dtypes: datetime64[ns](1), float64(1), int64(1)\n",
      "memory usage: 59.7 KB\n"
     ]
    }
   ],
   "source": [
    "costs.info()"
   ]
  },
  {
   "cell_type": "markdown",
   "metadata": {},
   "source": [
    "### Рассчитайте DAU, WAU и MAU. Вычислите средние значения этих метрик за весь период<a class=\"anchor\" id=\"Dau\"></a>"
   ]
  },
  {
   "cell_type": "markdown",
   "metadata": {},
   "source": [
    "Нам нужно рассчитать метрики DAU (от англ. daily active users) — количество уникальных пользователей в день, WAU (от англ. weekly active users) — количество уникальных пользователей в неделю, MAU (от англ. monthly active users) — количество уникальных пользователей в месяц."
   ]
  },
  {
   "cell_type": "markdown",
   "metadata": {},
   "source": [
    "Будем использовать датасет visits, так как в нем есть данные о пользовательских сессиях. Добавим столбцы с разбивкой даты по полной дате, неделе и месяцу + создадим столбец с длительностью сессии в минутах:"
   ]
  },
  {
   "cell_type": "code",
   "execution_count": 16,
   "metadata": {},
   "outputs": [],
   "source": [
    "visits['session_year']  = visits['Start Ts'].dt.year"
   ]
  },
  {
   "cell_type": "code",
   "execution_count": 17,
   "metadata": {},
   "outputs": [],
   "source": [
    "visits['session_day'] = visits['Start Ts'].dt.date"
   ]
  },
  {
   "cell_type": "code",
   "execution_count": 18,
   "metadata": {},
   "outputs": [],
   "source": [
    "visits['session_week'] = visits['Start Ts'].dt.week"
   ]
  },
  {
   "cell_type": "code",
   "execution_count": 19,
   "metadata": {},
   "outputs": [],
   "source": [
    "visits['session_month'] = visits['Start Ts'].dt.month"
   ]
  },
  {
   "cell_type": "code",
   "execution_count": 20,
   "metadata": {},
   "outputs": [],
   "source": [
    "visits['session_duration'] = visits['End Ts'] - visits['Start Ts']"
   ]
  },
  {
   "cell_type": "code",
   "execution_count": 21,
   "metadata": {},
   "outputs": [
    {
     "data": {
      "text/html": [
       "<div>\n",
       "<style scoped>\n",
       "    .dataframe tbody tr th:only-of-type {\n",
       "        vertical-align: middle;\n",
       "    }\n",
       "\n",
       "    .dataframe tbody tr th {\n",
       "        vertical-align: top;\n",
       "    }\n",
       "\n",
       "    .dataframe thead th {\n",
       "        text-align: right;\n",
       "    }\n",
       "</style>\n",
       "<table border=\"1\" class=\"dataframe\">\n",
       "  <thead>\n",
       "    <tr style=\"text-align: right;\">\n",
       "      <th></th>\n",
       "      <th>Device</th>\n",
       "      <th>End Ts</th>\n",
       "      <th>Source Id</th>\n",
       "      <th>Start Ts</th>\n",
       "      <th>Uid</th>\n",
       "      <th>session_year</th>\n",
       "      <th>session_day</th>\n",
       "      <th>session_week</th>\n",
       "      <th>session_month</th>\n",
       "      <th>session_duration</th>\n",
       "    </tr>\n",
       "  </thead>\n",
       "  <tbody>\n",
       "    <tr>\n",
       "      <td>0</td>\n",
       "      <td>touch</td>\n",
       "      <td>2017-12-20 17:38:00</td>\n",
       "      <td>4</td>\n",
       "      <td>2017-12-20 17:20:00</td>\n",
       "      <td>16879256277535980062</td>\n",
       "      <td>2017</td>\n",
       "      <td>2017-12-20</td>\n",
       "      <td>51</td>\n",
       "      <td>12</td>\n",
       "      <td>00:18:00</td>\n",
       "    </tr>\n",
       "    <tr>\n",
       "      <td>1</td>\n",
       "      <td>desktop</td>\n",
       "      <td>2018-02-19 17:21:00</td>\n",
       "      <td>2</td>\n",
       "      <td>2018-02-19 16:53:00</td>\n",
       "      <td>104060357244891740</td>\n",
       "      <td>2018</td>\n",
       "      <td>2018-02-19</td>\n",
       "      <td>8</td>\n",
       "      <td>2</td>\n",
       "      <td>00:28:00</td>\n",
       "    </tr>\n",
       "    <tr>\n",
       "      <td>2</td>\n",
       "      <td>touch</td>\n",
       "      <td>2017-07-01 01:54:00</td>\n",
       "      <td>5</td>\n",
       "      <td>2017-07-01 01:54:00</td>\n",
       "      <td>7459035603376831527</td>\n",
       "      <td>2017</td>\n",
       "      <td>2017-07-01</td>\n",
       "      <td>26</td>\n",
       "      <td>7</td>\n",
       "      <td>00:00:00</td>\n",
       "    </tr>\n",
       "    <tr>\n",
       "      <td>3</td>\n",
       "      <td>desktop</td>\n",
       "      <td>2018-05-20 11:23:00</td>\n",
       "      <td>9</td>\n",
       "      <td>2018-05-20 10:59:00</td>\n",
       "      <td>16174680259334210214</td>\n",
       "      <td>2018</td>\n",
       "      <td>2018-05-20</td>\n",
       "      <td>20</td>\n",
       "      <td>5</td>\n",
       "      <td>00:24:00</td>\n",
       "    </tr>\n",
       "    <tr>\n",
       "      <td>4</td>\n",
       "      <td>desktop</td>\n",
       "      <td>2017-12-27 14:06:00</td>\n",
       "      <td>3</td>\n",
       "      <td>2017-12-27 14:06:00</td>\n",
       "      <td>9969694820036681168</td>\n",
       "      <td>2017</td>\n",
       "      <td>2017-12-27</td>\n",
       "      <td>52</td>\n",
       "      <td>12</td>\n",
       "      <td>00:00:00</td>\n",
       "    </tr>\n",
       "    <tr>\n",
       "      <td>...</td>\n",
       "      <td>...</td>\n",
       "      <td>...</td>\n",
       "      <td>...</td>\n",
       "      <td>...</td>\n",
       "      <td>...</td>\n",
       "      <td>...</td>\n",
       "      <td>...</td>\n",
       "      <td>...</td>\n",
       "      <td>...</td>\n",
       "      <td>...</td>\n",
       "    </tr>\n",
       "    <tr>\n",
       "      <td>359395</td>\n",
       "      <td>desktop</td>\n",
       "      <td>2017-07-29 19:07:19</td>\n",
       "      <td>2</td>\n",
       "      <td>2017-07-29 19:07:00</td>\n",
       "      <td>18363291481961487539</td>\n",
       "      <td>2017</td>\n",
       "      <td>2017-07-29</td>\n",
       "      <td>30</td>\n",
       "      <td>7</td>\n",
       "      <td>00:00:19</td>\n",
       "    </tr>\n",
       "    <tr>\n",
       "      <td>359396</td>\n",
       "      <td>touch</td>\n",
       "      <td>2018-01-25 17:38:19</td>\n",
       "      <td>1</td>\n",
       "      <td>2018-01-25 17:38:00</td>\n",
       "      <td>18370831553019119586</td>\n",
       "      <td>2018</td>\n",
       "      <td>2018-01-25</td>\n",
       "      <td>4</td>\n",
       "      <td>1</td>\n",
       "      <td>00:00:19</td>\n",
       "    </tr>\n",
       "    <tr>\n",
       "      <td>359397</td>\n",
       "      <td>desktop</td>\n",
       "      <td>2018-03-03 10:12:19</td>\n",
       "      <td>4</td>\n",
       "      <td>2018-03-03 10:12:00</td>\n",
       "      <td>18387297585500748294</td>\n",
       "      <td>2018</td>\n",
       "      <td>2018-03-03</td>\n",
       "      <td>9</td>\n",
       "      <td>3</td>\n",
       "      <td>00:00:19</td>\n",
       "    </tr>\n",
       "    <tr>\n",
       "      <td>359398</td>\n",
       "      <td>desktop</td>\n",
       "      <td>2017-11-02 10:12:19</td>\n",
       "      <td>5</td>\n",
       "      <td>2017-11-02 10:12:00</td>\n",
       "      <td>18388616944624776485</td>\n",
       "      <td>2017</td>\n",
       "      <td>2017-11-02</td>\n",
       "      <td>44</td>\n",
       "      <td>11</td>\n",
       "      <td>00:00:19</td>\n",
       "    </tr>\n",
       "    <tr>\n",
       "      <td>359399</td>\n",
       "      <td>touch</td>\n",
       "      <td>2017-09-10 13:13:19</td>\n",
       "      <td>2</td>\n",
       "      <td>2017-09-10 13:13:00</td>\n",
       "      <td>18396128934054549559</td>\n",
       "      <td>2017</td>\n",
       "      <td>2017-09-10</td>\n",
       "      <td>36</td>\n",
       "      <td>9</td>\n",
       "      <td>00:00:19</td>\n",
       "    </tr>\n",
       "  </tbody>\n",
       "</table>\n",
       "<p>359400 rows × 10 columns</p>\n",
       "</div>"
      ],
      "text/plain": [
       "         Device              End Ts  Source Id            Start Ts  \\\n",
       "0         touch 2017-12-20 17:38:00          4 2017-12-20 17:20:00   \n",
       "1       desktop 2018-02-19 17:21:00          2 2018-02-19 16:53:00   \n",
       "2         touch 2017-07-01 01:54:00          5 2017-07-01 01:54:00   \n",
       "3       desktop 2018-05-20 11:23:00          9 2018-05-20 10:59:00   \n",
       "4       desktop 2017-12-27 14:06:00          3 2017-12-27 14:06:00   \n",
       "...         ...                 ...        ...                 ...   \n",
       "359395  desktop 2017-07-29 19:07:19          2 2017-07-29 19:07:00   \n",
       "359396    touch 2018-01-25 17:38:19          1 2018-01-25 17:38:00   \n",
       "359397  desktop 2018-03-03 10:12:19          4 2018-03-03 10:12:00   \n",
       "359398  desktop 2017-11-02 10:12:19          5 2017-11-02 10:12:00   \n",
       "359399    touch 2017-09-10 13:13:19          2 2017-09-10 13:13:00   \n",
       "\n",
       "                         Uid  session_year session_day  session_week  \\\n",
       "0       16879256277535980062          2017  2017-12-20            51   \n",
       "1         104060357244891740          2018  2018-02-19             8   \n",
       "2        7459035603376831527          2017  2017-07-01            26   \n",
       "3       16174680259334210214          2018  2018-05-20            20   \n",
       "4        9969694820036681168          2017  2017-12-27            52   \n",
       "...                      ...           ...         ...           ...   \n",
       "359395  18363291481961487539          2017  2017-07-29            30   \n",
       "359396  18370831553019119586          2018  2018-01-25             4   \n",
       "359397  18387297585500748294          2018  2018-03-03             9   \n",
       "359398  18388616944624776485          2017  2017-11-02            44   \n",
       "359399  18396128934054549559          2017  2017-09-10            36   \n",
       "\n",
       "        session_month session_duration  \n",
       "0                  12         00:18:00  \n",
       "1                   2         00:28:00  \n",
       "2                   7         00:00:00  \n",
       "3                   5         00:24:00  \n",
       "4                  12         00:00:00  \n",
       "...               ...              ...  \n",
       "359395              7         00:00:19  \n",
       "359396              1         00:00:19  \n",
       "359397              3         00:00:19  \n",
       "359398             11         00:00:19  \n",
       "359399              9         00:00:19  \n",
       "\n",
       "[359400 rows x 10 columns]"
      ]
     },
     "execution_count": 21,
     "metadata": {},
     "output_type": "execute_result"
    }
   ],
   "source": [
    "visits"
   ]
  },
  {
   "cell_type": "markdown",
   "metadata": {},
   "source": [
    "### Расчет DAU"
   ]
  },
  {
   "cell_type": "code",
   "execution_count": 22,
   "metadata": {},
   "outputs": [],
   "source": [
    "dau_total = visits.groupby('session_day').agg({'Uid': 'nunique'}).mean()"
   ]
  },
  {
   "cell_type": "code",
   "execution_count": 23,
   "metadata": {},
   "outputs": [
    {
     "name": "stdout",
     "output_type": "stream",
     "text": [
      "907\n"
     ]
    }
   ],
   "source": [
    "print(int(dau_total))"
   ]
  },
  {
   "cell_type": "code",
   "execution_count": 24,
   "metadata": {},
   "outputs": [],
   "source": [
    "visits['visit_day'] = visits['Start Ts'].dt.date"
   ]
  },
  {
   "cell_type": "code",
   "execution_count": 25,
   "metadata": {},
   "outputs": [
    {
     "data": {
      "text/plain": [
       "(array([736481., 736511., 736542., 736573., 736603., 736634., 736664.,\n",
       "        736695., 736726., 736754., 736785., 736815.]),\n",
       " <a list of 12 Text xticklabel objects>)"
      ]
     },
     "execution_count": 25,
     "metadata": {},
     "output_type": "execute_result"
    },
    {
     "data": {
      "image/png": "[encoded data removed]",
      "text/plain": [
       "<Figure size 432x288 with 1 Axes>"
      ]
     },
     "metadata": {
      "needs_background": "light"
     },
     "output_type": "display_data"
    }
   ],
   "source": [
    "visits.groupby('visit_day')['Uid'].nunique().plot()\n",
    "plt.title(\"Количество уникальных пользователей в день (DAU)\")\n",
    "plt.xticks(rotation=90)"
   ]
  },
  {
   "cell_type": "markdown",
   "metadata": {},
   "source": [
    "Резкий всплеск количества пользователей в декабре 2017 года и резкое снижение числа пользователей в апреле 2018"
   ]
  },
  {
   "cell_type": "markdown",
   "metadata": {},
   "source": [
    "907 уникальных пользователей в день пользуются сервисом."
   ]
  },
  {
   "cell_type": "markdown",
   "metadata": {},
   "source": [
    "### Расчет WAU"
   ]
  },
  {
   "cell_type": "code",
   "execution_count": 26,
   "metadata": {},
   "outputs": [],
   "source": [
    "wau_total = (\n",
    "    visits.groupby(['session_year', 'session_week'])\n",
    "    .agg({'Uid': 'nunique'})\n",
    "    .mean()\n",
    ")"
   ]
  },
  {
   "cell_type": "code",
   "execution_count": 27,
   "metadata": {},
   "outputs": [
    {
     "name": "stdout",
     "output_type": "stream",
     "text": [
      "5716\n"
     ]
    }
   ],
   "source": [
    "print(int(wau_total)) "
   ]
  },
  {
   "cell_type": "markdown",
   "metadata": {},
   "source": [
    "5716 уникальных пользователей в неделю пользуются сервисом."
   ]
  },
  {
   "cell_type": "code",
   "execution_count": 28,
   "metadata": {},
   "outputs": [],
   "source": [
    "visits['visit_week']=visits['Start Ts'].astype('datetime64[W]')"
   ]
  },
  {
   "cell_type": "code",
   "execution_count": 29,
   "metadata": {},
   "outputs": [
    {
     "data": {
      "text/plain": [
       "Text(0.5, 1.0, 'Количество уникальных пользователей в неделю (WAU)')"
      ]
     },
     "execution_count": 29,
     "metadata": {},
     "output_type": "execute_result"
    },
    {
     "data": {
      "image/png": "[encoded data removed]",
      "text/plain": [
       "<Figure size 432x288 with 1 Axes>"
      ]
     },
     "metadata": {
      "needs_background": "light"
     },
     "output_type": "display_data"
    }
   ],
   "source": [
    "visits.groupby('visit_week')['Uid'].nunique().plot()\n",
    "plt.title(\"Количество уникальных пользователей в неделю (WAU)\")"
   ]
  },
  {
   "cell_type": "markdown",
   "metadata": {},
   "source": [
    "Резкий всплеск количества пользователей в декабре 2017 года и резкое снижение числа пользователей в апреле 2018"
   ]
  },
  {
   "cell_type": "markdown",
   "metadata": {},
   "source": [
    "### Расчет MAU"
   ]
  },
  {
   "cell_type": "code",
   "execution_count": 30,
   "metadata": {},
   "outputs": [],
   "source": [
    "mau_total = (\n",
    "    visits.groupby(['session_year', 'session_month'])\n",
    "    .agg({'Uid': 'nunique'})\n",
    "    .mean()\n",
    ")"
   ]
  },
  {
   "cell_type": "code",
   "execution_count": 31,
   "metadata": {},
   "outputs": [
    {
     "name": "stdout",
     "output_type": "stream",
     "text": [
      "23228\n"
     ]
    }
   ],
   "source": [
    "print(int(mau_total))"
   ]
  },
  {
   "cell_type": "markdown",
   "metadata": {},
   "source": [
    "23228 уникальных пользователей в месяц пользуются сервисом."
   ]
  },
  {
   "cell_type": "code",
   "execution_count": 32,
   "metadata": {},
   "outputs": [],
   "source": [
    "visits['visit_month'] = visits['Start Ts'].astype('datetime64[M]')"
   ]
  },
  {
   "cell_type": "code",
   "execution_count": 33,
   "metadata": {},
   "outputs": [
    {
     "data": {
      "text/plain": [
       "Text(0.5, 1.0, 'Количество уникальных пользователей в месяц (MAU)')"
      ]
     },
     "execution_count": 33,
     "metadata": {},
     "output_type": "execute_result"
    },
    {
     "data": {
      "image/png": "[encoded data removed]",
      "text/plain": [
       "<Figure size 432x288 with 1 Axes>"
      ]
     },
     "metadata": {
      "needs_background": "light"
     },
     "output_type": "display_data"
    }
   ],
   "source": [
    "visits.groupby('visit_month')['Uid'].nunique().plot()\n",
    "plt.title(\"Количество уникальных пользователей в месяц (MAU)\")"
   ]
  },
  {
   "cell_type": "markdown",
   "metadata": {},
   "source": [
    "После снижения резкого количества пользователей (время отпусков/ каникул у клиентов и отпусков у театров / музыкантов и тд?) в августе 2017 начинается рост, который достигает пика в октябре и потом следующего пика  - в ноябре 2018 (покупка билетов на новогодние мероприятия и мероприятия в новогодние праздники?, потом опять начинается падение с отдельными периодами роста в феврале и марте (покупка билетов на мероприятия в районе гендерных праздников?) и затем уверенный спад активности в апреле 2018. То есть, есть определенная сезонность в уровне активности пользователей."
   ]
  },
  {
   "cell_type": "markdown",
   "metadata": {},
   "source": [
    "### Продукт: Сколько сессий в день? Средний Retention Rate на второй месяц «жизни» когорт?<a class=\"anchor\" id=\"retention_rate\"></a>"
   ]
  },
  {
   "cell_type": "markdown",
   "metadata": {},
   "source": [
    "Что бы узнать сколько сессий приходится на одного пользователя, разделим число сессий на количество пользователей за период:"
   ]
  },
  {
   "cell_type": "code",
   "execution_count": 34,
   "metadata": {},
   "outputs": [],
   "source": [
    "sessions_per_user = visits.groupby(['session_year', 'session_month']).agg(\n",
    "    {'Uid': ['count', 'nunique']}\n",
    ")"
   ]
  },
  {
   "cell_type": "code",
   "execution_count": 35,
   "metadata": {},
   "outputs": [],
   "source": [
    "sessions_per_user.columns = ['n_sessions', 'n_users']"
   ]
  },
  {
   "cell_type": "code",
   "execution_count": 36,
   "metadata": {},
   "outputs": [],
   "source": [
    "sessions_per_user['sessions_per_user'] = (\n",
    "    sessions_per_user['n_sessions'] / sessions_per_user['n_users']\n",
    ")"
   ]
  },
  {
   "cell_type": "code",
   "execution_count": 37,
   "metadata": {},
   "outputs": [
    {
     "name": "stdout",
     "output_type": "stream",
     "text": [
      "                            n_sessions  n_users  sessions_per_user\n",
      "session_year session_month                                        \n",
      "2017         6                   16505    13259           1.244815\n",
      "             7                   17828    14183           1.256998\n",
      "             8                   14355    11631           1.234202\n",
      "             9                   23907    18975           1.259921\n",
      "             10                  37903    29692           1.276539\n",
      "             11                  43969    32797           1.340641\n",
      "             12                  41983    31557           1.330386\n",
      "2018         1                   36939    28716           1.286356\n",
      "             2                   37182    28749           1.293332\n",
      "             3                   35679    27473           1.298693\n",
      "             4                   26515    21008           1.262138\n",
      "             5                   26635    20701           1.286653\n"
     ]
    }
   ],
   "source": [
    "print(sessions_per_user) "
   ]
  },
  {
   "cell_type": "markdown",
   "metadata": {},
   "source": [
    "Видим, что в месяц один пользователь в среднем проводит в приложении максимум 1 сессию. Не сказать, что продукт используется регулярно."
   ]
  },
  {
   "cell_type": "markdown",
   "metadata": {},
   "source": [
    "### Продукт: Сколько длится одна сессия? <a class=\"anchor\" id=\"session\"></a>"
   ]
  },
  {
   "cell_type": "markdown",
   "metadata": {},
   "source": [
    "Найдем среднюю продолжительность сессии - метрику ASL.Для этого посчитаем длину всех сессий и вычислим среднее:"
   ]
  },
  {
   "cell_type": "code",
   "execution_count": 38,
   "metadata": {},
   "outputs": [],
   "source": [
    "visits['session_duration_sec'] = (\n",
    "    visits['End Ts'] - visits['Start Ts']\n",
    ").dt.seconds"
   ]
  },
  {
   "cell_type": "code",
   "execution_count": 39,
   "metadata": {},
   "outputs": [
    {
     "name": "stdout",
     "output_type": "stream",
     "text": [
      "643.506488592098\n"
     ]
    }
   ],
   "source": [
    "print(visits['session_duration_sec'].mean()) "
   ]
  },
  {
   "cell_type": "markdown",
   "metadata": {},
   "source": [
    "Получается, в среднем сессия длится 643 секунды или 10,7 минут.Проверим, какое распределение у средней продолжительности сессии."
   ]
  },
  {
   "cell_type": "code",
   "execution_count": 40,
   "metadata": {},
   "outputs": [
    {
     "data": {
      "text/plain": [
       "Text(0.5, 1.0, 'Распределение средней продолжительности сессии')"
      ]
     },
     "execution_count": 40,
     "metadata": {},
     "output_type": "execute_result"
    },
    {
     "data": {
      "image/png": "[encoded data removed]",
      "text/plain": [
       "<Figure size 432x288 with 1 Axes>"
      ]
     },
     "metadata": {
      "needs_background": "light"
     },
     "output_type": "display_data"
    }
   ],
   "source": [
    "visits['session_duration_sec'].hist(bins=100) \n",
    "plt.title(\"Распределение средней продолжительности сессии\")"
   ]
  },
  {
   "cell_type": "code",
   "execution_count": 41,
   "metadata": {},
   "outputs": [
    {
     "name": "stdout",
     "output_type": "stream",
     "text": [
      "0    60\n",
      "dtype: int64\n"
     ]
    }
   ],
   "source": [
    "print(visits['session_duration_sec'].mode())"
   ]
  },
  {
   "cell_type": "markdown",
   "metadata": {},
   "source": [
    "Длина сессий распределена неравномерно."
   ]
  },
  {
   "cell_type": "markdown",
   "metadata": {},
   "source": [
    "### Продукт: Как часто люди возвращаются?<a class=\"anchor\" id=\"retention\"></a>"
   ]
  },
  {
   "cell_type": "markdown",
   "metadata": {},
   "source": [
    "Для этого сформируем когорты пользователей и рассчитаем метрику Retention Rate. "
   ]
  },
  {
   "cell_type": "markdown",
   "metadata": {},
   "source": [
    "Определим событие и период — на их основе сформируем когорту. Возьмём дату, когда пользователь впервые проявил активность."
   ]
  },
  {
   "cell_type": "code",
   "execution_count": 42,
   "metadata": {},
   "outputs": [],
   "source": [
    "first_visit = visits.groupby(['Uid'])['Start Ts'].min().reset_index()"
   ]
  },
  {
   "cell_type": "code",
   "execution_count": 43,
   "metadata": {},
   "outputs": [],
   "source": [
    "first_visit.columns = ['Uid', 'first_visit']"
   ]
  },
  {
   "cell_type": "code",
   "execution_count": 44,
   "metadata": {},
   "outputs": [
    {
     "data": {
      "text/html": [
       "<div>\n",
       "<style scoped>\n",
       "    .dataframe tbody tr th:only-of-type {\n",
       "        vertical-align: middle;\n",
       "    }\n",
       "\n",
       "    .dataframe tbody tr th {\n",
       "        vertical-align: top;\n",
       "    }\n",
       "\n",
       "    .dataframe thead th {\n",
       "        text-align: right;\n",
       "    }\n",
       "</style>\n",
       "<table border=\"1\" class=\"dataframe\">\n",
       "  <thead>\n",
       "    <tr style=\"text-align: right;\">\n",
       "      <th></th>\n",
       "      <th>Uid</th>\n",
       "      <th>first_visit</th>\n",
       "    </tr>\n",
       "  </thead>\n",
       "  <tbody>\n",
       "    <tr>\n",
       "      <td>0</td>\n",
       "      <td>11863502262781</td>\n",
       "      <td>2018-03-01 17:27:00</td>\n",
       "    </tr>\n",
       "    <tr>\n",
       "      <td>1</td>\n",
       "      <td>49537067089222</td>\n",
       "      <td>2018-02-06 15:55:00</td>\n",
       "    </tr>\n",
       "    <tr>\n",
       "      <td>2</td>\n",
       "      <td>297729379853735</td>\n",
       "      <td>2017-06-07 18:47:00</td>\n",
       "    </tr>\n",
       "    <tr>\n",
       "      <td>3</td>\n",
       "      <td>313578113262317</td>\n",
       "      <td>2017-09-18 22:49:00</td>\n",
       "    </tr>\n",
       "    <tr>\n",
       "      <td>4</td>\n",
       "      <td>325320750514679</td>\n",
       "      <td>2017-09-30 14:29:00</td>\n",
       "    </tr>\n",
       "  </tbody>\n",
       "</table>\n",
       "</div>"
      ],
      "text/plain": [
       "               Uid         first_visit\n",
       "0   11863502262781 2018-03-01 17:27:00\n",
       "1   49537067089222 2018-02-06 15:55:00\n",
       "2  297729379853735 2017-06-07 18:47:00\n",
       "3  313578113262317 2017-09-18 22:49:00\n",
       "4  325320750514679 2017-09-30 14:29:00"
      ]
     },
     "execution_count": 44,
     "metadata": {},
     "output_type": "execute_result"
    }
   ],
   "source": [
    "first_visit.head()"
   ]
  },
  {
   "cell_type": "markdown",
   "metadata": {},
   "source": [
    "Присоединим first_visit к visits"
   ]
  },
  {
   "cell_type": "code",
   "execution_count": 45,
   "metadata": {},
   "outputs": [],
   "source": [
    "visits = visits.merge(first_visit)"
   ]
  },
  {
   "cell_type": "code",
   "execution_count": 46,
   "metadata": {},
   "outputs": [
    {
     "data": {
      "text/html": [
       "<div>\n",
       "<style scoped>\n",
       "    .dataframe tbody tr th:only-of-type {\n",
       "        vertical-align: middle;\n",
       "    }\n",
       "\n",
       "    .dataframe tbody tr th {\n",
       "        vertical-align: top;\n",
       "    }\n",
       "\n",
       "    .dataframe thead th {\n",
       "        text-align: right;\n",
       "    }\n",
       "</style>\n",
       "<table border=\"1\" class=\"dataframe\">\n",
       "  <thead>\n",
       "    <tr style=\"text-align: right;\">\n",
       "      <th></th>\n",
       "      <th>Device</th>\n",
       "      <th>End Ts</th>\n",
       "      <th>Source Id</th>\n",
       "      <th>Start Ts</th>\n",
       "      <th>Uid</th>\n",
       "      <th>session_year</th>\n",
       "      <th>session_day</th>\n",
       "      <th>session_week</th>\n",
       "      <th>session_month</th>\n",
       "      <th>session_duration</th>\n",
       "      <th>visit_day</th>\n",
       "      <th>visit_week</th>\n",
       "      <th>visit_month</th>\n",
       "      <th>session_duration_sec</th>\n",
       "      <th>first_visit</th>\n",
       "    </tr>\n",
       "  </thead>\n",
       "  <tbody>\n",
       "    <tr>\n",
       "      <td>0</td>\n",
       "      <td>touch</td>\n",
       "      <td>2017-12-20 17:38:00</td>\n",
       "      <td>4</td>\n",
       "      <td>2017-12-20 17:20:00</td>\n",
       "      <td>16879256277535980062</td>\n",
       "      <td>2017</td>\n",
       "      <td>2017-12-20</td>\n",
       "      <td>51</td>\n",
       "      <td>12</td>\n",
       "      <td>00:18:00</td>\n",
       "      <td>2017-12-20</td>\n",
       "      <td>2017-12-14</td>\n",
       "      <td>2017-12-01</td>\n",
       "      <td>1080</td>\n",
       "      <td>2017-12-20 17:20:00</td>\n",
       "    </tr>\n",
       "    <tr>\n",
       "      <td>1</td>\n",
       "      <td>desktop</td>\n",
       "      <td>2018-02-19 17:21:00</td>\n",
       "      <td>2</td>\n",
       "      <td>2018-02-19 16:53:00</td>\n",
       "      <td>104060357244891740</td>\n",
       "      <td>2018</td>\n",
       "      <td>2018-02-19</td>\n",
       "      <td>8</td>\n",
       "      <td>2</td>\n",
       "      <td>00:28:00</td>\n",
       "      <td>2018-02-19</td>\n",
       "      <td>2018-02-15</td>\n",
       "      <td>2018-02-01</td>\n",
       "      <td>1680</td>\n",
       "      <td>2018-02-19 16:53:00</td>\n",
       "    </tr>\n",
       "    <tr>\n",
       "      <td>2</td>\n",
       "      <td>touch</td>\n",
       "      <td>2017-07-01 01:54:00</td>\n",
       "      <td>5</td>\n",
       "      <td>2017-07-01 01:54:00</td>\n",
       "      <td>7459035603376831527</td>\n",
       "      <td>2017</td>\n",
       "      <td>2017-07-01</td>\n",
       "      <td>26</td>\n",
       "      <td>7</td>\n",
       "      <td>00:00:00</td>\n",
       "      <td>2017-07-01</td>\n",
       "      <td>2017-06-29</td>\n",
       "      <td>2017-07-01</td>\n",
       "      <td>0</td>\n",
       "      <td>2017-07-01 01:54:00</td>\n",
       "    </tr>\n",
       "    <tr>\n",
       "      <td>3</td>\n",
       "      <td>desktop</td>\n",
       "      <td>2018-05-20 11:23:00</td>\n",
       "      <td>9</td>\n",
       "      <td>2018-05-20 10:59:00</td>\n",
       "      <td>16174680259334210214</td>\n",
       "      <td>2018</td>\n",
       "      <td>2018-05-20</td>\n",
       "      <td>20</td>\n",
       "      <td>5</td>\n",
       "      <td>00:24:00</td>\n",
       "      <td>2018-05-20</td>\n",
       "      <td>2018-05-17</td>\n",
       "      <td>2018-05-01</td>\n",
       "      <td>1440</td>\n",
       "      <td>2018-03-09 20:05:00</td>\n",
       "    </tr>\n",
       "    <tr>\n",
       "      <td>4</td>\n",
       "      <td>desktop</td>\n",
       "      <td>2018-03-09 20:33:00</td>\n",
       "      <td>4</td>\n",
       "      <td>2018-03-09 20:05:00</td>\n",
       "      <td>16174680259334210214</td>\n",
       "      <td>2018</td>\n",
       "      <td>2018-03-09</td>\n",
       "      <td>10</td>\n",
       "      <td>3</td>\n",
       "      <td>00:28:00</td>\n",
       "      <td>2018-03-09</td>\n",
       "      <td>2018-03-08</td>\n",
       "      <td>2018-03-01</td>\n",
       "      <td>1680</td>\n",
       "      <td>2018-03-09 20:05:00</td>\n",
       "    </tr>\n",
       "  </tbody>\n",
       "</table>\n",
       "</div>"
      ],
      "text/plain": [
       "    Device              End Ts  Source Id            Start Ts  \\\n",
       "0    touch 2017-12-20 17:38:00          4 2017-12-20 17:20:00   \n",
       "1  desktop 2018-02-19 17:21:00          2 2018-02-19 16:53:00   \n",
       "2    touch 2017-07-01 01:54:00          5 2017-07-01 01:54:00   \n",
       "3  desktop 2018-05-20 11:23:00          9 2018-05-20 10:59:00   \n",
       "4  desktop 2018-03-09 20:33:00          4 2018-03-09 20:05:00   \n",
       "\n",
       "                    Uid  session_year session_day  session_week  \\\n",
       "0  16879256277535980062          2017  2017-12-20            51   \n",
       "1    104060357244891740          2018  2018-02-19             8   \n",
       "2   7459035603376831527          2017  2017-07-01            26   \n",
       "3  16174680259334210214          2018  2018-05-20            20   \n",
       "4  16174680259334210214          2018  2018-03-09            10   \n",
       "\n",
       "   session_month session_duration   visit_day visit_week visit_month  \\\n",
       "0             12         00:18:00  2017-12-20 2017-12-14  2017-12-01   \n",
       "1              2         00:28:00  2018-02-19 2018-02-15  2018-02-01   \n",
       "2              7         00:00:00  2017-07-01 2017-06-29  2017-07-01   \n",
       "3              5         00:24:00  2018-05-20 2018-05-17  2018-05-01   \n",
       "4              3         00:28:00  2018-03-09 2018-03-08  2018-03-01   \n",
       "\n",
       "   session_duration_sec         first_visit  \n",
       "0                  1080 2017-12-20 17:20:00  \n",
       "1                  1680 2018-02-19 16:53:00  \n",
       "2                     0 2017-07-01 01:54:00  \n",
       "3                  1440 2018-03-09 20:05:00  \n",
       "4                  1680 2018-03-09 20:05:00  "
      ]
     },
     "execution_count": 46,
     "metadata": {},
     "output_type": "execute_result"
    }
   ],
   "source": [
    "visits.head()"
   ]
  },
  {
   "cell_type": "markdown",
   "metadata": {},
   "source": [
    "Переведем даты в подходящий нам формат"
   ]
  },
  {
   "cell_type": "code",
   "execution_count": 47,
   "metadata": {},
   "outputs": [],
   "source": [
    "visits['first_visit_month'] = visits['first_visit'].astype('datetime64[M]')"
   ]
  },
  {
   "cell_type": "code",
   "execution_count": 48,
   "metadata": {},
   "outputs": [],
   "source": [
    "visits['visit_month'] = visits['Start Ts'].astype('datetime64[M]')"
   ]
  },
  {
   "cell_type": "code",
   "execution_count": 49,
   "metadata": {},
   "outputs": [
    {
     "data": {
      "text/html": [
       "<div>\n",
       "<style scoped>\n",
       "    .dataframe tbody tr th:only-of-type {\n",
       "        vertical-align: middle;\n",
       "    }\n",
       "\n",
       "    .dataframe tbody tr th {\n",
       "        vertical-align: top;\n",
       "    }\n",
       "\n",
       "    .dataframe thead th {\n",
       "        text-align: right;\n",
       "    }\n",
       "</style>\n",
       "<table border=\"1\" class=\"dataframe\">\n",
       "  <thead>\n",
       "    <tr style=\"text-align: right;\">\n",
       "      <th></th>\n",
       "      <th>Device</th>\n",
       "      <th>End Ts</th>\n",
       "      <th>Source Id</th>\n",
       "      <th>Start Ts</th>\n",
       "      <th>Uid</th>\n",
       "      <th>session_year</th>\n",
       "      <th>session_day</th>\n",
       "      <th>session_week</th>\n",
       "      <th>session_month</th>\n",
       "      <th>session_duration</th>\n",
       "      <th>visit_day</th>\n",
       "      <th>visit_week</th>\n",
       "      <th>visit_month</th>\n",
       "      <th>session_duration_sec</th>\n",
       "      <th>first_visit</th>\n",
       "      <th>first_visit_month</th>\n",
       "    </tr>\n",
       "  </thead>\n",
       "  <tbody>\n",
       "    <tr>\n",
       "      <td>0</td>\n",
       "      <td>touch</td>\n",
       "      <td>2017-12-20 17:38:00</td>\n",
       "      <td>4</td>\n",
       "      <td>2017-12-20 17:20:00</td>\n",
       "      <td>16879256277535980062</td>\n",
       "      <td>2017</td>\n",
       "      <td>2017-12-20</td>\n",
       "      <td>51</td>\n",
       "      <td>12</td>\n",
       "      <td>00:18:00</td>\n",
       "      <td>2017-12-20</td>\n",
       "      <td>2017-12-14</td>\n",
       "      <td>2017-12-01</td>\n",
       "      <td>1080</td>\n",
       "      <td>2017-12-20 17:20:00</td>\n",
       "      <td>2017-12-01</td>\n",
       "    </tr>\n",
       "    <tr>\n",
       "      <td>1</td>\n",
       "      <td>desktop</td>\n",
       "      <td>2018-02-19 17:21:00</td>\n",
       "      <td>2</td>\n",
       "      <td>2018-02-19 16:53:00</td>\n",
       "      <td>104060357244891740</td>\n",
       "      <td>2018</td>\n",
       "      <td>2018-02-19</td>\n",
       "      <td>8</td>\n",
       "      <td>2</td>\n",
       "      <td>00:28:00</td>\n",
       "      <td>2018-02-19</td>\n",
       "      <td>2018-02-15</td>\n",
       "      <td>2018-02-01</td>\n",
       "      <td>1680</td>\n",
       "      <td>2018-02-19 16:53:00</td>\n",
       "      <td>2018-02-01</td>\n",
       "    </tr>\n",
       "    <tr>\n",
       "      <td>2</td>\n",
       "      <td>touch</td>\n",
       "      <td>2017-07-01 01:54:00</td>\n",
       "      <td>5</td>\n",
       "      <td>2017-07-01 01:54:00</td>\n",
       "      <td>7459035603376831527</td>\n",
       "      <td>2017</td>\n",
       "      <td>2017-07-01</td>\n",
       "      <td>26</td>\n",
       "      <td>7</td>\n",
       "      <td>00:00:00</td>\n",
       "      <td>2017-07-01</td>\n",
       "      <td>2017-06-29</td>\n",
       "      <td>2017-07-01</td>\n",
       "      <td>0</td>\n",
       "      <td>2017-07-01 01:54:00</td>\n",
       "      <td>2017-07-01</td>\n",
       "    </tr>\n",
       "    <tr>\n",
       "      <td>3</td>\n",
       "      <td>desktop</td>\n",
       "      <td>2018-05-20 11:23:00</td>\n",
       "      <td>9</td>\n",
       "      <td>2018-05-20 10:59:00</td>\n",
       "      <td>16174680259334210214</td>\n",
       "      <td>2018</td>\n",
       "      <td>2018-05-20</td>\n",
       "      <td>20</td>\n",
       "      <td>5</td>\n",
       "      <td>00:24:00</td>\n",
       "      <td>2018-05-20</td>\n",
       "      <td>2018-05-17</td>\n",
       "      <td>2018-05-01</td>\n",
       "      <td>1440</td>\n",
       "      <td>2018-03-09 20:05:00</td>\n",
       "      <td>2018-03-01</td>\n",
       "    </tr>\n",
       "    <tr>\n",
       "      <td>4</td>\n",
       "      <td>desktop</td>\n",
       "      <td>2018-03-09 20:33:00</td>\n",
       "      <td>4</td>\n",
       "      <td>2018-03-09 20:05:00</td>\n",
       "      <td>16174680259334210214</td>\n",
       "      <td>2018</td>\n",
       "      <td>2018-03-09</td>\n",
       "      <td>10</td>\n",
       "      <td>3</td>\n",
       "      <td>00:28:00</td>\n",
       "      <td>2018-03-09</td>\n",
       "      <td>2018-03-08</td>\n",
       "      <td>2018-03-01</td>\n",
       "      <td>1680</td>\n",
       "      <td>2018-03-09 20:05:00</td>\n",
       "      <td>2018-03-01</td>\n",
       "    </tr>\n",
       "  </tbody>\n",
       "</table>\n",
       "</div>"
      ],
      "text/plain": [
       "    Device              End Ts  Source Id            Start Ts  \\\n",
       "0    touch 2017-12-20 17:38:00          4 2017-12-20 17:20:00   \n",
       "1  desktop 2018-02-19 17:21:00          2 2018-02-19 16:53:00   \n",
       "2    touch 2017-07-01 01:54:00          5 2017-07-01 01:54:00   \n",
       "3  desktop 2018-05-20 11:23:00          9 2018-05-20 10:59:00   \n",
       "4  desktop 2018-03-09 20:33:00          4 2018-03-09 20:05:00   \n",
       "\n",
       "                    Uid  session_year session_day  session_week  \\\n",
       "0  16879256277535980062          2017  2017-12-20            51   \n",
       "1    104060357244891740          2018  2018-02-19             8   \n",
       "2   7459035603376831527          2017  2017-07-01            26   \n",
       "3  16174680259334210214          2018  2018-05-20            20   \n",
       "4  16174680259334210214          2018  2018-03-09            10   \n",
       "\n",
       "   session_month session_duration   visit_day visit_week visit_month  \\\n",
       "0             12         00:18:00  2017-12-20 2017-12-14  2017-12-01   \n",
       "1              2         00:28:00  2018-02-19 2018-02-15  2018-02-01   \n",
       "2              7         00:00:00  2017-07-01 2017-06-29  2017-07-01   \n",
       "3              5         00:24:00  2018-05-20 2018-05-17  2018-05-01   \n",
       "4              3         00:28:00  2018-03-09 2018-03-08  2018-03-01   \n",
       "\n",
       "   session_duration_sec         first_visit first_visit_month  \n",
       "0                  1080 2017-12-20 17:20:00        2017-12-01  \n",
       "1                  1680 2018-02-19 16:53:00        2018-02-01  \n",
       "2                     0 2017-07-01 01:54:00        2017-07-01  \n",
       "3                  1440 2018-03-09 20:05:00        2018-03-01  \n",
       "4                  1680 2018-03-09 20:05:00        2018-03-01  "
      ]
     },
     "execution_count": 49,
     "metadata": {},
     "output_type": "execute_result"
    }
   ],
   "source": [
    "visits.head()"
   ]
  },
  {
   "cell_type": "code",
   "execution_count": 50,
   "metadata": {},
   "outputs": [],
   "source": [
    "visits['lifetime'] = (visits['visit_month'] - visits['first_visit_month']) / np.timedelta64(1, 'M')"
   ]
  },
  {
   "cell_type": "code",
   "execution_count": 51,
   "metadata": {},
   "outputs": [],
   "source": [
    "visits['lifetime'] = visits['lifetime'].round().astype('int')"
   ]
  },
  {
   "cell_type": "code",
   "execution_count": 52,
   "metadata": {},
   "outputs": [],
   "source": [
    "cohort_visits = visits.groupby(['first_visit_month', 'lifetime']).agg({'Uid': 'nunique'}).reset_index()"
   ]
  },
  {
   "cell_type": "code",
   "execution_count": 53,
   "metadata": {},
   "outputs": [],
   "source": [
    "f_uid = cohort_visits[cohort_visits['lifetime'] == 0][['first_visit_month', 'Uid']]"
   ]
  },
  {
   "cell_type": "code",
   "execution_count": 54,
   "metadata": {},
   "outputs": [],
   "source": [
    "f_uid.columns = ['first_visit_month', 'f_uid']"
   ]
  },
  {
   "cell_type": "code",
   "execution_count": 55,
   "metadata": {},
   "outputs": [
    {
     "data": {
      "text/html": [
       "<div>\n",
       "<style scoped>\n",
       "    .dataframe tbody tr th:only-of-type {\n",
       "        vertical-align: middle;\n",
       "    }\n",
       "\n",
       "    .dataframe tbody tr th {\n",
       "        vertical-align: top;\n",
       "    }\n",
       "\n",
       "    .dataframe thead th {\n",
       "        text-align: right;\n",
       "    }\n",
       "</style>\n",
       "<table border=\"1\" class=\"dataframe\">\n",
       "  <thead>\n",
       "    <tr style=\"text-align: right;\">\n",
       "      <th></th>\n",
       "      <th>first_visit_month</th>\n",
       "      <th>f_uid</th>\n",
       "    </tr>\n",
       "  </thead>\n",
       "  <tbody>\n",
       "    <tr>\n",
       "      <td>0</td>\n",
       "      <td>2017-06-01</td>\n",
       "      <td>13259</td>\n",
       "    </tr>\n",
       "    <tr>\n",
       "      <td>12</td>\n",
       "      <td>2017-07-01</td>\n",
       "      <td>13140</td>\n",
       "    </tr>\n",
       "    <tr>\n",
       "      <td>23</td>\n",
       "      <td>2017-08-01</td>\n",
       "      <td>10181</td>\n",
       "    </tr>\n",
       "    <tr>\n",
       "      <td>33</td>\n",
       "      <td>2017-09-01</td>\n",
       "      <td>16704</td>\n",
       "    </tr>\n",
       "    <tr>\n",
       "      <td>42</td>\n",
       "      <td>2017-10-01</td>\n",
       "      <td>25977</td>\n",
       "    </tr>\n",
       "  </tbody>\n",
       "</table>\n",
       "</div>"
      ],
      "text/plain": [
       "   first_visit_month  f_uid\n",
       "0         2017-06-01  13259\n",
       "12        2017-07-01  13140\n",
       "23        2017-08-01  10181\n",
       "33        2017-09-01  16704\n",
       "42        2017-10-01  25977"
      ]
     },
     "execution_count": 55,
     "metadata": {},
     "output_type": "execute_result"
    }
   ],
   "source": [
    "f_uid.head()"
   ]
  },
  {
   "cell_type": "markdown",
   "metadata": {},
   "source": [
    "Построим сводную таблицу и создадим тепловую карту"
   ]
  },
  {
   "cell_type": "code",
   "execution_count": 56,
   "metadata": {},
   "outputs": [],
   "source": [
    "cohort_visits = cohort_visits.merge(f_uid)"
   ]
  },
  {
   "cell_type": "code",
   "execution_count": 57,
   "metadata": {},
   "outputs": [],
   "source": [
    "cohort_visits['retention'] = cohort_visits['Uid'] / cohort_visits['f_uid']"
   ]
  },
  {
   "cell_type": "code",
   "execution_count": 58,
   "metadata": {},
   "outputs": [],
   "source": [
    "visits_retention_pivot = cohort_visits.pivot_table(index = 'first_visit_month', \n",
    "                                                   columns = 'lifetime', values = 'retention', aggfunc = 'sum')"
   ]
  },
  {
   "cell_type": "code",
   "execution_count": 59,
   "metadata": {},
   "outputs": [
    {
     "data": {
      "text/html": [
       "<div>\n",
       "<style scoped>\n",
       "    .dataframe tbody tr th:only-of-type {\n",
       "        vertical-align: middle;\n",
       "    }\n",
       "\n",
       "    .dataframe tbody tr th {\n",
       "        vertical-align: top;\n",
       "    }\n",
       "\n",
       "    .dataframe thead th {\n",
       "        text-align: right;\n",
       "    }\n",
       "</style>\n",
       "<table border=\"1\" class=\"dataframe\">\n",
       "  <thead>\n",
       "    <tr style=\"text-align: right;\">\n",
       "      <th>lifetime</th>\n",
       "      <th>0</th>\n",
       "      <th>1</th>\n",
       "      <th>2</th>\n",
       "      <th>3</th>\n",
       "      <th>4</th>\n",
       "      <th>5</th>\n",
       "      <th>6</th>\n",
       "      <th>7</th>\n",
       "      <th>8</th>\n",
       "      <th>9</th>\n",
       "      <th>10</th>\n",
       "      <th>11</th>\n",
       "    </tr>\n",
       "    <tr>\n",
       "      <th>first_visit_month</th>\n",
       "      <th></th>\n",
       "      <th></th>\n",
       "      <th></th>\n",
       "      <th></th>\n",
       "      <th></th>\n",
       "      <th></th>\n",
       "      <th></th>\n",
       "      <th></th>\n",
       "      <th></th>\n",
       "      <th></th>\n",
       "      <th></th>\n",
       "      <th></th>\n",
       "    </tr>\n",
       "  </thead>\n",
       "  <tbody>\n",
       "    <tr>\n",
       "      <td>2017-06-01</td>\n",
       "      <td>1.0</td>\n",
       "      <td>0.078664</td>\n",
       "      <td>0.053775</td>\n",
       "      <td>0.061392</td>\n",
       "      <td>0.068557</td>\n",
       "      <td>0.071423</td>\n",
       "      <td>0.061015</td>\n",
       "      <td>0.057772</td>\n",
       "      <td>0.052342</td>\n",
       "      <td>0.050833</td>\n",
       "      <td>0.040652</td>\n",
       "      <td>0.044951</td>\n",
       "    </tr>\n",
       "    <tr>\n",
       "      <td>2017-07-01</td>\n",
       "      <td>1.0</td>\n",
       "      <td>0.056088</td>\n",
       "      <td>0.051294</td>\n",
       "      <td>0.056164</td>\n",
       "      <td>0.058219</td>\n",
       "      <td>0.048174</td>\n",
       "      <td>0.045358</td>\n",
       "      <td>0.045738</td>\n",
       "      <td>0.038813</td>\n",
       "      <td>0.028615</td>\n",
       "      <td>0.027473</td>\n",
       "      <td>NaN</td>\n",
       "    </tr>\n",
       "    <tr>\n",
       "      <td>2017-08-01</td>\n",
       "      <td>1.0</td>\n",
       "      <td>0.076908</td>\n",
       "      <td>0.062862</td>\n",
       "      <td>0.062764</td>\n",
       "      <td>0.050093</td>\n",
       "      <td>0.044004</td>\n",
       "      <td>0.036342</td>\n",
       "      <td>0.039485</td>\n",
       "      <td>0.027895</td>\n",
       "      <td>0.026029</td>\n",
       "      <td>NaN</td>\n",
       "      <td>NaN</td>\n",
       "    </tr>\n",
       "    <tr>\n",
       "      <td>2017-09-01</td>\n",
       "      <td>1.0</td>\n",
       "      <td>0.085489</td>\n",
       "      <td>0.069205</td>\n",
       "      <td>0.050706</td>\n",
       "      <td>0.039392</td>\n",
       "      <td>0.037835</td>\n",
       "      <td>0.035860</td>\n",
       "      <td>0.024186</td>\n",
       "      <td>0.022809</td>\n",
       "      <td>NaN</td>\n",
       "      <td>NaN</td>\n",
       "      <td>NaN</td>\n",
       "    </tr>\n",
       "    <tr>\n",
       "      <td>2017-10-01</td>\n",
       "      <td>1.0</td>\n",
       "      <td>0.078608</td>\n",
       "      <td>0.052239</td>\n",
       "      <td>0.038958</td>\n",
       "      <td>0.034261</td>\n",
       "      <td>0.032221</td>\n",
       "      <td>0.021365</td>\n",
       "      <td>0.020364</td>\n",
       "      <td>NaN</td>\n",
       "      <td>NaN</td>\n",
       "      <td>NaN</td>\n",
       "      <td>NaN</td>\n",
       "    </tr>\n",
       "    <tr>\n",
       "      <td>2017-11-01</td>\n",
       "      <td>1.0</td>\n",
       "      <td>0.078281</td>\n",
       "      <td>0.044113</td>\n",
       "      <td>0.038682</td>\n",
       "      <td>0.033727</td>\n",
       "      <td>0.023415</td>\n",
       "      <td>0.021800</td>\n",
       "      <td>NaN</td>\n",
       "      <td>NaN</td>\n",
       "      <td>NaN</td>\n",
       "      <td>NaN</td>\n",
       "      <td>NaN</td>\n",
       "    </tr>\n",
       "    <tr>\n",
       "      <td>2017-12-01</td>\n",
       "      <td>1.0</td>\n",
       "      <td>0.055802</td>\n",
       "      <td>0.037993</td>\n",
       "      <td>0.031107</td>\n",
       "      <td>0.020263</td>\n",
       "      <td>0.019036</td>\n",
       "      <td>NaN</td>\n",
       "      <td>NaN</td>\n",
       "      <td>NaN</td>\n",
       "      <td>NaN</td>\n",
       "      <td>NaN</td>\n",
       "      <td>NaN</td>\n",
       "    </tr>\n",
       "    <tr>\n",
       "      <td>2018-01-01</td>\n",
       "      <td>1.0</td>\n",
       "      <td>0.059715</td>\n",
       "      <td>0.039339</td>\n",
       "      <td>0.024973</td>\n",
       "      <td>0.020244</td>\n",
       "      <td>NaN</td>\n",
       "      <td>NaN</td>\n",
       "      <td>NaN</td>\n",
       "      <td>NaN</td>\n",
       "      <td>NaN</td>\n",
       "      <td>NaN</td>\n",
       "      <td>NaN</td>\n",
       "    </tr>\n",
       "    <tr>\n",
       "      <td>2018-02-01</td>\n",
       "      <td>1.0</td>\n",
       "      <td>0.057080</td>\n",
       "      <td>0.025454</td>\n",
       "      <td>0.020093</td>\n",
       "      <td>NaN</td>\n",
       "      <td>NaN</td>\n",
       "      <td>NaN</td>\n",
       "      <td>NaN</td>\n",
       "      <td>NaN</td>\n",
       "      <td>NaN</td>\n",
       "      <td>NaN</td>\n",
       "      <td>NaN</td>\n",
       "    </tr>\n",
       "    <tr>\n",
       "      <td>2018-03-01</td>\n",
       "      <td>1.0</td>\n",
       "      <td>0.041818</td>\n",
       "      <td>0.027053</td>\n",
       "      <td>NaN</td>\n",
       "      <td>NaN</td>\n",
       "      <td>NaN</td>\n",
       "      <td>NaN</td>\n",
       "      <td>NaN</td>\n",
       "      <td>NaN</td>\n",
       "      <td>NaN</td>\n",
       "      <td>NaN</td>\n",
       "      <td>NaN</td>\n",
       "    </tr>\n",
       "    <tr>\n",
       "      <td>2018-04-01</td>\n",
       "      <td>1.0</td>\n",
       "      <td>0.048380</td>\n",
       "      <td>NaN</td>\n",
       "      <td>NaN</td>\n",
       "      <td>NaN</td>\n",
       "      <td>NaN</td>\n",
       "      <td>NaN</td>\n",
       "      <td>NaN</td>\n",
       "      <td>NaN</td>\n",
       "      <td>NaN</td>\n",
       "      <td>NaN</td>\n",
       "      <td>NaN</td>\n",
       "    </tr>\n",
       "    <tr>\n",
       "      <td>2018-05-01</td>\n",
       "      <td>1.0</td>\n",
       "      <td>NaN</td>\n",
       "      <td>NaN</td>\n",
       "      <td>NaN</td>\n",
       "      <td>NaN</td>\n",
       "      <td>NaN</td>\n",
       "      <td>NaN</td>\n",
       "      <td>NaN</td>\n",
       "      <td>NaN</td>\n",
       "      <td>NaN</td>\n",
       "      <td>NaN</td>\n",
       "      <td>NaN</td>\n",
       "    </tr>\n",
       "  </tbody>\n",
       "</table>\n",
       "</div>"
      ],
      "text/plain": [
       "lifetime            0         1         2         3         4         5   \\\n",
       "first_visit_month                                                          \n",
       "2017-06-01         1.0  0.078664  0.053775  0.061392  0.068557  0.071423   \n",
       "2017-07-01         1.0  0.056088  0.051294  0.056164  0.058219  0.048174   \n",
       "2017-08-01         1.0  0.076908  0.062862  0.062764  0.050093  0.044004   \n",
       "2017-09-01         1.0  0.085489  0.069205  0.050706  0.039392  0.037835   \n",
       "2017-10-01         1.0  0.078608  0.052239  0.038958  0.034261  0.032221   \n",
       "2017-11-01         1.0  0.078281  0.044113  0.038682  0.033727  0.023415   \n",
       "2017-12-01         1.0  0.055802  0.037993  0.031107  0.020263  0.019036   \n",
       "2018-01-01         1.0  0.059715  0.039339  0.024973  0.020244       NaN   \n",
       "2018-02-01         1.0  0.057080  0.025454  0.020093       NaN       NaN   \n",
       "2018-03-01         1.0  0.041818  0.027053       NaN       NaN       NaN   \n",
       "2018-04-01         1.0  0.048380       NaN       NaN       NaN       NaN   \n",
       "2018-05-01         1.0       NaN       NaN       NaN       NaN       NaN   \n",
       "\n",
       "lifetime                 6         7         8         9         10        11  \n",
       "first_visit_month                                                              \n",
       "2017-06-01         0.061015  0.057772  0.052342  0.050833  0.040652  0.044951  \n",
       "2017-07-01         0.045358  0.045738  0.038813  0.028615  0.027473       NaN  \n",
       "2017-08-01         0.036342  0.039485  0.027895  0.026029       NaN       NaN  \n",
       "2017-09-01         0.035860  0.024186  0.022809       NaN       NaN       NaN  \n",
       "2017-10-01         0.021365  0.020364       NaN       NaN       NaN       NaN  \n",
       "2017-11-01         0.021800       NaN       NaN       NaN       NaN       NaN  \n",
       "2017-12-01              NaN       NaN       NaN       NaN       NaN       NaN  \n",
       "2018-01-01              NaN       NaN       NaN       NaN       NaN       NaN  \n",
       "2018-02-01              NaN       NaN       NaN       NaN       NaN       NaN  \n",
       "2018-03-01              NaN       NaN       NaN       NaN       NaN       NaN  \n",
       "2018-04-01              NaN       NaN       NaN       NaN       NaN       NaN  \n",
       "2018-05-01              NaN       NaN       NaN       NaN       NaN       NaN  "
      ]
     },
     "execution_count": 59,
     "metadata": {},
     "output_type": "execute_result"
    }
   ],
   "source": [
    "visits_retention_pivot"
   ]
  },
  {
   "cell_type": "markdown",
   "metadata": {},
   "source": [
    "Найдем средний Retention Rate на второй месяц «жизни» когорт"
   ]
  },
  {
   "cell_type": "code",
   "execution_count": 60,
   "metadata": {},
   "outputs": [
    {
     "data": {
      "text/plain": [
       "lifetime\n",
       "0     100.000000\n",
       "1       6.516660\n",
       "2       4.633262\n",
       "3       4.275990\n",
       "4       4.059457\n",
       "5       3.944383\n",
       "6       3.695659\n",
       "7       3.750912\n",
       "8       3.546465\n",
       "9       3.515906\n",
       "10      3.406250\n",
       "11      4.495060\n",
       "dtype: float64"
      ]
     },
     "metadata": {},
     "output_type": "display_data"
    }
   ],
   "source": [
    "display(visits_retention_pivot.mean() * 100)"
   ]
  },
  {
   "cell_type": "code",
   "execution_count": 61,
   "metadata": {},
   "outputs": [
    {
     "data": {
      "image/png": "[encoded data removed]",
      "text/plain": [
       "<Figure size 936x648 with 2 Axes>"
      ]
     },
     "metadata": {},
     "output_type": "display_data"
    }
   ],
   "source": [
    "sns.set(style='white')\n",
    "plt.figure(figsize=(13, 9))\n",
    "plt.title('Cohorts: User Retention')\n",
    "sns.heatmap(visits_retention_pivot, annot=True, fmt='.1%', linewidths=1, linecolor='gray', vmax=0.1); "
   ]
  },
  {
   "cell_type": "markdown",
   "metadata": {},
   "source": [
    "Видим на тепловой карте, что люди возвращаются, но их заметно меньше, по сравнению с нулевым месяцем: из 100% нулевого месяца в первом вернулись от 4,2% до 8,5% пользователей, а к концу года во всех когортах возвращается все меньше и меньше пользователей. Возможно, были выбраны неэффективные источники трафика или пользователи не сочли интересными мероприятия, размещенные на Яндекс.Афише и не вернулись на сайт снова."
   ]
  },
  {
   "cell_type": "markdown",
   "metadata": {},
   "source": [
    "Выводы по блоку:"
   ]
  },
  {
   "cell_type": "markdown",
   "metadata": {},
   "source": [
    "Мы рассчитали несколько продуктовых метрик: показатели пользовательской активности – DAU, WAU, MAU; количество и длительность пользовательских сессий и Retention Rate. \n",
    "\n",
    "Сайт Яндекс.Афиши посещают 907 уникальных пользователей в день, 5 716 уникальных пользователей в неделю, 23 228 уникальных пользователей в месяц.\n",
    "\n",
    "После снижения количества пользователей в августе 2017 начинается рост, который достигает пика в октябре и потом следующего пика  - в ноябре 2018 (покупка билетов на новогодние мероприятия и мероприятия в новогодние праздники?, потом опять начинается падение с отдельными периодами роста в феврале и марте (покупка билетов на мероприятия в районе гендерных праздников?) и затем уверенный спад активности в апреле 2018. То есть, есть определенная сезонность в уровне активности пользователей.\n",
    "\n",
    "В месяц один пользователь в среднем проводит в приложении максимум 1 сессию. Не сказать, что продукт используется регулярно. Пользовательская сессия длится в среднем 10,7 минут.\n",
    "\n",
    "Что касается Retention Rate, то люди возвращаются, но их заметно меньше, чем в нулевой месяц \"жизни\" когорты: из 100% нулевого месяца в первом вернулись от 4,2% до 8,5% пользователей, а к концу года во всех когортах возвращается все меньше и меньше пользователей. Причина этого может быть в неверно выбранных источниках рекламы или неактуальности контента Яндекс.Афиши для пользователей."
   ]
  },
  {
   "cell_type": "markdown",
   "metadata": {},
   "source": [
    "### Метрики электронной коммерции<a class=\"anchor\" id=\"ecommerce\"></a>"
   ]
  },
  {
   "cell_type": "markdown",
   "metadata": {},
   "source": [
    "### Продажи: Когда люди начинают покупать?<a class=\"anchor\" id=\"beginbuy\"></a>"
   ]
  },
  {
   "cell_type": "markdown",
   "metadata": {},
   "source": [
    "Для вычислений нам понадобятся датафреймы visits и orders. Сделаем группировку, что бы найти дату первого заказа и дату первой сессии и добавим колонки с датой и месяцем первого заказа."
   ]
  },
  {
   "cell_type": "code",
   "execution_count": 62,
   "metadata": {},
   "outputs": [
    {
     "data": {
      "text/html": [
       "<div>\n",
       "<style scoped>\n",
       "    .dataframe tbody tr th:only-of-type {\n",
       "        vertical-align: middle;\n",
       "    }\n",
       "\n",
       "    .dataframe tbody tr th {\n",
       "        vertical-align: top;\n",
       "    }\n",
       "\n",
       "    .dataframe thead th {\n",
       "        text-align: right;\n",
       "    }\n",
       "</style>\n",
       "<table border=\"1\" class=\"dataframe\">\n",
       "  <thead>\n",
       "    <tr style=\"text-align: right;\">\n",
       "      <th></th>\n",
       "      <th>Buy Ts</th>\n",
       "      <th>Revenue</th>\n",
       "      <th>Uid</th>\n",
       "    </tr>\n",
       "  </thead>\n",
       "  <tbody>\n",
       "    <tr>\n",
       "      <td>0</td>\n",
       "      <td>2017-06-01 00:10:00</td>\n",
       "      <td>17.00</td>\n",
       "      <td>10329302124590727494</td>\n",
       "    </tr>\n",
       "    <tr>\n",
       "      <td>1</td>\n",
       "      <td>2017-06-01 00:25:00</td>\n",
       "      <td>0.55</td>\n",
       "      <td>11627257723692907447</td>\n",
       "    </tr>\n",
       "    <tr>\n",
       "      <td>2</td>\n",
       "      <td>2017-06-01 00:27:00</td>\n",
       "      <td>0.37</td>\n",
       "      <td>17903680561304213844</td>\n",
       "    </tr>\n",
       "    <tr>\n",
       "      <td>3</td>\n",
       "      <td>2017-06-01 00:29:00</td>\n",
       "      <td>0.55</td>\n",
       "      <td>16109239769442553005</td>\n",
       "    </tr>\n",
       "    <tr>\n",
       "      <td>4</td>\n",
       "      <td>2017-06-01 07:58:00</td>\n",
       "      <td>0.37</td>\n",
       "      <td>14200605875248379450</td>\n",
       "    </tr>\n",
       "  </tbody>\n",
       "</table>\n",
       "</div>"
      ],
      "text/plain": [
       "               Buy Ts  Revenue                   Uid\n",
       "0 2017-06-01 00:10:00    17.00  10329302124590727494\n",
       "1 2017-06-01 00:25:00     0.55  11627257723692907447\n",
       "2 2017-06-01 00:27:00     0.37  17903680561304213844\n",
       "3 2017-06-01 00:29:00     0.55  16109239769442553005\n",
       "4 2017-06-01 07:58:00     0.37  14200605875248379450"
      ]
     },
     "execution_count": 62,
     "metadata": {},
     "output_type": "execute_result"
    }
   ],
   "source": [
    "orders.head()"
   ]
  },
  {
   "cell_type": "code",
   "execution_count": 63,
   "metadata": {},
   "outputs": [
    {
     "data": {
      "text/html": [
       "<div>\n",
       "<style scoped>\n",
       "    .dataframe tbody tr th:only-of-type {\n",
       "        vertical-align: middle;\n",
       "    }\n",
       "\n",
       "    .dataframe tbody tr th {\n",
       "        vertical-align: top;\n",
       "    }\n",
       "\n",
       "    .dataframe thead th {\n",
       "        text-align: right;\n",
       "    }\n",
       "</style>\n",
       "<table border=\"1\" class=\"dataframe\">\n",
       "  <thead>\n",
       "    <tr style=\"text-align: right;\">\n",
       "      <th></th>\n",
       "      <th>Device</th>\n",
       "      <th>End Ts</th>\n",
       "      <th>Source Id</th>\n",
       "      <th>Start Ts</th>\n",
       "      <th>Uid</th>\n",
       "      <th>session_year</th>\n",
       "      <th>session_day</th>\n",
       "      <th>session_week</th>\n",
       "      <th>session_month</th>\n",
       "      <th>session_duration</th>\n",
       "      <th>visit_day</th>\n",
       "      <th>visit_week</th>\n",
       "      <th>visit_month</th>\n",
       "      <th>session_duration_sec</th>\n",
       "      <th>first_visit</th>\n",
       "      <th>first_visit_month</th>\n",
       "      <th>lifetime</th>\n",
       "    </tr>\n",
       "  </thead>\n",
       "  <tbody>\n",
       "    <tr>\n",
       "      <td>0</td>\n",
       "      <td>touch</td>\n",
       "      <td>2017-12-20 17:38:00</td>\n",
       "      <td>4</td>\n",
       "      <td>2017-12-20 17:20:00</td>\n",
       "      <td>16879256277535980062</td>\n",
       "      <td>2017</td>\n",
       "      <td>2017-12-20</td>\n",
       "      <td>51</td>\n",
       "      <td>12</td>\n",
       "      <td>00:18:00</td>\n",
       "      <td>2017-12-20</td>\n",
       "      <td>2017-12-14</td>\n",
       "      <td>2017-12-01</td>\n",
       "      <td>1080</td>\n",
       "      <td>2017-12-20 17:20:00</td>\n",
       "      <td>2017-12-01</td>\n",
       "      <td>0</td>\n",
       "    </tr>\n",
       "    <tr>\n",
       "      <td>1</td>\n",
       "      <td>desktop</td>\n",
       "      <td>2018-02-19 17:21:00</td>\n",
       "      <td>2</td>\n",
       "      <td>2018-02-19 16:53:00</td>\n",
       "      <td>104060357244891740</td>\n",
       "      <td>2018</td>\n",
       "      <td>2018-02-19</td>\n",
       "      <td>8</td>\n",
       "      <td>2</td>\n",
       "      <td>00:28:00</td>\n",
       "      <td>2018-02-19</td>\n",
       "      <td>2018-02-15</td>\n",
       "      <td>2018-02-01</td>\n",
       "      <td>1680</td>\n",
       "      <td>2018-02-19 16:53:00</td>\n",
       "      <td>2018-02-01</td>\n",
       "      <td>0</td>\n",
       "    </tr>\n",
       "    <tr>\n",
       "      <td>2</td>\n",
       "      <td>touch</td>\n",
       "      <td>2017-07-01 01:54:00</td>\n",
       "      <td>5</td>\n",
       "      <td>2017-07-01 01:54:00</td>\n",
       "      <td>7459035603376831527</td>\n",
       "      <td>2017</td>\n",
       "      <td>2017-07-01</td>\n",
       "      <td>26</td>\n",
       "      <td>7</td>\n",
       "      <td>00:00:00</td>\n",
       "      <td>2017-07-01</td>\n",
       "      <td>2017-06-29</td>\n",
       "      <td>2017-07-01</td>\n",
       "      <td>0</td>\n",
       "      <td>2017-07-01 01:54:00</td>\n",
       "      <td>2017-07-01</td>\n",
       "      <td>0</td>\n",
       "    </tr>\n",
       "    <tr>\n",
       "      <td>3</td>\n",
       "      <td>desktop</td>\n",
       "      <td>2018-05-20 11:23:00</td>\n",
       "      <td>9</td>\n",
       "      <td>2018-05-20 10:59:00</td>\n",
       "      <td>16174680259334210214</td>\n",
       "      <td>2018</td>\n",
       "      <td>2018-05-20</td>\n",
       "      <td>20</td>\n",
       "      <td>5</td>\n",
       "      <td>00:24:00</td>\n",
       "      <td>2018-05-20</td>\n",
       "      <td>2018-05-17</td>\n",
       "      <td>2018-05-01</td>\n",
       "      <td>1440</td>\n",
       "      <td>2018-03-09 20:05:00</td>\n",
       "      <td>2018-03-01</td>\n",
       "      <td>2</td>\n",
       "    </tr>\n",
       "    <tr>\n",
       "      <td>4</td>\n",
       "      <td>desktop</td>\n",
       "      <td>2018-03-09 20:33:00</td>\n",
       "      <td>4</td>\n",
       "      <td>2018-03-09 20:05:00</td>\n",
       "      <td>16174680259334210214</td>\n",
       "      <td>2018</td>\n",
       "      <td>2018-03-09</td>\n",
       "      <td>10</td>\n",
       "      <td>3</td>\n",
       "      <td>00:28:00</td>\n",
       "      <td>2018-03-09</td>\n",
       "      <td>2018-03-08</td>\n",
       "      <td>2018-03-01</td>\n",
       "      <td>1680</td>\n",
       "      <td>2018-03-09 20:05:00</td>\n",
       "      <td>2018-03-01</td>\n",
       "      <td>0</td>\n",
       "    </tr>\n",
       "  </tbody>\n",
       "</table>\n",
       "</div>"
      ],
      "text/plain": [
       "    Device              End Ts  Source Id            Start Ts  \\\n",
       "0    touch 2017-12-20 17:38:00          4 2017-12-20 17:20:00   \n",
       "1  desktop 2018-02-19 17:21:00          2 2018-02-19 16:53:00   \n",
       "2    touch 2017-07-01 01:54:00          5 2017-07-01 01:54:00   \n",
       "3  desktop 2018-05-20 11:23:00          9 2018-05-20 10:59:00   \n",
       "4  desktop 2018-03-09 20:33:00          4 2018-03-09 20:05:00   \n",
       "\n",
       "                    Uid  session_year session_day  session_week  \\\n",
       "0  16879256277535980062          2017  2017-12-20            51   \n",
       "1    104060357244891740          2018  2018-02-19             8   \n",
       "2   7459035603376831527          2017  2017-07-01            26   \n",
       "3  16174680259334210214          2018  2018-05-20            20   \n",
       "4  16174680259334210214          2018  2018-03-09            10   \n",
       "\n",
       "   session_month session_duration   visit_day visit_week visit_month  \\\n",
       "0             12         00:18:00  2017-12-20 2017-12-14  2017-12-01   \n",
       "1              2         00:28:00  2018-02-19 2018-02-15  2018-02-01   \n",
       "2              7         00:00:00  2017-07-01 2017-06-29  2017-07-01   \n",
       "3              5         00:24:00  2018-05-20 2018-05-17  2018-05-01   \n",
       "4              3         00:28:00  2018-03-09 2018-03-08  2018-03-01   \n",
       "\n",
       "   session_duration_sec         first_visit first_visit_month  lifetime  \n",
       "0                  1080 2017-12-20 17:20:00        2017-12-01         0  \n",
       "1                  1680 2018-02-19 16:53:00        2018-02-01         0  \n",
       "2                     0 2017-07-01 01:54:00        2017-07-01         0  \n",
       "3                  1440 2018-03-09 20:05:00        2018-03-01         2  \n",
       "4                  1680 2018-03-09 20:05:00        2018-03-01         0  "
      ]
     },
     "execution_count": 63,
     "metadata": {},
     "output_type": "execute_result"
    }
   ],
   "source": [
    "visits.head()"
   ]
  },
  {
   "cell_type": "code",
   "execution_count": 64,
   "metadata": {},
   "outputs": [],
   "source": [
    "first_visit = visits.groupby('Uid').agg({'Start Ts':'min'})\\\n",
    "                .rename(columns={'Start Ts':'first_visit_date'})\\\n",
    "                .reset_index()"
   ]
  },
  {
   "cell_type": "code",
   "execution_count": 65,
   "metadata": {},
   "outputs": [
    {
     "data": {
      "text/html": [
       "<div>\n",
       "<style scoped>\n",
       "    .dataframe tbody tr th:only-of-type {\n",
       "        vertical-align: middle;\n",
       "    }\n",
       "\n",
       "    .dataframe tbody tr th {\n",
       "        vertical-align: top;\n",
       "    }\n",
       "\n",
       "    .dataframe thead th {\n",
       "        text-align: right;\n",
       "    }\n",
       "</style>\n",
       "<table border=\"1\" class=\"dataframe\">\n",
       "  <thead>\n",
       "    <tr style=\"text-align: right;\">\n",
       "      <th></th>\n",
       "      <th>Uid</th>\n",
       "      <th>first_visit_date</th>\n",
       "    </tr>\n",
       "  </thead>\n",
       "  <tbody>\n",
       "    <tr>\n",
       "      <td>0</td>\n",
       "      <td>11863502262781</td>\n",
       "      <td>2018-03-01 17:27:00</td>\n",
       "    </tr>\n",
       "    <tr>\n",
       "      <td>1</td>\n",
       "      <td>49537067089222</td>\n",
       "      <td>2018-02-06 15:55:00</td>\n",
       "    </tr>\n",
       "    <tr>\n",
       "      <td>2</td>\n",
       "      <td>297729379853735</td>\n",
       "      <td>2017-06-07 18:47:00</td>\n",
       "    </tr>\n",
       "    <tr>\n",
       "      <td>3</td>\n",
       "      <td>313578113262317</td>\n",
       "      <td>2017-09-18 22:49:00</td>\n",
       "    </tr>\n",
       "    <tr>\n",
       "      <td>4</td>\n",
       "      <td>325320750514679</td>\n",
       "      <td>2017-09-30 14:29:00</td>\n",
       "    </tr>\n",
       "  </tbody>\n",
       "</table>\n",
       "</div>"
      ],
      "text/plain": [
       "               Uid    first_visit_date\n",
       "0   11863502262781 2018-03-01 17:27:00\n",
       "1   49537067089222 2018-02-06 15:55:00\n",
       "2  297729379853735 2017-06-07 18:47:00\n",
       "3  313578113262317 2017-09-18 22:49:00\n",
       "4  325320750514679 2017-09-30 14:29:00"
      ]
     },
     "execution_count": 65,
     "metadata": {},
     "output_type": "execute_result"
    }
   ],
   "source": [
    "first_visit.head()"
   ]
  },
  {
   "cell_type": "code",
   "execution_count": 66,
   "metadata": {},
   "outputs": [],
   "source": [
    "first_order = orders.groupby('Uid').agg({'Buy Ts':'min'})\\\n",
    "                .reset_index()"
   ]
  },
  {
   "cell_type": "code",
   "execution_count": 67,
   "metadata": {},
   "outputs": [],
   "source": [
    "buying_time = first_visit.merge(first_order, on='Uid', how='inner')"
   ]
  },
  {
   "cell_type": "code",
   "execution_count": 68,
   "metadata": {},
   "outputs": [
    {
     "data": {
      "text/html": [
       "<div>\n",
       "<style scoped>\n",
       "    .dataframe tbody tr th:only-of-type {\n",
       "        vertical-align: middle;\n",
       "    }\n",
       "\n",
       "    .dataframe tbody tr th {\n",
       "        vertical-align: top;\n",
       "    }\n",
       "\n",
       "    .dataframe thead th {\n",
       "        text-align: right;\n",
       "    }\n",
       "</style>\n",
       "<table border=\"1\" class=\"dataframe\">\n",
       "  <thead>\n",
       "    <tr style=\"text-align: right;\">\n",
       "      <th></th>\n",
       "      <th>Uid</th>\n",
       "      <th>first_visit_date</th>\n",
       "      <th>Buy Ts</th>\n",
       "    </tr>\n",
       "  </thead>\n",
       "  <tbody>\n",
       "    <tr>\n",
       "      <td>0</td>\n",
       "      <td>313578113262317</td>\n",
       "      <td>2017-09-18 22:49:00</td>\n",
       "      <td>2018-01-03 21:51:00</td>\n",
       "    </tr>\n",
       "    <tr>\n",
       "      <td>1</td>\n",
       "      <td>1575281904278712</td>\n",
       "      <td>2017-06-03 10:13:00</td>\n",
       "      <td>2017-06-03 10:13:00</td>\n",
       "    </tr>\n",
       "    <tr>\n",
       "      <td>2</td>\n",
       "      <td>2429014661409475</td>\n",
       "      <td>2017-10-11 17:14:00</td>\n",
       "      <td>2017-10-11 18:33:00</td>\n",
       "    </tr>\n",
       "    <tr>\n",
       "      <td>3</td>\n",
       "      <td>2464366381792757</td>\n",
       "      <td>2018-01-27 20:10:00</td>\n",
       "      <td>2018-01-28 15:54:00</td>\n",
       "    </tr>\n",
       "    <tr>\n",
       "      <td>4</td>\n",
       "      <td>2551852515556206</td>\n",
       "      <td>2017-11-24 10:14:00</td>\n",
       "      <td>2017-11-24 10:14:00</td>\n",
       "    </tr>\n",
       "  </tbody>\n",
       "</table>\n",
       "</div>"
      ],
      "text/plain": [
       "                Uid    first_visit_date              Buy Ts\n",
       "0   313578113262317 2017-09-18 22:49:00 2018-01-03 21:51:00\n",
       "1  1575281904278712 2017-06-03 10:13:00 2017-06-03 10:13:00\n",
       "2  2429014661409475 2017-10-11 17:14:00 2017-10-11 18:33:00\n",
       "3  2464366381792757 2018-01-27 20:10:00 2018-01-28 15:54:00\n",
       "4  2551852515556206 2017-11-24 10:14:00 2017-11-24 10:14:00"
      ]
     },
     "execution_count": 68,
     "metadata": {},
     "output_type": "execute_result"
    }
   ],
   "source": [
    "buying_time.head()"
   ]
  },
  {
   "cell_type": "code",
   "execution_count": 69,
   "metadata": {},
   "outputs": [],
   "source": [
    "buying_time['buying_time'] = (buying_time['Buy Ts'] - buying_time['first_visit_date']).dt.seconds / 60"
   ]
  },
  {
   "cell_type": "code",
   "execution_count": 70,
   "metadata": {},
   "outputs": [
    {
     "data": {
      "text/html": [
       "<div>\n",
       "<style scoped>\n",
       "    .dataframe tbody tr th:only-of-type {\n",
       "        vertical-align: middle;\n",
       "    }\n",
       "\n",
       "    .dataframe tbody tr th {\n",
       "        vertical-align: top;\n",
       "    }\n",
       "\n",
       "    .dataframe thead th {\n",
       "        text-align: right;\n",
       "    }\n",
       "</style>\n",
       "<table border=\"1\" class=\"dataframe\">\n",
       "  <thead>\n",
       "    <tr style=\"text-align: right;\">\n",
       "      <th></th>\n",
       "      <th>Uid</th>\n",
       "      <th>first_visit_date</th>\n",
       "      <th>Buy Ts</th>\n",
       "      <th>buying_time</th>\n",
       "    </tr>\n",
       "  </thead>\n",
       "  <tbody>\n",
       "    <tr>\n",
       "      <td>0</td>\n",
       "      <td>313578113262317</td>\n",
       "      <td>2017-09-18 22:49:00</td>\n",
       "      <td>2018-01-03 21:51:00</td>\n",
       "      <td>1382.0</td>\n",
       "    </tr>\n",
       "    <tr>\n",
       "      <td>1</td>\n",
       "      <td>1575281904278712</td>\n",
       "      <td>2017-06-03 10:13:00</td>\n",
       "      <td>2017-06-03 10:13:00</td>\n",
       "      <td>0.0</td>\n",
       "    </tr>\n",
       "    <tr>\n",
       "      <td>2</td>\n",
       "      <td>2429014661409475</td>\n",
       "      <td>2017-10-11 17:14:00</td>\n",
       "      <td>2017-10-11 18:33:00</td>\n",
       "      <td>79.0</td>\n",
       "    </tr>\n",
       "    <tr>\n",
       "      <td>3</td>\n",
       "      <td>2464366381792757</td>\n",
       "      <td>2018-01-27 20:10:00</td>\n",
       "      <td>2018-01-28 15:54:00</td>\n",
       "      <td>1184.0</td>\n",
       "    </tr>\n",
       "    <tr>\n",
       "      <td>4</td>\n",
       "      <td>2551852515556206</td>\n",
       "      <td>2017-11-24 10:14:00</td>\n",
       "      <td>2017-11-24 10:14:00</td>\n",
       "      <td>0.0</td>\n",
       "    </tr>\n",
       "  </tbody>\n",
       "</table>\n",
       "</div>"
      ],
      "text/plain": [
       "                Uid    first_visit_date              Buy Ts  buying_time\n",
       "0   313578113262317 2017-09-18 22:49:00 2018-01-03 21:51:00       1382.0\n",
       "1  1575281904278712 2017-06-03 10:13:00 2017-06-03 10:13:00          0.0\n",
       "2  2429014661409475 2017-10-11 17:14:00 2017-10-11 18:33:00         79.0\n",
       "3  2464366381792757 2018-01-27 20:10:00 2018-01-28 15:54:00       1184.0\n",
       "4  2551852515556206 2017-11-24 10:14:00 2017-11-24 10:14:00          0.0"
      ]
     },
     "execution_count": 70,
     "metadata": {},
     "output_type": "execute_result"
    }
   ],
   "source": [
    "buying_time.head()"
   ]
  },
  {
   "cell_type": "markdown",
   "metadata": {},
   "source": [
    "Посмотрим основные характеристики данных в этом датафрейме"
   ]
  },
  {
   "cell_type": "code",
   "execution_count": 71,
   "metadata": {},
   "outputs": [
    {
     "data": {
      "text/plain": [
       "count    36523.000000\n",
       "mean       249.164691\n",
       "std        429.742785\n",
       "min          0.000000\n",
       "25%          4.000000\n",
       "50%         16.000000\n",
       "75%        252.000000\n",
       "max       1439.000000\n",
       "Name: buying_time, dtype: float64"
      ]
     },
     "execution_count": 71,
     "metadata": {},
     "output_type": "execute_result"
    }
   ],
   "source": [
    "buying_time['buying_time'].describe()"
   ]
  },
  {
   "cell_type": "markdown",
   "metadata": {},
   "source": [
    "Из таблицы видим, что в среднем между первым визитом и покупкой проходит 249 минут, медианное значение - 16 минут. То есть покупка происходит быстро и, видимо, она планировалась. Заход на сайт был целенаправленным."
   ]
  },
  {
   "cell_type": "code",
   "execution_count": 72,
   "metadata": {},
   "outputs": [
    {
     "data": {
      "text/plain": [
       "Uid                 2467\n",
       "first_visit_date    2467\n",
       "Buy Ts              2467\n",
       "buying_time         2467\n",
       "dtype: int64"
      ]
     },
     "execution_count": 72,
     "metadata": {},
     "output_type": "execute_result"
    }
   ],
   "source": [
    "buying_time[buying_time['buying_time'] == 0].count()"
   ]
  },
  {
   "cell_type": "markdown",
   "metadata": {},
   "source": [
    "Построим график для отображения времени между первым визитом и покупкой"
   ]
  },
  {
   "cell_type": "code",
   "execution_count": 73,
   "metadata": {},
   "outputs": [
    {
     "data": {
      "text/plain": [
       "Text(0.5, 1.0, 'Время в минутах от первого визита до покупки')"
      ]
     },
     "execution_count": 73,
     "metadata": {},
     "output_type": "execute_result"
    },
    {
     "data": {
      "image/png": "[encoded data removed]",
      "text/plain": [
       "<Figure size 432x288 with 1 Axes>"
      ]
     },
     "metadata": {},
     "output_type": "display_data"
    }
   ],
   "source": [
    "ax = buying_time['buying_time'].hist()\n",
    "ax.set_xlabel('Время в минутах')\n",
    "ax.set_ylabel('Частота')\n",
    "ax.set_title('Время в минутах от первого визита до покупки')"
   ]
  },
  {
   "cell_type": "markdown",
   "metadata": {},
   "source": [
    "### Продажи: Сколько раз покупают за период?<a class=\"anchor\" id=\"period_buy\"></a>"
   ]
  },
  {
   "cell_type": "markdown",
   "metadata": {},
   "source": [
    "Для удобства расчетов этого показателя объединим датафреймы orders и visits"
   ]
  },
  {
   "cell_type": "code",
   "execution_count": 74,
   "metadata": {},
   "outputs": [],
   "source": [
    "orders_and_visits = orders.merge(first_visit)"
   ]
  },
  {
   "cell_type": "code",
   "execution_count": 75,
   "metadata": {},
   "outputs": [
    {
     "data": {
      "text/html": [
       "<div>\n",
       "<style scoped>\n",
       "    .dataframe tbody tr th:only-of-type {\n",
       "        vertical-align: middle;\n",
       "    }\n",
       "\n",
       "    .dataframe tbody tr th {\n",
       "        vertical-align: top;\n",
       "    }\n",
       "\n",
       "    .dataframe thead th {\n",
       "        text-align: right;\n",
       "    }\n",
       "</style>\n",
       "<table border=\"1\" class=\"dataframe\">\n",
       "  <thead>\n",
       "    <tr style=\"text-align: right;\">\n",
       "      <th></th>\n",
       "      <th>Buy Ts</th>\n",
       "      <th>Revenue</th>\n",
       "      <th>Uid</th>\n",
       "      <th>first_visit_date</th>\n",
       "    </tr>\n",
       "  </thead>\n",
       "  <tbody>\n",
       "    <tr>\n",
       "      <td>0</td>\n",
       "      <td>2017-06-01 00:10:00</td>\n",
       "      <td>17.00</td>\n",
       "      <td>10329302124590727494</td>\n",
       "      <td>2017-06-01 00:09:00</td>\n",
       "    </tr>\n",
       "    <tr>\n",
       "      <td>1</td>\n",
       "      <td>2017-06-01 00:25:00</td>\n",
       "      <td>0.55</td>\n",
       "      <td>11627257723692907447</td>\n",
       "      <td>2017-06-01 00:14:00</td>\n",
       "    </tr>\n",
       "    <tr>\n",
       "      <td>2</td>\n",
       "      <td>2017-06-01 00:27:00</td>\n",
       "      <td>0.37</td>\n",
       "      <td>17903680561304213844</td>\n",
       "      <td>2017-06-01 00:25:00</td>\n",
       "    </tr>\n",
       "    <tr>\n",
       "      <td>3</td>\n",
       "      <td>2017-06-01 00:29:00</td>\n",
       "      <td>0.55</td>\n",
       "      <td>16109239769442553005</td>\n",
       "      <td>2017-06-01 00:14:00</td>\n",
       "    </tr>\n",
       "    <tr>\n",
       "      <td>4</td>\n",
       "      <td>2017-06-01 07:58:00</td>\n",
       "      <td>0.37</td>\n",
       "      <td>14200605875248379450</td>\n",
       "      <td>2017-06-01 07:31:00</td>\n",
       "    </tr>\n",
       "  </tbody>\n",
       "</table>\n",
       "</div>"
      ],
      "text/plain": [
       "               Buy Ts  Revenue                   Uid    first_visit_date\n",
       "0 2017-06-01 00:10:00    17.00  10329302124590727494 2017-06-01 00:09:00\n",
       "1 2017-06-01 00:25:00     0.55  11627257723692907447 2017-06-01 00:14:00\n",
       "2 2017-06-01 00:27:00     0.37  17903680561304213844 2017-06-01 00:25:00\n",
       "3 2017-06-01 00:29:00     0.55  16109239769442553005 2017-06-01 00:14:00\n",
       "4 2017-06-01 07:58:00     0.37  14200605875248379450 2017-06-01 07:31:00"
      ]
     },
     "execution_count": 75,
     "metadata": {},
     "output_type": "execute_result"
    }
   ],
   "source": [
    "orders_and_visits.head()"
   ]
  },
  {
   "cell_type": "markdown",
   "metadata": {},
   "source": [
    "Выделим из датафрейма в отдельные столбцы данные по дате, неделе и месяцу"
   ]
  },
  {
   "cell_type": "code",
   "execution_count": 76,
   "metadata": {},
   "outputs": [],
   "source": [
    "orders_and_visits['purchase_date'] = orders_and_visits['Buy Ts'].dt.date"
   ]
  },
  {
   "cell_type": "code",
   "execution_count": 77,
   "metadata": {},
   "outputs": [],
   "source": [
    "orders_and_visits['purchases_week'] = orders_and_visits['Buy Ts'].dt.week"
   ]
  },
  {
   "cell_type": "code",
   "execution_count": 78,
   "metadata": {},
   "outputs": [],
   "source": [
    "orders_and_visits['purchase_month'] = orders_and_visits['Buy Ts'].dt.month"
   ]
  },
  {
   "cell_type": "code",
   "execution_count": 79,
   "metadata": {},
   "outputs": [],
   "source": [
    "orders_and_visits['purchase_year'] = orders_and_visits['Buy Ts'].dt.year"
   ]
  },
  {
   "cell_type": "code",
   "execution_count": 80,
   "metadata": {},
   "outputs": [
    {
     "data": {
      "text/html": [
       "<div>\n",
       "<style scoped>\n",
       "    .dataframe tbody tr th:only-of-type {\n",
       "        vertical-align: middle;\n",
       "    }\n",
       "\n",
       "    .dataframe tbody tr th {\n",
       "        vertical-align: top;\n",
       "    }\n",
       "\n",
       "    .dataframe thead th {\n",
       "        text-align: right;\n",
       "    }\n",
       "</style>\n",
       "<table border=\"1\" class=\"dataframe\">\n",
       "  <thead>\n",
       "    <tr style=\"text-align: right;\">\n",
       "      <th></th>\n",
       "      <th>Buy Ts</th>\n",
       "      <th>Revenue</th>\n",
       "      <th>Uid</th>\n",
       "      <th>first_visit_date</th>\n",
       "      <th>purchase_date</th>\n",
       "      <th>purchases_week</th>\n",
       "      <th>purchase_month</th>\n",
       "      <th>purchase_year</th>\n",
       "    </tr>\n",
       "  </thead>\n",
       "  <tbody>\n",
       "    <tr>\n",
       "      <td>0</td>\n",
       "      <td>2017-06-01 00:10:00</td>\n",
       "      <td>17.00</td>\n",
       "      <td>10329302124590727494</td>\n",
       "      <td>2017-06-01 00:09:00</td>\n",
       "      <td>2017-06-01</td>\n",
       "      <td>22</td>\n",
       "      <td>6</td>\n",
       "      <td>2017</td>\n",
       "    </tr>\n",
       "    <tr>\n",
       "      <td>1</td>\n",
       "      <td>2017-06-01 00:25:00</td>\n",
       "      <td>0.55</td>\n",
       "      <td>11627257723692907447</td>\n",
       "      <td>2017-06-01 00:14:00</td>\n",
       "      <td>2017-06-01</td>\n",
       "      <td>22</td>\n",
       "      <td>6</td>\n",
       "      <td>2017</td>\n",
       "    </tr>\n",
       "    <tr>\n",
       "      <td>2</td>\n",
       "      <td>2017-06-01 00:27:00</td>\n",
       "      <td>0.37</td>\n",
       "      <td>17903680561304213844</td>\n",
       "      <td>2017-06-01 00:25:00</td>\n",
       "      <td>2017-06-01</td>\n",
       "      <td>22</td>\n",
       "      <td>6</td>\n",
       "      <td>2017</td>\n",
       "    </tr>\n",
       "    <tr>\n",
       "      <td>3</td>\n",
       "      <td>2017-06-01 00:29:00</td>\n",
       "      <td>0.55</td>\n",
       "      <td>16109239769442553005</td>\n",
       "      <td>2017-06-01 00:14:00</td>\n",
       "      <td>2017-06-01</td>\n",
       "      <td>22</td>\n",
       "      <td>6</td>\n",
       "      <td>2017</td>\n",
       "    </tr>\n",
       "    <tr>\n",
       "      <td>4</td>\n",
       "      <td>2017-06-01 07:58:00</td>\n",
       "      <td>0.37</td>\n",
       "      <td>14200605875248379450</td>\n",
       "      <td>2017-06-01 07:31:00</td>\n",
       "      <td>2017-06-01</td>\n",
       "      <td>22</td>\n",
       "      <td>6</td>\n",
       "      <td>2017</td>\n",
       "    </tr>\n",
       "    <tr>\n",
       "      <td>...</td>\n",
       "      <td>...</td>\n",
       "      <td>...</td>\n",
       "      <td>...</td>\n",
       "      <td>...</td>\n",
       "      <td>...</td>\n",
       "      <td>...</td>\n",
       "      <td>...</td>\n",
       "      <td>...</td>\n",
       "    </tr>\n",
       "    <tr>\n",
       "      <td>50410</td>\n",
       "      <td>2018-05-31 23:50:00</td>\n",
       "      <td>4.64</td>\n",
       "      <td>12296626599487328624</td>\n",
       "      <td>2018-05-31 09:11:00</td>\n",
       "      <td>2018-05-31</td>\n",
       "      <td>22</td>\n",
       "      <td>5</td>\n",
       "      <td>2018</td>\n",
       "    </tr>\n",
       "    <tr>\n",
       "      <td>50411</td>\n",
       "      <td>2018-05-31 23:50:00</td>\n",
       "      <td>5.80</td>\n",
       "      <td>11369640365507475976</td>\n",
       "      <td>2018-05-31 23:05:00</td>\n",
       "      <td>2018-05-31</td>\n",
       "      <td>22</td>\n",
       "      <td>5</td>\n",
       "      <td>2018</td>\n",
       "    </tr>\n",
       "    <tr>\n",
       "      <td>50412</td>\n",
       "      <td>2018-05-31 23:54:00</td>\n",
       "      <td>0.30</td>\n",
       "      <td>1786462140797698849</td>\n",
       "      <td>2018-05-31 23:52:00</td>\n",
       "      <td>2018-05-31</td>\n",
       "      <td>22</td>\n",
       "      <td>5</td>\n",
       "      <td>2018</td>\n",
       "    </tr>\n",
       "    <tr>\n",
       "      <td>50413</td>\n",
       "      <td>2018-05-31 23:56:00</td>\n",
       "      <td>3.67</td>\n",
       "      <td>3993697860786194247</td>\n",
       "      <td>2017-10-23 12:32:00</td>\n",
       "      <td>2018-05-31</td>\n",
       "      <td>22</td>\n",
       "      <td>5</td>\n",
       "      <td>2018</td>\n",
       "    </tr>\n",
       "    <tr>\n",
       "      <td>50414</td>\n",
       "      <td>2018-06-01 00:02:00</td>\n",
       "      <td>3.42</td>\n",
       "      <td>83872787173869366</td>\n",
       "      <td>2018-05-31 23:59:00</td>\n",
       "      <td>2018-06-01</td>\n",
       "      <td>22</td>\n",
       "      <td>6</td>\n",
       "      <td>2018</td>\n",
       "    </tr>\n",
       "  </tbody>\n",
       "</table>\n",
       "<p>50415 rows × 8 columns</p>\n",
       "</div>"
      ],
      "text/plain": [
       "                   Buy Ts  Revenue                   Uid    first_visit_date  \\\n",
       "0     2017-06-01 00:10:00    17.00  10329302124590727494 2017-06-01 00:09:00   \n",
       "1     2017-06-01 00:25:00     0.55  11627257723692907447 2017-06-01 00:14:00   \n",
       "2     2017-06-01 00:27:00     0.37  17903680561304213844 2017-06-01 00:25:00   \n",
       "3     2017-06-01 00:29:00     0.55  16109239769442553005 2017-06-01 00:14:00   \n",
       "4     2017-06-01 07:58:00     0.37  14200605875248379450 2017-06-01 07:31:00   \n",
       "...                   ...      ...                   ...                 ...   \n",
       "50410 2018-05-31 23:50:00     4.64  12296626599487328624 2018-05-31 09:11:00   \n",
       "50411 2018-05-31 23:50:00     5.80  11369640365507475976 2018-05-31 23:05:00   \n",
       "50412 2018-05-31 23:54:00     0.30   1786462140797698849 2018-05-31 23:52:00   \n",
       "50413 2018-05-31 23:56:00     3.67   3993697860786194247 2017-10-23 12:32:00   \n",
       "50414 2018-06-01 00:02:00     3.42     83872787173869366 2018-05-31 23:59:00   \n",
       "\n",
       "      purchase_date  purchases_week  purchase_month  purchase_year  \n",
       "0        2017-06-01              22               6           2017  \n",
       "1        2017-06-01              22               6           2017  \n",
       "2        2017-06-01              22               6           2017  \n",
       "3        2017-06-01              22               6           2017  \n",
       "4        2017-06-01              22               6           2017  \n",
       "...             ...             ...             ...            ...  \n",
       "50410    2018-05-31              22               5           2018  \n",
       "50411    2018-05-31              22               5           2018  \n",
       "50412    2018-05-31              22               5           2018  \n",
       "50413    2018-05-31              22               5           2018  \n",
       "50414    2018-06-01              22               6           2018  \n",
       "\n",
       "[50415 rows x 8 columns]"
      ]
     },
     "execution_count": 80,
     "metadata": {},
     "output_type": "execute_result"
    }
   ],
   "source": [
    "orders_and_visits"
   ]
  },
  {
   "cell_type": "markdown",
   "metadata": {},
   "source": [
    "Удалим строку с датой покупки за июнь 2018 года, чтобы не искажать график"
   ]
  },
  {
   "cell_type": "code",
   "execution_count": 81,
   "metadata": {},
   "outputs": [],
   "source": [
    "orders_and_visits = orders_and_visits.drop(np.where(orders_and_visits['Buy Ts'] == '2018-06-01 00:02:00')[0])"
   ]
  },
  {
   "cell_type": "code",
   "execution_count": 82,
   "metadata": {},
   "outputs": [
    {
     "data": {
      "text/html": [
       "<div>\n",
       "<style scoped>\n",
       "    .dataframe tbody tr th:only-of-type {\n",
       "        vertical-align: middle;\n",
       "    }\n",
       "\n",
       "    .dataframe tbody tr th {\n",
       "        vertical-align: top;\n",
       "    }\n",
       "\n",
       "    .dataframe thead th {\n",
       "        text-align: right;\n",
       "    }\n",
       "</style>\n",
       "<table border=\"1\" class=\"dataframe\">\n",
       "  <thead>\n",
       "    <tr style=\"text-align: right;\">\n",
       "      <th></th>\n",
       "      <th>Buy Ts</th>\n",
       "      <th>Revenue</th>\n",
       "      <th>Uid</th>\n",
       "      <th>first_visit_date</th>\n",
       "      <th>purchase_date</th>\n",
       "      <th>purchases_week</th>\n",
       "      <th>purchase_month</th>\n",
       "      <th>purchase_year</th>\n",
       "    </tr>\n",
       "  </thead>\n",
       "  <tbody>\n",
       "    <tr>\n",
       "      <td>0</td>\n",
       "      <td>2017-06-01 00:10:00</td>\n",
       "      <td>17.00</td>\n",
       "      <td>10329302124590727494</td>\n",
       "      <td>2017-06-01 00:09:00</td>\n",
       "      <td>2017-06-01</td>\n",
       "      <td>22</td>\n",
       "      <td>6</td>\n",
       "      <td>2017</td>\n",
       "    </tr>\n",
       "    <tr>\n",
       "      <td>1</td>\n",
       "      <td>2017-06-01 00:25:00</td>\n",
       "      <td>0.55</td>\n",
       "      <td>11627257723692907447</td>\n",
       "      <td>2017-06-01 00:14:00</td>\n",
       "      <td>2017-06-01</td>\n",
       "      <td>22</td>\n",
       "      <td>6</td>\n",
       "      <td>2017</td>\n",
       "    </tr>\n",
       "    <tr>\n",
       "      <td>2</td>\n",
       "      <td>2017-06-01 00:27:00</td>\n",
       "      <td>0.37</td>\n",
       "      <td>17903680561304213844</td>\n",
       "      <td>2017-06-01 00:25:00</td>\n",
       "      <td>2017-06-01</td>\n",
       "      <td>22</td>\n",
       "      <td>6</td>\n",
       "      <td>2017</td>\n",
       "    </tr>\n",
       "    <tr>\n",
       "      <td>3</td>\n",
       "      <td>2017-06-01 00:29:00</td>\n",
       "      <td>0.55</td>\n",
       "      <td>16109239769442553005</td>\n",
       "      <td>2017-06-01 00:14:00</td>\n",
       "      <td>2017-06-01</td>\n",
       "      <td>22</td>\n",
       "      <td>6</td>\n",
       "      <td>2017</td>\n",
       "    </tr>\n",
       "    <tr>\n",
       "      <td>4</td>\n",
       "      <td>2017-06-01 07:58:00</td>\n",
       "      <td>0.37</td>\n",
       "      <td>14200605875248379450</td>\n",
       "      <td>2017-06-01 07:31:00</td>\n",
       "      <td>2017-06-01</td>\n",
       "      <td>22</td>\n",
       "      <td>6</td>\n",
       "      <td>2017</td>\n",
       "    </tr>\n",
       "    <tr>\n",
       "      <td>...</td>\n",
       "      <td>...</td>\n",
       "      <td>...</td>\n",
       "      <td>...</td>\n",
       "      <td>...</td>\n",
       "      <td>...</td>\n",
       "      <td>...</td>\n",
       "      <td>...</td>\n",
       "      <td>...</td>\n",
       "    </tr>\n",
       "    <tr>\n",
       "      <td>50409</td>\n",
       "      <td>2018-05-31 23:43:00</td>\n",
       "      <td>3.67</td>\n",
       "      <td>1805512004303848280</td>\n",
       "      <td>2017-12-07 23:20:00</td>\n",
       "      <td>2018-05-31</td>\n",
       "      <td>22</td>\n",
       "      <td>5</td>\n",
       "      <td>2018</td>\n",
       "    </tr>\n",
       "    <tr>\n",
       "      <td>50410</td>\n",
       "      <td>2018-05-31 23:50:00</td>\n",
       "      <td>4.64</td>\n",
       "      <td>12296626599487328624</td>\n",
       "      <td>2018-05-31 09:11:00</td>\n",
       "      <td>2018-05-31</td>\n",
       "      <td>22</td>\n",
       "      <td>5</td>\n",
       "      <td>2018</td>\n",
       "    </tr>\n",
       "    <tr>\n",
       "      <td>50411</td>\n",
       "      <td>2018-05-31 23:50:00</td>\n",
       "      <td>5.80</td>\n",
       "      <td>11369640365507475976</td>\n",
       "      <td>2018-05-31 23:05:00</td>\n",
       "      <td>2018-05-31</td>\n",
       "      <td>22</td>\n",
       "      <td>5</td>\n",
       "      <td>2018</td>\n",
       "    </tr>\n",
       "    <tr>\n",
       "      <td>50412</td>\n",
       "      <td>2018-05-31 23:54:00</td>\n",
       "      <td>0.30</td>\n",
       "      <td>1786462140797698849</td>\n",
       "      <td>2018-05-31 23:52:00</td>\n",
       "      <td>2018-05-31</td>\n",
       "      <td>22</td>\n",
       "      <td>5</td>\n",
       "      <td>2018</td>\n",
       "    </tr>\n",
       "    <tr>\n",
       "      <td>50413</td>\n",
       "      <td>2018-05-31 23:56:00</td>\n",
       "      <td>3.67</td>\n",
       "      <td>3993697860786194247</td>\n",
       "      <td>2017-10-23 12:32:00</td>\n",
       "      <td>2018-05-31</td>\n",
       "      <td>22</td>\n",
       "      <td>5</td>\n",
       "      <td>2018</td>\n",
       "    </tr>\n",
       "  </tbody>\n",
       "</table>\n",
       "<p>50414 rows × 8 columns</p>\n",
       "</div>"
      ],
      "text/plain": [
       "                   Buy Ts  Revenue                   Uid    first_visit_date  \\\n",
       "0     2017-06-01 00:10:00    17.00  10329302124590727494 2017-06-01 00:09:00   \n",
       "1     2017-06-01 00:25:00     0.55  11627257723692907447 2017-06-01 00:14:00   \n",
       "2     2017-06-01 00:27:00     0.37  17903680561304213844 2017-06-01 00:25:00   \n",
       "3     2017-06-01 00:29:00     0.55  16109239769442553005 2017-06-01 00:14:00   \n",
       "4     2017-06-01 07:58:00     0.37  14200605875248379450 2017-06-01 07:31:00   \n",
       "...                   ...      ...                   ...                 ...   \n",
       "50409 2018-05-31 23:43:00     3.67   1805512004303848280 2017-12-07 23:20:00   \n",
       "50410 2018-05-31 23:50:00     4.64  12296626599487328624 2018-05-31 09:11:00   \n",
       "50411 2018-05-31 23:50:00     5.80  11369640365507475976 2018-05-31 23:05:00   \n",
       "50412 2018-05-31 23:54:00     0.30   1786462140797698849 2018-05-31 23:52:00   \n",
       "50413 2018-05-31 23:56:00     3.67   3993697860786194247 2017-10-23 12:32:00   \n",
       "\n",
       "      purchase_date  purchases_week  purchase_month  purchase_year  \n",
       "0        2017-06-01              22               6           2017  \n",
       "1        2017-06-01              22               6           2017  \n",
       "2        2017-06-01              22               6           2017  \n",
       "3        2017-06-01              22               6           2017  \n",
       "4        2017-06-01              22               6           2017  \n",
       "...             ...             ...             ...            ...  \n",
       "50409    2018-05-31              22               5           2018  \n",
       "50410    2018-05-31              22               5           2018  \n",
       "50411    2018-05-31              22               5           2018  \n",
       "50412    2018-05-31              22               5           2018  \n",
       "50413    2018-05-31              22               5           2018  \n",
       "\n",
       "[50414 rows x 8 columns]"
      ]
     },
     "execution_count": 82,
     "metadata": {},
     "output_type": "execute_result"
    }
   ],
   "source": [
    "orders_and_visits"
   ]
  },
  {
   "cell_type": "markdown",
   "metadata": {},
   "source": [
    "Сгруппируем данные по покупкам за день, неделю и месяц"
   ]
  },
  {
   "cell_type": "code",
   "execution_count": 83,
   "metadata": {},
   "outputs": [],
   "source": [
    "purchases_per_day = orders_and_visits.groupby('purchase_date')['Uid'].count()"
   ]
  },
  {
   "cell_type": "code",
   "execution_count": 84,
   "metadata": {},
   "outputs": [],
   "source": [
    "purchases_per_week = orders_and_visits.groupby(['purchases_week'])['Uid'].count()"
   ]
  },
  {
   "cell_type": "code",
   "execution_count": 85,
   "metadata": {},
   "outputs": [],
   "source": [
    "purchases_per_month = orders_and_visits.groupby(['purchase_month', 'purchase_year']).agg({'Uid': 'count'})"
   ]
  },
  {
   "cell_type": "code",
   "execution_count": 86,
   "metadata": {},
   "outputs": [
    {
     "data": {
      "text/html": [
       "<div>\n",
       "<style scoped>\n",
       "    .dataframe tbody tr th:only-of-type {\n",
       "        vertical-align: middle;\n",
       "    }\n",
       "\n",
       "    .dataframe tbody tr th {\n",
       "        vertical-align: top;\n",
       "    }\n",
       "\n",
       "    .dataframe thead th {\n",
       "        text-align: right;\n",
       "    }\n",
       "</style>\n",
       "<table border=\"1\" class=\"dataframe\">\n",
       "  <thead>\n",
       "    <tr style=\"text-align: right;\">\n",
       "      <th></th>\n",
       "      <th></th>\n",
       "      <th>Uid</th>\n",
       "    </tr>\n",
       "    <tr>\n",
       "      <th>purchase_month</th>\n",
       "      <th>purchase_year</th>\n",
       "      <th></th>\n",
       "    </tr>\n",
       "  </thead>\n",
       "  <tbody>\n",
       "    <tr>\n",
       "      <td>1</td>\n",
       "      <td>2018</td>\n",
       "      <td>4721</td>\n",
       "    </tr>\n",
       "    <tr>\n",
       "      <td>2</td>\n",
       "      <td>2018</td>\n",
       "      <td>5281</td>\n",
       "    </tr>\n",
       "    <tr>\n",
       "      <td>3</td>\n",
       "      <td>2018</td>\n",
       "      <td>5326</td>\n",
       "    </tr>\n",
       "    <tr>\n",
       "      <td>4</td>\n",
       "      <td>2018</td>\n",
       "      <td>3273</td>\n",
       "    </tr>\n",
       "    <tr>\n",
       "      <td>5</td>\n",
       "      <td>2018</td>\n",
       "      <td>4346</td>\n",
       "    </tr>\n",
       "    <tr>\n",
       "      <td>6</td>\n",
       "      <td>2017</td>\n",
       "      <td>2354</td>\n",
       "    </tr>\n",
       "    <tr>\n",
       "      <td>7</td>\n",
       "      <td>2017</td>\n",
       "      <td>2363</td>\n",
       "    </tr>\n",
       "    <tr>\n",
       "      <td>8</td>\n",
       "      <td>2017</td>\n",
       "      <td>1807</td>\n",
       "    </tr>\n",
       "    <tr>\n",
       "      <td>9</td>\n",
       "      <td>2017</td>\n",
       "      <td>3387</td>\n",
       "    </tr>\n",
       "    <tr>\n",
       "      <td>10</td>\n",
       "      <td>2017</td>\n",
       "      <td>5679</td>\n",
       "    </tr>\n",
       "    <tr>\n",
       "      <td>11</td>\n",
       "      <td>2017</td>\n",
       "      <td>5659</td>\n",
       "    </tr>\n",
       "    <tr>\n",
       "      <td>12</td>\n",
       "      <td>2017</td>\n",
       "      <td>6218</td>\n",
       "    </tr>\n",
       "  </tbody>\n",
       "</table>\n",
       "</div>"
      ],
      "text/plain": [
       "                               Uid\n",
       "purchase_month purchase_year      \n",
       "1              2018           4721\n",
       "2              2018           5281\n",
       "3              2018           5326\n",
       "4              2018           3273\n",
       "5              2018           4346\n",
       "6              2017           2354\n",
       "7              2017           2363\n",
       "8              2017           1807\n",
       "9              2017           3387\n",
       "10             2017           5679\n",
       "11             2017           5659\n",
       "12             2017           6218"
      ]
     },
     "execution_count": 86,
     "metadata": {},
     "output_type": "execute_result"
    }
   ],
   "source": [
    "purchases_per_month"
   ]
  },
  {
   "cell_type": "code",
   "execution_count": 87,
   "metadata": {},
   "outputs": [],
   "source": [
    "str_purchases_per_month = purchases_per_month.sort_values(by='purchase_year')"
   ]
  },
  {
   "cell_type": "code",
   "execution_count": 88,
   "metadata": {},
   "outputs": [
    {
     "data": {
      "text/html": [
       "<div>\n",
       "<style scoped>\n",
       "    .dataframe tbody tr th:only-of-type {\n",
       "        vertical-align: middle;\n",
       "    }\n",
       "\n",
       "    .dataframe tbody tr th {\n",
       "        vertical-align: top;\n",
       "    }\n",
       "\n",
       "    .dataframe thead th {\n",
       "        text-align: right;\n",
       "    }\n",
       "</style>\n",
       "<table border=\"1\" class=\"dataframe\">\n",
       "  <thead>\n",
       "    <tr style=\"text-align: right;\">\n",
       "      <th></th>\n",
       "      <th></th>\n",
       "      <th>Uid</th>\n",
       "    </tr>\n",
       "    <tr>\n",
       "      <th>purchase_month</th>\n",
       "      <th>purchase_year</th>\n",
       "      <th></th>\n",
       "    </tr>\n",
       "  </thead>\n",
       "  <tbody>\n",
       "    <tr>\n",
       "      <td>6</td>\n",
       "      <td>2017</td>\n",
       "      <td>2354</td>\n",
       "    </tr>\n",
       "    <tr>\n",
       "      <td>7</td>\n",
       "      <td>2017</td>\n",
       "      <td>2363</td>\n",
       "    </tr>\n",
       "    <tr>\n",
       "      <td>8</td>\n",
       "      <td>2017</td>\n",
       "      <td>1807</td>\n",
       "    </tr>\n",
       "    <tr>\n",
       "      <td>9</td>\n",
       "      <td>2017</td>\n",
       "      <td>3387</td>\n",
       "    </tr>\n",
       "    <tr>\n",
       "      <td>10</td>\n",
       "      <td>2017</td>\n",
       "      <td>5679</td>\n",
       "    </tr>\n",
       "    <tr>\n",
       "      <td>11</td>\n",
       "      <td>2017</td>\n",
       "      <td>5659</td>\n",
       "    </tr>\n",
       "    <tr>\n",
       "      <td>12</td>\n",
       "      <td>2017</td>\n",
       "      <td>6218</td>\n",
       "    </tr>\n",
       "    <tr>\n",
       "      <td>1</td>\n",
       "      <td>2018</td>\n",
       "      <td>4721</td>\n",
       "    </tr>\n",
       "    <tr>\n",
       "      <td>2</td>\n",
       "      <td>2018</td>\n",
       "      <td>5281</td>\n",
       "    </tr>\n",
       "    <tr>\n",
       "      <td>3</td>\n",
       "      <td>2018</td>\n",
       "      <td>5326</td>\n",
       "    </tr>\n",
       "    <tr>\n",
       "      <td>4</td>\n",
       "      <td>2018</td>\n",
       "      <td>3273</td>\n",
       "    </tr>\n",
       "    <tr>\n",
       "      <td>5</td>\n",
       "      <td>2018</td>\n",
       "      <td>4346</td>\n",
       "    </tr>\n",
       "  </tbody>\n",
       "</table>\n",
       "</div>"
      ],
      "text/plain": [
       "                               Uid\n",
       "purchase_month purchase_year      \n",
       "6              2017           2354\n",
       "7              2017           2363\n",
       "8              2017           1807\n",
       "9              2017           3387\n",
       "10             2017           5679\n",
       "11             2017           5659\n",
       "12             2017           6218\n",
       "1              2018           4721\n",
       "2              2018           5281\n",
       "3              2018           5326\n",
       "4              2018           3273\n",
       "5              2018           4346"
      ]
     },
     "execution_count": 88,
     "metadata": {},
     "output_type": "execute_result"
    }
   ],
   "source": [
    "str_purchases_per_month"
   ]
  },
  {
   "cell_type": "markdown",
   "metadata": {},
   "source": [
    "Создадим отдельный датафрейм с агрегированными значениями по покупкам"
   ]
  },
  {
   "cell_type": "code",
   "execution_count": 89,
   "metadata": {},
   "outputs": [],
   "source": [
    "orders_count = pd.DataFrame()"
   ]
  },
  {
   "cell_type": "code",
   "execution_count": 90,
   "metadata": {},
   "outputs": [],
   "source": [
    "orders_count['per_day'] = purchases_per_day.describe()"
   ]
  },
  {
   "cell_type": "code",
   "execution_count": 91,
   "metadata": {},
   "outputs": [],
   "source": [
    "orders_count['per_week'] = purchases_per_week.describe()"
   ]
  },
  {
   "cell_type": "code",
   "execution_count": 92,
   "metadata": {},
   "outputs": [],
   "source": [
    "orders_count['per_month'] = purchases_per_month.describe()"
   ]
  },
  {
   "cell_type": "code",
   "execution_count": 93,
   "metadata": {},
   "outputs": [
    {
     "data": {
      "text/html": [
       "<div>\n",
       "<style scoped>\n",
       "    .dataframe tbody tr th:only-of-type {\n",
       "        vertical-align: middle;\n",
       "    }\n",
       "\n",
       "    .dataframe tbody tr th {\n",
       "        vertical-align: top;\n",
       "    }\n",
       "\n",
       "    .dataframe thead th {\n",
       "        text-align: right;\n",
       "    }\n",
       "</style>\n",
       "<table border=\"1\" class=\"dataframe\">\n",
       "  <thead>\n",
       "    <tr style=\"text-align: right;\">\n",
       "      <th></th>\n",
       "      <th>per_day</th>\n",
       "      <th>per_week</th>\n",
       "      <th>per_month</th>\n",
       "    </tr>\n",
       "  </thead>\n",
       "  <tbody>\n",
       "    <tr>\n",
       "      <td>count</td>\n",
       "      <td>363.000000</td>\n",
       "      <td>52.000000</td>\n",
       "      <td>12.000000</td>\n",
       "    </tr>\n",
       "    <tr>\n",
       "      <td>mean</td>\n",
       "      <td>138.881543</td>\n",
       "      <td>969.500000</td>\n",
       "      <td>4201.166667</td>\n",
       "    </tr>\n",
       "    <tr>\n",
       "      <td>std</td>\n",
       "      <td>76.623567</td>\n",
       "      <td>397.602546</td>\n",
       "      <td>1511.972092</td>\n",
       "    </tr>\n",
       "    <tr>\n",
       "      <td>min</td>\n",
       "      <td>15.000000</td>\n",
       "      <td>314.000000</td>\n",
       "      <td>1807.000000</td>\n",
       "    </tr>\n",
       "    <tr>\n",
       "      <td>25%</td>\n",
       "      <td>83.000000</td>\n",
       "      <td>658.500000</td>\n",
       "      <td>3045.500000</td>\n",
       "    </tr>\n",
       "    <tr>\n",
       "      <td>50%</td>\n",
       "      <td>136.000000</td>\n",
       "      <td>997.500000</td>\n",
       "      <td>4533.500000</td>\n",
       "    </tr>\n",
       "    <tr>\n",
       "      <td>75%</td>\n",
       "      <td>177.000000</td>\n",
       "      <td>1270.500000</td>\n",
       "      <td>5409.250000</td>\n",
       "    </tr>\n",
       "    <tr>\n",
       "      <td>max</td>\n",
       "      <td>814.000000</td>\n",
       "      <td>1894.000000</td>\n",
       "      <td>6218.000000</td>\n",
       "    </tr>\n",
       "  </tbody>\n",
       "</table>\n",
       "</div>"
      ],
      "text/plain": [
       "          per_day     per_week    per_month\n",
       "count  363.000000    52.000000    12.000000\n",
       "mean   138.881543   969.500000  4201.166667\n",
       "std     76.623567   397.602546  1511.972092\n",
       "min     15.000000   314.000000  1807.000000\n",
       "25%     83.000000   658.500000  3045.500000\n",
       "50%    136.000000   997.500000  4533.500000\n",
       "75%    177.000000  1270.500000  5409.250000\n",
       "max    814.000000  1894.000000  6218.000000"
      ]
     },
     "execution_count": 93,
     "metadata": {},
     "output_type": "execute_result"
    }
   ],
   "source": [
    "orders_count.head(8)"
   ]
  },
  {
   "cell_type": "code",
   "execution_count": 94,
   "metadata": {},
   "outputs": [
    {
     "data": {
      "text/plain": [
       "(array([ 0.,  2.,  4.,  6.,  8., 10., 12.]),\n",
       " <a list of 7 Text xticklabel objects>)"
      ]
     },
     "execution_count": 94,
     "metadata": {},
     "output_type": "execute_result"
    },
    {
     "data": {
      "image/png": "[encoded data removed]",
      "text/plain": [
       "<Figure size 432x288 with 1 Axes>"
      ]
     },
     "metadata": {},
     "output_type": "display_data"
    }
   ],
   "source": [
    "str_purchases_per_month.plot()\n",
    "plt.title(\"Покупки по месяцам\")\n",
    "plt.xticks(rotation=90)"
   ]
  },
  {
   "cell_type": "markdown",
   "metadata": {},
   "source": [
    "На помесячном графике покупок заметна сезонность: \n",
    "    самое большое количество покупок было в декабре (перед Новым годом), так же пики были в марте(потом резкое падение к апрелю), в мае (и затем резкий спад в августе) и рост в сентябре, закончившийся пиком в октябре. Майский пик продаж можно объяснить наличием свободного времени в период длинных майских праздников и большим количеством мероприятий в это время. Рост в сентябре-октябре - открытием нового сезона, например, в театрах и возвращением людей и деятелей искусства(например) из отпусков."
   ]
  },
  {
   "cell_type": "markdown",
   "metadata": {},
   "source": [
    "Видим из таблицы, что в среднем в день совершается 138 покупок, в неделю - 969, в месяц - 4200."
   ]
  },
  {
   "cell_type": "markdown",
   "metadata": {},
   "source": [
    "### Продажи: Какой средний чек?<a class=\"anchor\" id=\"mean_bill\"></a>"
   ]
  },
  {
   "cell_type": "markdown",
   "metadata": {},
   "source": [
    "Чтобы найти величину среднего чека, нам надо разделить общую сумму покупки на общее число покупок"
   ]
  },
  {
   "cell_type": "markdown",
   "metadata": {},
   "source": [
    "Для начала посмотрим описательные статистики столбца 'Revenue'"
   ]
  },
  {
   "cell_type": "code",
   "execution_count": 95,
   "metadata": {},
   "outputs": [
    {
     "data": {
      "text/plain": [
       "count    50414.000000\n",
       "mean         4.999678\n",
       "std         21.818574\n",
       "min          0.000000\n",
       "25%          1.220000\n",
       "50%          2.500000\n",
       "75%          4.890000\n",
       "max       2633.280000\n",
       "Name: Revenue, dtype: float64"
      ]
     },
     "execution_count": 95,
     "metadata": {},
     "output_type": "execute_result"
    }
   ],
   "source": [
    "orders_and_visits['Revenue'].describe()"
   ]
  },
  {
   "cell_type": "markdown",
   "metadata": {},
   "source": [
    "Среднее значение - 4.99, максимальное - 2633"
   ]
  },
  {
   "cell_type": "markdown",
   "metadata": {},
   "source": [
    "Найдем моду - она равна 1,8."
   ]
  },
  {
   "cell_type": "code",
   "execution_count": 96,
   "metadata": {},
   "outputs": [
    {
     "data": {
      "text/plain": [
       "0    1.83\n",
       "dtype: float64"
      ]
     },
     "execution_count": 96,
     "metadata": {},
     "output_type": "execute_result"
    }
   ],
   "source": [
    "orders_and_visits['Revenue'].mode()"
   ]
  },
  {
   "cell_type": "code",
   "execution_count": 97,
   "metadata": {},
   "outputs": [
    {
     "data": {
      "text/html": [
       "<div>\n",
       "<style scoped>\n",
       "    .dataframe tbody tr th:only-of-type {\n",
       "        vertical-align: middle;\n",
       "    }\n",
       "\n",
       "    .dataframe tbody tr th {\n",
       "        vertical-align: top;\n",
       "    }\n",
       "\n",
       "    .dataframe thead th {\n",
       "        text-align: right;\n",
       "    }\n",
       "</style>\n",
       "<table border=\"1\" class=\"dataframe\">\n",
       "  <thead>\n",
       "    <tr style=\"text-align: right;\">\n",
       "      <th></th>\n",
       "      <th>Buy Ts</th>\n",
       "      <th>Revenue</th>\n",
       "      <th>Uid</th>\n",
       "      <th>first_visit_date</th>\n",
       "      <th>purchase_date</th>\n",
       "      <th>purchases_week</th>\n",
       "      <th>purchase_month</th>\n",
       "      <th>purchase_year</th>\n",
       "    </tr>\n",
       "  </thead>\n",
       "  <tbody>\n",
       "    <tr>\n",
       "      <td>0</td>\n",
       "      <td>2017-06-01 00:10:00</td>\n",
       "      <td>17.00</td>\n",
       "      <td>10329302124590727494</td>\n",
       "      <td>2017-06-01 00:09:00</td>\n",
       "      <td>2017-06-01</td>\n",
       "      <td>22</td>\n",
       "      <td>6</td>\n",
       "      <td>2017</td>\n",
       "    </tr>\n",
       "    <tr>\n",
       "      <td>1</td>\n",
       "      <td>2017-06-01 00:25:00</td>\n",
       "      <td>0.55</td>\n",
       "      <td>11627257723692907447</td>\n",
       "      <td>2017-06-01 00:14:00</td>\n",
       "      <td>2017-06-01</td>\n",
       "      <td>22</td>\n",
       "      <td>6</td>\n",
       "      <td>2017</td>\n",
       "    </tr>\n",
       "    <tr>\n",
       "      <td>2</td>\n",
       "      <td>2017-06-01 00:27:00</td>\n",
       "      <td>0.37</td>\n",
       "      <td>17903680561304213844</td>\n",
       "      <td>2017-06-01 00:25:00</td>\n",
       "      <td>2017-06-01</td>\n",
       "      <td>22</td>\n",
       "      <td>6</td>\n",
       "      <td>2017</td>\n",
       "    </tr>\n",
       "    <tr>\n",
       "      <td>3</td>\n",
       "      <td>2017-06-01 00:29:00</td>\n",
       "      <td>0.55</td>\n",
       "      <td>16109239769442553005</td>\n",
       "      <td>2017-06-01 00:14:00</td>\n",
       "      <td>2017-06-01</td>\n",
       "      <td>22</td>\n",
       "      <td>6</td>\n",
       "      <td>2017</td>\n",
       "    </tr>\n",
       "    <tr>\n",
       "      <td>4</td>\n",
       "      <td>2017-06-01 07:58:00</td>\n",
       "      <td>0.37</td>\n",
       "      <td>14200605875248379450</td>\n",
       "      <td>2017-06-01 07:31:00</td>\n",
       "      <td>2017-06-01</td>\n",
       "      <td>22</td>\n",
       "      <td>6</td>\n",
       "      <td>2017</td>\n",
       "    </tr>\n",
       "  </tbody>\n",
       "</table>\n",
       "</div>"
      ],
      "text/plain": [
       "               Buy Ts  Revenue                   Uid    first_visit_date  \\\n",
       "0 2017-06-01 00:10:00    17.00  10329302124590727494 2017-06-01 00:09:00   \n",
       "1 2017-06-01 00:25:00     0.55  11627257723692907447 2017-06-01 00:14:00   \n",
       "2 2017-06-01 00:27:00     0.37  17903680561304213844 2017-06-01 00:25:00   \n",
       "3 2017-06-01 00:29:00     0.55  16109239769442553005 2017-06-01 00:14:00   \n",
       "4 2017-06-01 07:58:00     0.37  14200605875248379450 2017-06-01 07:31:00   \n",
       "\n",
       "  purchase_date  purchases_week  purchase_month  purchase_year  \n",
       "0    2017-06-01              22               6           2017  \n",
       "1    2017-06-01              22               6           2017  \n",
       "2    2017-06-01              22               6           2017  \n",
       "3    2017-06-01              22               6           2017  \n",
       "4    2017-06-01              22               6           2017  "
      ]
     },
     "execution_count": 97,
     "metadata": {},
     "output_type": "execute_result"
    }
   ],
   "source": [
    "orders_and_visits.head()"
   ]
  },
  {
   "cell_type": "code",
   "execution_count": 98,
   "metadata": {},
   "outputs": [],
   "source": [
    "mean_purchase_by_month = orders_and_visits.groupby(['purchase_month', 'purchase_year']).agg({'Revenue': 'mean'})"
   ]
  },
  {
   "cell_type": "code",
   "execution_count": 99,
   "metadata": {},
   "outputs": [
    {
     "data": {
      "text/html": [
       "<div>\n",
       "<style scoped>\n",
       "    .dataframe tbody tr th:only-of-type {\n",
       "        vertical-align: middle;\n",
       "    }\n",
       "\n",
       "    .dataframe tbody tr th {\n",
       "        vertical-align: top;\n",
       "    }\n",
       "\n",
       "    .dataframe thead th {\n",
       "        text-align: right;\n",
       "    }\n",
       "</style>\n",
       "<table border=\"1\" class=\"dataframe\">\n",
       "  <thead>\n",
       "    <tr style=\"text-align: right;\">\n",
       "      <th></th>\n",
       "      <th></th>\n",
       "      <th>Revenue</th>\n",
       "    </tr>\n",
       "    <tr>\n",
       "      <th>purchase_month</th>\n",
       "      <th>purchase_year</th>\n",
       "      <th></th>\n",
       "    </tr>\n",
       "  </thead>\n",
       "  <tbody>\n",
       "    <tr>\n",
       "      <td>1</td>\n",
       "      <td>2018</td>\n",
       "      <td>4.112927</td>\n",
       "    </tr>\n",
       "    <tr>\n",
       "      <td>2</td>\n",
       "      <td>2018</td>\n",
       "      <td>4.840095</td>\n",
       "    </tr>\n",
       "    <tr>\n",
       "      <td>3</td>\n",
       "      <td>2018</td>\n",
       "      <td>5.413930</td>\n",
       "    </tr>\n",
       "    <tr>\n",
       "      <td>4</td>\n",
       "      <td>2018</td>\n",
       "      <td>5.150645</td>\n",
       "    </tr>\n",
       "    <tr>\n",
       "      <td>5</td>\n",
       "      <td>2018</td>\n",
       "      <td>4.771279</td>\n",
       "    </tr>\n",
       "    <tr>\n",
       "      <td>6</td>\n",
       "      <td>2017</td>\n",
       "      <td>4.060106</td>\n",
       "    </tr>\n",
       "    <tr>\n",
       "      <td>7</td>\n",
       "      <td>2017</td>\n",
       "      <td>5.306589</td>\n",
       "    </tr>\n",
       "    <tr>\n",
       "      <td>8</td>\n",
       "      <td>2017</td>\n",
       "      <td>4.847139</td>\n",
       "    </tr>\n",
       "    <tr>\n",
       "      <td>9</td>\n",
       "      <td>2017</td>\n",
       "      <td>5.416448</td>\n",
       "    </tr>\n",
       "    <tr>\n",
       "      <td>10</td>\n",
       "      <td>2017</td>\n",
       "      <td>4.928280</td>\n",
       "    </tr>\n",
       "    <tr>\n",
       "      <td>11</td>\n",
       "      <td>2017</td>\n",
       "      <td>4.783518</td>\n",
       "    </tr>\n",
       "    <tr>\n",
       "      <td>12</td>\n",
       "      <td>2017</td>\n",
       "      <td>5.852139</td>\n",
       "    </tr>\n",
       "  </tbody>\n",
       "</table>\n",
       "</div>"
      ],
      "text/plain": [
       "                               Revenue\n",
       "purchase_month purchase_year          \n",
       "1              2018           4.112927\n",
       "2              2018           4.840095\n",
       "3              2018           5.413930\n",
       "4              2018           5.150645\n",
       "5              2018           4.771279\n",
       "6              2017           4.060106\n",
       "7              2017           5.306589\n",
       "8              2017           4.847139\n",
       "9              2017           5.416448\n",
       "10             2017           4.928280\n",
       "11             2017           4.783518\n",
       "12             2017           5.852139"
      ]
     },
     "execution_count": 99,
     "metadata": {},
     "output_type": "execute_result"
    }
   ],
   "source": [
    "mean_purchase_by_month.head(12)"
   ]
  },
  {
   "cell_type": "code",
   "execution_count": 100,
   "metadata": {},
   "outputs": [],
   "source": [
    "str_mean_purchase_by_month = mean_purchase_by_month.sort_values(by='purchase_year')"
   ]
  },
  {
   "cell_type": "code",
   "execution_count": 101,
   "metadata": {},
   "outputs": [
    {
     "data": {
      "text/html": [
       "<div>\n",
       "<style scoped>\n",
       "    .dataframe tbody tr th:only-of-type {\n",
       "        vertical-align: middle;\n",
       "    }\n",
       "\n",
       "    .dataframe tbody tr th {\n",
       "        vertical-align: top;\n",
       "    }\n",
       "\n",
       "    .dataframe thead th {\n",
       "        text-align: right;\n",
       "    }\n",
       "</style>\n",
       "<table border=\"1\" class=\"dataframe\">\n",
       "  <thead>\n",
       "    <tr style=\"text-align: right;\">\n",
       "      <th></th>\n",
       "      <th></th>\n",
       "      <th>Revenue</th>\n",
       "    </tr>\n",
       "    <tr>\n",
       "      <th>purchase_month</th>\n",
       "      <th>purchase_year</th>\n",
       "      <th></th>\n",
       "    </tr>\n",
       "  </thead>\n",
       "  <tbody>\n",
       "    <tr>\n",
       "      <td>6</td>\n",
       "      <td>2017</td>\n",
       "      <td>4.060106</td>\n",
       "    </tr>\n",
       "    <tr>\n",
       "      <td>7</td>\n",
       "      <td>2017</td>\n",
       "      <td>5.306589</td>\n",
       "    </tr>\n",
       "    <tr>\n",
       "      <td>8</td>\n",
       "      <td>2017</td>\n",
       "      <td>4.847139</td>\n",
       "    </tr>\n",
       "    <tr>\n",
       "      <td>9</td>\n",
       "      <td>2017</td>\n",
       "      <td>5.416448</td>\n",
       "    </tr>\n",
       "    <tr>\n",
       "      <td>10</td>\n",
       "      <td>2017</td>\n",
       "      <td>4.928280</td>\n",
       "    </tr>\n",
       "    <tr>\n",
       "      <td>11</td>\n",
       "      <td>2017</td>\n",
       "      <td>4.783518</td>\n",
       "    </tr>\n",
       "    <tr>\n",
       "      <td>12</td>\n",
       "      <td>2017</td>\n",
       "      <td>5.852139</td>\n",
       "    </tr>\n",
       "    <tr>\n",
       "      <td>1</td>\n",
       "      <td>2018</td>\n",
       "      <td>4.112927</td>\n",
       "    </tr>\n",
       "    <tr>\n",
       "      <td>2</td>\n",
       "      <td>2018</td>\n",
       "      <td>4.840095</td>\n",
       "    </tr>\n",
       "    <tr>\n",
       "      <td>3</td>\n",
       "      <td>2018</td>\n",
       "      <td>5.413930</td>\n",
       "    </tr>\n",
       "    <tr>\n",
       "      <td>4</td>\n",
       "      <td>2018</td>\n",
       "      <td>5.150645</td>\n",
       "    </tr>\n",
       "    <tr>\n",
       "      <td>5</td>\n",
       "      <td>2018</td>\n",
       "      <td>4.771279</td>\n",
       "    </tr>\n",
       "  </tbody>\n",
       "</table>\n",
       "</div>"
      ],
      "text/plain": [
       "                               Revenue\n",
       "purchase_month purchase_year          \n",
       "6              2017           4.060106\n",
       "7              2017           5.306589\n",
       "8              2017           4.847139\n",
       "9              2017           5.416448\n",
       "10             2017           4.928280\n",
       "11             2017           4.783518\n",
       "12             2017           5.852139\n",
       "1              2018           4.112927\n",
       "2              2018           4.840095\n",
       "3              2018           5.413930\n",
       "4              2018           5.150645\n",
       "5              2018           4.771279"
      ]
     },
     "execution_count": 101,
     "metadata": {},
     "output_type": "execute_result"
    }
   ],
   "source": [
    "str_mean_purchase_by_month"
   ]
  },
  {
   "cell_type": "markdown",
   "metadata": {},
   "source": [
    "Средний чек - от 4,1 до 5,8. Самый большой средний чек - в декабре 2017."
   ]
  },
  {
   "cell_type": "markdown",
   "metadata": {},
   "source": [
    "Отразим разброс на графике"
   ]
  },
  {
   "cell_type": "code",
   "execution_count": 102,
   "metadata": {},
   "outputs": [
    {
     "data": {
      "image/png": "[encoded data removed]",
      "text/plain": [
       "<Figure size 1152x648 with 1 Axes>"
      ]
     },
     "metadata": {},
     "output_type": "display_data"
    }
   ],
   "source": [
    "ax = str_mean_purchase_by_month.plot(kind='bar', figsize=(16, 9))\n",
    "plt.title('Выручка помесячно в среднем')\n",
    "ax.set_xlabel('Месяцы')\n",
    "ax.set_ylabel('Выручка')\n",
    "plt.show()"
   ]
  },
  {
   "cell_type": "markdown",
   "metadata": {},
   "source": [
    "### Продажи: Сколько денег приносят? (LTV)<a class=\"anchor\" id=\"ltv_money\"></a>"
   ]
  },
  {
   "cell_type": "markdown",
   "metadata": {},
   "source": [
    "LTV удобно считать по когортам. Для этого нужно: найти дату первой покупки каждого покупателя; вычислить число новых покупателей за каждую дату; добавить дату первой покупки в таблицу с заказами; сгруппировать таблицу и посчитать выручку."
   ]
  },
  {
   "cell_type": "markdown",
   "metadata": {},
   "source": [
    "Удобнее всего сформировать месячные когорты. Выделим месяцы из дат в таблицах с заказами и расходами"
   ]
  },
  {
   "cell_type": "code",
   "execution_count": 103,
   "metadata": {},
   "outputs": [
    {
     "data": {
      "text/html": [
       "<div>\n",
       "<style scoped>\n",
       "    .dataframe tbody tr th:only-of-type {\n",
       "        vertical-align: middle;\n",
       "    }\n",
       "\n",
       "    .dataframe tbody tr th {\n",
       "        vertical-align: top;\n",
       "    }\n",
       "\n",
       "    .dataframe thead th {\n",
       "        text-align: right;\n",
       "    }\n",
       "</style>\n",
       "<table border=\"1\" class=\"dataframe\">\n",
       "  <thead>\n",
       "    <tr style=\"text-align: right;\">\n",
       "      <th></th>\n",
       "      <th>Buy Ts</th>\n",
       "      <th>Revenue</th>\n",
       "      <th>Uid</th>\n",
       "    </tr>\n",
       "  </thead>\n",
       "  <tbody>\n",
       "    <tr>\n",
       "      <td>0</td>\n",
       "      <td>2017-06-01 00:10:00</td>\n",
       "      <td>17.00</td>\n",
       "      <td>10329302124590727494</td>\n",
       "    </tr>\n",
       "    <tr>\n",
       "      <td>1</td>\n",
       "      <td>2017-06-01 00:25:00</td>\n",
       "      <td>0.55</td>\n",
       "      <td>11627257723692907447</td>\n",
       "    </tr>\n",
       "    <tr>\n",
       "      <td>2</td>\n",
       "      <td>2017-06-01 00:27:00</td>\n",
       "      <td>0.37</td>\n",
       "      <td>17903680561304213844</td>\n",
       "    </tr>\n",
       "    <tr>\n",
       "      <td>3</td>\n",
       "      <td>2017-06-01 00:29:00</td>\n",
       "      <td>0.55</td>\n",
       "      <td>16109239769442553005</td>\n",
       "    </tr>\n",
       "    <tr>\n",
       "      <td>4</td>\n",
       "      <td>2017-06-01 07:58:00</td>\n",
       "      <td>0.37</td>\n",
       "      <td>14200605875248379450</td>\n",
       "    </tr>\n",
       "  </tbody>\n",
       "</table>\n",
       "</div>"
      ],
      "text/plain": [
       "               Buy Ts  Revenue                   Uid\n",
       "0 2017-06-01 00:10:00    17.00  10329302124590727494\n",
       "1 2017-06-01 00:25:00     0.55  11627257723692907447\n",
       "2 2017-06-01 00:27:00     0.37  17903680561304213844\n",
       "3 2017-06-01 00:29:00     0.55  16109239769442553005\n",
       "4 2017-06-01 07:58:00     0.37  14200605875248379450"
      ]
     },
     "execution_count": 103,
     "metadata": {},
     "output_type": "execute_result"
    }
   ],
   "source": [
    "orders.head()"
   ]
  },
  {
   "cell_type": "code",
   "execution_count": 104,
   "metadata": {},
   "outputs": [],
   "source": [
    "orders['order_month'] = orders['Buy Ts'].astype('datetime64[M]')"
   ]
  },
  {
   "cell_type": "markdown",
   "metadata": {},
   "source": [
    "Получим месяц первой покупки каждого покупателя"
   ]
  },
  {
   "cell_type": "code",
   "execution_count": 105,
   "metadata": {},
   "outputs": [],
   "source": [
    "first_orders = orders.groupby('Uid').agg({'order_month': 'min'}).reset_index()"
   ]
  },
  {
   "cell_type": "code",
   "execution_count": 106,
   "metadata": {},
   "outputs": [],
   "source": [
    "first_orders.columns = ['Uid', 'first_order_month']"
   ]
  },
  {
   "cell_type": "code",
   "execution_count": 107,
   "metadata": {},
   "outputs": [
    {
     "data": {
      "text/html": [
       "<div>\n",
       "<style scoped>\n",
       "    .dataframe tbody tr th:only-of-type {\n",
       "        vertical-align: middle;\n",
       "    }\n",
       "\n",
       "    .dataframe tbody tr th {\n",
       "        vertical-align: top;\n",
       "    }\n",
       "\n",
       "    .dataframe thead th {\n",
       "        text-align: right;\n",
       "    }\n",
       "</style>\n",
       "<table border=\"1\" class=\"dataframe\">\n",
       "  <thead>\n",
       "    <tr style=\"text-align: right;\">\n",
       "      <th></th>\n",
       "      <th>Uid</th>\n",
       "      <th>first_order_month</th>\n",
       "    </tr>\n",
       "  </thead>\n",
       "  <tbody>\n",
       "    <tr>\n",
       "      <td>0</td>\n",
       "      <td>313578113262317</td>\n",
       "      <td>2018-01-01</td>\n",
       "    </tr>\n",
       "    <tr>\n",
       "      <td>1</td>\n",
       "      <td>1575281904278712</td>\n",
       "      <td>2017-06-01</td>\n",
       "    </tr>\n",
       "    <tr>\n",
       "      <td>2</td>\n",
       "      <td>2429014661409475</td>\n",
       "      <td>2017-10-01</td>\n",
       "    </tr>\n",
       "    <tr>\n",
       "      <td>3</td>\n",
       "      <td>2464366381792757</td>\n",
       "      <td>2018-01-01</td>\n",
       "    </tr>\n",
       "    <tr>\n",
       "      <td>4</td>\n",
       "      <td>2551852515556206</td>\n",
       "      <td>2017-11-01</td>\n",
       "    </tr>\n",
       "  </tbody>\n",
       "</table>\n",
       "</div>"
      ],
      "text/plain": [
       "                Uid first_order_month\n",
       "0   313578113262317        2018-01-01\n",
       "1  1575281904278712        2017-06-01\n",
       "2  2429014661409475        2017-10-01\n",
       "3  2464366381792757        2018-01-01\n",
       "4  2551852515556206        2017-11-01"
      ]
     },
     "execution_count": 107,
     "metadata": {},
     "output_type": "execute_result"
    }
   ],
   "source": [
    "first_orders.head()"
   ]
  },
  {
   "cell_type": "markdown",
   "metadata": {},
   "source": [
    "Посчитаем количество новых покупателей (n_buyers) за каждый месяц"
   ]
  },
  {
   "cell_type": "code",
   "execution_count": 108,
   "metadata": {},
   "outputs": [],
   "source": [
    "cohort_sizes = (first_orders.groupby('first_order_month').agg({'Uid': 'nunique'}).reset_index())"
   ]
  },
  {
   "cell_type": "code",
   "execution_count": 109,
   "metadata": {},
   "outputs": [],
   "source": [
    "cohort_sizes.columns = ['first_order_month', 'n_buyers']"
   ]
  },
  {
   "cell_type": "code",
   "execution_count": 110,
   "metadata": {},
   "outputs": [
    {
     "name": "stdout",
     "output_type": "stream",
     "text": [
      "  first_order_month  n_buyers\n",
      "0        2017-06-01      2023\n",
      "1        2017-07-01      1923\n",
      "2        2017-08-01      1370\n",
      "3        2017-09-01      2581\n",
      "4        2017-10-01      4340\n"
     ]
    }
   ],
   "source": [
    "print(cohort_sizes.head())"
   ]
  },
  {
   "cell_type": "markdown",
   "metadata": {},
   "source": [
    "Построим когорты. Добавим месяц первой покупки каждого покупателя в таблицу с заказами"
   ]
  },
  {
   "cell_type": "code",
   "execution_count": 111,
   "metadata": {},
   "outputs": [],
   "source": [
    "orders_new = pd.merge(orders,first_orders, on='Uid')"
   ]
  },
  {
   "cell_type": "code",
   "execution_count": 112,
   "metadata": {},
   "outputs": [
    {
     "name": "stdout",
     "output_type": "stream",
     "text": [
      "               Buy Ts  Revenue                   Uid order_month  \\\n",
      "0 2017-06-01 00:10:00    17.00  10329302124590727494  2017-06-01   \n",
      "1 2017-06-01 00:25:00     0.55  11627257723692907447  2017-06-01   \n",
      "2 2017-06-01 00:27:00     0.37  17903680561304213844  2017-06-01   \n",
      "3 2017-06-01 00:29:00     0.55  16109239769442553005  2017-06-01   \n",
      "4 2017-06-01 07:58:00     0.37  14200605875248379450  2017-06-01   \n",
      "\n",
      "  first_order_month  \n",
      "0        2017-06-01  \n",
      "1        2017-06-01  \n",
      "2        2017-06-01  \n",
      "3        2017-06-01  \n",
      "4        2017-06-01  \n"
     ]
    }
   ],
   "source": [
    "print(orders_new.head()) "
   ]
  },
  {
   "cell_type": "markdown",
   "metadata": {},
   "source": [
    "Сгруппируем таблицу заказов по месяцу первой покупки и месяцу каждого заказа и сложим выручку. Сбросим индекс методом reset_index()"
   ]
  },
  {
   "cell_type": "code",
   "execution_count": 113,
   "metadata": {},
   "outputs": [],
   "source": [
    "cohorts = (orders_new.groupby(['first_order_month', 'order_month']).agg({'Revenue': 'sum'}).reset_index())"
   ]
  },
  {
   "cell_type": "code",
   "execution_count": 114,
   "metadata": {},
   "outputs": [
    {
     "name": "stdout",
     "output_type": "stream",
     "text": [
      "  first_order_month order_month  Revenue\n",
      "0        2017-06-01  2017-06-01  9557.49\n",
      "1        2017-06-01  2017-07-01   981.82\n",
      "2        2017-06-01  2017-08-01   885.34\n",
      "3        2017-06-01  2017-09-01  1931.30\n",
      "4        2017-06-01  2017-10-01  2068.58\n"
     ]
    }
   ],
   "source": [
    "print(cohorts.head()) "
   ]
  },
  {
   "cell_type": "markdown",
   "metadata": {},
   "source": [
    "Видим построчно, сколько выручки суммарно принесла каждая когорта"
   ]
  },
  {
   "cell_type": "code",
   "execution_count": 115,
   "metadata": {},
   "outputs": [],
   "source": [
    "report_new = pd.merge(cohort_sizes, cohorts, on='first_order_month')"
   ]
  },
  {
   "cell_type": "code",
   "execution_count": 116,
   "metadata": {},
   "outputs": [
    {
     "data": {
      "text/html": [
       "<div>\n",
       "<style scoped>\n",
       "    .dataframe tbody tr th:only-of-type {\n",
       "        vertical-align: middle;\n",
       "    }\n",
       "\n",
       "    .dataframe tbody tr th {\n",
       "        vertical-align: top;\n",
       "    }\n",
       "\n",
       "    .dataframe thead th {\n",
       "        text-align: right;\n",
       "    }\n",
       "</style>\n",
       "<table border=\"1\" class=\"dataframe\">\n",
       "  <thead>\n",
       "    <tr style=\"text-align: right;\">\n",
       "      <th></th>\n",
       "      <th>first_order_month</th>\n",
       "      <th>n_buyers</th>\n",
       "      <th>order_month</th>\n",
       "      <th>Revenue</th>\n",
       "    </tr>\n",
       "  </thead>\n",
       "  <tbody>\n",
       "    <tr>\n",
       "      <td>0</td>\n",
       "      <td>2017-06-01</td>\n",
       "      <td>2023</td>\n",
       "      <td>2017-06-01</td>\n",
       "      <td>9557.49</td>\n",
       "    </tr>\n",
       "    <tr>\n",
       "      <td>1</td>\n",
       "      <td>2017-06-01</td>\n",
       "      <td>2023</td>\n",
       "      <td>2017-07-01</td>\n",
       "      <td>981.82</td>\n",
       "    </tr>\n",
       "    <tr>\n",
       "      <td>2</td>\n",
       "      <td>2017-06-01</td>\n",
       "      <td>2023</td>\n",
       "      <td>2017-08-01</td>\n",
       "      <td>885.34</td>\n",
       "    </tr>\n",
       "    <tr>\n",
       "      <td>3</td>\n",
       "      <td>2017-06-01</td>\n",
       "      <td>2023</td>\n",
       "      <td>2017-09-01</td>\n",
       "      <td>1931.30</td>\n",
       "    </tr>\n",
       "    <tr>\n",
       "      <td>4</td>\n",
       "      <td>2017-06-01</td>\n",
       "      <td>2023</td>\n",
       "      <td>2017-10-01</td>\n",
       "      <td>2068.58</td>\n",
       "    </tr>\n",
       "    <tr>\n",
       "      <td>...</td>\n",
       "      <td>...</td>\n",
       "      <td>...</td>\n",
       "      <td>...</td>\n",
       "      <td>...</td>\n",
       "    </tr>\n",
       "    <tr>\n",
       "      <td>74</td>\n",
       "      <td>2018-03-01</td>\n",
       "      <td>3533</td>\n",
       "      <td>2018-05-01</td>\n",
       "      <td>1114.87</td>\n",
       "    </tr>\n",
       "    <tr>\n",
       "      <td>75</td>\n",
       "      <td>2018-04-01</td>\n",
       "      <td>2276</td>\n",
       "      <td>2018-04-01</td>\n",
       "      <td>10600.69</td>\n",
       "    </tr>\n",
       "    <tr>\n",
       "      <td>76</td>\n",
       "      <td>2018-04-01</td>\n",
       "      <td>2276</td>\n",
       "      <td>2018-05-01</td>\n",
       "      <td>1209.92</td>\n",
       "    </tr>\n",
       "    <tr>\n",
       "      <td>77</td>\n",
       "      <td>2018-05-01</td>\n",
       "      <td>2988</td>\n",
       "      <td>2018-05-01</td>\n",
       "      <td>13925.76</td>\n",
       "    </tr>\n",
       "    <tr>\n",
       "      <td>78</td>\n",
       "      <td>2018-06-01</td>\n",
       "      <td>1</td>\n",
       "      <td>2018-06-01</td>\n",
       "      <td>3.42</td>\n",
       "    </tr>\n",
       "  </tbody>\n",
       "</table>\n",
       "<p>79 rows × 4 columns</p>\n",
       "</div>"
      ],
      "text/plain": [
       "   first_order_month  n_buyers order_month   Revenue\n",
       "0         2017-06-01      2023  2017-06-01   9557.49\n",
       "1         2017-06-01      2023  2017-07-01    981.82\n",
       "2         2017-06-01      2023  2017-08-01    885.34\n",
       "3         2017-06-01      2023  2017-09-01   1931.30\n",
       "4         2017-06-01      2023  2017-10-01   2068.58\n",
       "..               ...       ...         ...       ...\n",
       "74        2018-03-01      3533  2018-05-01   1114.87\n",
       "75        2018-04-01      2276  2018-04-01  10600.69\n",
       "76        2018-04-01      2276  2018-05-01   1209.92\n",
       "77        2018-05-01      2988  2018-05-01  13925.76\n",
       "78        2018-06-01         1  2018-06-01      3.42\n",
       "\n",
       "[79 rows x 4 columns]"
      ]
     },
     "execution_count": 116,
     "metadata": {},
     "output_type": "execute_result"
    }
   ],
   "source": [
    "report_new"
   ]
  },
  {
   "cell_type": "markdown",
   "metadata": {},
   "source": [
    "С точки зрения когортного анализа LTV — накопительная выручка когорты в пересчёте на количество людей. Добавим в таблицу cohorts данные о том, сколько людей первый раз совершили покупку в каждый месяц"
   ]
  },
  {
   "cell_type": "code",
   "execution_count": 117,
   "metadata": {},
   "outputs": [
    {
     "name": "stdout",
     "output_type": "stream",
     "text": [
      "  first_order_month  n_buyers order_month  Revenue\n",
      "0        2017-06-01      2023  2017-06-01  9557.49\n",
      "1        2017-06-01      2023  2017-07-01   981.82\n",
      "2        2017-06-01      2023  2017-08-01   885.34\n",
      "3        2017-06-01      2023  2017-09-01  1931.30\n",
      "4        2017-06-01      2023  2017-10-01  2068.58\n"
     ]
    }
   ],
   "source": [
    "print(report_new.head()) "
   ]
  },
  {
   "cell_type": "markdown",
   "metadata": {},
   "source": [
    "Вычислим возраст когорт"
   ]
  },
  {
   "cell_type": "code",
   "execution_count": 118,
   "metadata": {},
   "outputs": [],
   "source": [
    "report_new['age'] = (\n",
    "    (report_new['order_month'] - report_new['first_order_month']) / np.timedelta64(1, 'M')\n",
    ").round().astype('int')"
   ]
  },
  {
   "cell_type": "code",
   "execution_count": 119,
   "metadata": {},
   "outputs": [
    {
     "name": "stdout",
     "output_type": "stream",
     "text": [
      "  first_order_month  n_buyers order_month  Revenue  age\n",
      "0        2017-06-01      2023  2017-06-01  9557.49    0\n",
      "1        2017-06-01      2023  2017-07-01   981.82    1\n",
      "2        2017-06-01      2023  2017-08-01   885.34    2\n",
      "3        2017-06-01      2023  2017-09-01  1931.30    3\n",
      "4        2017-06-01      2023  2017-10-01  2068.58    4\n"
     ]
    }
   ],
   "source": [
    "print(report_new.head()) "
   ]
  },
  {
   "cell_type": "code",
   "execution_count": 120,
   "metadata": {},
   "outputs": [],
   "source": [
    "report_new['ltv'] = report_new.Revenue / report_new.n_buyers"
   ]
  },
  {
   "cell_type": "code",
   "execution_count": 121,
   "metadata": {},
   "outputs": [
    {
     "data": {
      "text/html": [
       "<div>\n",
       "<style scoped>\n",
       "    .dataframe tbody tr th:only-of-type {\n",
       "        vertical-align: middle;\n",
       "    }\n",
       "\n",
       "    .dataframe tbody tr th {\n",
       "        vertical-align: top;\n",
       "    }\n",
       "\n",
       "    .dataframe thead th {\n",
       "        text-align: right;\n",
       "    }\n",
       "</style>\n",
       "<table border=\"1\" class=\"dataframe\">\n",
       "  <thead>\n",
       "    <tr style=\"text-align: right;\">\n",
       "      <th></th>\n",
       "      <th>first_order_month</th>\n",
       "      <th>n_buyers</th>\n",
       "      <th>order_month</th>\n",
       "      <th>Revenue</th>\n",
       "      <th>age</th>\n",
       "      <th>ltv</th>\n",
       "    </tr>\n",
       "  </thead>\n",
       "  <tbody>\n",
       "    <tr>\n",
       "      <td>0</td>\n",
       "      <td>2017-06-01</td>\n",
       "      <td>2023</td>\n",
       "      <td>2017-06-01</td>\n",
       "      <td>9557.49</td>\n",
       "      <td>0</td>\n",
       "      <td>4.724414</td>\n",
       "    </tr>\n",
       "    <tr>\n",
       "      <td>1</td>\n",
       "      <td>2017-06-01</td>\n",
       "      <td>2023</td>\n",
       "      <td>2017-07-01</td>\n",
       "      <td>981.82</td>\n",
       "      <td>1</td>\n",
       "      <td>0.485329</td>\n",
       "    </tr>\n",
       "    <tr>\n",
       "      <td>2</td>\n",
       "      <td>2017-06-01</td>\n",
       "      <td>2023</td>\n",
       "      <td>2017-08-01</td>\n",
       "      <td>885.34</td>\n",
       "      <td>2</td>\n",
       "      <td>0.437637</td>\n",
       "    </tr>\n",
       "    <tr>\n",
       "      <td>3</td>\n",
       "      <td>2017-06-01</td>\n",
       "      <td>2023</td>\n",
       "      <td>2017-09-01</td>\n",
       "      <td>1931.30</td>\n",
       "      <td>3</td>\n",
       "      <td>0.954671</td>\n",
       "    </tr>\n",
       "    <tr>\n",
       "      <td>4</td>\n",
       "      <td>2017-06-01</td>\n",
       "      <td>2023</td>\n",
       "      <td>2017-10-01</td>\n",
       "      <td>2068.58</td>\n",
       "      <td>4</td>\n",
       "      <td>1.022531</td>\n",
       "    </tr>\n",
       "    <tr>\n",
       "      <td>...</td>\n",
       "      <td>...</td>\n",
       "      <td>...</td>\n",
       "      <td>...</td>\n",
       "      <td>...</td>\n",
       "      <td>...</td>\n",
       "      <td>...</td>\n",
       "    </tr>\n",
       "    <tr>\n",
       "      <td>74</td>\n",
       "      <td>2018-03-01</td>\n",
       "      <td>3533</td>\n",
       "      <td>2018-05-01</td>\n",
       "      <td>1114.87</td>\n",
       "      <td>2</td>\n",
       "      <td>0.315559</td>\n",
       "    </tr>\n",
       "    <tr>\n",
       "      <td>75</td>\n",
       "      <td>2018-04-01</td>\n",
       "      <td>2276</td>\n",
       "      <td>2018-04-01</td>\n",
       "      <td>10600.69</td>\n",
       "      <td>0</td>\n",
       "      <td>4.657597</td>\n",
       "    </tr>\n",
       "    <tr>\n",
       "      <td>76</td>\n",
       "      <td>2018-04-01</td>\n",
       "      <td>2276</td>\n",
       "      <td>2018-05-01</td>\n",
       "      <td>1209.92</td>\n",
       "      <td>1</td>\n",
       "      <td>0.531599</td>\n",
       "    </tr>\n",
       "    <tr>\n",
       "      <td>77</td>\n",
       "      <td>2018-05-01</td>\n",
       "      <td>2988</td>\n",
       "      <td>2018-05-01</td>\n",
       "      <td>13925.76</td>\n",
       "      <td>0</td>\n",
       "      <td>4.660562</td>\n",
       "    </tr>\n",
       "    <tr>\n",
       "      <td>78</td>\n",
       "      <td>2018-06-01</td>\n",
       "      <td>1</td>\n",
       "      <td>2018-06-01</td>\n",
       "      <td>3.42</td>\n",
       "      <td>0</td>\n",
       "      <td>3.420000</td>\n",
       "    </tr>\n",
       "  </tbody>\n",
       "</table>\n",
       "<p>79 rows × 6 columns</p>\n",
       "</div>"
      ],
      "text/plain": [
       "   first_order_month  n_buyers order_month   Revenue  age       ltv\n",
       "0         2017-06-01      2023  2017-06-01   9557.49    0  4.724414\n",
       "1         2017-06-01      2023  2017-07-01    981.82    1  0.485329\n",
       "2         2017-06-01      2023  2017-08-01    885.34    2  0.437637\n",
       "3         2017-06-01      2023  2017-09-01   1931.30    3  0.954671\n",
       "4         2017-06-01      2023  2017-10-01   2068.58    4  1.022531\n",
       "..               ...       ...         ...       ...  ...       ...\n",
       "74        2018-03-01      3533  2018-05-01   1114.87    2  0.315559\n",
       "75        2018-04-01      2276  2018-04-01  10600.69    0  4.657597\n",
       "76        2018-04-01      2276  2018-05-01   1209.92    1  0.531599\n",
       "77        2018-05-01      2988  2018-05-01  13925.76    0  4.660562\n",
       "78        2018-06-01         1  2018-06-01      3.42    0  3.420000\n",
       "\n",
       "[79 rows x 6 columns]"
      ]
     },
     "execution_count": 121,
     "metadata": {},
     "output_type": "execute_result"
    }
   ],
   "source": [
    "report_new"
   ]
  },
  {
   "cell_type": "markdown",
   "metadata": {},
   "source": [
    "Построим сводную таблицу LTV"
   ]
  },
  {
   "cell_type": "code",
   "execution_count": 122,
   "metadata": {},
   "outputs": [
    {
     "data": {
      "text/html": [
       "<div>\n",
       "<style scoped>\n",
       "    .dataframe tbody tr th:only-of-type {\n",
       "        vertical-align: middle;\n",
       "    }\n",
       "\n",
       "    .dataframe tbody tr th {\n",
       "        vertical-align: top;\n",
       "    }\n",
       "\n",
       "    .dataframe thead th {\n",
       "        text-align: right;\n",
       "    }\n",
       "</style>\n",
       "<table border=\"1\" class=\"dataframe\">\n",
       "  <thead>\n",
       "    <tr style=\"text-align: right;\">\n",
       "      <th>age</th>\n",
       "      <th>0</th>\n",
       "      <th>1</th>\n",
       "      <th>2</th>\n",
       "      <th>3</th>\n",
       "      <th>4</th>\n",
       "      <th>5</th>\n",
       "      <th>6</th>\n",
       "      <th>7</th>\n",
       "      <th>8</th>\n",
       "      <th>9</th>\n",
       "      <th>10</th>\n",
       "      <th>11</th>\n",
       "    </tr>\n",
       "    <tr>\n",
       "      <th>first_order_month</th>\n",
       "      <th></th>\n",
       "      <th></th>\n",
       "      <th></th>\n",
       "      <th></th>\n",
       "      <th></th>\n",
       "      <th></th>\n",
       "      <th></th>\n",
       "      <th></th>\n",
       "      <th></th>\n",
       "      <th></th>\n",
       "      <th></th>\n",
       "      <th></th>\n",
       "    </tr>\n",
       "  </thead>\n",
       "  <tbody>\n",
       "    <tr>\n",
       "      <td>2017-06-01</td>\n",
       "      <td>4.724414</td>\n",
       "      <td>5.20974</td>\n",
       "      <td>5.64738</td>\n",
       "      <td>6.60205</td>\n",
       "      <td>7.62458</td>\n",
       "      <td>8.36008</td>\n",
       "      <td>9.31052</td>\n",
       "      <td>9.89212</td>\n",
       "      <td>10.4453</td>\n",
       "      <td>11.0511</td>\n",
       "      <td>11.6224</td>\n",
       "      <td>11.8792</td>\n",
       "    </tr>\n",
       "    <tr>\n",
       "      <td>2017-07-01</td>\n",
       "      <td>6.010218</td>\n",
       "      <td>6.34543</td>\n",
       "      <td>6.96896</td>\n",
       "      <td>7.32794</td>\n",
       "      <td>7.50473</td>\n",
       "      <td>7.66077</td>\n",
       "      <td>7.78098</td>\n",
       "      <td>7.9228</td>\n",
       "      <td>8.08404</td>\n",
       "      <td>8.23118</td>\n",
       "      <td>8.38685</td>\n",
       "      <td></td>\n",
       "    </tr>\n",
       "    <tr>\n",
       "      <td>2017-08-01</td>\n",
       "      <td>5.276518</td>\n",
       "      <td>5.74851</td>\n",
       "      <td>6.20699</td>\n",
       "      <td>6.59827</td>\n",
       "      <td>7.09232</td>\n",
       "      <td>7.37586</td>\n",
       "      <td>7.58653</td>\n",
       "      <td>7.99153</td>\n",
       "      <td>8.28374</td>\n",
       "      <td>8.47172</td>\n",
       "      <td></td>\n",
       "      <td></td>\n",
       "    </tr>\n",
       "    <tr>\n",
       "      <td>2017-09-01</td>\n",
       "      <td>5.644529</td>\n",
       "      <td>6.76212</td>\n",
       "      <td>7.28305</td>\n",
       "      <td>11.2588</td>\n",
       "      <td>11.6594</td>\n",
       "      <td>12.3065</td>\n",
       "      <td>13.0081</td>\n",
       "      <td>13.2512</td>\n",
       "      <td>13.4352</td>\n",
       "      <td></td>\n",
       "      <td></td>\n",
       "      <td></td>\n",
       "    </tr>\n",
       "    <tr>\n",
       "      <td>2017-10-01</td>\n",
       "      <td>5.003733</td>\n",
       "      <td>5.5395</td>\n",
       "      <td>5.73089</td>\n",
       "      <td>5.88803</td>\n",
       "      <td>6.03959</td>\n",
       "      <td>6.15996</td>\n",
       "      <td>6.24477</td>\n",
       "      <td>6.36024</td>\n",
       "      <td></td>\n",
       "      <td></td>\n",
       "      <td></td>\n",
       "      <td></td>\n",
       "    </tr>\n",
       "    <tr>\n",
       "      <td>2017-11-01</td>\n",
       "      <td>5.154683</td>\n",
       "      <td>5.55392</td>\n",
       "      <td>5.75347</td>\n",
       "      <td>6.07842</td>\n",
       "      <td>6.22644</td>\n",
       "      <td>6.28032</td>\n",
       "      <td>6.39524</td>\n",
       "      <td></td>\n",
       "      <td></td>\n",
       "      <td></td>\n",
       "      <td></td>\n",
       "      <td></td>\n",
       "    </tr>\n",
       "    <tr>\n",
       "      <td>2017-12-01</td>\n",
       "      <td>4.738191</td>\n",
       "      <td>4.99856</td>\n",
       "      <td>5.92366</td>\n",
       "      <td>6.98894</td>\n",
       "      <td>7.30187</td>\n",
       "      <td>7.63991</td>\n",
       "      <td></td>\n",
       "      <td></td>\n",
       "      <td></td>\n",
       "      <td></td>\n",
       "      <td></td>\n",
       "      <td></td>\n",
       "    </tr>\n",
       "    <tr>\n",
       "      <td>2018-01-01</td>\n",
       "      <td>4.135636</td>\n",
       "      <td>4.43039</td>\n",
       "      <td>4.73468</td>\n",
       "      <td>4.87745</td>\n",
       "      <td>4.94015</td>\n",
       "      <td></td>\n",
       "      <td></td>\n",
       "      <td></td>\n",
       "      <td></td>\n",
       "      <td></td>\n",
       "      <td></td>\n",
       "      <td></td>\n",
       "    </tr>\n",
       "    <tr>\n",
       "      <td>2018-02-01</td>\n",
       "      <td>4.156987</td>\n",
       "      <td>4.43526</td>\n",
       "      <td>4.51378</td>\n",
       "      <td>4.58792</td>\n",
       "      <td></td>\n",
       "      <td></td>\n",
       "      <td></td>\n",
       "      <td></td>\n",
       "      <td></td>\n",
       "      <td></td>\n",
       "      <td></td>\n",
       "      <td></td>\n",
       "    </tr>\n",
       "    <tr>\n",
       "      <td>2018-03-01</td>\n",
       "      <td>4.838803</td>\n",
       "      <td>5.13969</td>\n",
       "      <td>5.45525</td>\n",
       "      <td></td>\n",
       "      <td></td>\n",
       "      <td></td>\n",
       "      <td></td>\n",
       "      <td></td>\n",
       "      <td></td>\n",
       "      <td></td>\n",
       "      <td></td>\n",
       "      <td></td>\n",
       "    </tr>\n",
       "    <tr>\n",
       "      <td>2018-04-01</td>\n",
       "      <td>4.657597</td>\n",
       "      <td>5.1892</td>\n",
       "      <td></td>\n",
       "      <td></td>\n",
       "      <td></td>\n",
       "      <td></td>\n",
       "      <td></td>\n",
       "      <td></td>\n",
       "      <td></td>\n",
       "      <td></td>\n",
       "      <td></td>\n",
       "      <td></td>\n",
       "    </tr>\n",
       "    <tr>\n",
       "      <td>2018-05-01</td>\n",
       "      <td>4.660562</td>\n",
       "      <td></td>\n",
       "      <td></td>\n",
       "      <td></td>\n",
       "      <td></td>\n",
       "      <td></td>\n",
       "      <td></td>\n",
       "      <td></td>\n",
       "      <td></td>\n",
       "      <td></td>\n",
       "      <td></td>\n",
       "      <td></td>\n",
       "    </tr>\n",
       "    <tr>\n",
       "      <td>2018-06-01</td>\n",
       "      <td>3.420000</td>\n",
       "      <td></td>\n",
       "      <td></td>\n",
       "      <td></td>\n",
       "      <td></td>\n",
       "      <td></td>\n",
       "      <td></td>\n",
       "      <td></td>\n",
       "      <td></td>\n",
       "      <td></td>\n",
       "      <td></td>\n",
       "      <td></td>\n",
       "    </tr>\n",
       "  </tbody>\n",
       "</table>\n",
       "</div>"
      ],
      "text/plain": [
       "age                      0        1        2        3        4        5   \\\n",
       "first_order_month                                                          \n",
       "2017-06-01         4.724414  5.20974  5.64738  6.60205  7.62458  8.36008   \n",
       "2017-07-01         6.010218  6.34543  6.96896  7.32794  7.50473  7.66077   \n",
       "2017-08-01         5.276518  5.74851  6.20699  6.59827  7.09232  7.37586   \n",
       "2017-09-01         5.644529  6.76212  7.28305  11.2588  11.6594  12.3065   \n",
       "2017-10-01         5.003733   5.5395  5.73089  5.88803  6.03959  6.15996   \n",
       "2017-11-01         5.154683  5.55392  5.75347  6.07842  6.22644  6.28032   \n",
       "2017-12-01         4.738191  4.99856  5.92366  6.98894  7.30187  7.63991   \n",
       "2018-01-01         4.135636  4.43039  4.73468  4.87745  4.94015            \n",
       "2018-02-01         4.156987  4.43526  4.51378  4.58792                     \n",
       "2018-03-01         4.838803  5.13969  5.45525                              \n",
       "2018-04-01         4.657597   5.1892                                       \n",
       "2018-05-01         4.660562                                                \n",
       "2018-06-01         3.420000                                                \n",
       "\n",
       "age                     6        7        8        9        10       11  \n",
       "first_order_month                                                        \n",
       "2017-06-01         9.31052  9.89212  10.4453  11.0511  11.6224  11.8792  \n",
       "2017-07-01         7.78098   7.9228  8.08404  8.23118  8.38685           \n",
       "2017-08-01         7.58653  7.99153  8.28374  8.47172                    \n",
       "2017-09-01         13.0081  13.2512  13.4352                             \n",
       "2017-10-01         6.24477  6.36024                                      \n",
       "2017-11-01         6.39524                                               \n",
       "2017-12-01                                                               \n",
       "2018-01-01                                                               \n",
       "2018-02-01                                                               \n",
       "2018-03-01                                                               \n",
       "2018-04-01                                                               \n",
       "2018-05-01                                                               \n",
       "2018-06-01                                                               "
      ]
     },
     "execution_count": 122,
     "metadata": {},
     "output_type": "execute_result"
    }
   ],
   "source": [
    "ltv = report_new.pivot_table(\n",
    "    index='first_order_month', \n",
    "    columns='age', \n",
    "    values='ltv', \n",
    "    aggfunc='sum'\n",
    ").cumsum(axis=1)\n",
    "\n",
    "ltv.fillna('') "
   ]
  },
  {
   "cell_type": "code",
   "execution_count": 123,
   "metadata": {},
   "outputs": [
    {
     "data": {
      "image/png": "[encoded data removed]",
      "text/plain": [
       "<Figure size 1152x648 with 2 Axes>"
      ]
     },
     "metadata": {},
     "output_type": "display_data"
    }
   ],
   "source": [
    "sns.set(style='white')\n",
    "plt.figure(figsize=(16, 9))\n",
    "plt.title('Тепловая карта LTV')\n",
    "sns.heatmap(ltv, annot=True, fmt ='.3g', linewidths=1, linecolor='gray'); "
   ]
  },
  {
   "cell_type": "markdown",
   "metadata": {},
   "source": [
    "Интересно, что сентябрьская когорта к 4-му месяцу \"жизни\" начала приносить в 2 раза больше доходов, чем в свои первые месяцы \"жизни\" и также вдвое больше чем \"ранние\" когорты, например, июньская когорта увеличила доход только к 7-му месяцу \"жизни\" "
   ]
  },
  {
   "cell_type": "markdown",
   "metadata": {},
   "source": [
    "Рассчитаем средний LTV по когортам за 6 месяцев"
   ]
  },
  {
   "cell_type": "code",
   "execution_count": 124,
   "metadata": {},
   "outputs": [
    {
     "data": {
      "text/plain": [
       "7.969052630207336"
      ]
     },
     "execution_count": 124,
     "metadata": {},
     "output_type": "execute_result"
    }
   ],
   "source": [
    "ltv[5].mean()"
   ]
  },
  {
   "cell_type": "markdown",
   "metadata": {},
   "source": [
    "средний LTV по когортам за 6 месяцев - 7.969 у.е."
   ]
  },
  {
   "cell_type": "markdown",
   "metadata": {},
   "source": [
    "### Маркетинговые метрики<a class=\"anchor\" id=\"market_metrics\"></a>"
   ]
  },
  {
   "cell_type": "markdown",
   "metadata": {},
   "source": [
    "### Маркетинг: Сколько денег потратили? Всего / на каждый источник / по времени<a class=\"anchor\" id=\"resource\"></a>"
   ]
  },
  {
   "cell_type": "markdown",
   "metadata": {},
   "source": [
    "Найдем сначала из датафрейма costs общую сумму расходов "
   ]
  },
  {
   "cell_type": "code",
   "execution_count": 125,
   "metadata": {},
   "outputs": [
    {
     "data": {
      "text/plain": [
       "329131.62"
      ]
     },
     "execution_count": 125,
     "metadata": {},
     "output_type": "execute_result"
    }
   ],
   "source": [
    "costs['costs'].sum()"
   ]
  },
  {
   "cell_type": "code",
   "execution_count": 126,
   "metadata": {},
   "outputs": [
    {
     "data": {
      "text/html": [
       "<div>\n",
       "<style scoped>\n",
       "    .dataframe tbody tr th:only-of-type {\n",
       "        vertical-align: middle;\n",
       "    }\n",
       "\n",
       "    .dataframe tbody tr th {\n",
       "        vertical-align: top;\n",
       "    }\n",
       "\n",
       "    .dataframe thead th {\n",
       "        text-align: right;\n",
       "    }\n",
       "</style>\n",
       "<table border=\"1\" class=\"dataframe\">\n",
       "  <thead>\n",
       "    <tr style=\"text-align: right;\">\n",
       "      <th></th>\n",
       "      <th>source_id</th>\n",
       "      <th>dt</th>\n",
       "      <th>costs</th>\n",
       "    </tr>\n",
       "  </thead>\n",
       "  <tbody>\n",
       "    <tr>\n",
       "      <td>0</td>\n",
       "      <td>1</td>\n",
       "      <td>2017-06-01</td>\n",
       "      <td>75.20</td>\n",
       "    </tr>\n",
       "    <tr>\n",
       "      <td>1</td>\n",
       "      <td>1</td>\n",
       "      <td>2017-06-02</td>\n",
       "      <td>62.25</td>\n",
       "    </tr>\n",
       "    <tr>\n",
       "      <td>2</td>\n",
       "      <td>1</td>\n",
       "      <td>2017-06-03</td>\n",
       "      <td>36.53</td>\n",
       "    </tr>\n",
       "    <tr>\n",
       "      <td>3</td>\n",
       "      <td>1</td>\n",
       "      <td>2017-06-04</td>\n",
       "      <td>55.00</td>\n",
       "    </tr>\n",
       "    <tr>\n",
       "      <td>4</td>\n",
       "      <td>1</td>\n",
       "      <td>2017-06-05</td>\n",
       "      <td>57.08</td>\n",
       "    </tr>\n",
       "    <tr>\n",
       "      <td>...</td>\n",
       "      <td>...</td>\n",
       "      <td>...</td>\n",
       "      <td>...</td>\n",
       "    </tr>\n",
       "    <tr>\n",
       "      <td>2537</td>\n",
       "      <td>10</td>\n",
       "      <td>2018-05-27</td>\n",
       "      <td>9.92</td>\n",
       "    </tr>\n",
       "    <tr>\n",
       "      <td>2538</td>\n",
       "      <td>10</td>\n",
       "      <td>2018-05-28</td>\n",
       "      <td>21.26</td>\n",
       "    </tr>\n",
       "    <tr>\n",
       "      <td>2539</td>\n",
       "      <td>10</td>\n",
       "      <td>2018-05-29</td>\n",
       "      <td>11.32</td>\n",
       "    </tr>\n",
       "    <tr>\n",
       "      <td>2540</td>\n",
       "      <td>10</td>\n",
       "      <td>2018-05-30</td>\n",
       "      <td>33.15</td>\n",
       "    </tr>\n",
       "    <tr>\n",
       "      <td>2541</td>\n",
       "      <td>10</td>\n",
       "      <td>2018-05-31</td>\n",
       "      <td>17.60</td>\n",
       "    </tr>\n",
       "  </tbody>\n",
       "</table>\n",
       "<p>2542 rows × 3 columns</p>\n",
       "</div>"
      ],
      "text/plain": [
       "      source_id         dt  costs\n",
       "0             1 2017-06-01  75.20\n",
       "1             1 2017-06-02  62.25\n",
       "2             1 2017-06-03  36.53\n",
       "3             1 2017-06-04  55.00\n",
       "4             1 2017-06-05  57.08\n",
       "...         ...        ...    ...\n",
       "2537         10 2018-05-27   9.92\n",
       "2538         10 2018-05-28  21.26\n",
       "2539         10 2018-05-29  11.32\n",
       "2540         10 2018-05-30  33.15\n",
       "2541         10 2018-05-31  17.60\n",
       "\n",
       "[2542 rows x 3 columns]"
      ]
     },
     "execution_count": 126,
     "metadata": {},
     "output_type": "execute_result"
    }
   ],
   "source": [
    "costs"
   ]
  },
  {
   "cell_type": "markdown",
   "metadata": {},
   "source": [
    "Общая сумма расходов - 329131.62 у.е."
   ]
  },
  {
   "cell_type": "markdown",
   "metadata": {},
   "source": [
    "Сгруппируем расходы по источникам трафика"
   ]
  },
  {
   "cell_type": "code",
   "execution_count": 127,
   "metadata": {},
   "outputs": [],
   "source": [
    "costs_by_source = costs.groupby('source_id')['costs'].sum().reset_index()"
   ]
  },
  {
   "cell_type": "code",
   "execution_count": 128,
   "metadata": {},
   "outputs": [
    {
     "data": {
      "text/html": [
       "<div>\n",
       "<style scoped>\n",
       "    .dataframe tbody tr th:only-of-type {\n",
       "        vertical-align: middle;\n",
       "    }\n",
       "\n",
       "    .dataframe tbody tr th {\n",
       "        vertical-align: top;\n",
       "    }\n",
       "\n",
       "    .dataframe thead th {\n",
       "        text-align: right;\n",
       "    }\n",
       "</style>\n",
       "<table border=\"1\" class=\"dataframe\">\n",
       "  <thead>\n",
       "    <tr style=\"text-align: right;\">\n",
       "      <th></th>\n",
       "      <th>source_id</th>\n",
       "      <th>costs</th>\n",
       "    </tr>\n",
       "  </thead>\n",
       "  <tbody>\n",
       "    <tr>\n",
       "      <td>0</td>\n",
       "      <td>1</td>\n",
       "      <td>20833.27</td>\n",
       "    </tr>\n",
       "    <tr>\n",
       "      <td>1</td>\n",
       "      <td>2</td>\n",
       "      <td>42806.04</td>\n",
       "    </tr>\n",
       "    <tr>\n",
       "      <td>2</td>\n",
       "      <td>3</td>\n",
       "      <td>141321.63</td>\n",
       "    </tr>\n",
       "    <tr>\n",
       "      <td>3</td>\n",
       "      <td>4</td>\n",
       "      <td>61073.60</td>\n",
       "    </tr>\n",
       "    <tr>\n",
       "      <td>4</td>\n",
       "      <td>5</td>\n",
       "      <td>51757.10</td>\n",
       "    </tr>\n",
       "    <tr>\n",
       "      <td>5</td>\n",
       "      <td>9</td>\n",
       "      <td>5517.49</td>\n",
       "    </tr>\n",
       "    <tr>\n",
       "      <td>6</td>\n",
       "      <td>10</td>\n",
       "      <td>5822.49</td>\n",
       "    </tr>\n",
       "  </tbody>\n",
       "</table>\n",
       "</div>"
      ],
      "text/plain": [
       "   source_id      costs\n",
       "0          1   20833.27\n",
       "1          2   42806.04\n",
       "2          3  141321.63\n",
       "3          4   61073.60\n",
       "4          5   51757.10\n",
       "5          9    5517.49\n",
       "6         10    5822.49"
      ]
     },
     "execution_count": 128,
     "metadata": {},
     "output_type": "execute_result"
    }
   ],
   "source": [
    "costs_by_source"
   ]
  },
  {
   "cell_type": "markdown",
   "metadata": {},
   "source": [
    "Затраты по источникам распределяются в течение года неравномерно: они увеличиваются в октябре-ноябре-декабре и заметно снижаются по сравнению с этими значениями к апрелю (примерно на треть по каждому источнику). А  также сами источники неоднородны по финансированию: затраты между ними отличаются более, чем в 20 раз (например, источник №3 и источник №10). Но даже увеличение затрат на источник №10 вдвое в период новогодних праздников, конечно, не выводит его к величине затрат на источник №3 (самый затратный из источников)"
   ]
  },
  {
   "cell_type": "code",
   "execution_count": 129,
   "metadata": {},
   "outputs": [
    {
     "data": {
      "text/html": [
       "<div>\n",
       "<style scoped>\n",
       "    .dataframe tbody tr th:only-of-type {\n",
       "        vertical-align: middle;\n",
       "    }\n",
       "\n",
       "    .dataframe tbody tr th {\n",
       "        vertical-align: top;\n",
       "    }\n",
       "\n",
       "    .dataframe thead th {\n",
       "        text-align: right;\n",
       "    }\n",
       "</style>\n",
       "<table border=\"1\" class=\"dataframe\">\n",
       "  <thead>\n",
       "    <tr style=\"text-align: right;\">\n",
       "      <th></th>\n",
       "      <th>source_id</th>\n",
       "      <th>costs</th>\n",
       "    </tr>\n",
       "  </thead>\n",
       "  <tbody>\n",
       "    <tr>\n",
       "      <td>0</td>\n",
       "      <td>1</td>\n",
       "      <td>20833.27</td>\n",
       "    </tr>\n",
       "    <tr>\n",
       "      <td>1</td>\n",
       "      <td>2</td>\n",
       "      <td>42806.04</td>\n",
       "    </tr>\n",
       "    <tr>\n",
       "      <td>2</td>\n",
       "      <td>3</td>\n",
       "      <td>141321.63</td>\n",
       "    </tr>\n",
       "    <tr>\n",
       "      <td>3</td>\n",
       "      <td>4</td>\n",
       "      <td>61073.60</td>\n",
       "    </tr>\n",
       "    <tr>\n",
       "      <td>4</td>\n",
       "      <td>5</td>\n",
       "      <td>51757.10</td>\n",
       "    </tr>\n",
       "    <tr>\n",
       "      <td>5</td>\n",
       "      <td>9</td>\n",
       "      <td>5517.49</td>\n",
       "    </tr>\n",
       "    <tr>\n",
       "      <td>6</td>\n",
       "      <td>10</td>\n",
       "      <td>5822.49</td>\n",
       "    </tr>\n",
       "  </tbody>\n",
       "</table>\n",
       "</div>"
      ],
      "text/plain": [
       "   source_id      costs\n",
       "0          1   20833.27\n",
       "1          2   42806.04\n",
       "2          3  141321.63\n",
       "3          4   61073.60\n",
       "4          5   51757.10\n",
       "5          9    5517.49\n",
       "6         10    5822.49"
      ]
     },
     "execution_count": 129,
     "metadata": {},
     "output_type": "execute_result"
    }
   ],
   "source": [
    "costs_by_source"
   ]
  },
  {
   "cell_type": "markdown",
   "metadata": {},
   "source": [
    "Создадим колонку 'in_percents', в которой доли каждого источника в общей сумме расходов "
   ]
  },
  {
   "cell_type": "code",
   "execution_count": 130,
   "metadata": {},
   "outputs": [],
   "source": [
    "costs_by_source['in_percents'] = costs_by_source['costs'] / 329131.62 * 100"
   ]
  },
  {
   "cell_type": "code",
   "execution_count": 131,
   "metadata": {},
   "outputs": [
    {
     "data": {
      "text/plain": [
       "0     6.329769\n",
       "1    13.005751\n",
       "2    42.937725\n",
       "3    18.555981\n",
       "4    15.725350\n",
       "5     1.676378\n",
       "6     1.769046\n",
       "Name: in_percents, dtype: float64"
      ]
     },
     "execution_count": 131,
     "metadata": {},
     "output_type": "execute_result"
    }
   ],
   "source": [
    "costs_by_source['in_percents']"
   ]
  },
  {
   "cell_type": "code",
   "execution_count": 132,
   "metadata": {},
   "outputs": [
    {
     "data": {
      "text/html": [
       "<div>\n",
       "<style scoped>\n",
       "    .dataframe tbody tr th:only-of-type {\n",
       "        vertical-align: middle;\n",
       "    }\n",
       "\n",
       "    .dataframe tbody tr th {\n",
       "        vertical-align: top;\n",
       "    }\n",
       "\n",
       "    .dataframe thead th {\n",
       "        text-align: right;\n",
       "    }\n",
       "</style>\n",
       "<table border=\"1\" class=\"dataframe\">\n",
       "  <thead>\n",
       "    <tr style=\"text-align: right;\">\n",
       "      <th></th>\n",
       "      <th>source_id</th>\n",
       "      <th>costs</th>\n",
       "      <th>in_percents</th>\n",
       "    </tr>\n",
       "  </thead>\n",
       "  <tbody>\n",
       "    <tr>\n",
       "      <td>2</td>\n",
       "      <td>3</td>\n",
       "      <td>141321.63</td>\n",
       "      <td>42.937725</td>\n",
       "    </tr>\n",
       "    <tr>\n",
       "      <td>3</td>\n",
       "      <td>4</td>\n",
       "      <td>61073.60</td>\n",
       "      <td>18.555981</td>\n",
       "    </tr>\n",
       "    <tr>\n",
       "      <td>4</td>\n",
       "      <td>5</td>\n",
       "      <td>51757.10</td>\n",
       "      <td>15.725350</td>\n",
       "    </tr>\n",
       "    <tr>\n",
       "      <td>1</td>\n",
       "      <td>2</td>\n",
       "      <td>42806.04</td>\n",
       "      <td>13.005751</td>\n",
       "    </tr>\n",
       "    <tr>\n",
       "      <td>0</td>\n",
       "      <td>1</td>\n",
       "      <td>20833.27</td>\n",
       "      <td>6.329769</td>\n",
       "    </tr>\n",
       "    <tr>\n",
       "      <td>6</td>\n",
       "      <td>10</td>\n",
       "      <td>5822.49</td>\n",
       "      <td>1.769046</td>\n",
       "    </tr>\n",
       "    <tr>\n",
       "      <td>5</td>\n",
       "      <td>9</td>\n",
       "      <td>5517.49</td>\n",
       "      <td>1.676378</td>\n",
       "    </tr>\n",
       "  </tbody>\n",
       "</table>\n",
       "</div>"
      ],
      "text/plain": [
       "   source_id      costs  in_percents\n",
       "2          3  141321.63    42.937725\n",
       "3          4   61073.60    18.555981\n",
       "4          5   51757.10    15.725350\n",
       "1          2   42806.04    13.005751\n",
       "0          1   20833.27     6.329769\n",
       "6         10    5822.49     1.769046\n",
       "5          9    5517.49     1.676378"
      ]
     },
     "execution_count": 132,
     "metadata": {},
     "output_type": "execute_result"
    }
   ],
   "source": [
    "costs_by_source.sort_values('in_percents', ascending = False)"
   ]
  },
  {
   "cell_type": "markdown",
   "metadata": {},
   "source": [
    "Самая большая доля расходов приходится на источник №3, примерно одинаковый вклад (13-18%) - у источников №№4,5,2; самая маленькая доля расходов приходится на источники №№10,9 (1,76-1,67%)"
   ]
  },
  {
   "cell_type": "markdown",
   "metadata": {},
   "source": [
    "Создадим столбец 'costs_month'"
   ]
  },
  {
   "cell_type": "code",
   "execution_count": 133,
   "metadata": {},
   "outputs": [],
   "source": [
    "costs['costs_month'] = costs['dt'].astype('datetime64[M]').dt.date"
   ]
  },
  {
   "cell_type": "markdown",
   "metadata": {},
   "source": [
    "Сгруппируем расходы по каждому месяцу"
   ]
  },
  {
   "cell_type": "code",
   "execution_count": 134,
   "metadata": {},
   "outputs": [],
   "source": [
    "costs_by_month = costs.groupby('costs_month')['costs'].sum().reset_index()"
   ]
  },
  {
   "cell_type": "code",
   "execution_count": 135,
   "metadata": {},
   "outputs": [
    {
     "data": {
      "text/html": [
       "<div>\n",
       "<style scoped>\n",
       "    .dataframe tbody tr th:only-of-type {\n",
       "        vertical-align: middle;\n",
       "    }\n",
       "\n",
       "    .dataframe tbody tr th {\n",
       "        vertical-align: top;\n",
       "    }\n",
       "\n",
       "    .dataframe thead th {\n",
       "        text-align: right;\n",
       "    }\n",
       "</style>\n",
       "<table border=\"1\" class=\"dataframe\">\n",
       "  <thead>\n",
       "    <tr style=\"text-align: right;\">\n",
       "      <th></th>\n",
       "      <th>costs_month</th>\n",
       "      <th>costs</th>\n",
       "    </tr>\n",
       "  </thead>\n",
       "  <tbody>\n",
       "    <tr>\n",
       "      <td>0</td>\n",
       "      <td>2017-06-01</td>\n",
       "      <td>18015.00</td>\n",
       "    </tr>\n",
       "    <tr>\n",
       "      <td>1</td>\n",
       "      <td>2017-07-01</td>\n",
       "      <td>18240.59</td>\n",
       "    </tr>\n",
       "    <tr>\n",
       "      <td>2</td>\n",
       "      <td>2017-08-01</td>\n",
       "      <td>14790.54</td>\n",
       "    </tr>\n",
       "    <tr>\n",
       "      <td>3</td>\n",
       "      <td>2017-09-01</td>\n",
       "      <td>24368.91</td>\n",
       "    </tr>\n",
       "    <tr>\n",
       "      <td>4</td>\n",
       "      <td>2017-10-01</td>\n",
       "      <td>36322.88</td>\n",
       "    </tr>\n",
       "    <tr>\n",
       "      <td>5</td>\n",
       "      <td>2017-11-01</td>\n",
       "      <td>37907.88</td>\n",
       "    </tr>\n",
       "    <tr>\n",
       "      <td>6</td>\n",
       "      <td>2017-12-01</td>\n",
       "      <td>38315.35</td>\n",
       "    </tr>\n",
       "    <tr>\n",
       "      <td>7</td>\n",
       "      <td>2018-01-01</td>\n",
       "      <td>33518.52</td>\n",
       "    </tr>\n",
       "    <tr>\n",
       "      <td>8</td>\n",
       "      <td>2018-02-01</td>\n",
       "      <td>32723.03</td>\n",
       "    </tr>\n",
       "    <tr>\n",
       "      <td>9</td>\n",
       "      <td>2018-03-01</td>\n",
       "      <td>30415.27</td>\n",
       "    </tr>\n",
       "    <tr>\n",
       "      <td>10</td>\n",
       "      <td>2018-04-01</td>\n",
       "      <td>22289.38</td>\n",
       "    </tr>\n",
       "    <tr>\n",
       "      <td>11</td>\n",
       "      <td>2018-05-01</td>\n",
       "      <td>22224.27</td>\n",
       "    </tr>\n",
       "  </tbody>\n",
       "</table>\n",
       "</div>"
      ],
      "text/plain": [
       "   costs_month     costs\n",
       "0   2017-06-01  18015.00\n",
       "1   2017-07-01  18240.59\n",
       "2   2017-08-01  14790.54\n",
       "3   2017-09-01  24368.91\n",
       "4   2017-10-01  36322.88\n",
       "5   2017-11-01  37907.88\n",
       "6   2017-12-01  38315.35\n",
       "7   2018-01-01  33518.52\n",
       "8   2018-02-01  32723.03\n",
       "9   2018-03-01  30415.27\n",
       "10  2018-04-01  22289.38\n",
       "11  2018-05-01  22224.27"
      ]
     },
     "execution_count": 135,
     "metadata": {},
     "output_type": "execute_result"
    }
   ],
   "source": [
    "costs_by_month"
   ]
  },
  {
   "cell_type": "markdown",
   "metadata": {},
   "source": [
    "Сводная по динамике затрат на источники по месяцам"
   ]
  },
  {
   "cell_type": "code",
   "execution_count": 136,
   "metadata": {},
   "outputs": [
    {
     "data": {
      "text/html": [
       "<div>\n",
       "<style scoped>\n",
       "    .dataframe tbody tr th:only-of-type {\n",
       "        vertical-align: middle;\n",
       "    }\n",
       "\n",
       "    .dataframe tbody tr th {\n",
       "        vertical-align: top;\n",
       "    }\n",
       "\n",
       "    .dataframe thead tr th {\n",
       "        text-align: left;\n",
       "    }\n",
       "\n",
       "    .dataframe thead tr:last-of-type th {\n",
       "        text-align: right;\n",
       "    }\n",
       "</style>\n",
       "<table border=\"1\" class=\"dataframe\">\n",
       "  <thead>\n",
       "    <tr>\n",
       "      <th></th>\n",
       "      <th colspan=\"12\" halign=\"left\">costs</th>\n",
       "    </tr>\n",
       "    <tr>\n",
       "      <th>costs_month</th>\n",
       "      <th>2017-06-01</th>\n",
       "      <th>2017-07-01</th>\n",
       "      <th>2017-08-01</th>\n",
       "      <th>2017-09-01</th>\n",
       "      <th>2017-10-01</th>\n",
       "      <th>2017-11-01</th>\n",
       "      <th>2017-12-01</th>\n",
       "      <th>2018-01-01</th>\n",
       "      <th>2018-02-01</th>\n",
       "      <th>2018-03-01</th>\n",
       "      <th>2018-04-01</th>\n",
       "      <th>2018-05-01</th>\n",
       "    </tr>\n",
       "    <tr>\n",
       "      <th>source_id</th>\n",
       "      <th></th>\n",
       "      <th></th>\n",
       "      <th></th>\n",
       "      <th></th>\n",
       "      <th></th>\n",
       "      <th></th>\n",
       "      <th></th>\n",
       "      <th></th>\n",
       "      <th></th>\n",
       "      <th></th>\n",
       "      <th></th>\n",
       "      <th></th>\n",
       "    </tr>\n",
       "  </thead>\n",
       "  <tbody>\n",
       "    <tr>\n",
       "      <td>1</td>\n",
       "      <td>1125.61</td>\n",
       "      <td>1072.88</td>\n",
       "      <td>951.81</td>\n",
       "      <td>1502.01</td>\n",
       "      <td>2315.75</td>\n",
       "      <td>2445.16</td>\n",
       "      <td>2341.20</td>\n",
       "      <td>2186.18</td>\n",
       "      <td>2204.48</td>\n",
       "      <td>1893.09</td>\n",
       "      <td>1327.49</td>\n",
       "      <td>1467.61</td>\n",
       "    </tr>\n",
       "    <tr>\n",
       "      <td>2</td>\n",
       "      <td>2427.38</td>\n",
       "      <td>2333.11</td>\n",
       "      <td>1811.05</td>\n",
       "      <td>2985.66</td>\n",
       "      <td>4845.00</td>\n",
       "      <td>5247.68</td>\n",
       "      <td>4897.80</td>\n",
       "      <td>4157.74</td>\n",
       "      <td>4474.34</td>\n",
       "      <td>3943.14</td>\n",
       "      <td>2993.70</td>\n",
       "      <td>2689.44</td>\n",
       "    </tr>\n",
       "    <tr>\n",
       "      <td>3</td>\n",
       "      <td>7731.65</td>\n",
       "      <td>7674.37</td>\n",
       "      <td>6143.54</td>\n",
       "      <td>9963.55</td>\n",
       "      <td>15737.24</td>\n",
       "      <td>17025.34</td>\n",
       "      <td>16219.52</td>\n",
       "      <td>14808.78</td>\n",
       "      <td>14228.56</td>\n",
       "      <td>13080.85</td>\n",
       "      <td>9296.81</td>\n",
       "      <td>9411.42</td>\n",
       "    </tr>\n",
       "    <tr>\n",
       "      <td>4</td>\n",
       "      <td>3514.80</td>\n",
       "      <td>3529.73</td>\n",
       "      <td>3217.36</td>\n",
       "      <td>5192.26</td>\n",
       "      <td>6420.84</td>\n",
       "      <td>5388.82</td>\n",
       "      <td>7680.47</td>\n",
       "      <td>5832.79</td>\n",
       "      <td>5711.96</td>\n",
       "      <td>5961.87</td>\n",
       "      <td>4408.49</td>\n",
       "      <td>4214.21</td>\n",
       "    </tr>\n",
       "    <tr>\n",
       "      <td>5</td>\n",
       "      <td>2616.12</td>\n",
       "      <td>2998.14</td>\n",
       "      <td>2185.28</td>\n",
       "      <td>3849.14</td>\n",
       "      <td>5767.40</td>\n",
       "      <td>6325.34</td>\n",
       "      <td>5872.52</td>\n",
       "      <td>5371.52</td>\n",
       "      <td>5071.31</td>\n",
       "      <td>4529.62</td>\n",
       "      <td>3501.15</td>\n",
       "      <td>3669.56</td>\n",
       "    </tr>\n",
       "    <tr>\n",
       "      <td>9</td>\n",
       "      <td>285.22</td>\n",
       "      <td>302.54</td>\n",
       "      <td>248.93</td>\n",
       "      <td>415.62</td>\n",
       "      <td>609.41</td>\n",
       "      <td>683.18</td>\n",
       "      <td>657.98</td>\n",
       "      <td>547.16</td>\n",
       "      <td>551.50</td>\n",
       "      <td>480.29</td>\n",
       "      <td>373.49</td>\n",
       "      <td>362.17</td>\n",
       "    </tr>\n",
       "    <tr>\n",
       "      <td>10</td>\n",
       "      <td>314.22</td>\n",
       "      <td>329.82</td>\n",
       "      <td>232.57</td>\n",
       "      <td>460.67</td>\n",
       "      <td>627.24</td>\n",
       "      <td>792.36</td>\n",
       "      <td>645.86</td>\n",
       "      <td>614.35</td>\n",
       "      <td>480.88</td>\n",
       "      <td>526.41</td>\n",
       "      <td>388.25</td>\n",
       "      <td>409.86</td>\n",
       "    </tr>\n",
       "  </tbody>\n",
       "</table>\n",
       "</div>"
      ],
      "text/plain": [
       "                 costs                                                         \\\n",
       "costs_month 2017-06-01 2017-07-01 2017-08-01 2017-09-01 2017-10-01 2017-11-01   \n",
       "source_id                                                                       \n",
       "1              1125.61    1072.88     951.81    1502.01    2315.75    2445.16   \n",
       "2              2427.38    2333.11    1811.05    2985.66    4845.00    5247.68   \n",
       "3              7731.65    7674.37    6143.54    9963.55   15737.24   17025.34   \n",
       "4              3514.80    3529.73    3217.36    5192.26    6420.84    5388.82   \n",
       "5              2616.12    2998.14    2185.28    3849.14    5767.40    6325.34   \n",
       "9               285.22     302.54     248.93     415.62     609.41     683.18   \n",
       "10              314.22     329.82     232.57     460.67     627.24     792.36   \n",
       "\n",
       "                                                                               \n",
       "costs_month 2017-12-01 2018-01-01 2018-02-01 2018-03-01 2018-04-01 2018-05-01  \n",
       "source_id                                                                      \n",
       "1              2341.20    2186.18    2204.48    1893.09    1327.49    1467.61  \n",
       "2              4897.80    4157.74    4474.34    3943.14    2993.70    2689.44  \n",
       "3             16219.52   14808.78   14228.56   13080.85    9296.81    9411.42  \n",
       "4              7680.47    5832.79    5711.96    5961.87    4408.49    4214.21  \n",
       "5              5872.52    5371.52    5071.31    4529.62    3501.15    3669.56  \n",
       "9               657.98     547.16     551.50     480.29     373.49     362.17  \n",
       "10              645.86     614.35     480.88     526.41     388.25     409.86  "
      ]
     },
     "execution_count": 136,
     "metadata": {},
     "output_type": "execute_result"
    }
   ],
   "source": [
    "costs.pivot_table(index='source_id', columns='costs_month', aggfunc='sum')"
   ]
  },
  {
   "cell_type": "markdown",
   "metadata": {},
   "source": [
    "Из таблицы видим, что самые большие расходы были в декабре, а самые низкие - в августе"
   ]
  },
  {
   "cell_type": "markdown",
   "metadata": {},
   "source": [
    "Создадим график расходов по месяцам"
   ]
  },
  {
   "cell_type": "code",
   "execution_count": 137,
   "metadata": {},
   "outputs": [
    {
     "data": {
      "image/png": "[encoded data removed]",
      "text/plain": [
       "<Figure size 1152x648 with 1 Axes>"
      ]
     },
     "metadata": {},
     "output_type": "display_data"
    }
   ],
   "source": [
    "plt.figure(figsize = (16, 9))\n",
    "ax = sns.barplot(x=\"costs_month\", y=\"costs\", data=costs_by_month)\n",
    "plt.title('Расходы по месяцам')\n",
    "ax.set_xlabel('Месяцы')\n",
    "ax.set_ylabel('Расходы')\n",
    "plt.show()"
   ]
  },
  {
   "cell_type": "markdown",
   "metadata": {},
   "source": [
    "### Маркетинг: Сколько стоило привлечение одного покупателя из каждого источника? (САС)<a class=\"anchor\" id=\"cac_resource\"></a>"
   ]
  },
  {
   "cell_type": "markdown",
   "metadata": {},
   "source": [
    "CAC (от англ. customer acquisition cost) — стоимость привлечения клиента. Сумма денег, во сколько обходится новый клиент компании. Экономика одного покупателя сходится, если LTV больше CAC."
   ]
  },
  {
   "cell_type": "markdown",
   "metadata": {},
   "source": [
    "Будем работать с датафреймом costs"
   ]
  },
  {
   "cell_type": "code",
   "execution_count": 138,
   "metadata": {},
   "outputs": [
    {
     "data": {
      "text/html": [
       "<div>\n",
       "<style scoped>\n",
       "    .dataframe tbody tr th:only-of-type {\n",
       "        vertical-align: middle;\n",
       "    }\n",
       "\n",
       "    .dataframe tbody tr th {\n",
       "        vertical-align: top;\n",
       "    }\n",
       "\n",
       "    .dataframe thead th {\n",
       "        text-align: right;\n",
       "    }\n",
       "</style>\n",
       "<table border=\"1\" class=\"dataframe\">\n",
       "  <thead>\n",
       "    <tr style=\"text-align: right;\">\n",
       "      <th></th>\n",
       "      <th>source_id</th>\n",
       "      <th>dt</th>\n",
       "      <th>costs</th>\n",
       "      <th>costs_month</th>\n",
       "    </tr>\n",
       "  </thead>\n",
       "  <tbody>\n",
       "    <tr>\n",
       "      <td>0</td>\n",
       "      <td>1</td>\n",
       "      <td>2017-06-01</td>\n",
       "      <td>75.20</td>\n",
       "      <td>2017-06-01</td>\n",
       "    </tr>\n",
       "    <tr>\n",
       "      <td>1</td>\n",
       "      <td>1</td>\n",
       "      <td>2017-06-02</td>\n",
       "      <td>62.25</td>\n",
       "      <td>2017-06-01</td>\n",
       "    </tr>\n",
       "    <tr>\n",
       "      <td>2</td>\n",
       "      <td>1</td>\n",
       "      <td>2017-06-03</td>\n",
       "      <td>36.53</td>\n",
       "      <td>2017-06-01</td>\n",
       "    </tr>\n",
       "    <tr>\n",
       "      <td>3</td>\n",
       "      <td>1</td>\n",
       "      <td>2017-06-04</td>\n",
       "      <td>55.00</td>\n",
       "      <td>2017-06-01</td>\n",
       "    </tr>\n",
       "    <tr>\n",
       "      <td>4</td>\n",
       "      <td>1</td>\n",
       "      <td>2017-06-05</td>\n",
       "      <td>57.08</td>\n",
       "      <td>2017-06-01</td>\n",
       "    </tr>\n",
       "  </tbody>\n",
       "</table>\n",
       "</div>"
      ],
      "text/plain": [
       "   source_id         dt  costs costs_month\n",
       "0          1 2017-06-01  75.20  2017-06-01\n",
       "1          1 2017-06-02  62.25  2017-06-01\n",
       "2          1 2017-06-03  36.53  2017-06-01\n",
       "3          1 2017-06-04  55.00  2017-06-01\n",
       "4          1 2017-06-05  57.08  2017-06-01"
      ]
     },
     "execution_count": 138,
     "metadata": {},
     "output_type": "execute_result"
    }
   ],
   "source": [
    "costs.head()"
   ]
  },
  {
   "cell_type": "code",
   "execution_count": 139,
   "metadata": {},
   "outputs": [],
   "source": [
    "costs['costs_month'] = costs['dt'].astype('datetime64[M]')"
   ]
  },
  {
   "cell_type": "code",
   "execution_count": 140,
   "metadata": {},
   "outputs": [],
   "source": [
    "costs_months = costs.groupby('costs_month')['costs'].sum().reset_index()"
   ]
  },
  {
   "cell_type": "code",
   "execution_count": 141,
   "metadata": {},
   "outputs": [
    {
     "data": {
      "text/html": [
       "<div>\n",
       "<style scoped>\n",
       "    .dataframe tbody tr th:only-of-type {\n",
       "        vertical-align: middle;\n",
       "    }\n",
       "\n",
       "    .dataframe tbody tr th {\n",
       "        vertical-align: top;\n",
       "    }\n",
       "\n",
       "    .dataframe thead th {\n",
       "        text-align: right;\n",
       "    }\n",
       "</style>\n",
       "<table border=\"1\" class=\"dataframe\">\n",
       "  <thead>\n",
       "    <tr style=\"text-align: right;\">\n",
       "      <th></th>\n",
       "      <th>costs_month</th>\n",
       "      <th>costs</th>\n",
       "    </tr>\n",
       "  </thead>\n",
       "  <tbody>\n",
       "    <tr>\n",
       "      <td>0</td>\n",
       "      <td>2017-06-01</td>\n",
       "      <td>18015.00</td>\n",
       "    </tr>\n",
       "    <tr>\n",
       "      <td>1</td>\n",
       "      <td>2017-07-01</td>\n",
       "      <td>18240.59</td>\n",
       "    </tr>\n",
       "    <tr>\n",
       "      <td>2</td>\n",
       "      <td>2017-08-01</td>\n",
       "      <td>14790.54</td>\n",
       "    </tr>\n",
       "    <tr>\n",
       "      <td>3</td>\n",
       "      <td>2017-09-01</td>\n",
       "      <td>24368.91</td>\n",
       "    </tr>\n",
       "    <tr>\n",
       "      <td>4</td>\n",
       "      <td>2017-10-01</td>\n",
       "      <td>36322.88</td>\n",
       "    </tr>\n",
       "  </tbody>\n",
       "</table>\n",
       "</div>"
      ],
      "text/plain": [
       "  costs_month     costs\n",
       "0  2017-06-01  18015.00\n",
       "1  2017-07-01  18240.59\n",
       "2  2017-08-01  14790.54\n",
       "3  2017-09-01  24368.91\n",
       "4  2017-10-01  36322.88"
      ]
     },
     "execution_count": 141,
     "metadata": {},
     "output_type": "execute_result"
    }
   ],
   "source": [
    "costs_months.head()"
   ]
  },
  {
   "cell_type": "code",
   "execution_count": 142,
   "metadata": {},
   "outputs": [],
   "source": [
    "report_new1 = pd.merge(cohort_sizes, costs_months, left_on='first_order_month', right_on='costs_month')"
   ]
  },
  {
   "cell_type": "code",
   "execution_count": 143,
   "metadata": {},
   "outputs": [
    {
     "data": {
      "text/html": [
       "<div>\n",
       "<style scoped>\n",
       "    .dataframe tbody tr th:only-of-type {\n",
       "        vertical-align: middle;\n",
       "    }\n",
       "\n",
       "    .dataframe tbody tr th {\n",
       "        vertical-align: top;\n",
       "    }\n",
       "\n",
       "    .dataframe thead th {\n",
       "        text-align: right;\n",
       "    }\n",
       "</style>\n",
       "<table border=\"1\" class=\"dataframe\">\n",
       "  <thead>\n",
       "    <tr style=\"text-align: right;\">\n",
       "      <th></th>\n",
       "      <th>first_order_month</th>\n",
       "      <th>n_buyers</th>\n",
       "      <th>costs_month</th>\n",
       "      <th>costs</th>\n",
       "    </tr>\n",
       "  </thead>\n",
       "  <tbody>\n",
       "    <tr>\n",
       "      <td>0</td>\n",
       "      <td>2017-06-01</td>\n",
       "      <td>2023</td>\n",
       "      <td>2017-06-01</td>\n",
       "      <td>18015.00</td>\n",
       "    </tr>\n",
       "    <tr>\n",
       "      <td>1</td>\n",
       "      <td>2017-07-01</td>\n",
       "      <td>1923</td>\n",
       "      <td>2017-07-01</td>\n",
       "      <td>18240.59</td>\n",
       "    </tr>\n",
       "    <tr>\n",
       "      <td>2</td>\n",
       "      <td>2017-08-01</td>\n",
       "      <td>1370</td>\n",
       "      <td>2017-08-01</td>\n",
       "      <td>14790.54</td>\n",
       "    </tr>\n",
       "    <tr>\n",
       "      <td>3</td>\n",
       "      <td>2017-09-01</td>\n",
       "      <td>2581</td>\n",
       "      <td>2017-09-01</td>\n",
       "      <td>24368.91</td>\n",
       "    </tr>\n",
       "    <tr>\n",
       "      <td>4</td>\n",
       "      <td>2017-10-01</td>\n",
       "      <td>4340</td>\n",
       "      <td>2017-10-01</td>\n",
       "      <td>36322.88</td>\n",
       "    </tr>\n",
       "  </tbody>\n",
       "</table>\n",
       "</div>"
      ],
      "text/plain": [
       "  first_order_month  n_buyers costs_month     costs\n",
       "0        2017-06-01      2023  2017-06-01  18015.00\n",
       "1        2017-07-01      1923  2017-07-01  18240.59\n",
       "2        2017-08-01      1370  2017-08-01  14790.54\n",
       "3        2017-09-01      2581  2017-09-01  24368.91\n",
       "4        2017-10-01      4340  2017-10-01  36322.88"
      ]
     },
     "execution_count": 143,
     "metadata": {},
     "output_type": "execute_result"
    }
   ],
   "source": [
    "report_new1.head()"
   ]
  },
  {
   "cell_type": "markdown",
   "metadata": {},
   "source": [
    "Стоимость привлечения одного покупателя"
   ]
  },
  {
   "cell_type": "code",
   "execution_count": 144,
   "metadata": {},
   "outputs": [],
   "source": [
    "report_new1['cac'] = report_new1.costs / report_new1.n_buyers"
   ]
  },
  {
   "cell_type": "code",
   "execution_count": 145,
   "metadata": {},
   "outputs": [
    {
     "data": {
      "text/html": [
       "<div>\n",
       "<style scoped>\n",
       "    .dataframe tbody tr th:only-of-type {\n",
       "        vertical-align: middle;\n",
       "    }\n",
       "\n",
       "    .dataframe tbody tr th {\n",
       "        vertical-align: top;\n",
       "    }\n",
       "\n",
       "    .dataframe thead th {\n",
       "        text-align: right;\n",
       "    }\n",
       "</style>\n",
       "<table border=\"1\" class=\"dataframe\">\n",
       "  <thead>\n",
       "    <tr style=\"text-align: right;\">\n",
       "      <th></th>\n",
       "      <th>first_order_month</th>\n",
       "      <th>n_buyers</th>\n",
       "      <th>costs_month</th>\n",
       "      <th>costs</th>\n",
       "      <th>cac</th>\n",
       "    </tr>\n",
       "  </thead>\n",
       "  <tbody>\n",
       "    <tr>\n",
       "      <td>0</td>\n",
       "      <td>2017-06-01</td>\n",
       "      <td>2023</td>\n",
       "      <td>2017-06-01</td>\n",
       "      <td>18015.00</td>\n",
       "      <td>8.905091</td>\n",
       "    </tr>\n",
       "    <tr>\n",
       "      <td>1</td>\n",
       "      <td>2017-07-01</td>\n",
       "      <td>1923</td>\n",
       "      <td>2017-07-01</td>\n",
       "      <td>18240.59</td>\n",
       "      <td>9.485486</td>\n",
       "    </tr>\n",
       "    <tr>\n",
       "      <td>2</td>\n",
       "      <td>2017-08-01</td>\n",
       "      <td>1370</td>\n",
       "      <td>2017-08-01</td>\n",
       "      <td>14790.54</td>\n",
       "      <td>10.796015</td>\n",
       "    </tr>\n",
       "    <tr>\n",
       "      <td>3</td>\n",
       "      <td>2017-09-01</td>\n",
       "      <td>2581</td>\n",
       "      <td>2017-09-01</td>\n",
       "      <td>24368.91</td>\n",
       "      <td>9.441654</td>\n",
       "    </tr>\n",
       "    <tr>\n",
       "      <td>4</td>\n",
       "      <td>2017-10-01</td>\n",
       "      <td>4340</td>\n",
       "      <td>2017-10-01</td>\n",
       "      <td>36322.88</td>\n",
       "      <td>8.369327</td>\n",
       "    </tr>\n",
       "    <tr>\n",
       "      <td>5</td>\n",
       "      <td>2017-11-01</td>\n",
       "      <td>4081</td>\n",
       "      <td>2017-11-01</td>\n",
       "      <td>37907.88</td>\n",
       "      <td>9.288870</td>\n",
       "    </tr>\n",
       "    <tr>\n",
       "      <td>6</td>\n",
       "      <td>2017-12-01</td>\n",
       "      <td>4383</td>\n",
       "      <td>2017-12-01</td>\n",
       "      <td>38315.35</td>\n",
       "      <td>8.741809</td>\n",
       "    </tr>\n",
       "    <tr>\n",
       "      <td>7</td>\n",
       "      <td>2018-01-01</td>\n",
       "      <td>3373</td>\n",
       "      <td>2018-01-01</td>\n",
       "      <td>33518.52</td>\n",
       "      <td>9.937302</td>\n",
       "    </tr>\n",
       "    <tr>\n",
       "      <td>8</td>\n",
       "      <td>2018-02-01</td>\n",
       "      <td>3651</td>\n",
       "      <td>2018-02-01</td>\n",
       "      <td>32723.03</td>\n",
       "      <td>8.962758</td>\n",
       "    </tr>\n",
       "    <tr>\n",
       "      <td>9</td>\n",
       "      <td>2018-03-01</td>\n",
       "      <td>3533</td>\n",
       "      <td>2018-03-01</td>\n",
       "      <td>30415.27</td>\n",
       "      <td>8.608907</td>\n",
       "    </tr>\n",
       "    <tr>\n",
       "      <td>10</td>\n",
       "      <td>2018-04-01</td>\n",
       "      <td>2276</td>\n",
       "      <td>2018-04-01</td>\n",
       "      <td>22289.38</td>\n",
       "      <td>9.793225</td>\n",
       "    </tr>\n",
       "    <tr>\n",
       "      <td>11</td>\n",
       "      <td>2018-05-01</td>\n",
       "      <td>2988</td>\n",
       "      <td>2018-05-01</td>\n",
       "      <td>22224.27</td>\n",
       "      <td>7.437841</td>\n",
       "    </tr>\n",
       "  </tbody>\n",
       "</table>\n",
       "</div>"
      ],
      "text/plain": [
       "   first_order_month  n_buyers costs_month     costs        cac\n",
       "0         2017-06-01      2023  2017-06-01  18015.00   8.905091\n",
       "1         2017-07-01      1923  2017-07-01  18240.59   9.485486\n",
       "2         2017-08-01      1370  2017-08-01  14790.54  10.796015\n",
       "3         2017-09-01      2581  2017-09-01  24368.91   9.441654\n",
       "4         2017-10-01      4340  2017-10-01  36322.88   8.369327\n",
       "5         2017-11-01      4081  2017-11-01  37907.88   9.288870\n",
       "6         2017-12-01      4383  2017-12-01  38315.35   8.741809\n",
       "7         2018-01-01      3373  2018-01-01  33518.52   9.937302\n",
       "8         2018-02-01      3651  2018-02-01  32723.03   8.962758\n",
       "9         2018-03-01      3533  2018-03-01  30415.27   8.608907\n",
       "10        2018-04-01      2276  2018-04-01  22289.38   9.793225\n",
       "11        2018-05-01      2988  2018-05-01  22224.27   7.437841"
      ]
     },
     "execution_count": 145,
     "metadata": {},
     "output_type": "execute_result"
    }
   ],
   "source": [
    "report_new1.head(12)"
   ]
  },
  {
   "cell_type": "markdown",
   "metadata": {},
   "source": [
    "Расходы на привлечение покупателей в августовской когорте оказались самыми высокими - 10,7; самые \"дешевые\" - из майской когорты."
   ]
  },
  {
   "cell_type": "markdown",
   "metadata": {},
   "source": [
    "Видим величину САС на одного покупателя по каждой когорте. "
   ]
  },
  {
   "cell_type": "code",
   "execution_count": 146,
   "metadata": {},
   "outputs": [
    {
     "data": {
      "text/plain": [
       "n_buyers     3043.500000\n",
       "costs       27427.635000\n",
       "cac             9.147357\n",
       "dtype: float64"
      ]
     },
     "execution_count": 146,
     "metadata": {},
     "output_type": "execute_result"
    }
   ],
   "source": [
    "report_new1.mean()"
   ]
  },
  {
   "cell_type": "markdown",
   "metadata": {},
   "source": [
    "Средний САС на одного покупателя для всего проекта - 9,14. "
   ]
  },
  {
   "cell_type": "markdown",
   "metadata": {},
   "source": [
    "Построим график CAC"
   ]
  },
  {
   "cell_type": "code",
   "execution_count": 147,
   "metadata": {},
   "outputs": [
    {
     "data": {
      "text/plain": [
       "Text(0.5, 1.0, 'Расходы на привлечение покупателей по месяцам')"
      ]
     },
     "execution_count": 147,
     "metadata": {},
     "output_type": "execute_result"
    },
    {
     "data": {
      "image/png": "[encoded data removed]",
      "text/plain": [
       "<Figure size 432x288 with 1 Axes>"
      ]
     },
     "metadata": {},
     "output_type": "display_data"
    }
   ],
   "source": [
    "report_new1.plot(x='costs_month', y='cac')\n",
    "plt.title(\"Расходы на привлечение покупателей по месяцам\")"
   ]
  },
  {
   "cell_type": "markdown",
   "metadata": {},
   "source": [
    "На графике видим \"дорогих\" покупателей в августе и \"очень недорогих\" - в октябре. Но стоимость трафика не всегда коррелирует с \"качеством\" привлеченных покупателей"
   ]
  },
  {
   "cell_type": "markdown",
   "metadata": {},
   "source": [
    "Расчет среднего CAC на одного покупателя для каждого источника трафика"
   ]
  },
  {
   "cell_type": "markdown",
   "metadata": {},
   "source": [
    "Время первой покупки"
   ]
  },
  {
   "cell_type": "code",
   "execution_count": 148,
   "metadata": {},
   "outputs": [],
   "source": [
    "first_orders1 = orders.groupby('Uid').agg({'Buy Ts': 'min'}).reset_index()"
   ]
  },
  {
   "cell_type": "code",
   "execution_count": 149,
   "metadata": {},
   "outputs": [],
   "source": [
    "first_orders1.columns = ['uid', 'first_order_ts1']"
   ]
  },
  {
   "cell_type": "code",
   "execution_count": 150,
   "metadata": {},
   "outputs": [],
   "source": [
    "first_orders1['first_order_dt'] = first_orders1['first_order_ts1'].dt.date"
   ]
  },
  {
   "cell_type": "code",
   "execution_count": 151,
   "metadata": {},
   "outputs": [],
   "source": [
    "first_orders1['first_order_month'] = first_orders1['first_order_ts1'].astype('datetime64[M]')"
   ]
  },
  {
   "cell_type": "code",
   "execution_count": 152,
   "metadata": {},
   "outputs": [
    {
     "data": {
      "text/html": [
       "<div>\n",
       "<style scoped>\n",
       "    .dataframe tbody tr th:only-of-type {\n",
       "        vertical-align: middle;\n",
       "    }\n",
       "\n",
       "    .dataframe tbody tr th {\n",
       "        vertical-align: top;\n",
       "    }\n",
       "\n",
       "    .dataframe thead th {\n",
       "        text-align: right;\n",
       "    }\n",
       "</style>\n",
       "<table border=\"1\" class=\"dataframe\">\n",
       "  <thead>\n",
       "    <tr style=\"text-align: right;\">\n",
       "      <th></th>\n",
       "      <th>uid</th>\n",
       "      <th>first_order_ts1</th>\n",
       "      <th>first_order_dt</th>\n",
       "      <th>first_order_month</th>\n",
       "    </tr>\n",
       "  </thead>\n",
       "  <tbody>\n",
       "    <tr>\n",
       "      <td>0</td>\n",
       "      <td>313578113262317</td>\n",
       "      <td>2018-01-03 21:51:00</td>\n",
       "      <td>2018-01-03</td>\n",
       "      <td>2018-01-01</td>\n",
       "    </tr>\n",
       "    <tr>\n",
       "      <td>1</td>\n",
       "      <td>1575281904278712</td>\n",
       "      <td>2017-06-03 10:13:00</td>\n",
       "      <td>2017-06-03</td>\n",
       "      <td>2017-06-01</td>\n",
       "    </tr>\n",
       "    <tr>\n",
       "      <td>2</td>\n",
       "      <td>2429014661409475</td>\n",
       "      <td>2017-10-11 18:33:00</td>\n",
       "      <td>2017-10-11</td>\n",
       "      <td>2017-10-01</td>\n",
       "    </tr>\n",
       "    <tr>\n",
       "      <td>3</td>\n",
       "      <td>2464366381792757</td>\n",
       "      <td>2018-01-28 15:54:00</td>\n",
       "      <td>2018-01-28</td>\n",
       "      <td>2018-01-01</td>\n",
       "    </tr>\n",
       "    <tr>\n",
       "      <td>4</td>\n",
       "      <td>2551852515556206</td>\n",
       "      <td>2017-11-24 10:14:00</td>\n",
       "      <td>2017-11-24</td>\n",
       "      <td>2017-11-01</td>\n",
       "    </tr>\n",
       "  </tbody>\n",
       "</table>\n",
       "</div>"
      ],
      "text/plain": [
       "                uid     first_order_ts1 first_order_dt first_order_month\n",
       "0   313578113262317 2018-01-03 21:51:00     2018-01-03        2018-01-01\n",
       "1  1575281904278712 2017-06-03 10:13:00     2017-06-03        2017-06-01\n",
       "2  2429014661409475 2017-10-11 18:33:00     2017-10-11        2017-10-01\n",
       "3  2464366381792757 2018-01-28 15:54:00     2018-01-28        2018-01-01\n",
       "4  2551852515556206 2017-11-24 10:14:00     2017-11-24        2017-11-01"
      ]
     },
     "execution_count": 152,
     "metadata": {},
     "output_type": "execute_result"
    }
   ],
   "source": [
    "first_orders1.head(5)"
   ]
  },
  {
   "cell_type": "markdown",
   "metadata": {},
   "source": [
    "Дата первой сессии для покупателя"
   ]
  },
  {
   "cell_type": "code",
   "execution_count": 153,
   "metadata": {},
   "outputs": [],
   "source": [
    "first_visits1 = visits.groupby('Uid').agg({'Start Ts': 'min'}).reset_index()"
   ]
  },
  {
   "cell_type": "code",
   "execution_count": 154,
   "metadata": {},
   "outputs": [],
   "source": [
    "first_visits1.columns = ['uid', 'first_session_start1']"
   ]
  },
  {
   "cell_type": "code",
   "execution_count": 155,
   "metadata": {},
   "outputs": [
    {
     "data": {
      "text/html": [
       "<div>\n",
       "<style scoped>\n",
       "    .dataframe tbody tr th:only-of-type {\n",
       "        vertical-align: middle;\n",
       "    }\n",
       "\n",
       "    .dataframe tbody tr th {\n",
       "        vertical-align: top;\n",
       "    }\n",
       "\n",
       "    .dataframe thead th {\n",
       "        text-align: right;\n",
       "    }\n",
       "</style>\n",
       "<table border=\"1\" class=\"dataframe\">\n",
       "  <thead>\n",
       "    <tr style=\"text-align: right;\">\n",
       "      <th></th>\n",
       "      <th>uid</th>\n",
       "      <th>first_session_start1</th>\n",
       "    </tr>\n",
       "  </thead>\n",
       "  <tbody>\n",
       "    <tr>\n",
       "      <td>0</td>\n",
       "      <td>11863502262781</td>\n",
       "      <td>2018-03-01 17:27:00</td>\n",
       "    </tr>\n",
       "    <tr>\n",
       "      <td>1</td>\n",
       "      <td>49537067089222</td>\n",
       "      <td>2018-02-06 15:55:00</td>\n",
       "    </tr>\n",
       "    <tr>\n",
       "      <td>2</td>\n",
       "      <td>297729379853735</td>\n",
       "      <td>2017-06-07 18:47:00</td>\n",
       "    </tr>\n",
       "    <tr>\n",
       "      <td>3</td>\n",
       "      <td>313578113262317</td>\n",
       "      <td>2017-09-18 22:49:00</td>\n",
       "    </tr>\n",
       "    <tr>\n",
       "      <td>4</td>\n",
       "      <td>325320750514679</td>\n",
       "      <td>2017-09-30 14:29:00</td>\n",
       "    </tr>\n",
       "  </tbody>\n",
       "</table>\n",
       "</div>"
      ],
      "text/plain": [
       "               uid first_session_start1\n",
       "0   11863502262781  2018-03-01 17:27:00\n",
       "1   49537067089222  2018-02-06 15:55:00\n",
       "2  297729379853735  2017-06-07 18:47:00\n",
       "3  313578113262317  2017-09-18 22:49:00\n",
       "4  325320750514679  2017-09-30 14:29:00"
      ]
     },
     "execution_count": 155,
     "metadata": {},
     "output_type": "execute_result"
    }
   ],
   "source": [
    "first_visits1.head(5)"
   ]
  },
  {
   "cell_type": "code",
   "execution_count": 156,
   "metadata": {},
   "outputs": [],
   "source": [
    "first_visits1['first_session_dt'] = first_visits1['first_session_start1'].dt.date"
   ]
  },
  {
   "cell_type": "code",
   "execution_count": 157,
   "metadata": {},
   "outputs": [],
   "source": [
    "first_visits1['first_session_month'] = first_visits1['first_session_start1'].astype('datetime64[M]')"
   ]
  },
  {
   "cell_type": "code",
   "execution_count": 158,
   "metadata": {},
   "outputs": [
    {
     "data": {
      "text/html": [
       "<div>\n",
       "<style scoped>\n",
       "    .dataframe tbody tr th:only-of-type {\n",
       "        vertical-align: middle;\n",
       "    }\n",
       "\n",
       "    .dataframe tbody tr th {\n",
       "        vertical-align: top;\n",
       "    }\n",
       "\n",
       "    .dataframe thead th {\n",
       "        text-align: right;\n",
       "    }\n",
       "</style>\n",
       "<table border=\"1\" class=\"dataframe\">\n",
       "  <thead>\n",
       "    <tr style=\"text-align: right;\">\n",
       "      <th></th>\n",
       "      <th>uid</th>\n",
       "      <th>first_session_start1</th>\n",
       "      <th>first_session_dt</th>\n",
       "      <th>first_session_month</th>\n",
       "    </tr>\n",
       "  </thead>\n",
       "  <tbody>\n",
       "    <tr>\n",
       "      <td>0</td>\n",
       "      <td>11863502262781</td>\n",
       "      <td>2018-03-01 17:27:00</td>\n",
       "      <td>2018-03-01</td>\n",
       "      <td>2018-03-01</td>\n",
       "    </tr>\n",
       "    <tr>\n",
       "      <td>1</td>\n",
       "      <td>49537067089222</td>\n",
       "      <td>2018-02-06 15:55:00</td>\n",
       "      <td>2018-02-06</td>\n",
       "      <td>2018-02-01</td>\n",
       "    </tr>\n",
       "    <tr>\n",
       "      <td>2</td>\n",
       "      <td>297729379853735</td>\n",
       "      <td>2017-06-07 18:47:00</td>\n",
       "      <td>2017-06-07</td>\n",
       "      <td>2017-06-01</td>\n",
       "    </tr>\n",
       "    <tr>\n",
       "      <td>3</td>\n",
       "      <td>313578113262317</td>\n",
       "      <td>2017-09-18 22:49:00</td>\n",
       "      <td>2017-09-18</td>\n",
       "      <td>2017-09-01</td>\n",
       "    </tr>\n",
       "    <tr>\n",
       "      <td>4</td>\n",
       "      <td>325320750514679</td>\n",
       "      <td>2017-09-30 14:29:00</td>\n",
       "      <td>2017-09-30</td>\n",
       "      <td>2017-09-01</td>\n",
       "    </tr>\n",
       "  </tbody>\n",
       "</table>\n",
       "</div>"
      ],
      "text/plain": [
       "               uid first_session_start1 first_session_dt first_session_month\n",
       "0   11863502262781  2018-03-01 17:27:00       2018-03-01          2018-03-01\n",
       "1   49537067089222  2018-02-06 15:55:00       2018-02-06          2018-02-01\n",
       "2  297729379853735  2017-06-07 18:47:00       2017-06-07          2017-06-01\n",
       "3  313578113262317  2017-09-18 22:49:00       2017-09-18          2017-09-01\n",
       "4  325320750514679  2017-09-30 14:29:00       2017-09-30          2017-09-01"
      ]
     },
     "execution_count": 158,
     "metadata": {},
     "output_type": "execute_result"
    }
   ],
   "source": [
    "first_visits1.head(5)"
   ]
  },
  {
   "cell_type": "code",
   "execution_count": 159,
   "metadata": {},
   "outputs": [],
   "source": [
    "buyers = pd.merge(first_visits1, first_orders1, on ='uid')"
   ]
  },
  {
   "cell_type": "code",
   "execution_count": 160,
   "metadata": {},
   "outputs": [
    {
     "data": {
      "text/html": [
       "<div>\n",
       "<style scoped>\n",
       "    .dataframe tbody tr th:only-of-type {\n",
       "        vertical-align: middle;\n",
       "    }\n",
       "\n",
       "    .dataframe tbody tr th {\n",
       "        vertical-align: top;\n",
       "    }\n",
       "\n",
       "    .dataframe thead th {\n",
       "        text-align: right;\n",
       "    }\n",
       "</style>\n",
       "<table border=\"1\" class=\"dataframe\">\n",
       "  <thead>\n",
       "    <tr style=\"text-align: right;\">\n",
       "      <th></th>\n",
       "      <th>uid</th>\n",
       "      <th>first_session_start1</th>\n",
       "      <th>first_session_dt</th>\n",
       "      <th>first_session_month</th>\n",
       "      <th>first_order_ts1</th>\n",
       "      <th>first_order_dt</th>\n",
       "      <th>first_order_month</th>\n",
       "    </tr>\n",
       "  </thead>\n",
       "  <tbody>\n",
       "    <tr>\n",
       "      <td>0</td>\n",
       "      <td>313578113262317</td>\n",
       "      <td>2017-09-18 22:49:00</td>\n",
       "      <td>2017-09-18</td>\n",
       "      <td>2017-09-01</td>\n",
       "      <td>2018-01-03 21:51:00</td>\n",
       "      <td>2018-01-03</td>\n",
       "      <td>2018-01-01</td>\n",
       "    </tr>\n",
       "    <tr>\n",
       "      <td>1</td>\n",
       "      <td>1575281904278712</td>\n",
       "      <td>2017-06-03 10:13:00</td>\n",
       "      <td>2017-06-03</td>\n",
       "      <td>2017-06-01</td>\n",
       "      <td>2017-06-03 10:13:00</td>\n",
       "      <td>2017-06-03</td>\n",
       "      <td>2017-06-01</td>\n",
       "    </tr>\n",
       "    <tr>\n",
       "      <td>2</td>\n",
       "      <td>2429014661409475</td>\n",
       "      <td>2017-10-11 17:14:00</td>\n",
       "      <td>2017-10-11</td>\n",
       "      <td>2017-10-01</td>\n",
       "      <td>2017-10-11 18:33:00</td>\n",
       "      <td>2017-10-11</td>\n",
       "      <td>2017-10-01</td>\n",
       "    </tr>\n",
       "    <tr>\n",
       "      <td>3</td>\n",
       "      <td>2464366381792757</td>\n",
       "      <td>2018-01-27 20:10:00</td>\n",
       "      <td>2018-01-27</td>\n",
       "      <td>2018-01-01</td>\n",
       "      <td>2018-01-28 15:54:00</td>\n",
       "      <td>2018-01-28</td>\n",
       "      <td>2018-01-01</td>\n",
       "    </tr>\n",
       "    <tr>\n",
       "      <td>4</td>\n",
       "      <td>2551852515556206</td>\n",
       "      <td>2017-11-24 10:14:00</td>\n",
       "      <td>2017-11-24</td>\n",
       "      <td>2017-11-01</td>\n",
       "      <td>2017-11-24 10:14:00</td>\n",
       "      <td>2017-11-24</td>\n",
       "      <td>2017-11-01</td>\n",
       "    </tr>\n",
       "  </tbody>\n",
       "</table>\n",
       "</div>"
      ],
      "text/plain": [
       "                uid first_session_start1 first_session_dt first_session_month  \\\n",
       "0   313578113262317  2017-09-18 22:49:00       2017-09-18          2017-09-01   \n",
       "1  1575281904278712  2017-06-03 10:13:00       2017-06-03          2017-06-01   \n",
       "2  2429014661409475  2017-10-11 17:14:00       2017-10-11          2017-10-01   \n",
       "3  2464366381792757  2018-01-27 20:10:00       2018-01-27          2018-01-01   \n",
       "4  2551852515556206  2017-11-24 10:14:00       2017-11-24          2017-11-01   \n",
       "\n",
       "      first_order_ts1 first_order_dt first_order_month  \n",
       "0 2018-01-03 21:51:00     2018-01-03        2018-01-01  \n",
       "1 2017-06-03 10:13:00     2017-06-03        2017-06-01  \n",
       "2 2017-10-11 18:33:00     2017-10-11        2017-10-01  \n",
       "3 2018-01-28 15:54:00     2018-01-28        2018-01-01  \n",
       "4 2017-11-24 10:14:00     2017-11-24        2017-11-01  "
      ]
     },
     "execution_count": 160,
     "metadata": {},
     "output_type": "execute_result"
    }
   ],
   "source": [
    "buyers.head(5)"
   ]
  },
  {
   "cell_type": "code",
   "execution_count": 161,
   "metadata": {},
   "outputs": [],
   "source": [
    "buyers['first_order_dt'] = pd.to_datetime(buyers['first_order_dt'])"
   ]
  },
  {
   "cell_type": "code",
   "execution_count": 162,
   "metadata": {},
   "outputs": [],
   "source": [
    "buyers['first_session_dt'] = pd.to_datetime(buyers['first_session_dt'])"
   ]
  },
  {
   "cell_type": "code",
   "execution_count": 163,
   "metadata": {},
   "outputs": [],
   "source": [
    "buyers.columns = 'Uid','first_session_start1','first_session_dt', 'first_session_month', 'first_order_ts1', 'first_order_dt', 'first_order_month'"
   ]
  },
  {
   "cell_type": "code",
   "execution_count": 164,
   "metadata": {},
   "outputs": [
    {
     "data": {
      "text/html": [
       "<div>\n",
       "<style scoped>\n",
       "    .dataframe tbody tr th:only-of-type {\n",
       "        vertical-align: middle;\n",
       "    }\n",
       "\n",
       "    .dataframe tbody tr th {\n",
       "        vertical-align: top;\n",
       "    }\n",
       "\n",
       "    .dataframe thead th {\n",
       "        text-align: right;\n",
       "    }\n",
       "</style>\n",
       "<table border=\"1\" class=\"dataframe\">\n",
       "  <thead>\n",
       "    <tr style=\"text-align: right;\">\n",
       "      <th></th>\n",
       "      <th>Uid</th>\n",
       "      <th>first_session_start1</th>\n",
       "      <th>first_session_dt</th>\n",
       "      <th>first_session_month</th>\n",
       "      <th>first_order_ts1</th>\n",
       "      <th>first_order_dt</th>\n",
       "      <th>first_order_month</th>\n",
       "    </tr>\n",
       "  </thead>\n",
       "  <tbody>\n",
       "    <tr>\n",
       "      <td>0</td>\n",
       "      <td>313578113262317</td>\n",
       "      <td>2017-09-18 22:49:00</td>\n",
       "      <td>2017-09-18</td>\n",
       "      <td>2017-09-01</td>\n",
       "      <td>2018-01-03 21:51:00</td>\n",
       "      <td>2018-01-03</td>\n",
       "      <td>2018-01-01</td>\n",
       "    </tr>\n",
       "    <tr>\n",
       "      <td>1</td>\n",
       "      <td>1575281904278712</td>\n",
       "      <td>2017-06-03 10:13:00</td>\n",
       "      <td>2017-06-03</td>\n",
       "      <td>2017-06-01</td>\n",
       "      <td>2017-06-03 10:13:00</td>\n",
       "      <td>2017-06-03</td>\n",
       "      <td>2017-06-01</td>\n",
       "    </tr>\n",
       "    <tr>\n",
       "      <td>2</td>\n",
       "      <td>2429014661409475</td>\n",
       "      <td>2017-10-11 17:14:00</td>\n",
       "      <td>2017-10-11</td>\n",
       "      <td>2017-10-01</td>\n",
       "      <td>2017-10-11 18:33:00</td>\n",
       "      <td>2017-10-11</td>\n",
       "      <td>2017-10-01</td>\n",
       "    </tr>\n",
       "    <tr>\n",
       "      <td>3</td>\n",
       "      <td>2464366381792757</td>\n",
       "      <td>2018-01-27 20:10:00</td>\n",
       "      <td>2018-01-27</td>\n",
       "      <td>2018-01-01</td>\n",
       "      <td>2018-01-28 15:54:00</td>\n",
       "      <td>2018-01-28</td>\n",
       "      <td>2018-01-01</td>\n",
       "    </tr>\n",
       "    <tr>\n",
       "      <td>4</td>\n",
       "      <td>2551852515556206</td>\n",
       "      <td>2017-11-24 10:14:00</td>\n",
       "      <td>2017-11-24</td>\n",
       "      <td>2017-11-01</td>\n",
       "      <td>2017-11-24 10:14:00</td>\n",
       "      <td>2017-11-24</td>\n",
       "      <td>2017-11-01</td>\n",
       "    </tr>\n",
       "    <tr>\n",
       "      <td>...</td>\n",
       "      <td>...</td>\n",
       "      <td>...</td>\n",
       "      <td>...</td>\n",
       "      <td>...</td>\n",
       "      <td>...</td>\n",
       "      <td>...</td>\n",
       "      <td>...</td>\n",
       "    </tr>\n",
       "    <tr>\n",
       "      <td>36518</td>\n",
       "      <td>18445147675727495770</td>\n",
       "      <td>2017-08-20 13:30:00</td>\n",
       "      <td>2017-08-20</td>\n",
       "      <td>2017-08-01</td>\n",
       "      <td>2017-11-24 09:03:00</td>\n",
       "      <td>2017-11-24</td>\n",
       "      <td>2017-11-01</td>\n",
       "    </tr>\n",
       "    <tr>\n",
       "      <td>36519</td>\n",
       "      <td>18445407535914413204</td>\n",
       "      <td>2017-09-22 23:48:00</td>\n",
       "      <td>2017-09-22</td>\n",
       "      <td>2017-09-01</td>\n",
       "      <td>2017-09-22 23:55:00</td>\n",
       "      <td>2017-09-22</td>\n",
       "      <td>2017-09-01</td>\n",
       "    </tr>\n",
       "    <tr>\n",
       "      <td>36520</td>\n",
       "      <td>18445601152732270159</td>\n",
       "      <td>2017-08-07 11:51:00</td>\n",
       "      <td>2017-08-07</td>\n",
       "      <td>2017-08-01</td>\n",
       "      <td>2018-03-26 22:54:00</td>\n",
       "      <td>2018-03-26</td>\n",
       "      <td>2018-03-01</td>\n",
       "    </tr>\n",
       "    <tr>\n",
       "      <td>36521</td>\n",
       "      <td>18446156210226471712</td>\n",
       "      <td>2017-11-07 10:01:00</td>\n",
       "      <td>2017-11-07</td>\n",
       "      <td>2017-11-01</td>\n",
       "      <td>2018-02-18 19:34:00</td>\n",
       "      <td>2018-02-18</td>\n",
       "      <td>2018-02-01</td>\n",
       "    </tr>\n",
       "    <tr>\n",
       "      <td>36522</td>\n",
       "      <td>18446167067214817906</td>\n",
       "      <td>2017-10-17 10:05:00</td>\n",
       "      <td>2017-10-17</td>\n",
       "      <td>2017-10-01</td>\n",
       "      <td>2017-10-17 10:16:00</td>\n",
       "      <td>2017-10-17</td>\n",
       "      <td>2017-10-01</td>\n",
       "    </tr>\n",
       "  </tbody>\n",
       "</table>\n",
       "<p>36523 rows × 7 columns</p>\n",
       "</div>"
      ],
      "text/plain": [
       "                        Uid first_session_start1 first_session_dt  \\\n",
       "0           313578113262317  2017-09-18 22:49:00       2017-09-18   \n",
       "1          1575281904278712  2017-06-03 10:13:00       2017-06-03   \n",
       "2          2429014661409475  2017-10-11 17:14:00       2017-10-11   \n",
       "3          2464366381792757  2018-01-27 20:10:00       2018-01-27   \n",
       "4          2551852515556206  2017-11-24 10:14:00       2017-11-24   \n",
       "...                     ...                  ...              ...   \n",
       "36518  18445147675727495770  2017-08-20 13:30:00       2017-08-20   \n",
       "36519  18445407535914413204  2017-09-22 23:48:00       2017-09-22   \n",
       "36520  18445601152732270159  2017-08-07 11:51:00       2017-08-07   \n",
       "36521  18446156210226471712  2017-11-07 10:01:00       2017-11-07   \n",
       "36522  18446167067214817906  2017-10-17 10:05:00       2017-10-17   \n",
       "\n",
       "      first_session_month     first_order_ts1 first_order_dt first_order_month  \n",
       "0              2017-09-01 2018-01-03 21:51:00     2018-01-03        2018-01-01  \n",
       "1              2017-06-01 2017-06-03 10:13:00     2017-06-03        2017-06-01  \n",
       "2              2017-10-01 2017-10-11 18:33:00     2017-10-11        2017-10-01  \n",
       "3              2018-01-01 2018-01-28 15:54:00     2018-01-28        2018-01-01  \n",
       "4              2017-11-01 2017-11-24 10:14:00     2017-11-24        2017-11-01  \n",
       "...                   ...                 ...            ...               ...  \n",
       "36518          2017-08-01 2017-11-24 09:03:00     2017-11-24        2017-11-01  \n",
       "36519          2017-09-01 2017-09-22 23:55:00     2017-09-22        2017-09-01  \n",
       "36520          2017-08-01 2018-03-26 22:54:00     2018-03-26        2018-03-01  \n",
       "36521          2017-11-01 2018-02-18 19:34:00     2018-02-18        2018-02-01  \n",
       "36522          2017-10-01 2017-10-17 10:16:00     2017-10-17        2017-10-01  \n",
       "\n",
       "[36523 rows x 7 columns]"
      ]
     },
     "execution_count": 164,
     "metadata": {},
     "output_type": "execute_result"
    }
   ],
   "source": [
    "buyers"
   ]
  },
  {
   "cell_type": "markdown",
   "metadata": {},
   "source": [
    "Рассчитаем САС для каждого источника трафика. Найдем первый рекламный источник, из которого пришел каждый пользователь"
   ]
  },
  {
   "cell_type": "code",
   "execution_count": 165,
   "metadata": {},
   "outputs": [],
   "source": [
    "df_users = visits.sort_values('Start Ts').groupby('Uid').first()"
   ]
  },
  {
   "cell_type": "code",
   "execution_count": 166,
   "metadata": {},
   "outputs": [
    {
     "data": {
      "text/html": [
       "<div>\n",
       "<style scoped>\n",
       "    .dataframe tbody tr th:only-of-type {\n",
       "        vertical-align: middle;\n",
       "    }\n",
       "\n",
       "    .dataframe tbody tr th {\n",
       "        vertical-align: top;\n",
       "    }\n",
       "\n",
       "    .dataframe thead th {\n",
       "        text-align: right;\n",
       "    }\n",
       "</style>\n",
       "<table border=\"1\" class=\"dataframe\">\n",
       "  <thead>\n",
       "    <tr style=\"text-align: right;\">\n",
       "      <th></th>\n",
       "      <th>Device</th>\n",
       "      <th>End Ts</th>\n",
       "      <th>Source Id</th>\n",
       "      <th>Start Ts</th>\n",
       "      <th>session_year</th>\n",
       "      <th>session_day</th>\n",
       "      <th>session_week</th>\n",
       "      <th>session_month</th>\n",
       "      <th>session_duration</th>\n",
       "      <th>visit_day</th>\n",
       "      <th>visit_week</th>\n",
       "      <th>visit_month</th>\n",
       "      <th>session_duration_sec</th>\n",
       "      <th>first_visit</th>\n",
       "      <th>first_visit_month</th>\n",
       "      <th>lifetime</th>\n",
       "    </tr>\n",
       "    <tr>\n",
       "      <th>Uid</th>\n",
       "      <th></th>\n",
       "      <th></th>\n",
       "      <th></th>\n",
       "      <th></th>\n",
       "      <th></th>\n",
       "      <th></th>\n",
       "      <th></th>\n",
       "      <th></th>\n",
       "      <th></th>\n",
       "      <th></th>\n",
       "      <th></th>\n",
       "      <th></th>\n",
       "      <th></th>\n",
       "      <th></th>\n",
       "      <th></th>\n",
       "      <th></th>\n",
       "    </tr>\n",
       "  </thead>\n",
       "  <tbody>\n",
       "    <tr>\n",
       "      <td>11863502262781</td>\n",
       "      <td>touch</td>\n",
       "      <td>2018-03-01 17:33:00</td>\n",
       "      <td>3</td>\n",
       "      <td>2018-03-01 17:27:00</td>\n",
       "      <td>2018</td>\n",
       "      <td>2018-03-01</td>\n",
       "      <td>9</td>\n",
       "      <td>3</td>\n",
       "      <td>00:06:00</td>\n",
       "      <td>2018-03-01</td>\n",
       "      <td>2018-03-01</td>\n",
       "      <td>2018-03-01</td>\n",
       "      <td>360</td>\n",
       "      <td>2018-03-01 17:27:00</td>\n",
       "      <td>2018-03-01</td>\n",
       "      <td>0</td>\n",
       "    </tr>\n",
       "    <tr>\n",
       "      <td>49537067089222</td>\n",
       "      <td>touch</td>\n",
       "      <td>2018-02-06 15:57:00</td>\n",
       "      <td>2</td>\n",
       "      <td>2018-02-06 15:55:00</td>\n",
       "      <td>2018</td>\n",
       "      <td>2018-02-06</td>\n",
       "      <td>6</td>\n",
       "      <td>2</td>\n",
       "      <td>00:02:00</td>\n",
       "      <td>2018-02-06</td>\n",
       "      <td>2018-02-01</td>\n",
       "      <td>2018-02-01</td>\n",
       "      <td>120</td>\n",
       "      <td>2018-02-06 15:55:00</td>\n",
       "      <td>2018-02-01</td>\n",
       "      <td>0</td>\n",
       "    </tr>\n",
       "    <tr>\n",
       "      <td>297729379853735</td>\n",
       "      <td>desktop</td>\n",
       "      <td>2017-06-07 18:48:00</td>\n",
       "      <td>3</td>\n",
       "      <td>2017-06-07 18:47:00</td>\n",
       "      <td>2017</td>\n",
       "      <td>2017-06-07</td>\n",
       "      <td>23</td>\n",
       "      <td>6</td>\n",
       "      <td>00:01:00</td>\n",
       "      <td>2017-06-07</td>\n",
       "      <td>2017-06-01</td>\n",
       "      <td>2017-06-01</td>\n",
       "      <td>60</td>\n",
       "      <td>2017-06-07 18:47:00</td>\n",
       "      <td>2017-06-01</td>\n",
       "      <td>0</td>\n",
       "    </tr>\n",
       "    <tr>\n",
       "      <td>313578113262317</td>\n",
       "      <td>desktop</td>\n",
       "      <td>2017-09-18 23:07:00</td>\n",
       "      <td>2</td>\n",
       "      <td>2017-09-18 22:49:00</td>\n",
       "      <td>2017</td>\n",
       "      <td>2017-09-18</td>\n",
       "      <td>38</td>\n",
       "      <td>9</td>\n",
       "      <td>00:18:00</td>\n",
       "      <td>2017-09-18</td>\n",
       "      <td>2017-09-14</td>\n",
       "      <td>2017-09-01</td>\n",
       "      <td>1080</td>\n",
       "      <td>2017-09-18 22:49:00</td>\n",
       "      <td>2017-09-01</td>\n",
       "      <td>0</td>\n",
       "    </tr>\n",
       "    <tr>\n",
       "      <td>325320750514679</td>\n",
       "      <td>desktop</td>\n",
       "      <td>2017-09-30 14:38:00</td>\n",
       "      <td>5</td>\n",
       "      <td>2017-09-30 14:29:00</td>\n",
       "      <td>2017</td>\n",
       "      <td>2017-09-30</td>\n",
       "      <td>39</td>\n",
       "      <td>9</td>\n",
       "      <td>00:09:00</td>\n",
       "      <td>2017-09-30</td>\n",
       "      <td>2017-09-28</td>\n",
       "      <td>2017-09-01</td>\n",
       "      <td>540</td>\n",
       "      <td>2017-09-30 14:29:00</td>\n",
       "      <td>2017-09-01</td>\n",
       "      <td>0</td>\n",
       "    </tr>\n",
       "    <tr>\n",
       "      <td>...</td>\n",
       "      <td>...</td>\n",
       "      <td>...</td>\n",
       "      <td>...</td>\n",
       "      <td>...</td>\n",
       "      <td>...</td>\n",
       "      <td>...</td>\n",
       "      <td>...</td>\n",
       "      <td>...</td>\n",
       "      <td>...</td>\n",
       "      <td>...</td>\n",
       "      <td>...</td>\n",
       "      <td>...</td>\n",
       "      <td>...</td>\n",
       "      <td>...</td>\n",
       "      <td>...</td>\n",
       "      <td>...</td>\n",
       "    </tr>\n",
       "    <tr>\n",
       "      <td>18446403737806311543</td>\n",
       "      <td>desktop</td>\n",
       "      <td>2017-11-30 03:39:00</td>\n",
       "      <td>5</td>\n",
       "      <td>2017-11-30 03:36:00</td>\n",
       "      <td>2017</td>\n",
       "      <td>2017-11-30</td>\n",
       "      <td>48</td>\n",
       "      <td>11</td>\n",
       "      <td>00:03:00</td>\n",
       "      <td>2017-11-30</td>\n",
       "      <td>2017-11-30</td>\n",
       "      <td>2017-11-01</td>\n",
       "      <td>180</td>\n",
       "      <td>2017-11-30 03:36:00</td>\n",
       "      <td>2017-11-01</td>\n",
       "      <td>0</td>\n",
       "    </tr>\n",
       "    <tr>\n",
       "      <td>18446424184725333426</td>\n",
       "      <td>touch</td>\n",
       "      <td>2017-12-06 20:32:00</td>\n",
       "      <td>4</td>\n",
       "      <td>2017-12-06 20:32:00</td>\n",
       "      <td>2017</td>\n",
       "      <td>2017-12-06</td>\n",
       "      <td>49</td>\n",
       "      <td>12</td>\n",
       "      <td>00:00:00</td>\n",
       "      <td>2017-12-06</td>\n",
       "      <td>2017-11-30</td>\n",
       "      <td>2017-12-01</td>\n",
       "      <td>0</td>\n",
       "      <td>2017-12-06 20:32:00</td>\n",
       "      <td>2017-12-01</td>\n",
       "      <td>0</td>\n",
       "    </tr>\n",
       "    <tr>\n",
       "      <td>18446556406699109058</td>\n",
       "      <td>touch</td>\n",
       "      <td>2018-01-01 16:31:00</td>\n",
       "      <td>3</td>\n",
       "      <td>2018-01-01 16:29:00</td>\n",
       "      <td>2018</td>\n",
       "      <td>2018-01-01</td>\n",
       "      <td>1</td>\n",
       "      <td>1</td>\n",
       "      <td>00:02:00</td>\n",
       "      <td>2018-01-01</td>\n",
       "      <td>2017-12-28</td>\n",
       "      <td>2018-01-01</td>\n",
       "      <td>120</td>\n",
       "      <td>2018-01-01 16:29:00</td>\n",
       "      <td>2018-01-01</td>\n",
       "      <td>0</td>\n",
       "    </tr>\n",
       "    <tr>\n",
       "      <td>18446621818809592527</td>\n",
       "      <td>desktop</td>\n",
       "      <td>2017-12-27 14:08:00</td>\n",
       "      <td>4</td>\n",
       "      <td>2017-12-27 13:27:00</td>\n",
       "      <td>2017</td>\n",
       "      <td>2017-12-27</td>\n",
       "      <td>52</td>\n",
       "      <td>12</td>\n",
       "      <td>00:41:00</td>\n",
       "      <td>2017-12-27</td>\n",
       "      <td>2017-12-21</td>\n",
       "      <td>2017-12-01</td>\n",
       "      <td>2460</td>\n",
       "      <td>2017-12-27 13:27:00</td>\n",
       "      <td>2017-12-01</td>\n",
       "      <td>0</td>\n",
       "    </tr>\n",
       "    <tr>\n",
       "      <td>18446676030785672386</td>\n",
       "      <td>desktop</td>\n",
       "      <td>2017-10-04 16:27:00</td>\n",
       "      <td>3</td>\n",
       "      <td>2017-10-04 16:01:00</td>\n",
       "      <td>2017</td>\n",
       "      <td>2017-10-04</td>\n",
       "      <td>40</td>\n",
       "      <td>10</td>\n",
       "      <td>00:26:00</td>\n",
       "      <td>2017-10-04</td>\n",
       "      <td>2017-09-28</td>\n",
       "      <td>2017-10-01</td>\n",
       "      <td>1560</td>\n",
       "      <td>2017-10-04 16:01:00</td>\n",
       "      <td>2017-10-01</td>\n",
       "      <td>0</td>\n",
       "    </tr>\n",
       "  </tbody>\n",
       "</table>\n",
       "<p>228169 rows × 16 columns</p>\n",
       "</div>"
      ],
      "text/plain": [
       "                       Device              End Ts  Source Id  \\\n",
       "Uid                                                            \n",
       "11863502262781          touch 2018-03-01 17:33:00          3   \n",
       "49537067089222          touch 2018-02-06 15:57:00          2   \n",
       "297729379853735       desktop 2017-06-07 18:48:00          3   \n",
       "313578113262317       desktop 2017-09-18 23:07:00          2   \n",
       "325320750514679       desktop 2017-09-30 14:38:00          5   \n",
       "...                       ...                 ...        ...   \n",
       "18446403737806311543  desktop 2017-11-30 03:39:00          5   \n",
       "18446424184725333426    touch 2017-12-06 20:32:00          4   \n",
       "18446556406699109058    touch 2018-01-01 16:31:00          3   \n",
       "18446621818809592527  desktop 2017-12-27 14:08:00          4   \n",
       "18446676030785672386  desktop 2017-10-04 16:27:00          3   \n",
       "\n",
       "                                Start Ts  session_year session_day  \\\n",
       "Uid                                                                  \n",
       "11863502262781       2018-03-01 17:27:00          2018  2018-03-01   \n",
       "49537067089222       2018-02-06 15:55:00          2018  2018-02-06   \n",
       "297729379853735      2017-06-07 18:47:00          2017  2017-06-07   \n",
       "313578113262317      2017-09-18 22:49:00          2017  2017-09-18   \n",
       "325320750514679      2017-09-30 14:29:00          2017  2017-09-30   \n",
       "...                                  ...           ...         ...   \n",
       "18446403737806311543 2017-11-30 03:36:00          2017  2017-11-30   \n",
       "18446424184725333426 2017-12-06 20:32:00          2017  2017-12-06   \n",
       "18446556406699109058 2018-01-01 16:29:00          2018  2018-01-01   \n",
       "18446621818809592527 2017-12-27 13:27:00          2017  2017-12-27   \n",
       "18446676030785672386 2017-10-04 16:01:00          2017  2017-10-04   \n",
       "\n",
       "                      session_week  session_month session_duration  \\\n",
       "Uid                                                                  \n",
       "11863502262781                   9              3         00:06:00   \n",
       "49537067089222                   6              2         00:02:00   \n",
       "297729379853735                 23              6         00:01:00   \n",
       "313578113262317                 38              9         00:18:00   \n",
       "325320750514679                 39              9         00:09:00   \n",
       "...                            ...            ...              ...   \n",
       "18446403737806311543            48             11         00:03:00   \n",
       "18446424184725333426            49             12         00:00:00   \n",
       "18446556406699109058             1              1         00:02:00   \n",
       "18446621818809592527            52             12         00:41:00   \n",
       "18446676030785672386            40             10         00:26:00   \n",
       "\n",
       "                       visit_day visit_week visit_month  session_duration_sec  \\\n",
       "Uid                                                                             \n",
       "11863502262781        2018-03-01 2018-03-01  2018-03-01                   360   \n",
       "49537067089222        2018-02-06 2018-02-01  2018-02-01                   120   \n",
       "297729379853735       2017-06-07 2017-06-01  2017-06-01                    60   \n",
       "313578113262317       2017-09-18 2017-09-14  2017-09-01                  1080   \n",
       "325320750514679       2017-09-30 2017-09-28  2017-09-01                   540   \n",
       "...                          ...        ...         ...                   ...   \n",
       "18446403737806311543  2017-11-30 2017-11-30  2017-11-01                   180   \n",
       "18446424184725333426  2017-12-06 2017-11-30  2017-12-01                     0   \n",
       "18446556406699109058  2018-01-01 2017-12-28  2018-01-01                   120   \n",
       "18446621818809592527  2017-12-27 2017-12-21  2017-12-01                  2460   \n",
       "18446676030785672386  2017-10-04 2017-09-28  2017-10-01                  1560   \n",
       "\n",
       "                             first_visit first_visit_month  lifetime  \n",
       "Uid                                                                   \n",
       "11863502262781       2018-03-01 17:27:00        2018-03-01         0  \n",
       "49537067089222       2018-02-06 15:55:00        2018-02-01         0  \n",
       "297729379853735      2017-06-07 18:47:00        2017-06-01         0  \n",
       "313578113262317      2017-09-18 22:49:00        2017-09-01         0  \n",
       "325320750514679      2017-09-30 14:29:00        2017-09-01         0  \n",
       "...                                  ...               ...       ...  \n",
       "18446403737806311543 2017-11-30 03:36:00        2017-11-01         0  \n",
       "18446424184725333426 2017-12-06 20:32:00        2017-12-01         0  \n",
       "18446556406699109058 2018-01-01 16:29:00        2018-01-01         0  \n",
       "18446621818809592527 2017-12-27 13:27:00        2017-12-01         0  \n",
       "18446676030785672386 2017-10-04 16:01:00        2017-10-01         0  \n",
       "\n",
       "[228169 rows x 16 columns]"
      ]
     },
     "execution_count": 166,
     "metadata": {},
     "output_type": "execute_result"
    }
   ],
   "source": [
    "df_users"
   ]
  },
  {
   "cell_type": "code",
   "execution_count": 167,
   "metadata": {},
   "outputs": [],
   "source": [
    "df_users = df_users[['Source Id']]"
   ]
  },
  {
   "cell_type": "code",
   "execution_count": 168,
   "metadata": {},
   "outputs": [
    {
     "data": {
      "text/html": [
       "<div>\n",
       "<style scoped>\n",
       "    .dataframe tbody tr th:only-of-type {\n",
       "        vertical-align: middle;\n",
       "    }\n",
       "\n",
       "    .dataframe tbody tr th {\n",
       "        vertical-align: top;\n",
       "    }\n",
       "\n",
       "    .dataframe thead th {\n",
       "        text-align: right;\n",
       "    }\n",
       "</style>\n",
       "<table border=\"1\" class=\"dataframe\">\n",
       "  <thead>\n",
       "    <tr style=\"text-align: right;\">\n",
       "      <th></th>\n",
       "      <th>Source Id</th>\n",
       "    </tr>\n",
       "    <tr>\n",
       "      <th>Uid</th>\n",
       "      <th></th>\n",
       "    </tr>\n",
       "  </thead>\n",
       "  <tbody>\n",
       "    <tr>\n",
       "      <td>11863502262781</td>\n",
       "      <td>3</td>\n",
       "    </tr>\n",
       "    <tr>\n",
       "      <td>49537067089222</td>\n",
       "      <td>2</td>\n",
       "    </tr>\n",
       "    <tr>\n",
       "      <td>297729379853735</td>\n",
       "      <td>3</td>\n",
       "    </tr>\n",
       "    <tr>\n",
       "      <td>313578113262317</td>\n",
       "      <td>2</td>\n",
       "    </tr>\n",
       "    <tr>\n",
       "      <td>325320750514679</td>\n",
       "      <td>5</td>\n",
       "    </tr>\n",
       "  </tbody>\n",
       "</table>\n",
       "</div>"
      ],
      "text/plain": [
       "                 Source Id\n",
       "Uid                       \n",
       "11863502262781           3\n",
       "49537067089222           2\n",
       "297729379853735          3\n",
       "313578113262317          2\n",
       "325320750514679          5"
      ]
     },
     "execution_count": 168,
     "metadata": {},
     "output_type": "execute_result"
    }
   ],
   "source": [
    "df_users.head(5)"
   ]
  },
  {
   "cell_type": "code",
   "execution_count": 169,
   "metadata": {},
   "outputs": [],
   "source": [
    "buyers = pd.merge(buyers, df_users, left_on='Uid', right_index=True)"
   ]
  },
  {
   "cell_type": "code",
   "execution_count": 170,
   "metadata": {},
   "outputs": [
    {
     "data": {
      "text/html": [
       "<div>\n",
       "<style scoped>\n",
       "    .dataframe tbody tr th:only-of-type {\n",
       "        vertical-align: middle;\n",
       "    }\n",
       "\n",
       "    .dataframe tbody tr th {\n",
       "        vertical-align: top;\n",
       "    }\n",
       "\n",
       "    .dataframe thead th {\n",
       "        text-align: right;\n",
       "    }\n",
       "</style>\n",
       "<table border=\"1\" class=\"dataframe\">\n",
       "  <thead>\n",
       "    <tr style=\"text-align: right;\">\n",
       "      <th></th>\n",
       "      <th>Uid</th>\n",
       "      <th>first_session_start1</th>\n",
       "      <th>first_session_dt</th>\n",
       "      <th>first_session_month</th>\n",
       "      <th>first_order_ts1</th>\n",
       "      <th>first_order_dt</th>\n",
       "      <th>first_order_month</th>\n",
       "      <th>Source Id</th>\n",
       "    </tr>\n",
       "  </thead>\n",
       "  <tbody>\n",
       "    <tr>\n",
       "      <td>0</td>\n",
       "      <td>313578113262317</td>\n",
       "      <td>2017-09-18 22:49:00</td>\n",
       "      <td>2017-09-18</td>\n",
       "      <td>2017-09-01</td>\n",
       "      <td>2018-01-03 21:51:00</td>\n",
       "      <td>2018-01-03</td>\n",
       "      <td>2018-01-01</td>\n",
       "      <td>2</td>\n",
       "    </tr>\n",
       "    <tr>\n",
       "      <td>1</td>\n",
       "      <td>1575281904278712</td>\n",
       "      <td>2017-06-03 10:13:00</td>\n",
       "      <td>2017-06-03</td>\n",
       "      <td>2017-06-01</td>\n",
       "      <td>2017-06-03 10:13:00</td>\n",
       "      <td>2017-06-03</td>\n",
       "      <td>2017-06-01</td>\n",
       "      <td>10</td>\n",
       "    </tr>\n",
       "    <tr>\n",
       "      <td>2</td>\n",
       "      <td>2429014661409475</td>\n",
       "      <td>2017-10-11 17:14:00</td>\n",
       "      <td>2017-10-11</td>\n",
       "      <td>2017-10-01</td>\n",
       "      <td>2017-10-11 18:33:00</td>\n",
       "      <td>2017-10-11</td>\n",
       "      <td>2017-10-01</td>\n",
       "      <td>3</td>\n",
       "    </tr>\n",
       "    <tr>\n",
       "      <td>3</td>\n",
       "      <td>2464366381792757</td>\n",
       "      <td>2018-01-27 20:10:00</td>\n",
       "      <td>2018-01-27</td>\n",
       "      <td>2018-01-01</td>\n",
       "      <td>2018-01-28 15:54:00</td>\n",
       "      <td>2018-01-28</td>\n",
       "      <td>2018-01-01</td>\n",
       "      <td>5</td>\n",
       "    </tr>\n",
       "    <tr>\n",
       "      <td>4</td>\n",
       "      <td>2551852515556206</td>\n",
       "      <td>2017-11-24 10:14:00</td>\n",
       "      <td>2017-11-24</td>\n",
       "      <td>2017-11-01</td>\n",
       "      <td>2017-11-24 10:14:00</td>\n",
       "      <td>2017-11-24</td>\n",
       "      <td>2017-11-01</td>\n",
       "      <td>5</td>\n",
       "    </tr>\n",
       "  </tbody>\n",
       "</table>\n",
       "</div>"
      ],
      "text/plain": [
       "                Uid first_session_start1 first_session_dt first_session_month  \\\n",
       "0   313578113262317  2017-09-18 22:49:00       2017-09-18          2017-09-01   \n",
       "1  1575281904278712  2017-06-03 10:13:00       2017-06-03          2017-06-01   \n",
       "2  2429014661409475  2017-10-11 17:14:00       2017-10-11          2017-10-01   \n",
       "3  2464366381792757  2018-01-27 20:10:00       2018-01-27          2018-01-01   \n",
       "4  2551852515556206  2017-11-24 10:14:00       2017-11-24          2017-11-01   \n",
       "\n",
       "      first_order_ts1 first_order_dt first_order_month  Source Id  \n",
       "0 2018-01-03 21:51:00     2018-01-03        2018-01-01          2  \n",
       "1 2017-06-03 10:13:00     2017-06-03        2017-06-01         10  \n",
       "2 2017-10-11 18:33:00     2017-10-11        2017-10-01          3  \n",
       "3 2018-01-28 15:54:00     2018-01-28        2018-01-01          5  \n",
       "4 2017-11-24 10:14:00     2017-11-24        2017-11-01          5  "
      ]
     },
     "execution_count": 170,
     "metadata": {},
     "output_type": "execute_result"
    }
   ],
   "source": [
    "buyers.head(5)"
   ]
  },
  {
   "cell_type": "markdown",
   "metadata": {},
   "source": [
    "Теперь знаем, из какого источника пришел какой пользователь"
   ]
  },
  {
   "cell_type": "markdown",
   "metadata": {},
   "source": [
    "Количество пользователей на каждый источник и на каждую дату: (т.е. считаем уникальных пользователей ежедневно)"
   ]
  },
  {
   "cell_type": "code",
   "execution_count": 171,
   "metadata": {},
   "outputs": [],
   "source": [
    "buyers_daily = buyers.groupby(['Source Id', 'first_order_dt']).agg({'Uid': 'count'}).reset_index()"
   ]
  },
  {
   "cell_type": "code",
   "execution_count": 172,
   "metadata": {},
   "outputs": [],
   "source": [
    "buyers_daily.rename(columns={'Uid':'n_buyers'}, inplace=True)"
   ]
  },
  {
   "cell_type": "code",
   "execution_count": 173,
   "metadata": {},
   "outputs": [],
   "source": [
    "buyers_daily.columns = (['source_id', 'first_order_dt', 'n_buyers'])"
   ]
  },
  {
   "cell_type": "code",
   "execution_count": 174,
   "metadata": {},
   "outputs": [],
   "source": [
    "buyers_daily['first_order_dt'] = pd.to_datetime(buyers_daily['first_order_dt'])"
   ]
  },
  {
   "cell_type": "code",
   "execution_count": 175,
   "metadata": {},
   "outputs": [
    {
     "data": {
      "text/html": [
       "<div>\n",
       "<style scoped>\n",
       "    .dataframe tbody tr th:only-of-type {\n",
       "        vertical-align: middle;\n",
       "    }\n",
       "\n",
       "    .dataframe tbody tr th {\n",
       "        vertical-align: top;\n",
       "    }\n",
       "\n",
       "    .dataframe thead th {\n",
       "        text-align: right;\n",
       "    }\n",
       "</style>\n",
       "<table border=\"1\" class=\"dataframe\">\n",
       "  <thead>\n",
       "    <tr style=\"text-align: right;\">\n",
       "      <th></th>\n",
       "      <th>source_id</th>\n",
       "      <th>first_order_dt</th>\n",
       "      <th>n_buyers</th>\n",
       "    </tr>\n",
       "  </thead>\n",
       "  <tbody>\n",
       "    <tr>\n",
       "      <td>0</td>\n",
       "      <td>1</td>\n",
       "      <td>2017-06-01</td>\n",
       "      <td>14</td>\n",
       "    </tr>\n",
       "    <tr>\n",
       "      <td>1</td>\n",
       "      <td>1</td>\n",
       "      <td>2017-06-02</td>\n",
       "      <td>7</td>\n",
       "    </tr>\n",
       "    <tr>\n",
       "      <td>2</td>\n",
       "      <td>1</td>\n",
       "      <td>2017-06-03</td>\n",
       "      <td>7</td>\n",
       "    </tr>\n",
       "    <tr>\n",
       "      <td>3</td>\n",
       "      <td>1</td>\n",
       "      <td>2017-06-04</td>\n",
       "      <td>3</td>\n",
       "    </tr>\n",
       "    <tr>\n",
       "      <td>4</td>\n",
       "      <td>1</td>\n",
       "      <td>2017-06-05</td>\n",
       "      <td>18</td>\n",
       "    </tr>\n",
       "  </tbody>\n",
       "</table>\n",
       "</div>"
      ],
      "text/plain": [
       "   source_id first_order_dt  n_buyers\n",
       "0          1     2017-06-01        14\n",
       "1          1     2017-06-02         7\n",
       "2          1     2017-06-03         7\n",
       "3          1     2017-06-04         3\n",
       "4          1     2017-06-05        18"
      ]
     },
     "execution_count": 175,
     "metadata": {},
     "output_type": "execute_result"
    }
   ],
   "source": [
    "buyers_daily.head(5)"
   ]
  },
  {
   "cell_type": "code",
   "execution_count": 176,
   "metadata": {},
   "outputs": [
    {
     "data": {
      "text/html": [
       "<div>\n",
       "<style scoped>\n",
       "    .dataframe tbody tr th:only-of-type {\n",
       "        vertical-align: middle;\n",
       "    }\n",
       "\n",
       "    .dataframe tbody tr th {\n",
       "        vertical-align: top;\n",
       "    }\n",
       "\n",
       "    .dataframe thead th {\n",
       "        text-align: right;\n",
       "    }\n",
       "</style>\n",
       "<table border=\"1\" class=\"dataframe\">\n",
       "  <thead>\n",
       "    <tr style=\"text-align: right;\">\n",
       "      <th></th>\n",
       "      <th>source_id</th>\n",
       "      <th>dt</th>\n",
       "      <th>costs</th>\n",
       "      <th>costs_month</th>\n",
       "    </tr>\n",
       "  </thead>\n",
       "  <tbody>\n",
       "    <tr>\n",
       "      <td>0</td>\n",
       "      <td>1</td>\n",
       "      <td>2017-06-01</td>\n",
       "      <td>75.20</td>\n",
       "      <td>2017-06-01</td>\n",
       "    </tr>\n",
       "    <tr>\n",
       "      <td>1</td>\n",
       "      <td>1</td>\n",
       "      <td>2017-06-02</td>\n",
       "      <td>62.25</td>\n",
       "      <td>2017-06-01</td>\n",
       "    </tr>\n",
       "    <tr>\n",
       "      <td>2</td>\n",
       "      <td>1</td>\n",
       "      <td>2017-06-03</td>\n",
       "      <td>36.53</td>\n",
       "      <td>2017-06-01</td>\n",
       "    </tr>\n",
       "    <tr>\n",
       "      <td>3</td>\n",
       "      <td>1</td>\n",
       "      <td>2017-06-04</td>\n",
       "      <td>55.00</td>\n",
       "      <td>2017-06-01</td>\n",
       "    </tr>\n",
       "    <tr>\n",
       "      <td>4</td>\n",
       "      <td>1</td>\n",
       "      <td>2017-06-05</td>\n",
       "      <td>57.08</td>\n",
       "      <td>2017-06-01</td>\n",
       "    </tr>\n",
       "    <tr>\n",
       "      <td>...</td>\n",
       "      <td>...</td>\n",
       "      <td>...</td>\n",
       "      <td>...</td>\n",
       "      <td>...</td>\n",
       "    </tr>\n",
       "    <tr>\n",
       "      <td>2537</td>\n",
       "      <td>10</td>\n",
       "      <td>2018-05-27</td>\n",
       "      <td>9.92</td>\n",
       "      <td>2018-05-01</td>\n",
       "    </tr>\n",
       "    <tr>\n",
       "      <td>2538</td>\n",
       "      <td>10</td>\n",
       "      <td>2018-05-28</td>\n",
       "      <td>21.26</td>\n",
       "      <td>2018-05-01</td>\n",
       "    </tr>\n",
       "    <tr>\n",
       "      <td>2539</td>\n",
       "      <td>10</td>\n",
       "      <td>2018-05-29</td>\n",
       "      <td>11.32</td>\n",
       "      <td>2018-05-01</td>\n",
       "    </tr>\n",
       "    <tr>\n",
       "      <td>2540</td>\n",
       "      <td>10</td>\n",
       "      <td>2018-05-30</td>\n",
       "      <td>33.15</td>\n",
       "      <td>2018-05-01</td>\n",
       "    </tr>\n",
       "    <tr>\n",
       "      <td>2541</td>\n",
       "      <td>10</td>\n",
       "      <td>2018-05-31</td>\n",
       "      <td>17.60</td>\n",
       "      <td>2018-05-01</td>\n",
       "    </tr>\n",
       "  </tbody>\n",
       "</table>\n",
       "<p>2542 rows × 4 columns</p>\n",
       "</div>"
      ],
      "text/plain": [
       "      source_id         dt  costs costs_month\n",
       "0             1 2017-06-01  75.20  2017-06-01\n",
       "1             1 2017-06-02  62.25  2017-06-01\n",
       "2             1 2017-06-03  36.53  2017-06-01\n",
       "3             1 2017-06-04  55.00  2017-06-01\n",
       "4             1 2017-06-05  57.08  2017-06-01\n",
       "...         ...        ...    ...         ...\n",
       "2537         10 2018-05-27   9.92  2018-05-01\n",
       "2538         10 2018-05-28  21.26  2018-05-01\n",
       "2539         10 2018-05-29  11.32  2018-05-01\n",
       "2540         10 2018-05-30  33.15  2018-05-01\n",
       "2541         10 2018-05-31  17.60  2018-05-01\n",
       "\n",
       "[2542 rows x 4 columns]"
      ]
     },
     "execution_count": 176,
     "metadata": {},
     "output_type": "execute_result"
    }
   ],
   "source": [
    "costs"
   ]
  },
  {
   "cell_type": "code",
   "execution_count": 177,
   "metadata": {},
   "outputs": [],
   "source": [
    "costs_ =pd.merge(buyers_daily, costs, left_on=['source_id', 'first_order_dt'], right_on=['source_id', 'dt'])"
   ]
  },
  {
   "cell_type": "markdown",
   "metadata": {},
   "source": [
    "Считаем расходы на покупателя:"
   ]
  },
  {
   "cell_type": "code",
   "execution_count": 178,
   "metadata": {},
   "outputs": [],
   "source": [
    "costs_['costs_per_buyer'] = costs_['costs']/costs_['n_buyers']"
   ]
  },
  {
   "cell_type": "code",
   "execution_count": 179,
   "metadata": {},
   "outputs": [
    {
     "data": {
      "text/html": [
       "<div>\n",
       "<style scoped>\n",
       "    .dataframe tbody tr th:only-of-type {\n",
       "        vertical-align: middle;\n",
       "    }\n",
       "\n",
       "    .dataframe tbody tr th {\n",
       "        vertical-align: top;\n",
       "    }\n",
       "\n",
       "    .dataframe thead th {\n",
       "        text-align: right;\n",
       "    }\n",
       "</style>\n",
       "<table border=\"1\" class=\"dataframe\">\n",
       "  <thead>\n",
       "    <tr style=\"text-align: right;\">\n",
       "      <th></th>\n",
       "      <th>source_id</th>\n",
       "      <th>first_order_dt</th>\n",
       "      <th>n_buyers</th>\n",
       "      <th>dt</th>\n",
       "      <th>costs</th>\n",
       "      <th>costs_month</th>\n",
       "      <th>costs_per_buyer</th>\n",
       "    </tr>\n",
       "  </thead>\n",
       "  <tbody>\n",
       "    <tr>\n",
       "      <td>0</td>\n",
       "      <td>1</td>\n",
       "      <td>2017-06-01</td>\n",
       "      <td>14</td>\n",
       "      <td>2017-06-01</td>\n",
       "      <td>75.20</td>\n",
       "      <td>2017-06-01</td>\n",
       "      <td>5.371429</td>\n",
       "    </tr>\n",
       "    <tr>\n",
       "      <td>1</td>\n",
       "      <td>1</td>\n",
       "      <td>2017-06-02</td>\n",
       "      <td>7</td>\n",
       "      <td>2017-06-02</td>\n",
       "      <td>62.25</td>\n",
       "      <td>2017-06-01</td>\n",
       "      <td>8.892857</td>\n",
       "    </tr>\n",
       "    <tr>\n",
       "      <td>2</td>\n",
       "      <td>1</td>\n",
       "      <td>2017-06-03</td>\n",
       "      <td>7</td>\n",
       "      <td>2017-06-03</td>\n",
       "      <td>36.53</td>\n",
       "      <td>2017-06-01</td>\n",
       "      <td>5.218571</td>\n",
       "    </tr>\n",
       "    <tr>\n",
       "      <td>3</td>\n",
       "      <td>1</td>\n",
       "      <td>2017-06-04</td>\n",
       "      <td>3</td>\n",
       "      <td>2017-06-04</td>\n",
       "      <td>55.00</td>\n",
       "      <td>2017-06-01</td>\n",
       "      <td>18.333333</td>\n",
       "    </tr>\n",
       "    <tr>\n",
       "      <td>4</td>\n",
       "      <td>1</td>\n",
       "      <td>2017-06-05</td>\n",
       "      <td>18</td>\n",
       "      <td>2017-06-05</td>\n",
       "      <td>57.08</td>\n",
       "      <td>2017-06-01</td>\n",
       "      <td>3.171111</td>\n",
       "    </tr>\n",
       "  </tbody>\n",
       "</table>\n",
       "</div>"
      ],
      "text/plain": [
       "   source_id first_order_dt  n_buyers         dt  costs costs_month  \\\n",
       "0          1     2017-06-01        14 2017-06-01  75.20  2017-06-01   \n",
       "1          1     2017-06-02         7 2017-06-02  62.25  2017-06-01   \n",
       "2          1     2017-06-03         7 2017-06-03  36.53  2017-06-01   \n",
       "3          1     2017-06-04         3 2017-06-04  55.00  2017-06-01   \n",
       "4          1     2017-06-05        18 2017-06-05  57.08  2017-06-01   \n",
       "\n",
       "   costs_per_buyer  \n",
       "0         5.371429  \n",
       "1         8.892857  \n",
       "2         5.218571  \n",
       "3        18.333333  \n",
       "4         3.171111  "
      ]
     },
     "execution_count": 179,
     "metadata": {},
     "output_type": "execute_result"
    }
   ],
   "source": [
    "costs_.head(5)"
   ]
  },
  {
   "cell_type": "markdown",
   "metadata": {},
   "source": [
    "Выводим сводную таблицу среднего CAC по источнику/месяцу; и строим график стоимости привлечения одного покупателя из каждого источника"
   ]
  },
  {
   "cell_type": "code",
   "execution_count": 180,
   "metadata": {},
   "outputs": [
    {
     "data": {
      "text/html": [
       "<div>\n",
       "<style scoped>\n",
       "    .dataframe tbody tr th:only-of-type {\n",
       "        vertical-align: middle;\n",
       "    }\n",
       "\n",
       "    .dataframe tbody tr th {\n",
       "        vertical-align: top;\n",
       "    }\n",
       "\n",
       "    .dataframe thead th {\n",
       "        text-align: right;\n",
       "    }\n",
       "</style>\n",
       "<table border=\"1\" class=\"dataframe\">\n",
       "  <thead>\n",
       "    <tr style=\"text-align: right;\">\n",
       "      <th>source_id</th>\n",
       "      <th>1</th>\n",
       "      <th>2</th>\n",
       "      <th>3</th>\n",
       "      <th>4</th>\n",
       "      <th>5</th>\n",
       "      <th>9</th>\n",
       "      <th>10</th>\n",
       "    </tr>\n",
       "    <tr>\n",
       "      <th>costs_month</th>\n",
       "      <th></th>\n",
       "      <th></th>\n",
       "      <th></th>\n",
       "      <th></th>\n",
       "      <th></th>\n",
       "      <th></th>\n",
       "      <th></th>\n",
       "    </tr>\n",
       "  </thead>\n",
       "  <tbody>\n",
       "    <tr>\n",
       "      <td>2017-06-01</td>\n",
       "      <td>11.681283</td>\n",
       "      <td>12.883568</td>\n",
       "      <td>16.716919</td>\n",
       "      <td>10.792094</td>\n",
       "      <td>9.209676</td>\n",
       "      <td>5.253654</td>\n",
       "      <td>4.590158</td>\n",
       "    </tr>\n",
       "    <tr>\n",
       "      <td>2017-07-01</td>\n",
       "      <td>9.491485</td>\n",
       "      <td>18.000253</td>\n",
       "      <td>18.593952</td>\n",
       "      <td>8.054482</td>\n",
       "      <td>7.938157</td>\n",
       "      <td>5.582433</td>\n",
       "      <td>6.151880</td>\n",
       "    </tr>\n",
       "    <tr>\n",
       "      <td>2017-08-01</td>\n",
       "      <td>12.118898</td>\n",
       "      <td>18.886449</td>\n",
       "      <td>19.795068</td>\n",
       "      <td>11.554926</td>\n",
       "      <td>6.879620</td>\n",
       "      <td>4.900254</td>\n",
       "      <td>5.813398</td>\n",
       "    </tr>\n",
       "    <tr>\n",
       "      <td>2017-09-01</td>\n",
       "      <td>8.155731</td>\n",
       "      <td>17.672249</td>\n",
       "      <td>13.084043</td>\n",
       "      <td>9.533800</td>\n",
       "      <td>6.864844</td>\n",
       "      <td>6.049126</td>\n",
       "      <td>8.306581</td>\n",
       "    </tr>\n",
       "    <tr>\n",
       "      <td>2017-10-01</td>\n",
       "      <td>8.202083</td>\n",
       "      <td>14.193003</td>\n",
       "      <td>14.613088</td>\n",
       "      <td>6.233562</td>\n",
       "      <td>6.305969</td>\n",
       "      <td>5.923235</td>\n",
       "      <td>6.362921</td>\n",
       "    </tr>\n",
       "    <tr>\n",
       "      <td>2017-11-01</td>\n",
       "      <td>8.908503</td>\n",
       "      <td>17.437690</td>\n",
       "      <td>16.091445</td>\n",
       "      <td>5.013132</td>\n",
       "      <td>9.368019</td>\n",
       "      <td>9.400503</td>\n",
       "      <td>10.801337</td>\n",
       "    </tr>\n",
       "    <tr>\n",
       "      <td>2017-12-01</td>\n",
       "      <td>8.570439</td>\n",
       "      <td>13.871086</td>\n",
       "      <td>12.948321</td>\n",
       "      <td>5.656507</td>\n",
       "      <td>8.399174</td>\n",
       "      <td>7.899420</td>\n",
       "      <td>7.803197</td>\n",
       "    </tr>\n",
       "    <tr>\n",
       "      <td>2018-01-01</td>\n",
       "      <td>11.719181</td>\n",
       "      <td>15.850151</td>\n",
       "      <td>15.134989</td>\n",
       "      <td>5.901092</td>\n",
       "      <td>9.371755</td>\n",
       "      <td>9.792713</td>\n",
       "      <td>9.851557</td>\n",
       "    </tr>\n",
       "    <tr>\n",
       "      <td>2018-02-01</td>\n",
       "      <td>10.752216</td>\n",
       "      <td>18.209325</td>\n",
       "      <td>13.894612</td>\n",
       "      <td>5.428068</td>\n",
       "      <td>7.725369</td>\n",
       "      <td>8.181382</td>\n",
       "      <td>4.489624</td>\n",
       "    </tr>\n",
       "    <tr>\n",
       "      <td>2018-03-01</td>\n",
       "      <td>8.021974</td>\n",
       "      <td>16.122180</td>\n",
       "      <td>15.563841</td>\n",
       "      <td>6.753624</td>\n",
       "      <td>10.309222</td>\n",
       "      <td>5.312877</td>\n",
       "      <td>4.233605</td>\n",
       "    </tr>\n",
       "    <tr>\n",
       "      <td>2018-04-01</td>\n",
       "      <td>8.584114</td>\n",
       "      <td>17.648538</td>\n",
       "      <td>15.961657</td>\n",
       "      <td>6.567086</td>\n",
       "      <td>9.631068</td>\n",
       "      <td>6.491157</td>\n",
       "      <td>4.394415</td>\n",
       "    </tr>\n",
       "    <tr>\n",
       "      <td>2018-05-01</td>\n",
       "      <td>7.851694</td>\n",
       "      <td>14.994208</td>\n",
       "      <td>14.401278</td>\n",
       "      <td>5.628901</td>\n",
       "      <td>8.139812</td>\n",
       "      <td>6.506049</td>\n",
       "      <td>5.176317</td>\n",
       "    </tr>\n",
       "  </tbody>\n",
       "</table>\n",
       "</div>"
      ],
      "text/plain": [
       "source_id           1          2          3          4          5         9   \\\n",
       "costs_month                                                                    \n",
       "2017-06-01   11.681283  12.883568  16.716919  10.792094   9.209676  5.253654   \n",
       "2017-07-01    9.491485  18.000253  18.593952   8.054482   7.938157  5.582433   \n",
       "2017-08-01   12.118898  18.886449  19.795068  11.554926   6.879620  4.900254   \n",
       "2017-09-01    8.155731  17.672249  13.084043   9.533800   6.864844  6.049126   \n",
       "2017-10-01    8.202083  14.193003  14.613088   6.233562   6.305969  5.923235   \n",
       "2017-11-01    8.908503  17.437690  16.091445   5.013132   9.368019  9.400503   \n",
       "2017-12-01    8.570439  13.871086  12.948321   5.656507   8.399174  7.899420   \n",
       "2018-01-01   11.719181  15.850151  15.134989   5.901092   9.371755  9.792713   \n",
       "2018-02-01   10.752216  18.209325  13.894612   5.428068   7.725369  8.181382   \n",
       "2018-03-01    8.021974  16.122180  15.563841   6.753624  10.309222  5.312877   \n",
       "2018-04-01    8.584114  17.648538  15.961657   6.567086   9.631068  6.491157   \n",
       "2018-05-01    7.851694  14.994208  14.401278   5.628901   8.139812  6.506049   \n",
       "\n",
       "source_id           10  \n",
       "costs_month             \n",
       "2017-06-01    4.590158  \n",
       "2017-07-01    6.151880  \n",
       "2017-08-01    5.813398  \n",
       "2017-09-01    8.306581  \n",
       "2017-10-01    6.362921  \n",
       "2017-11-01   10.801337  \n",
       "2017-12-01    7.803197  \n",
       "2018-01-01    9.851557  \n",
       "2018-02-01    4.489624  \n",
       "2018-03-01    4.233605  \n",
       "2018-04-01    4.394415  \n",
       "2018-05-01    5.176317  "
      ]
     },
     "execution_count": 180,
     "metadata": {},
     "output_type": "execute_result"
    }
   ],
   "source": [
    "costs_.pivot_table(index=['costs_month'], columns='source_id', values='costs_per_buyer', aggfunc='mean')"
   ]
  },
  {
   "cell_type": "code",
   "execution_count": 181,
   "metadata": {},
   "outputs": [
    {
     "data": {
      "text/html": [
       "<div>\n",
       "<style scoped>\n",
       "    .dataframe tbody tr th:only-of-type {\n",
       "        vertical-align: middle;\n",
       "    }\n",
       "\n",
       "    .dataframe tbody tr th {\n",
       "        vertical-align: top;\n",
       "    }\n",
       "\n",
       "    .dataframe thead th {\n",
       "        text-align: right;\n",
       "    }\n",
       "</style>\n",
       "<table border=\"1\" class=\"dataframe\">\n",
       "  <thead>\n",
       "    <tr style=\"text-align: right;\">\n",
       "      <th></th>\n",
       "      <th>source_id</th>\n",
       "      <th>costs_per_buyer</th>\n",
       "    </tr>\n",
       "  </thead>\n",
       "  <tbody>\n",
       "    <tr>\n",
       "      <td>0</td>\n",
       "      <td>1</td>\n",
       "      <td>9.489732</td>\n",
       "    </tr>\n",
       "    <tr>\n",
       "      <td>1</td>\n",
       "      <td>2</td>\n",
       "      <td>16.287024</td>\n",
       "    </tr>\n",
       "    <tr>\n",
       "      <td>2</td>\n",
       "      <td>3</td>\n",
       "      <td>15.580474</td>\n",
       "    </tr>\n",
       "    <tr>\n",
       "      <td>3</td>\n",
       "      <td>4</td>\n",
       "      <td>7.271743</td>\n",
       "    </tr>\n",
       "    <tr>\n",
       "      <td>4</td>\n",
       "      <td>5</td>\n",
       "      <td>8.336731</td>\n",
       "    </tr>\n",
       "    <tr>\n",
       "      <td>5</td>\n",
       "      <td>9</td>\n",
       "      <td>6.842532</td>\n",
       "    </tr>\n",
       "    <tr>\n",
       "      <td>6</td>\n",
       "      <td>10</td>\n",
       "      <td>6.555415</td>\n",
       "    </tr>\n",
       "  </tbody>\n",
       "</table>\n",
       "</div>"
      ],
      "text/plain": [
       "   source_id  costs_per_buyer\n",
       "0          1         9.489732\n",
       "1          2        16.287024\n",
       "2          3        15.580474\n",
       "3          4         7.271743\n",
       "4          5         8.336731\n",
       "5          9         6.842532\n",
       "6         10         6.555415"
      ]
     },
     "execution_count": 181,
     "metadata": {},
     "output_type": "execute_result"
    }
   ],
   "source": [
    "costs_.groupby([\"source_id\"]).agg({\n",
    "  \"costs_per_buyer\": \"mean\",\n",
    "}).reset_index()"
   ]
  },
  {
   "cell_type": "markdown",
   "metadata": {},
   "source": [
    "Самый низкий САС у 10го источника в марте 2018 - 4,23 у.е.; самый высокий - у 3го источника в августе 2017 - 19.7 у.е. В среднем самый высокозатратный источник - №2, затем №3, наименее затратные источники №9 и №10."
   ]
  },
  {
   "cell_type": "code",
   "execution_count": 182,
   "metadata": {},
   "outputs": [
    {
     "data": {
      "image/png": "[encoded data removed]",
      "text/plain": [
       "<Figure size 1152x648 with 1 Axes>"
      ]
     },
     "metadata": {},
     "output_type": "display_data"
    }
   ],
   "source": [
    "costs_.pivot_table(index=['costs_month'], columns='source_id', values='costs_per_buyer', aggfunc='mean').plot(\n",
    "    figsize=(16,9), title='Стоимость привлечения одного покупателя из каждого источника')\n",
    "plt.show()                      "
   ]
  },
  {
   "cell_type": "markdown",
   "metadata": {},
   "source": [
    "### Маркетинг: На сколько окупились расходы? (ROI) <a class=\"anchor\" id=\"roi\"></a>"
   ]
  },
  {
   "cell_type": "markdown",
   "metadata": {},
   "source": [
    "Посмотрим разбивку по визитам на примере одно из пользователей, видим, что на сайт он пришел с двух источников - 2 и 1. Будем рассчитывать, основываясь на источнике для первого визита"
   ]
  },
  {
   "cell_type": "code",
   "execution_count": 183,
   "metadata": {},
   "outputs": [
    {
     "data": {
      "text/html": [
       "<div>\n",
       "<style scoped>\n",
       "    .dataframe tbody tr th:only-of-type {\n",
       "        vertical-align: middle;\n",
       "    }\n",
       "\n",
       "    .dataframe tbody tr th {\n",
       "        vertical-align: top;\n",
       "    }\n",
       "\n",
       "    .dataframe thead th {\n",
       "        text-align: right;\n",
       "    }\n",
       "</style>\n",
       "<table border=\"1\" class=\"dataframe\">\n",
       "  <thead>\n",
       "    <tr style=\"text-align: right;\">\n",
       "      <th></th>\n",
       "      <th>Device</th>\n",
       "      <th>End Ts</th>\n",
       "      <th>Source Id</th>\n",
       "      <th>Start Ts</th>\n",
       "      <th>Uid</th>\n",
       "      <th>session_year</th>\n",
       "      <th>session_day</th>\n",
       "      <th>session_week</th>\n",
       "      <th>session_month</th>\n",
       "      <th>session_duration</th>\n",
       "      <th>visit_day</th>\n",
       "      <th>visit_week</th>\n",
       "      <th>visit_month</th>\n",
       "      <th>session_duration_sec</th>\n",
       "      <th>first_visit</th>\n",
       "      <th>first_visit_month</th>\n",
       "      <th>lifetime</th>\n",
       "    </tr>\n",
       "  </thead>\n",
       "  <tbody>\n",
       "    <tr>\n",
       "      <td>181</td>\n",
       "      <td>desktop</td>\n",
       "      <td>2017-06-04 14:21:00</td>\n",
       "      <td>2</td>\n",
       "      <td>2017-06-04 14:17:00</td>\n",
       "      <td>8056418121947262981</td>\n",
       "      <td>2017</td>\n",
       "      <td>2017-06-04</td>\n",
       "      <td>22</td>\n",
       "      <td>6</td>\n",
       "      <td>00:04:00</td>\n",
       "      <td>2017-06-04</td>\n",
       "      <td>2017-06-01</td>\n",
       "      <td>2017-06-01</td>\n",
       "      <td>240</td>\n",
       "      <td>2017-06-04 14:17:00</td>\n",
       "      <td>2017-06-01</td>\n",
       "      <td>0</td>\n",
       "    </tr>\n",
       "    <tr>\n",
       "      <td>412</td>\n",
       "      <td>desktop</td>\n",
       "      <td>2017-06-04 18:05:00</td>\n",
       "      <td>1</td>\n",
       "      <td>2017-06-04 17:57:00</td>\n",
       "      <td>8056418121947262981</td>\n",
       "      <td>2017</td>\n",
       "      <td>2017-06-04</td>\n",
       "      <td>22</td>\n",
       "      <td>6</td>\n",
       "      <td>00:08:00</td>\n",
       "      <td>2017-06-04</td>\n",
       "      <td>2017-06-01</td>\n",
       "      <td>2017-06-01</td>\n",
       "      <td>480</td>\n",
       "      <td>2017-06-04 14:17:00</td>\n",
       "      <td>2017-06-01</td>\n",
       "      <td>0</td>\n",
       "    </tr>\n",
       "    <tr>\n",
       "      <td>316</td>\n",
       "      <td>desktop</td>\n",
       "      <td>2017-06-05 16:58:00</td>\n",
       "      <td>1</td>\n",
       "      <td>2017-06-05 16:40:00</td>\n",
       "      <td>8056418121947262981</td>\n",
       "      <td>2017</td>\n",
       "      <td>2017-06-05</td>\n",
       "      <td>23</td>\n",
       "      <td>6</td>\n",
       "      <td>00:18:00</td>\n",
       "      <td>2017-06-05</td>\n",
       "      <td>2017-06-01</td>\n",
       "      <td>2017-06-01</td>\n",
       "      <td>1080</td>\n",
       "      <td>2017-06-04 14:17:00</td>\n",
       "      <td>2017-06-01</td>\n",
       "      <td>0</td>\n",
       "    </tr>\n",
       "    <tr>\n",
       "      <td>155</td>\n",
       "      <td>desktop</td>\n",
       "      <td>2017-06-06 11:19:00</td>\n",
       "      <td>1</td>\n",
       "      <td>2017-06-06 10:54:00</td>\n",
       "      <td>8056418121947262981</td>\n",
       "      <td>2017</td>\n",
       "      <td>2017-06-06</td>\n",
       "      <td>23</td>\n",
       "      <td>6</td>\n",
       "      <td>00:25:00</td>\n",
       "      <td>2017-06-06</td>\n",
       "      <td>2017-06-01</td>\n",
       "      <td>2017-06-01</td>\n",
       "      <td>1500</td>\n",
       "      <td>2017-06-04 14:17:00</td>\n",
       "      <td>2017-06-01</td>\n",
       "      <td>0</td>\n",
       "    </tr>\n",
       "    <tr>\n",
       "      <td>176</td>\n",
       "      <td>desktop</td>\n",
       "      <td>2017-06-06 17:15:00</td>\n",
       "      <td>1</td>\n",
       "      <td>2017-06-06 16:10:00</td>\n",
       "      <td>8056418121947262981</td>\n",
       "      <td>2017</td>\n",
       "      <td>2017-06-06</td>\n",
       "      <td>23</td>\n",
       "      <td>6</td>\n",
       "      <td>01:05:00</td>\n",
       "      <td>2017-06-06</td>\n",
       "      <td>2017-06-01</td>\n",
       "      <td>2017-06-01</td>\n",
       "      <td>3900</td>\n",
       "      <td>2017-06-04 14:17:00</td>\n",
       "      <td>2017-06-01</td>\n",
       "      <td>0</td>\n",
       "    </tr>\n",
       "  </tbody>\n",
       "</table>\n",
       "</div>"
      ],
      "text/plain": [
       "      Device              End Ts  Source Id            Start Ts  \\\n",
       "181  desktop 2017-06-04 14:21:00          2 2017-06-04 14:17:00   \n",
       "412  desktop 2017-06-04 18:05:00          1 2017-06-04 17:57:00   \n",
       "316  desktop 2017-06-05 16:58:00          1 2017-06-05 16:40:00   \n",
       "155  desktop 2017-06-06 11:19:00          1 2017-06-06 10:54:00   \n",
       "176  desktop 2017-06-06 17:15:00          1 2017-06-06 16:10:00   \n",
       "\n",
       "                     Uid  session_year session_day  session_week  \\\n",
       "181  8056418121947262981          2017  2017-06-04            22   \n",
       "412  8056418121947262981          2017  2017-06-04            22   \n",
       "316  8056418121947262981          2017  2017-06-05            23   \n",
       "155  8056418121947262981          2017  2017-06-06            23   \n",
       "176  8056418121947262981          2017  2017-06-06            23   \n",
       "\n",
       "     session_month session_duration   visit_day visit_week visit_month  \\\n",
       "181              6         00:04:00  2017-06-04 2017-06-01  2017-06-01   \n",
       "412              6         00:08:00  2017-06-04 2017-06-01  2017-06-01   \n",
       "316              6         00:18:00  2017-06-05 2017-06-01  2017-06-01   \n",
       "155              6         00:25:00  2017-06-06 2017-06-01  2017-06-01   \n",
       "176              6         01:05:00  2017-06-06 2017-06-01  2017-06-01   \n",
       "\n",
       "     session_duration_sec         first_visit first_visit_month  lifetime  \n",
       "181                   240 2017-06-04 14:17:00        2017-06-01         0  \n",
       "412                   480 2017-06-04 14:17:00        2017-06-01         0  \n",
       "316                  1080 2017-06-04 14:17:00        2017-06-01         0  \n",
       "155                  1500 2017-06-04 14:17:00        2017-06-01         0  \n",
       "176                  3900 2017-06-04 14:17:00        2017-06-01         0  "
      ]
     },
     "execution_count": 183,
     "metadata": {},
     "output_type": "execute_result"
    }
   ],
   "source": [
    "visits.query('Uid == 8056418121947262981').sort_values('Start Ts').head()"
   ]
  },
  {
   "cell_type": "markdown",
   "metadata": {},
   "source": [
    "Отсортируем датафрейм visits по стартам сессий и сгруппируем уникальные айди (уже делали это при расчете LTV, сделаем еще раз)"
   ]
  },
  {
   "cell_type": "code",
   "execution_count": 184,
   "metadata": {},
   "outputs": [],
   "source": [
    "df_users = visits.sort_values('Start Ts').groupby('Uid').first()"
   ]
  },
  {
   "cell_type": "code",
   "execution_count": 185,
   "metadata": {},
   "outputs": [
    {
     "data": {
      "text/html": [
       "<div>\n",
       "<style scoped>\n",
       "    .dataframe tbody tr th:only-of-type {\n",
       "        vertical-align: middle;\n",
       "    }\n",
       "\n",
       "    .dataframe tbody tr th {\n",
       "        vertical-align: top;\n",
       "    }\n",
       "\n",
       "    .dataframe thead th {\n",
       "        text-align: right;\n",
       "    }\n",
       "</style>\n",
       "<table border=\"1\" class=\"dataframe\">\n",
       "  <thead>\n",
       "    <tr style=\"text-align: right;\">\n",
       "      <th></th>\n",
       "      <th>Device</th>\n",
       "      <th>End Ts</th>\n",
       "      <th>Source Id</th>\n",
       "      <th>Start Ts</th>\n",
       "      <th>session_year</th>\n",
       "      <th>session_day</th>\n",
       "      <th>session_week</th>\n",
       "      <th>session_month</th>\n",
       "      <th>session_duration</th>\n",
       "      <th>visit_day</th>\n",
       "      <th>visit_week</th>\n",
       "      <th>visit_month</th>\n",
       "      <th>session_duration_sec</th>\n",
       "      <th>first_visit</th>\n",
       "      <th>first_visit_month</th>\n",
       "      <th>lifetime</th>\n",
       "    </tr>\n",
       "    <tr>\n",
       "      <th>Uid</th>\n",
       "      <th></th>\n",
       "      <th></th>\n",
       "      <th></th>\n",
       "      <th></th>\n",
       "      <th></th>\n",
       "      <th></th>\n",
       "      <th></th>\n",
       "      <th></th>\n",
       "      <th></th>\n",
       "      <th></th>\n",
       "      <th></th>\n",
       "      <th></th>\n",
       "      <th></th>\n",
       "      <th></th>\n",
       "      <th></th>\n",
       "      <th></th>\n",
       "    </tr>\n",
       "  </thead>\n",
       "  <tbody>\n",
       "    <tr>\n",
       "      <td>11863502262781</td>\n",
       "      <td>touch</td>\n",
       "      <td>2018-03-01 17:33:00</td>\n",
       "      <td>3</td>\n",
       "      <td>2018-03-01 17:27:00</td>\n",
       "      <td>2018</td>\n",
       "      <td>2018-03-01</td>\n",
       "      <td>9</td>\n",
       "      <td>3</td>\n",
       "      <td>00:06:00</td>\n",
       "      <td>2018-03-01</td>\n",
       "      <td>2018-03-01</td>\n",
       "      <td>2018-03-01</td>\n",
       "      <td>360</td>\n",
       "      <td>2018-03-01 17:27:00</td>\n",
       "      <td>2018-03-01</td>\n",
       "      <td>0</td>\n",
       "    </tr>\n",
       "    <tr>\n",
       "      <td>49537067089222</td>\n",
       "      <td>touch</td>\n",
       "      <td>2018-02-06 15:57:00</td>\n",
       "      <td>2</td>\n",
       "      <td>2018-02-06 15:55:00</td>\n",
       "      <td>2018</td>\n",
       "      <td>2018-02-06</td>\n",
       "      <td>6</td>\n",
       "      <td>2</td>\n",
       "      <td>00:02:00</td>\n",
       "      <td>2018-02-06</td>\n",
       "      <td>2018-02-01</td>\n",
       "      <td>2018-02-01</td>\n",
       "      <td>120</td>\n",
       "      <td>2018-02-06 15:55:00</td>\n",
       "      <td>2018-02-01</td>\n",
       "      <td>0</td>\n",
       "    </tr>\n",
       "    <tr>\n",
       "      <td>297729379853735</td>\n",
       "      <td>desktop</td>\n",
       "      <td>2017-06-07 18:48:00</td>\n",
       "      <td>3</td>\n",
       "      <td>2017-06-07 18:47:00</td>\n",
       "      <td>2017</td>\n",
       "      <td>2017-06-07</td>\n",
       "      <td>23</td>\n",
       "      <td>6</td>\n",
       "      <td>00:01:00</td>\n",
       "      <td>2017-06-07</td>\n",
       "      <td>2017-06-01</td>\n",
       "      <td>2017-06-01</td>\n",
       "      <td>60</td>\n",
       "      <td>2017-06-07 18:47:00</td>\n",
       "      <td>2017-06-01</td>\n",
       "      <td>0</td>\n",
       "    </tr>\n",
       "    <tr>\n",
       "      <td>313578113262317</td>\n",
       "      <td>desktop</td>\n",
       "      <td>2017-09-18 23:07:00</td>\n",
       "      <td>2</td>\n",
       "      <td>2017-09-18 22:49:00</td>\n",
       "      <td>2017</td>\n",
       "      <td>2017-09-18</td>\n",
       "      <td>38</td>\n",
       "      <td>9</td>\n",
       "      <td>00:18:00</td>\n",
       "      <td>2017-09-18</td>\n",
       "      <td>2017-09-14</td>\n",
       "      <td>2017-09-01</td>\n",
       "      <td>1080</td>\n",
       "      <td>2017-09-18 22:49:00</td>\n",
       "      <td>2017-09-01</td>\n",
       "      <td>0</td>\n",
       "    </tr>\n",
       "    <tr>\n",
       "      <td>325320750514679</td>\n",
       "      <td>desktop</td>\n",
       "      <td>2017-09-30 14:38:00</td>\n",
       "      <td>5</td>\n",
       "      <td>2017-09-30 14:29:00</td>\n",
       "      <td>2017</td>\n",
       "      <td>2017-09-30</td>\n",
       "      <td>39</td>\n",
       "      <td>9</td>\n",
       "      <td>00:09:00</td>\n",
       "      <td>2017-09-30</td>\n",
       "      <td>2017-09-28</td>\n",
       "      <td>2017-09-01</td>\n",
       "      <td>540</td>\n",
       "      <td>2017-09-30 14:29:00</td>\n",
       "      <td>2017-09-01</td>\n",
       "      <td>0</td>\n",
       "    </tr>\n",
       "    <tr>\n",
       "      <td>...</td>\n",
       "      <td>...</td>\n",
       "      <td>...</td>\n",
       "      <td>...</td>\n",
       "      <td>...</td>\n",
       "      <td>...</td>\n",
       "      <td>...</td>\n",
       "      <td>...</td>\n",
       "      <td>...</td>\n",
       "      <td>...</td>\n",
       "      <td>...</td>\n",
       "      <td>...</td>\n",
       "      <td>...</td>\n",
       "      <td>...</td>\n",
       "      <td>...</td>\n",
       "      <td>...</td>\n",
       "      <td>...</td>\n",
       "    </tr>\n",
       "    <tr>\n",
       "      <td>18446403737806311543</td>\n",
       "      <td>desktop</td>\n",
       "      <td>2017-11-30 03:39:00</td>\n",
       "      <td>5</td>\n",
       "      <td>2017-11-30 03:36:00</td>\n",
       "      <td>2017</td>\n",
       "      <td>2017-11-30</td>\n",
       "      <td>48</td>\n",
       "      <td>11</td>\n",
       "      <td>00:03:00</td>\n",
       "      <td>2017-11-30</td>\n",
       "      <td>2017-11-30</td>\n",
       "      <td>2017-11-01</td>\n",
       "      <td>180</td>\n",
       "      <td>2017-11-30 03:36:00</td>\n",
       "      <td>2017-11-01</td>\n",
       "      <td>0</td>\n",
       "    </tr>\n",
       "    <tr>\n",
       "      <td>18446424184725333426</td>\n",
       "      <td>touch</td>\n",
       "      <td>2017-12-06 20:32:00</td>\n",
       "      <td>4</td>\n",
       "      <td>2017-12-06 20:32:00</td>\n",
       "      <td>2017</td>\n",
       "      <td>2017-12-06</td>\n",
       "      <td>49</td>\n",
       "      <td>12</td>\n",
       "      <td>00:00:00</td>\n",
       "      <td>2017-12-06</td>\n",
       "      <td>2017-11-30</td>\n",
       "      <td>2017-12-01</td>\n",
       "      <td>0</td>\n",
       "      <td>2017-12-06 20:32:00</td>\n",
       "      <td>2017-12-01</td>\n",
       "      <td>0</td>\n",
       "    </tr>\n",
       "    <tr>\n",
       "      <td>18446556406699109058</td>\n",
       "      <td>touch</td>\n",
       "      <td>2018-01-01 16:31:00</td>\n",
       "      <td>3</td>\n",
       "      <td>2018-01-01 16:29:00</td>\n",
       "      <td>2018</td>\n",
       "      <td>2018-01-01</td>\n",
       "      <td>1</td>\n",
       "      <td>1</td>\n",
       "      <td>00:02:00</td>\n",
       "      <td>2018-01-01</td>\n",
       "      <td>2017-12-28</td>\n",
       "      <td>2018-01-01</td>\n",
       "      <td>120</td>\n",
       "      <td>2018-01-01 16:29:00</td>\n",
       "      <td>2018-01-01</td>\n",
       "      <td>0</td>\n",
       "    </tr>\n",
       "    <tr>\n",
       "      <td>18446621818809592527</td>\n",
       "      <td>desktop</td>\n",
       "      <td>2017-12-27 14:08:00</td>\n",
       "      <td>4</td>\n",
       "      <td>2017-12-27 13:27:00</td>\n",
       "      <td>2017</td>\n",
       "      <td>2017-12-27</td>\n",
       "      <td>52</td>\n",
       "      <td>12</td>\n",
       "      <td>00:41:00</td>\n",
       "      <td>2017-12-27</td>\n",
       "      <td>2017-12-21</td>\n",
       "      <td>2017-12-01</td>\n",
       "      <td>2460</td>\n",
       "      <td>2017-12-27 13:27:00</td>\n",
       "      <td>2017-12-01</td>\n",
       "      <td>0</td>\n",
       "    </tr>\n",
       "    <tr>\n",
       "      <td>18446676030785672386</td>\n",
       "      <td>desktop</td>\n",
       "      <td>2017-10-04 16:27:00</td>\n",
       "      <td>3</td>\n",
       "      <td>2017-10-04 16:01:00</td>\n",
       "      <td>2017</td>\n",
       "      <td>2017-10-04</td>\n",
       "      <td>40</td>\n",
       "      <td>10</td>\n",
       "      <td>00:26:00</td>\n",
       "      <td>2017-10-04</td>\n",
       "      <td>2017-09-28</td>\n",
       "      <td>2017-10-01</td>\n",
       "      <td>1560</td>\n",
       "      <td>2017-10-04 16:01:00</td>\n",
       "      <td>2017-10-01</td>\n",
       "      <td>0</td>\n",
       "    </tr>\n",
       "  </tbody>\n",
       "</table>\n",
       "<p>228169 rows × 16 columns</p>\n",
       "</div>"
      ],
      "text/plain": [
       "                       Device              End Ts  Source Id  \\\n",
       "Uid                                                            \n",
       "11863502262781          touch 2018-03-01 17:33:00          3   \n",
       "49537067089222          touch 2018-02-06 15:57:00          2   \n",
       "297729379853735       desktop 2017-06-07 18:48:00          3   \n",
       "313578113262317       desktop 2017-09-18 23:07:00          2   \n",
       "325320750514679       desktop 2017-09-30 14:38:00          5   \n",
       "...                       ...                 ...        ...   \n",
       "18446403737806311543  desktop 2017-11-30 03:39:00          5   \n",
       "18446424184725333426    touch 2017-12-06 20:32:00          4   \n",
       "18446556406699109058    touch 2018-01-01 16:31:00          3   \n",
       "18446621818809592527  desktop 2017-12-27 14:08:00          4   \n",
       "18446676030785672386  desktop 2017-10-04 16:27:00          3   \n",
       "\n",
       "                                Start Ts  session_year session_day  \\\n",
       "Uid                                                                  \n",
       "11863502262781       2018-03-01 17:27:00          2018  2018-03-01   \n",
       "49537067089222       2018-02-06 15:55:00          2018  2018-02-06   \n",
       "297729379853735      2017-06-07 18:47:00          2017  2017-06-07   \n",
       "313578113262317      2017-09-18 22:49:00          2017  2017-09-18   \n",
       "325320750514679      2017-09-30 14:29:00          2017  2017-09-30   \n",
       "...                                  ...           ...         ...   \n",
       "18446403737806311543 2017-11-30 03:36:00          2017  2017-11-30   \n",
       "18446424184725333426 2017-12-06 20:32:00          2017  2017-12-06   \n",
       "18446556406699109058 2018-01-01 16:29:00          2018  2018-01-01   \n",
       "18446621818809592527 2017-12-27 13:27:00          2017  2017-12-27   \n",
       "18446676030785672386 2017-10-04 16:01:00          2017  2017-10-04   \n",
       "\n",
       "                      session_week  session_month session_duration  \\\n",
       "Uid                                                                  \n",
       "11863502262781                   9              3         00:06:00   \n",
       "49537067089222                   6              2         00:02:00   \n",
       "297729379853735                 23              6         00:01:00   \n",
       "313578113262317                 38              9         00:18:00   \n",
       "325320750514679                 39              9         00:09:00   \n",
       "...                            ...            ...              ...   \n",
       "18446403737806311543            48             11         00:03:00   \n",
       "18446424184725333426            49             12         00:00:00   \n",
       "18446556406699109058             1              1         00:02:00   \n",
       "18446621818809592527            52             12         00:41:00   \n",
       "18446676030785672386            40             10         00:26:00   \n",
       "\n",
       "                       visit_day visit_week visit_month  session_duration_sec  \\\n",
       "Uid                                                                             \n",
       "11863502262781        2018-03-01 2018-03-01  2018-03-01                   360   \n",
       "49537067089222        2018-02-06 2018-02-01  2018-02-01                   120   \n",
       "297729379853735       2017-06-07 2017-06-01  2017-06-01                    60   \n",
       "313578113262317       2017-09-18 2017-09-14  2017-09-01                  1080   \n",
       "325320750514679       2017-09-30 2017-09-28  2017-09-01                   540   \n",
       "...                          ...        ...         ...                   ...   \n",
       "18446403737806311543  2017-11-30 2017-11-30  2017-11-01                   180   \n",
       "18446424184725333426  2017-12-06 2017-11-30  2017-12-01                     0   \n",
       "18446556406699109058  2018-01-01 2017-12-28  2018-01-01                   120   \n",
       "18446621818809592527  2017-12-27 2017-12-21  2017-12-01                  2460   \n",
       "18446676030785672386  2017-10-04 2017-09-28  2017-10-01                  1560   \n",
       "\n",
       "                             first_visit first_visit_month  lifetime  \n",
       "Uid                                                                   \n",
       "11863502262781       2018-03-01 17:27:00        2018-03-01         0  \n",
       "49537067089222       2018-02-06 15:55:00        2018-02-01         0  \n",
       "297729379853735      2017-06-07 18:47:00        2017-06-01         0  \n",
       "313578113262317      2017-09-18 22:49:00        2017-09-01         0  \n",
       "325320750514679      2017-09-30 14:29:00        2017-09-01         0  \n",
       "...                                  ...               ...       ...  \n",
       "18446403737806311543 2017-11-30 03:36:00        2017-11-01         0  \n",
       "18446424184725333426 2017-12-06 20:32:00        2017-12-01         0  \n",
       "18446556406699109058 2018-01-01 16:29:00        2018-01-01         0  \n",
       "18446621818809592527 2017-12-27 13:27:00        2017-12-01         0  \n",
       "18446676030785672386 2017-10-04 16:01:00        2017-10-01         0  \n",
       "\n",
       "[228169 rows x 16 columns]"
      ]
     },
     "execution_count": 185,
     "metadata": {},
     "output_type": "execute_result"
    }
   ],
   "source": [
    "df_users"
   ]
  },
  {
   "cell_type": "markdown",
   "metadata": {},
   "source": [
    "Cоздадим новый датафрейм"
   ]
  },
  {
   "cell_type": "code",
   "execution_count": 186,
   "metadata": {},
   "outputs": [],
   "source": [
    "client = pd.merge(orders, df_users[['Source Id']], on='Uid', how='left')"
   ]
  },
  {
   "cell_type": "code",
   "execution_count": 187,
   "metadata": {},
   "outputs": [
    {
     "data": {
      "text/html": [
       "<div>\n",
       "<style scoped>\n",
       "    .dataframe tbody tr th:only-of-type {\n",
       "        vertical-align: middle;\n",
       "    }\n",
       "\n",
       "    .dataframe tbody tr th {\n",
       "        vertical-align: top;\n",
       "    }\n",
       "\n",
       "    .dataframe thead th {\n",
       "        text-align: right;\n",
       "    }\n",
       "</style>\n",
       "<table border=\"1\" class=\"dataframe\">\n",
       "  <thead>\n",
       "    <tr style=\"text-align: right;\">\n",
       "      <th></th>\n",
       "      <th>Buy Ts</th>\n",
       "      <th>Revenue</th>\n",
       "      <th>Uid</th>\n",
       "      <th>order_month</th>\n",
       "      <th>Source Id</th>\n",
       "    </tr>\n",
       "  </thead>\n",
       "  <tbody>\n",
       "    <tr>\n",
       "      <td>0</td>\n",
       "      <td>2017-06-01 00:10:00</td>\n",
       "      <td>17.00</td>\n",
       "      <td>10329302124590727494</td>\n",
       "      <td>2017-06-01</td>\n",
       "      <td>1</td>\n",
       "    </tr>\n",
       "    <tr>\n",
       "      <td>1</td>\n",
       "      <td>2017-06-01 00:25:00</td>\n",
       "      <td>0.55</td>\n",
       "      <td>11627257723692907447</td>\n",
       "      <td>2017-06-01</td>\n",
       "      <td>2</td>\n",
       "    </tr>\n",
       "    <tr>\n",
       "      <td>2</td>\n",
       "      <td>2017-06-01 00:27:00</td>\n",
       "      <td>0.37</td>\n",
       "      <td>17903680561304213844</td>\n",
       "      <td>2017-06-01</td>\n",
       "      <td>2</td>\n",
       "    </tr>\n",
       "    <tr>\n",
       "      <td>3</td>\n",
       "      <td>2017-06-01 00:29:00</td>\n",
       "      <td>0.55</td>\n",
       "      <td>16109239769442553005</td>\n",
       "      <td>2017-06-01</td>\n",
       "      <td>2</td>\n",
       "    </tr>\n",
       "    <tr>\n",
       "      <td>4</td>\n",
       "      <td>2017-06-01 07:58:00</td>\n",
       "      <td>0.37</td>\n",
       "      <td>14200605875248379450</td>\n",
       "      <td>2017-06-01</td>\n",
       "      <td>3</td>\n",
       "    </tr>\n",
       "  </tbody>\n",
       "</table>\n",
       "</div>"
      ],
      "text/plain": [
       "               Buy Ts  Revenue                   Uid order_month  Source Id\n",
       "0 2017-06-01 00:10:00    17.00  10329302124590727494  2017-06-01          1\n",
       "1 2017-06-01 00:25:00     0.55  11627257723692907447  2017-06-01          2\n",
       "2 2017-06-01 00:27:00     0.37  17903680561304213844  2017-06-01          2\n",
       "3 2017-06-01 00:29:00     0.55  16109239769442553005  2017-06-01          2\n",
       "4 2017-06-01 07:58:00     0.37  14200605875248379450  2017-06-01          3"
      ]
     },
     "execution_count": 187,
     "metadata": {},
     "output_type": "execute_result"
    }
   ],
   "source": [
    "client.head()"
   ]
  },
  {
   "cell_type": "markdown",
   "metadata": {},
   "source": [
    "Рассчитаем для каждого клиента дату его первой покупки"
   ]
  },
  {
   "cell_type": "code",
   "execution_count": 188,
   "metadata": {},
   "outputs": [],
   "source": [
    "client['first_order_ts'] = client.groupby('Uid')['Buy Ts'].transform('min')"
   ]
  },
  {
   "cell_type": "code",
   "execution_count": 189,
   "metadata": {},
   "outputs": [],
   "source": [
    "client['first_order_month'] = client['first_order_ts'].astype('datetime64[M]')"
   ]
  },
  {
   "cell_type": "code",
   "execution_count": 190,
   "metadata": {},
   "outputs": [
    {
     "data": {
      "text/html": [
       "<div>\n",
       "<style scoped>\n",
       "    .dataframe tbody tr th:only-of-type {\n",
       "        vertical-align: middle;\n",
       "    }\n",
       "\n",
       "    .dataframe tbody tr th {\n",
       "        vertical-align: top;\n",
       "    }\n",
       "\n",
       "    .dataframe thead th {\n",
       "        text-align: right;\n",
       "    }\n",
       "</style>\n",
       "<table border=\"1\" class=\"dataframe\">\n",
       "  <thead>\n",
       "    <tr style=\"text-align: right;\">\n",
       "      <th></th>\n",
       "      <th>Buy Ts</th>\n",
       "      <th>Revenue</th>\n",
       "      <th>Uid</th>\n",
       "      <th>order_month</th>\n",
       "      <th>Source Id</th>\n",
       "      <th>first_order_ts</th>\n",
       "      <th>first_order_month</th>\n",
       "    </tr>\n",
       "  </thead>\n",
       "  <tbody>\n",
       "    <tr>\n",
       "      <td>0</td>\n",
       "      <td>2017-06-01 00:10:00</td>\n",
       "      <td>17.00</td>\n",
       "      <td>10329302124590727494</td>\n",
       "      <td>2017-06-01</td>\n",
       "      <td>1</td>\n",
       "      <td>2017-06-01 00:10:00</td>\n",
       "      <td>2017-06-01</td>\n",
       "    </tr>\n",
       "    <tr>\n",
       "      <td>1</td>\n",
       "      <td>2017-06-01 00:25:00</td>\n",
       "      <td>0.55</td>\n",
       "      <td>11627257723692907447</td>\n",
       "      <td>2017-06-01</td>\n",
       "      <td>2</td>\n",
       "      <td>2017-06-01 00:25:00</td>\n",
       "      <td>2017-06-01</td>\n",
       "    </tr>\n",
       "    <tr>\n",
       "      <td>2</td>\n",
       "      <td>2017-06-01 00:27:00</td>\n",
       "      <td>0.37</td>\n",
       "      <td>17903680561304213844</td>\n",
       "      <td>2017-06-01</td>\n",
       "      <td>2</td>\n",
       "      <td>2017-06-01 00:27:00</td>\n",
       "      <td>2017-06-01</td>\n",
       "    </tr>\n",
       "    <tr>\n",
       "      <td>3</td>\n",
       "      <td>2017-06-01 00:29:00</td>\n",
       "      <td>0.55</td>\n",
       "      <td>16109239769442553005</td>\n",
       "      <td>2017-06-01</td>\n",
       "      <td>2</td>\n",
       "      <td>2017-06-01 00:29:00</td>\n",
       "      <td>2017-06-01</td>\n",
       "    </tr>\n",
       "    <tr>\n",
       "      <td>4</td>\n",
       "      <td>2017-06-01 07:58:00</td>\n",
       "      <td>0.37</td>\n",
       "      <td>14200605875248379450</td>\n",
       "      <td>2017-06-01</td>\n",
       "      <td>3</td>\n",
       "      <td>2017-06-01 07:58:00</td>\n",
       "      <td>2017-06-01</td>\n",
       "    </tr>\n",
       "  </tbody>\n",
       "</table>\n",
       "</div>"
      ],
      "text/plain": [
       "               Buy Ts  Revenue                   Uid order_month  Source Id  \\\n",
       "0 2017-06-01 00:10:00    17.00  10329302124590727494  2017-06-01          1   \n",
       "1 2017-06-01 00:25:00     0.55  11627257723692907447  2017-06-01          2   \n",
       "2 2017-06-01 00:27:00     0.37  17903680561304213844  2017-06-01          2   \n",
       "3 2017-06-01 00:29:00     0.55  16109239769442553005  2017-06-01          2   \n",
       "4 2017-06-01 07:58:00     0.37  14200605875248379450  2017-06-01          3   \n",
       "\n",
       "       first_order_ts first_order_month  \n",
       "0 2017-06-01 00:10:00        2017-06-01  \n",
       "1 2017-06-01 00:25:00        2017-06-01  \n",
       "2 2017-06-01 00:27:00        2017-06-01  \n",
       "3 2017-06-01 00:29:00        2017-06-01  \n",
       "4 2017-06-01 07:58:00        2017-06-01  "
      ]
     },
     "execution_count": 190,
     "metadata": {},
     "output_type": "execute_result"
    }
   ],
   "source": [
    "client.head()"
   ]
  },
  {
   "cell_type": "markdown",
   "metadata": {},
   "source": [
    "Рассчитаем количество уникальных uid в разрезе когорт и источника"
   ]
  },
  {
   "cell_type": "code",
   "execution_count": 191,
   "metadata": {},
   "outputs": [],
   "source": [
    "cohort_sources_sizes = client.groupby(['first_order_month', 'Source Id']).agg({'Uid': 'nunique'}).reset_index()"
   ]
  },
  {
   "cell_type": "code",
   "execution_count": 192,
   "metadata": {},
   "outputs": [],
   "source": [
    "cohort_sources_sizes.columns = ['first_order_month', 'Source Id', 'n_buyers']"
   ]
  },
  {
   "cell_type": "code",
   "execution_count": 193,
   "metadata": {},
   "outputs": [],
   "source": [
    "cohort_sources_sizes.columns = ['first_order_month', 'source_id', 'n_buyers']"
   ]
  },
  {
   "cell_type": "markdown",
   "metadata": {},
   "source": [
    "Количество людей, которые купили впервые в этом месяце и пришли из конкретного источника трафика"
   ]
  },
  {
   "cell_type": "code",
   "execution_count": 194,
   "metadata": {},
   "outputs": [
    {
     "data": {
      "text/html": [
       "<div>\n",
       "<style scoped>\n",
       "    .dataframe tbody tr th:only-of-type {\n",
       "        vertical-align: middle;\n",
       "    }\n",
       "\n",
       "    .dataframe tbody tr th {\n",
       "        vertical-align: top;\n",
       "    }\n",
       "\n",
       "    .dataframe thead th {\n",
       "        text-align: right;\n",
       "    }\n",
       "</style>\n",
       "<table border=\"1\" class=\"dataframe\">\n",
       "  <thead>\n",
       "    <tr style=\"text-align: right;\">\n",
       "      <th></th>\n",
       "      <th>first_order_month</th>\n",
       "      <th>source_id</th>\n",
       "      <th>n_buyers</th>\n",
       "    </tr>\n",
       "  </thead>\n",
       "  <tbody>\n",
       "    <tr>\n",
       "      <td>0</td>\n",
       "      <td>2017-06-01</td>\n",
       "      <td>1</td>\n",
       "      <td>190</td>\n",
       "    </tr>\n",
       "    <tr>\n",
       "      <td>1</td>\n",
       "      <td>2017-06-01</td>\n",
       "      <td>2</td>\n",
       "      <td>235</td>\n",
       "    </tr>\n",
       "    <tr>\n",
       "      <td>2</td>\n",
       "      <td>2017-06-01</td>\n",
       "      <td>3</td>\n",
       "      <td>638</td>\n",
       "    </tr>\n",
       "    <tr>\n",
       "      <td>3</td>\n",
       "      <td>2017-06-01</td>\n",
       "      <td>4</td>\n",
       "      <td>413</td>\n",
       "    </tr>\n",
       "    <tr>\n",
       "      <td>4</td>\n",
       "      <td>2017-06-01</td>\n",
       "      <td>5</td>\n",
       "      <td>384</td>\n",
       "    </tr>\n",
       "  </tbody>\n",
       "</table>\n",
       "</div>"
      ],
      "text/plain": [
       "  first_order_month  source_id  n_buyers\n",
       "0        2017-06-01          1       190\n",
       "1        2017-06-01          2       235\n",
       "2        2017-06-01          3       638\n",
       "3        2017-06-01          4       413\n",
       "4        2017-06-01          5       384"
      ]
     },
     "execution_count": 194,
     "metadata": {},
     "output_type": "execute_result"
    }
   ],
   "source": [
    "cohort_sources_sizes.head()"
   ]
  },
  {
   "cell_type": "markdown",
   "metadata": {},
   "source": [
    "Рассчитаем сумму выручки в разрезе когорт, месяца покупки и источника"
   ]
  },
  {
   "cell_type": "code",
   "execution_count": 195,
   "metadata": {},
   "outputs": [],
   "source": [
    "source_cohorts = client.groupby(['first_order_month', 'order_month', 'Source Id']).agg({'Revenue': 'sum'}).reset_index()"
   ]
  },
  {
   "cell_type": "code",
   "execution_count": 196,
   "metadata": {},
   "outputs": [
    {
     "data": {
      "text/html": [
       "<div>\n",
       "<style scoped>\n",
       "    .dataframe tbody tr th:only-of-type {\n",
       "        vertical-align: middle;\n",
       "    }\n",
       "\n",
       "    .dataframe tbody tr th {\n",
       "        vertical-align: top;\n",
       "    }\n",
       "\n",
       "    .dataframe thead th {\n",
       "        text-align: right;\n",
       "    }\n",
       "</style>\n",
       "<table border=\"1\" class=\"dataframe\">\n",
       "  <thead>\n",
       "    <tr style=\"text-align: right;\">\n",
       "      <th></th>\n",
       "      <th>first_order_month</th>\n",
       "      <th>order_month</th>\n",
       "      <th>Source Id</th>\n",
       "      <th>Revenue</th>\n",
       "    </tr>\n",
       "  </thead>\n",
       "  <tbody>\n",
       "    <tr>\n",
       "      <td>0</td>\n",
       "      <td>2017-06-01</td>\n",
       "      <td>2017-06-01</td>\n",
       "      <td>1</td>\n",
       "      <td>1378.70</td>\n",
       "    </tr>\n",
       "    <tr>\n",
       "      <td>1</td>\n",
       "      <td>2017-06-01</td>\n",
       "      <td>2017-06-01</td>\n",
       "      <td>2</td>\n",
       "      <td>1043.68</td>\n",
       "    </tr>\n",
       "    <tr>\n",
       "      <td>2</td>\n",
       "      <td>2017-06-01</td>\n",
       "      <td>2017-06-01</td>\n",
       "      <td>3</td>\n",
       "      <td>2804.34</td>\n",
       "    </tr>\n",
       "    <tr>\n",
       "      <td>3</td>\n",
       "      <td>2017-06-01</td>\n",
       "      <td>2017-06-01</td>\n",
       "      <td>4</td>\n",
       "      <td>1959.84</td>\n",
       "    </tr>\n",
       "    <tr>\n",
       "      <td>4</td>\n",
       "      <td>2017-06-01</td>\n",
       "      <td>2017-06-01</td>\n",
       "      <td>5</td>\n",
       "      <td>1898.89</td>\n",
       "    </tr>\n",
       "    <tr>\n",
       "      <td>5</td>\n",
       "      <td>2017-06-01</td>\n",
       "      <td>2017-06-01</td>\n",
       "      <td>9</td>\n",
       "      <td>242.69</td>\n",
       "    </tr>\n",
       "    <tr>\n",
       "      <td>6</td>\n",
       "      <td>2017-06-01</td>\n",
       "      <td>2017-06-01</td>\n",
       "      <td>10</td>\n",
       "      <td>229.35</td>\n",
       "    </tr>\n",
       "    <tr>\n",
       "      <td>7</td>\n",
       "      <td>2017-06-01</td>\n",
       "      <td>2017-07-01</td>\n",
       "      <td>1</td>\n",
       "      <td>414.98</td>\n",
       "    </tr>\n",
       "    <tr>\n",
       "      <td>8</td>\n",
       "      <td>2017-06-01</td>\n",
       "      <td>2017-07-01</td>\n",
       "      <td>2</td>\n",
       "      <td>115.54</td>\n",
       "    </tr>\n",
       "    <tr>\n",
       "      <td>9</td>\n",
       "      <td>2017-06-01</td>\n",
       "      <td>2017-07-01</td>\n",
       "      <td>3</td>\n",
       "      <td>71.97</td>\n",
       "    </tr>\n",
       "    <tr>\n",
       "      <td>10</td>\n",
       "      <td>2017-06-01</td>\n",
       "      <td>2017-07-01</td>\n",
       "      <td>4</td>\n",
       "      <td>16.66</td>\n",
       "    </tr>\n",
       "    <tr>\n",
       "      <td>11</td>\n",
       "      <td>2017-06-01</td>\n",
       "      <td>2017-07-01</td>\n",
       "      <td>5</td>\n",
       "      <td>346.73</td>\n",
       "    </tr>\n",
       "  </tbody>\n",
       "</table>\n",
       "</div>"
      ],
      "text/plain": [
       "   first_order_month order_month  Source Id  Revenue\n",
       "0         2017-06-01  2017-06-01          1  1378.70\n",
       "1         2017-06-01  2017-06-01          2  1043.68\n",
       "2         2017-06-01  2017-06-01          3  2804.34\n",
       "3         2017-06-01  2017-06-01          4  1959.84\n",
       "4         2017-06-01  2017-06-01          5  1898.89\n",
       "5         2017-06-01  2017-06-01          9   242.69\n",
       "6         2017-06-01  2017-06-01         10   229.35\n",
       "7         2017-06-01  2017-07-01          1   414.98\n",
       "8         2017-06-01  2017-07-01          2   115.54\n",
       "9         2017-06-01  2017-07-01          3    71.97\n",
       "10        2017-06-01  2017-07-01          4    16.66\n",
       "11        2017-06-01  2017-07-01          5   346.73"
      ]
     },
     "execution_count": 196,
     "metadata": {},
     "output_type": "execute_result"
    }
   ],
   "source": [
    "source_cohorts.head(12)"
   ]
  },
  {
   "cell_type": "code",
   "execution_count": 197,
   "metadata": {},
   "outputs": [],
   "source": [
    "source_cohorts.columns = ['first_order_month', 'order_month','source_id', 'Revenue']"
   ]
  },
  {
   "cell_type": "markdown",
   "metadata": {},
   "source": [
    "Склеиваем датафреймы по месяцу первой покупки и источнику трафика"
   ]
  },
  {
   "cell_type": "code",
   "execution_count": 198,
   "metadata": {},
   "outputs": [],
   "source": [
    "source_report = pd.merge(cohort_sources_sizes, source_cohorts,on = ['first_order_month', 'source_id'])"
   ]
  },
  {
   "cell_type": "code",
   "execution_count": 199,
   "metadata": {},
   "outputs": [
    {
     "data": {
      "text/html": [
       "<div>\n",
       "<style scoped>\n",
       "    .dataframe tbody tr th:only-of-type {\n",
       "        vertical-align: middle;\n",
       "    }\n",
       "\n",
       "    .dataframe tbody tr th {\n",
       "        vertical-align: top;\n",
       "    }\n",
       "\n",
       "    .dataframe thead th {\n",
       "        text-align: right;\n",
       "    }\n",
       "</style>\n",
       "<table border=\"1\" class=\"dataframe\">\n",
       "  <thead>\n",
       "    <tr style=\"text-align: right;\">\n",
       "      <th></th>\n",
       "      <th>first_order_month</th>\n",
       "      <th>source_id</th>\n",
       "      <th>n_buyers</th>\n",
       "      <th>order_month</th>\n",
       "      <th>Revenue</th>\n",
       "    </tr>\n",
       "  </thead>\n",
       "  <tbody>\n",
       "    <tr>\n",
       "      <td>0</td>\n",
       "      <td>2017-06-01</td>\n",
       "      <td>1</td>\n",
       "      <td>190</td>\n",
       "      <td>2017-06-01</td>\n",
       "      <td>1378.70</td>\n",
       "    </tr>\n",
       "    <tr>\n",
       "      <td>1</td>\n",
       "      <td>2017-06-01</td>\n",
       "      <td>1</td>\n",
       "      <td>190</td>\n",
       "      <td>2017-07-01</td>\n",
       "      <td>414.98</td>\n",
       "    </tr>\n",
       "    <tr>\n",
       "      <td>2</td>\n",
       "      <td>2017-06-01</td>\n",
       "      <td>1</td>\n",
       "      <td>190</td>\n",
       "      <td>2017-08-01</td>\n",
       "      <td>419.43</td>\n",
       "    </tr>\n",
       "    <tr>\n",
       "      <td>3</td>\n",
       "      <td>2017-06-01</td>\n",
       "      <td>1</td>\n",
       "      <td>190</td>\n",
       "      <td>2017-09-01</td>\n",
       "      <td>714.24</td>\n",
       "    </tr>\n",
       "    <tr>\n",
       "      <td>4</td>\n",
       "      <td>2017-06-01</td>\n",
       "      <td>1</td>\n",
       "      <td>190</td>\n",
       "      <td>2017-10-01</td>\n",
       "      <td>811.20</td>\n",
       "    </tr>\n",
       "    <tr>\n",
       "      <td>5</td>\n",
       "      <td>2017-06-01</td>\n",
       "      <td>1</td>\n",
       "      <td>190</td>\n",
       "      <td>2017-11-01</td>\n",
       "      <td>389.34</td>\n",
       "    </tr>\n",
       "    <tr>\n",
       "      <td>6</td>\n",
       "      <td>2017-06-01</td>\n",
       "      <td>1</td>\n",
       "      <td>190</td>\n",
       "      <td>2017-12-01</td>\n",
       "      <td>490.48</td>\n",
       "    </tr>\n",
       "    <tr>\n",
       "      <td>7</td>\n",
       "      <td>2017-06-01</td>\n",
       "      <td>1</td>\n",
       "      <td>190</td>\n",
       "      <td>2018-01-01</td>\n",
       "      <td>479.23</td>\n",
       "    </tr>\n",
       "    <tr>\n",
       "      <td>8</td>\n",
       "      <td>2017-06-01</td>\n",
       "      <td>1</td>\n",
       "      <td>190</td>\n",
       "      <td>2018-02-01</td>\n",
       "      <td>432.15</td>\n",
       "    </tr>\n",
       "    <tr>\n",
       "      <td>9</td>\n",
       "      <td>2017-06-01</td>\n",
       "      <td>1</td>\n",
       "      <td>190</td>\n",
       "      <td>2018-03-01</td>\n",
       "      <td>316.30</td>\n",
       "    </tr>\n",
       "  </tbody>\n",
       "</table>\n",
       "</div>"
      ],
      "text/plain": [
       "  first_order_month  source_id  n_buyers order_month  Revenue\n",
       "0        2017-06-01          1       190  2017-06-01  1378.70\n",
       "1        2017-06-01          1       190  2017-07-01   414.98\n",
       "2        2017-06-01          1       190  2017-08-01   419.43\n",
       "3        2017-06-01          1       190  2017-09-01   714.24\n",
       "4        2017-06-01          1       190  2017-10-01   811.20\n",
       "5        2017-06-01          1       190  2017-11-01   389.34\n",
       "6        2017-06-01          1       190  2017-12-01   490.48\n",
       "7        2017-06-01          1       190  2018-01-01   479.23\n",
       "8        2017-06-01          1       190  2018-02-01   432.15\n",
       "9        2017-06-01          1       190  2018-03-01   316.30"
      ]
     },
     "execution_count": 199,
     "metadata": {},
     "output_type": "execute_result"
    }
   ],
   "source": [
    "source_report.head(10)"
   ]
  },
  {
   "cell_type": "markdown",
   "metadata": {},
   "source": [
    "Вычисляем возраст когорт"
   ]
  },
  {
   "cell_type": "code",
   "execution_count": 200,
   "metadata": {},
   "outputs": [],
   "source": [
    "source_report['age'] = ((source_report['order_month'] - source_report['first_order_month']) / np.timedelta64(1,'M')).round().astype('int')"
   ]
  },
  {
   "cell_type": "code",
   "execution_count": 201,
   "metadata": {},
   "outputs": [],
   "source": [
    "source_report['ltv'] = source_report.Revenue / source_report.n_buyers"
   ]
  },
  {
   "cell_type": "code",
   "execution_count": 202,
   "metadata": {},
   "outputs": [
    {
     "data": {
      "text/html": [
       "<div>\n",
       "<style scoped>\n",
       "    .dataframe tbody tr th:only-of-type {\n",
       "        vertical-align: middle;\n",
       "    }\n",
       "\n",
       "    .dataframe tbody tr th {\n",
       "        vertical-align: top;\n",
       "    }\n",
       "\n",
       "    .dataframe thead th {\n",
       "        text-align: right;\n",
       "    }\n",
       "</style>\n",
       "<table border=\"1\" class=\"dataframe\">\n",
       "  <thead>\n",
       "    <tr style=\"text-align: right;\">\n",
       "      <th></th>\n",
       "      <th>first_order_month</th>\n",
       "      <th>source_id</th>\n",
       "      <th>n_buyers</th>\n",
       "      <th>order_month</th>\n",
       "      <th>Revenue</th>\n",
       "      <th>age</th>\n",
       "      <th>ltv</th>\n",
       "    </tr>\n",
       "  </thead>\n",
       "  <tbody>\n",
       "    <tr>\n",
       "      <td>0</td>\n",
       "      <td>2017-06-01</td>\n",
       "      <td>1</td>\n",
       "      <td>190</td>\n",
       "      <td>2017-06-01</td>\n",
       "      <td>1378.70</td>\n",
       "      <td>0</td>\n",
       "      <td>7.256316</td>\n",
       "    </tr>\n",
       "    <tr>\n",
       "      <td>1</td>\n",
       "      <td>2017-06-01</td>\n",
       "      <td>1</td>\n",
       "      <td>190</td>\n",
       "      <td>2017-07-01</td>\n",
       "      <td>414.98</td>\n",
       "      <td>1</td>\n",
       "      <td>2.184105</td>\n",
       "    </tr>\n",
       "    <tr>\n",
       "      <td>2</td>\n",
       "      <td>2017-06-01</td>\n",
       "      <td>1</td>\n",
       "      <td>190</td>\n",
       "      <td>2017-08-01</td>\n",
       "      <td>419.43</td>\n",
       "      <td>2</td>\n",
       "      <td>2.207526</td>\n",
       "    </tr>\n",
       "    <tr>\n",
       "      <td>3</td>\n",
       "      <td>2017-06-01</td>\n",
       "      <td>1</td>\n",
       "      <td>190</td>\n",
       "      <td>2017-09-01</td>\n",
       "      <td>714.24</td>\n",
       "      <td>3</td>\n",
       "      <td>3.759158</td>\n",
       "    </tr>\n",
       "    <tr>\n",
       "      <td>4</td>\n",
       "      <td>2017-06-01</td>\n",
       "      <td>1</td>\n",
       "      <td>190</td>\n",
       "      <td>2017-10-01</td>\n",
       "      <td>811.20</td>\n",
       "      <td>4</td>\n",
       "      <td>4.269474</td>\n",
       "    </tr>\n",
       "    <tr>\n",
       "      <td>5</td>\n",
       "      <td>2017-06-01</td>\n",
       "      <td>1</td>\n",
       "      <td>190</td>\n",
       "      <td>2017-11-01</td>\n",
       "      <td>389.34</td>\n",
       "      <td>5</td>\n",
       "      <td>2.049158</td>\n",
       "    </tr>\n",
       "    <tr>\n",
       "      <td>6</td>\n",
       "      <td>2017-06-01</td>\n",
       "      <td>1</td>\n",
       "      <td>190</td>\n",
       "      <td>2017-12-01</td>\n",
       "      <td>490.48</td>\n",
       "      <td>6</td>\n",
       "      <td>2.581474</td>\n",
       "    </tr>\n",
       "    <tr>\n",
       "      <td>7</td>\n",
       "      <td>2017-06-01</td>\n",
       "      <td>1</td>\n",
       "      <td>190</td>\n",
       "      <td>2018-01-01</td>\n",
       "      <td>479.23</td>\n",
       "      <td>7</td>\n",
       "      <td>2.522263</td>\n",
       "    </tr>\n",
       "    <tr>\n",
       "      <td>8</td>\n",
       "      <td>2017-06-01</td>\n",
       "      <td>1</td>\n",
       "      <td>190</td>\n",
       "      <td>2018-02-01</td>\n",
       "      <td>432.15</td>\n",
       "      <td>8</td>\n",
       "      <td>2.274474</td>\n",
       "    </tr>\n",
       "    <tr>\n",
       "      <td>9</td>\n",
       "      <td>2017-06-01</td>\n",
       "      <td>1</td>\n",
       "      <td>190</td>\n",
       "      <td>2018-03-01</td>\n",
       "      <td>316.30</td>\n",
       "      <td>9</td>\n",
       "      <td>1.664737</td>\n",
       "    </tr>\n",
       "    <tr>\n",
       "      <td>10</td>\n",
       "      <td>2017-06-01</td>\n",
       "      <td>1</td>\n",
       "      <td>190</td>\n",
       "      <td>2018-04-01</td>\n",
       "      <td>228.92</td>\n",
       "      <td>10</td>\n",
       "      <td>1.204842</td>\n",
       "    </tr>\n",
       "    <tr>\n",
       "      <td>11</td>\n",
       "      <td>2017-06-01</td>\n",
       "      <td>1</td>\n",
       "      <td>190</td>\n",
       "      <td>2018-05-01</td>\n",
       "      <td>317.42</td>\n",
       "      <td>11</td>\n",
       "      <td>1.670632</td>\n",
       "    </tr>\n",
       "    <tr>\n",
       "      <td>12</td>\n",
       "      <td>2017-06-01</td>\n",
       "      <td>2</td>\n",
       "      <td>235</td>\n",
       "      <td>2017-06-01</td>\n",
       "      <td>1043.68</td>\n",
       "      <td>0</td>\n",
       "      <td>4.441191</td>\n",
       "    </tr>\n",
       "    <tr>\n",
       "      <td>13</td>\n",
       "      <td>2017-06-01</td>\n",
       "      <td>2</td>\n",
       "      <td>235</td>\n",
       "      <td>2017-07-01</td>\n",
       "      <td>115.54</td>\n",
       "      <td>1</td>\n",
       "      <td>0.491660</td>\n",
       "    </tr>\n",
       "    <tr>\n",
       "      <td>14</td>\n",
       "      <td>2017-06-01</td>\n",
       "      <td>2</td>\n",
       "      <td>235</td>\n",
       "      <td>2017-08-01</td>\n",
       "      <td>63.90</td>\n",
       "      <td>2</td>\n",
       "      <td>0.271915</td>\n",
       "    </tr>\n",
       "  </tbody>\n",
       "</table>\n",
       "</div>"
      ],
      "text/plain": [
       "   first_order_month  source_id  n_buyers order_month  Revenue  age       ltv\n",
       "0         2017-06-01          1       190  2017-06-01  1378.70    0  7.256316\n",
       "1         2017-06-01          1       190  2017-07-01   414.98    1  2.184105\n",
       "2         2017-06-01          1       190  2017-08-01   419.43    2  2.207526\n",
       "3         2017-06-01          1       190  2017-09-01   714.24    3  3.759158\n",
       "4         2017-06-01          1       190  2017-10-01   811.20    4  4.269474\n",
       "5         2017-06-01          1       190  2017-11-01   389.34    5  2.049158\n",
       "6         2017-06-01          1       190  2017-12-01   490.48    6  2.581474\n",
       "7         2017-06-01          1       190  2018-01-01   479.23    7  2.522263\n",
       "8         2017-06-01          1       190  2018-02-01   432.15    8  2.274474\n",
       "9         2017-06-01          1       190  2018-03-01   316.30    9  1.664737\n",
       "10        2017-06-01          1       190  2018-04-01   228.92   10  1.204842\n",
       "11        2017-06-01          1       190  2018-05-01   317.42   11  1.670632\n",
       "12        2017-06-01          2       235  2017-06-01  1043.68    0  4.441191\n",
       "13        2017-06-01          2       235  2017-07-01   115.54    1  0.491660\n",
       "14        2017-06-01          2       235  2017-08-01    63.90    2  0.271915"
      ]
     },
     "execution_count": 202,
     "metadata": {},
     "output_type": "execute_result"
    }
   ],
   "source": [
    "source_report.head(15)"
   ]
  },
  {
   "cell_type": "markdown",
   "metadata": {},
   "source": [
    "Создадим сводную таблицу накопительного ltv по когортам, источнику и возрасту когорты"
   ]
  },
  {
   "cell_type": "code",
   "execution_count": 203,
   "metadata": {},
   "outputs": [],
   "source": [
    "source_ltv = source_report.pivot_table(\n",
    "  index=['first_order_month', 'source_id'],\n",
    "  columns = 'age',\n",
    "  values = 'ltv',\n",
    "  aggfunc='sum'\n",
    ").cumsum(axis=1)"
   ]
  },
  {
   "cell_type": "markdown",
   "metadata": {},
   "source": [
    "Фрагмент LTV по всем месяцам по источникам"
   ]
  },
  {
   "cell_type": "code",
   "execution_count": 204,
   "metadata": {},
   "outputs": [
    {
     "data": {
      "text/html": [
       "<div>\n",
       "<style scoped>\n",
       "    .dataframe tbody tr th:only-of-type {\n",
       "        vertical-align: middle;\n",
       "    }\n",
       "\n",
       "    .dataframe tbody tr th {\n",
       "        vertical-align: top;\n",
       "    }\n",
       "\n",
       "    .dataframe thead th {\n",
       "        text-align: right;\n",
       "    }\n",
       "</style>\n",
       "<table border=\"1\" class=\"dataframe\">\n",
       "  <thead>\n",
       "    <tr style=\"text-align: right;\">\n",
       "      <th></th>\n",
       "      <th>age</th>\n",
       "      <th>0</th>\n",
       "      <th>1</th>\n",
       "      <th>2</th>\n",
       "      <th>3</th>\n",
       "      <th>4</th>\n",
       "      <th>5</th>\n",
       "      <th>6</th>\n",
       "      <th>7</th>\n",
       "      <th>8</th>\n",
       "      <th>9</th>\n",
       "      <th>10</th>\n",
       "      <th>11</th>\n",
       "    </tr>\n",
       "    <tr>\n",
       "      <th>first_order_month</th>\n",
       "      <th>source_id</th>\n",
       "      <th></th>\n",
       "      <th></th>\n",
       "      <th></th>\n",
       "      <th></th>\n",
       "      <th></th>\n",
       "      <th></th>\n",
       "      <th></th>\n",
       "      <th></th>\n",
       "      <th></th>\n",
       "      <th></th>\n",
       "      <th></th>\n",
       "      <th></th>\n",
       "    </tr>\n",
       "  </thead>\n",
       "  <tbody>\n",
       "    <tr>\n",
       "      <td rowspan=\"5\" valign=\"top\">2017-06-01</td>\n",
       "      <td>1</td>\n",
       "      <td>7.256316</td>\n",
       "      <td>9.440421</td>\n",
       "      <td>11.647947</td>\n",
       "      <td>15.407105</td>\n",
       "      <td>19.676579</td>\n",
       "      <td>21.725737</td>\n",
       "      <td>24.307211</td>\n",
       "      <td>26.829474</td>\n",
       "      <td>29.103947</td>\n",
       "      <td>30.768684</td>\n",
       "      <td>31.973526</td>\n",
       "      <td>33.644158</td>\n",
       "    </tr>\n",
       "    <tr>\n",
       "      <td>2</td>\n",
       "      <td>4.441191</td>\n",
       "      <td>4.932851</td>\n",
       "      <td>5.204766</td>\n",
       "      <td>7.129660</td>\n",
       "      <td>8.796468</td>\n",
       "      <td>9.715447</td>\n",
       "      <td>11.317660</td>\n",
       "      <td>12.799787</td>\n",
       "      <td>14.135106</td>\n",
       "      <td>14.868809</td>\n",
       "      <td>16.227404</td>\n",
       "      <td>16.660681</td>\n",
       "    </tr>\n",
       "    <tr>\n",
       "      <td>3</td>\n",
       "      <td>4.395517</td>\n",
       "      <td>4.508323</td>\n",
       "      <td>4.694734</td>\n",
       "      <td>5.005940</td>\n",
       "      <td>5.191646</td>\n",
       "      <td>5.384875</td>\n",
       "      <td>5.512790</td>\n",
       "      <td>5.542398</td>\n",
       "      <td>5.592445</td>\n",
       "      <td>5.645486</td>\n",
       "      <td>5.673652</td>\n",
       "      <td>5.705831</td>\n",
       "    </tr>\n",
       "    <tr>\n",
       "      <td>4</td>\n",
       "      <td>4.745375</td>\n",
       "      <td>4.785714</td>\n",
       "      <td>4.956586</td>\n",
       "      <td>5.416005</td>\n",
       "      <td>6.564431</td>\n",
       "      <td>8.053317</td>\n",
       "      <td>9.482639</td>\n",
       "      <td>9.715738</td>\n",
       "      <td>9.932300</td>\n",
       "      <td>10.734939</td>\n",
       "      <td>12.003898</td>\n",
       "      <td>12.088789</td>\n",
       "    </tr>\n",
       "    <tr>\n",
       "      <td>5</td>\n",
       "      <td>4.945026</td>\n",
       "      <td>5.847969</td>\n",
       "      <td>6.297266</td>\n",
       "      <td>7.170000</td>\n",
       "      <td>7.833307</td>\n",
       "      <td>8.131042</td>\n",
       "      <td>9.036380</td>\n",
       "      <td>9.623464</td>\n",
       "      <td>10.181849</td>\n",
       "      <td>11.127422</td>\n",
       "      <td>11.283464</td>\n",
       "      <td>11.400104</td>\n",
       "    </tr>\n",
       "    <tr>\n",
       "      <td>...</td>\n",
       "      <td>...</td>\n",
       "      <td>...</td>\n",
       "      <td>...</td>\n",
       "      <td>...</td>\n",
       "      <td>...</td>\n",
       "      <td>...</td>\n",
       "      <td>...</td>\n",
       "      <td>...</td>\n",
       "      <td>...</td>\n",
       "      <td>...</td>\n",
       "      <td>...</td>\n",
       "      <td>...</td>\n",
       "      <td>...</td>\n",
       "    </tr>\n",
       "    <tr>\n",
       "      <td rowspan=\"4\" valign=\"top\">2018-05-01</td>\n",
       "      <td>4</td>\n",
       "      <td>4.729988</td>\n",
       "      <td>NaN</td>\n",
       "      <td>NaN</td>\n",
       "      <td>NaN</td>\n",
       "      <td>NaN</td>\n",
       "      <td>NaN</td>\n",
       "      <td>NaN</td>\n",
       "      <td>NaN</td>\n",
       "      <td>NaN</td>\n",
       "      <td>NaN</td>\n",
       "      <td>NaN</td>\n",
       "      <td>NaN</td>\n",
       "    </tr>\n",
       "    <tr>\n",
       "      <td>5</td>\n",
       "      <td>4.213360</td>\n",
       "      <td>NaN</td>\n",
       "      <td>NaN</td>\n",
       "      <td>NaN</td>\n",
       "      <td>NaN</td>\n",
       "      <td>NaN</td>\n",
       "      <td>NaN</td>\n",
       "      <td>NaN</td>\n",
       "      <td>NaN</td>\n",
       "      <td>NaN</td>\n",
       "      <td>NaN</td>\n",
       "      <td>NaN</td>\n",
       "    </tr>\n",
       "    <tr>\n",
       "      <td>9</td>\n",
       "      <td>3.717500</td>\n",
       "      <td>NaN</td>\n",
       "      <td>NaN</td>\n",
       "      <td>NaN</td>\n",
       "      <td>NaN</td>\n",
       "      <td>NaN</td>\n",
       "      <td>NaN</td>\n",
       "      <td>NaN</td>\n",
       "      <td>NaN</td>\n",
       "      <td>NaN</td>\n",
       "      <td>NaN</td>\n",
       "      <td>NaN</td>\n",
       "    </tr>\n",
       "    <tr>\n",
       "      <td>10</td>\n",
       "      <td>3.622231</td>\n",
       "      <td>NaN</td>\n",
       "      <td>NaN</td>\n",
       "      <td>NaN</td>\n",
       "      <td>NaN</td>\n",
       "      <td>NaN</td>\n",
       "      <td>NaN</td>\n",
       "      <td>NaN</td>\n",
       "      <td>NaN</td>\n",
       "      <td>NaN</td>\n",
       "      <td>NaN</td>\n",
       "      <td>NaN</td>\n",
       "    </tr>\n",
       "    <tr>\n",
       "      <td>2018-06-01</td>\n",
       "      <td>4</td>\n",
       "      <td>3.420000</td>\n",
       "      <td>NaN</td>\n",
       "      <td>NaN</td>\n",
       "      <td>NaN</td>\n",
       "      <td>NaN</td>\n",
       "      <td>NaN</td>\n",
       "      <td>NaN</td>\n",
       "      <td>NaN</td>\n",
       "      <td>NaN</td>\n",
       "      <td>NaN</td>\n",
       "      <td>NaN</td>\n",
       "      <td>NaN</td>\n",
       "    </tr>\n",
       "  </tbody>\n",
       "</table>\n",
       "<p>86 rows × 12 columns</p>\n",
       "</div>"
      ],
      "text/plain": [
       "age                                0         1          2          3   \\\n",
       "first_order_month source_id                                             \n",
       "2017-06-01        1          7.256316  9.440421  11.647947  15.407105   \n",
       "                  2          4.441191  4.932851   5.204766   7.129660   \n",
       "                  3          4.395517  4.508323   4.694734   5.005940   \n",
       "                  4          4.745375  4.785714   4.956586   5.416005   \n",
       "                  5          4.945026  5.847969   6.297266   7.170000   \n",
       "...                               ...       ...        ...        ...   \n",
       "2018-05-01        4          4.729988       NaN        NaN        NaN   \n",
       "                  5          4.213360       NaN        NaN        NaN   \n",
       "                  9          3.717500       NaN        NaN        NaN   \n",
       "                  10         3.622231       NaN        NaN        NaN   \n",
       "2018-06-01        4          3.420000       NaN        NaN        NaN   \n",
       "\n",
       "age                                 4          5          6          7   \\\n",
       "first_order_month source_id                                               \n",
       "2017-06-01        1          19.676579  21.725737  24.307211  26.829474   \n",
       "                  2           8.796468   9.715447  11.317660  12.799787   \n",
       "                  3           5.191646   5.384875   5.512790   5.542398   \n",
       "                  4           6.564431   8.053317   9.482639   9.715738   \n",
       "                  5           7.833307   8.131042   9.036380   9.623464   \n",
       "...                                ...        ...        ...        ...   \n",
       "2018-05-01        4                NaN        NaN        NaN        NaN   \n",
       "                  5                NaN        NaN        NaN        NaN   \n",
       "                  9                NaN        NaN        NaN        NaN   \n",
       "                  10               NaN        NaN        NaN        NaN   \n",
       "2018-06-01        4                NaN        NaN        NaN        NaN   \n",
       "\n",
       "age                                 8          9          10         11  \n",
       "first_order_month source_id                                              \n",
       "2017-06-01        1          29.103947  30.768684  31.973526  33.644158  \n",
       "                  2          14.135106  14.868809  16.227404  16.660681  \n",
       "                  3           5.592445   5.645486   5.673652   5.705831  \n",
       "                  4           9.932300  10.734939  12.003898  12.088789  \n",
       "                  5          10.181849  11.127422  11.283464  11.400104  \n",
       "...                                ...        ...        ...        ...  \n",
       "2018-05-01        4                NaN        NaN        NaN        NaN  \n",
       "                  5                NaN        NaN        NaN        NaN  \n",
       "                  9                NaN        NaN        NaN        NaN  \n",
       "                  10               NaN        NaN        NaN        NaN  \n",
       "2018-06-01        4                NaN        NaN        NaN        NaN  \n",
       "\n",
       "[86 rows x 12 columns]"
      ]
     },
     "execution_count": 204,
     "metadata": {},
     "output_type": "execute_result"
    }
   ],
   "source": [
    "source_ltv"
   ]
  },
  {
   "cell_type": "markdown",
   "metadata": {},
   "source": [
    "LTV июньской когорты 2017 года по источникам"
   ]
  },
  {
   "cell_type": "code",
   "execution_count": 205,
   "metadata": {},
   "outputs": [
    {
     "data": {
      "text/html": [
       "<div>\n",
       "<style scoped>\n",
       "    .dataframe tbody tr th:only-of-type {\n",
       "        vertical-align: middle;\n",
       "    }\n",
       "\n",
       "    .dataframe tbody tr th {\n",
       "        vertical-align: top;\n",
       "    }\n",
       "\n",
       "    .dataframe thead th {\n",
       "        text-align: right;\n",
       "    }\n",
       "</style>\n",
       "<table border=\"1\" class=\"dataframe\">\n",
       "  <thead>\n",
       "    <tr style=\"text-align: right;\">\n",
       "      <th></th>\n",
       "      <th>age</th>\n",
       "      <th>0</th>\n",
       "      <th>1</th>\n",
       "      <th>2</th>\n",
       "      <th>3</th>\n",
       "      <th>4</th>\n",
       "      <th>5</th>\n",
       "      <th>6</th>\n",
       "      <th>7</th>\n",
       "      <th>8</th>\n",
       "      <th>9</th>\n",
       "      <th>10</th>\n",
       "      <th>11</th>\n",
       "    </tr>\n",
       "    <tr>\n",
       "      <th>first_order_month</th>\n",
       "      <th>source_id</th>\n",
       "      <th></th>\n",
       "      <th></th>\n",
       "      <th></th>\n",
       "      <th></th>\n",
       "      <th></th>\n",
       "      <th></th>\n",
       "      <th></th>\n",
       "      <th></th>\n",
       "      <th></th>\n",
       "      <th></th>\n",
       "      <th></th>\n",
       "      <th></th>\n",
       "    </tr>\n",
       "  </thead>\n",
       "  <tbody>\n",
       "    <tr>\n",
       "      <td rowspan=\"7\" valign=\"top\">2017-06-01</td>\n",
       "      <td>1</td>\n",
       "      <td>7.256316</td>\n",
       "      <td>9.440421</td>\n",
       "      <td>11.6479</td>\n",
       "      <td>15.4071</td>\n",
       "      <td>19.6766</td>\n",
       "      <td>21.7257</td>\n",
       "      <td>24.3072</td>\n",
       "      <td>26.8295</td>\n",
       "      <td>29.103947</td>\n",
       "      <td>30.7687</td>\n",
       "      <td>31.9735</td>\n",
       "      <td>33.6442</td>\n",
       "    </tr>\n",
       "    <tr>\n",
       "      <td>2</td>\n",
       "      <td>4.441191</td>\n",
       "      <td>4.932851</td>\n",
       "      <td>5.20477</td>\n",
       "      <td>7.12966</td>\n",
       "      <td>8.79647</td>\n",
       "      <td>9.71545</td>\n",
       "      <td>11.3177</td>\n",
       "      <td>12.7998</td>\n",
       "      <td>14.135106</td>\n",
       "      <td>14.8688</td>\n",
       "      <td>16.2274</td>\n",
       "      <td>16.6607</td>\n",
       "    </tr>\n",
       "    <tr>\n",
       "      <td>3</td>\n",
       "      <td>4.395517</td>\n",
       "      <td>4.508323</td>\n",
       "      <td>4.69473</td>\n",
       "      <td>5.00594</td>\n",
       "      <td>5.19165</td>\n",
       "      <td>5.38487</td>\n",
       "      <td>5.51279</td>\n",
       "      <td>5.5424</td>\n",
       "      <td>5.592445</td>\n",
       "      <td>5.64549</td>\n",
       "      <td>5.67365</td>\n",
       "      <td>5.70583</td>\n",
       "    </tr>\n",
       "    <tr>\n",
       "      <td>4</td>\n",
       "      <td>4.745375</td>\n",
       "      <td>4.785714</td>\n",
       "      <td>4.95659</td>\n",
       "      <td>5.416</td>\n",
       "      <td>6.56443</td>\n",
       "      <td>8.05332</td>\n",
       "      <td>9.48264</td>\n",
       "      <td>9.71574</td>\n",
       "      <td>9.932300</td>\n",
       "      <td>10.7349</td>\n",
       "      <td>12.0039</td>\n",
       "      <td>12.0888</td>\n",
       "    </tr>\n",
       "    <tr>\n",
       "      <td>5</td>\n",
       "      <td>4.945026</td>\n",
       "      <td>5.847969</td>\n",
       "      <td>6.29727</td>\n",
       "      <td>7.17</td>\n",
       "      <td>7.83331</td>\n",
       "      <td>8.13104</td>\n",
       "      <td>9.03638</td>\n",
       "      <td>9.62346</td>\n",
       "      <td>10.181849</td>\n",
       "      <td>11.1274</td>\n",
       "      <td>11.2835</td>\n",
       "      <td>11.4001</td>\n",
       "    </tr>\n",
       "    <tr>\n",
       "      <td>9</td>\n",
       "      <td>3.568971</td>\n",
       "      <td>3.640735</td>\n",
       "      <td>4.22868</td>\n",
       "      <td>4.83588</td>\n",
       "      <td>5.10338</td>\n",
       "      <td>5.54603</td>\n",
       "      <td>6.07794</td>\n",
       "      <td>6.20191</td>\n",
       "      <td>6.739559</td>\n",
       "      <td>6.8625</td>\n",
       "      <td>6.94338</td>\n",
       "      <td></td>\n",
       "    </tr>\n",
       "    <tr>\n",
       "      <td>10</td>\n",
       "      <td>2.414211</td>\n",
       "      <td>2.530632</td>\n",
       "      <td></td>\n",
       "      <td></td>\n",
       "      <td></td>\n",
       "      <td></td>\n",
       "      <td></td>\n",
       "      <td></td>\n",
       "      <td>2.539579</td>\n",
       "      <td></td>\n",
       "      <td></td>\n",
       "      <td></td>\n",
       "    </tr>\n",
       "  </tbody>\n",
       "</table>\n",
       "</div>"
      ],
      "text/plain": [
       "age                                0         1        2        3        4   \\\n",
       "first_order_month source_id                                                  \n",
       "2017-06-01        1          7.256316  9.440421  11.6479  15.4071  19.6766   \n",
       "                  2          4.441191  4.932851  5.20477  7.12966  8.79647   \n",
       "                  3          4.395517  4.508323  4.69473  5.00594  5.19165   \n",
       "                  4          4.745375  4.785714  4.95659    5.416  6.56443   \n",
       "                  5          4.945026  5.847969  6.29727     7.17  7.83331   \n",
       "                  9          3.568971  3.640735  4.22868  4.83588  5.10338   \n",
       "                  10         2.414211  2.530632                              \n",
       "\n",
       "age                               5        6        7          8        9   \\\n",
       "first_order_month source_id                                                  \n",
       "2017-06-01        1          21.7257  24.3072  26.8295  29.103947  30.7687   \n",
       "                  2          9.71545  11.3177  12.7998  14.135106  14.8688   \n",
       "                  3          5.38487  5.51279   5.5424   5.592445  5.64549   \n",
       "                  4          8.05332  9.48264  9.71574   9.932300  10.7349   \n",
       "                  5          8.13104  9.03638  9.62346  10.181849  11.1274   \n",
       "                  9          5.54603  6.07794  6.20191   6.739559   6.8625   \n",
       "                  10                                     2.539579            \n",
       "\n",
       "age                               10       11  \n",
       "first_order_month source_id                    \n",
       "2017-06-01        1          31.9735  33.6442  \n",
       "                  2          16.2274  16.6607  \n",
       "                  3          5.67365  5.70583  \n",
       "                  4          12.0039  12.0888  \n",
       "                  5          11.2835  11.4001  \n",
       "                  9          6.94338           \n",
       "                  10                           "
      ]
     },
     "execution_count": 205,
     "metadata": {},
     "output_type": "execute_result"
    }
   ],
   "source": [
    "source_ltv.loc['2017-06-01'].fillna('')"
   ]
  },
  {
   "cell_type": "markdown",
   "metadata": {},
   "source": [
    "Для этого месяца есть раскрытие по всем источникам трафика"
   ]
  },
  {
   "cell_type": "markdown",
   "metadata": {},
   "source": [
    "Для 6го месяца посчитаем средний LTV"
   ]
  },
  {
   "cell_type": "code",
   "execution_count": 206,
   "metadata": {},
   "outputs": [],
   "source": [
    "ltv_source = source_ltv.reset_index().groupby(['source_id'])[5].mean().reset_index()"
   ]
  },
  {
   "cell_type": "code",
   "execution_count": 207,
   "metadata": {},
   "outputs": [],
   "source": [
    "ltv_source.columns = ['Source Id', 'ltv_6m']"
   ]
  },
  {
   "cell_type": "code",
   "execution_count": 208,
   "metadata": {},
   "outputs": [
    {
     "data": {
      "text/html": [
       "<div>\n",
       "<style scoped>\n",
       "    .dataframe tbody tr th:only-of-type {\n",
       "        vertical-align: middle;\n",
       "    }\n",
       "\n",
       "    .dataframe tbody tr th {\n",
       "        vertical-align: top;\n",
       "    }\n",
       "\n",
       "    .dataframe thead th {\n",
       "        text-align: right;\n",
       "    }\n",
       "</style>\n",
       "<table border=\"1\" class=\"dataframe\">\n",
       "  <thead>\n",
       "    <tr style=\"text-align: right;\">\n",
       "      <th></th>\n",
       "      <th>Source Id</th>\n",
       "      <th>ltv_6m</th>\n",
       "    </tr>\n",
       "  </thead>\n",
       "  <tbody>\n",
       "    <tr>\n",
       "      <td>0</td>\n",
       "      <td>1</td>\n",
       "      <td>12.011587</td>\n",
       "    </tr>\n",
       "    <tr>\n",
       "      <td>1</td>\n",
       "      <td>2</td>\n",
       "      <td>15.491555</td>\n",
       "    </tr>\n",
       "    <tr>\n",
       "      <td>2</td>\n",
       "      <td>3</td>\n",
       "      <td>5.730149</td>\n",
       "    </tr>\n",
       "    <tr>\n",
       "      <td>3</td>\n",
       "      <td>4</td>\n",
       "      <td>6.032379</td>\n",
       "    </tr>\n",
       "    <tr>\n",
       "      <td>4</td>\n",
       "      <td>5</td>\n",
       "      <td>9.345449</td>\n",
       "    </tr>\n",
       "    <tr>\n",
       "      <td>5</td>\n",
       "      <td>7</td>\n",
       "      <td>NaN</td>\n",
       "    </tr>\n",
       "    <tr>\n",
       "      <td>6</td>\n",
       "      <td>9</td>\n",
       "      <td>5.815051</td>\n",
       "    </tr>\n",
       "    <tr>\n",
       "      <td>7</td>\n",
       "      <td>10</td>\n",
       "      <td>3.930334</td>\n",
       "    </tr>\n",
       "  </tbody>\n",
       "</table>\n",
       "</div>"
      ],
      "text/plain": [
       "   Source Id     ltv_6m\n",
       "0          1  12.011587\n",
       "1          2  15.491555\n",
       "2          3   5.730149\n",
       "3          4   6.032379\n",
       "4          5   9.345449\n",
       "5          7        NaN\n",
       "6          9   5.815051\n",
       "7         10   3.930334"
      ]
     },
     "execution_count": 208,
     "metadata": {},
     "output_type": "execute_result"
    }
   ],
   "source": [
    "ltv_source"
   ]
  },
  {
   "cell_type": "code",
   "execution_count": 209,
   "metadata": {},
   "outputs": [],
   "source": [
    "costs_by_sources = costs.groupby('source_id').agg({'costs':'sum'}).reset_index()"
   ]
  },
  {
   "cell_type": "code",
   "execution_count": 210,
   "metadata": {},
   "outputs": [
    {
     "data": {
      "text/html": [
       "<div>\n",
       "<style scoped>\n",
       "    .dataframe tbody tr th:only-of-type {\n",
       "        vertical-align: middle;\n",
       "    }\n",
       "\n",
       "    .dataframe tbody tr th {\n",
       "        vertical-align: top;\n",
       "    }\n",
       "\n",
       "    .dataframe thead th {\n",
       "        text-align: right;\n",
       "    }\n",
       "</style>\n",
       "<table border=\"1\" class=\"dataframe\">\n",
       "  <thead>\n",
       "    <tr style=\"text-align: right;\">\n",
       "      <th></th>\n",
       "      <th>source_id</th>\n",
       "      <th>costs</th>\n",
       "    </tr>\n",
       "  </thead>\n",
       "  <tbody>\n",
       "    <tr>\n",
       "      <td>0</td>\n",
       "      <td>1</td>\n",
       "      <td>20833.27</td>\n",
       "    </tr>\n",
       "    <tr>\n",
       "      <td>1</td>\n",
       "      <td>2</td>\n",
       "      <td>42806.04</td>\n",
       "    </tr>\n",
       "    <tr>\n",
       "      <td>2</td>\n",
       "      <td>3</td>\n",
       "      <td>141321.63</td>\n",
       "    </tr>\n",
       "    <tr>\n",
       "      <td>3</td>\n",
       "      <td>4</td>\n",
       "      <td>61073.60</td>\n",
       "    </tr>\n",
       "    <tr>\n",
       "      <td>4</td>\n",
       "      <td>5</td>\n",
       "      <td>51757.10</td>\n",
       "    </tr>\n",
       "    <tr>\n",
       "      <td>5</td>\n",
       "      <td>9</td>\n",
       "      <td>5517.49</td>\n",
       "    </tr>\n",
       "    <tr>\n",
       "      <td>6</td>\n",
       "      <td>10</td>\n",
       "      <td>5822.49</td>\n",
       "    </tr>\n",
       "  </tbody>\n",
       "</table>\n",
       "</div>"
      ],
      "text/plain": [
       "   source_id      costs\n",
       "0          1   20833.27\n",
       "1          2   42806.04\n",
       "2          3  141321.63\n",
       "3          4   61073.60\n",
       "4          5   51757.10\n",
       "5          9    5517.49\n",
       "6         10    5822.49"
      ]
     },
     "execution_count": 210,
     "metadata": {},
     "output_type": "execute_result"
    }
   ],
   "source": [
    "costs_by_sources"
   ]
  },
  {
   "cell_type": "code",
   "execution_count": 211,
   "metadata": {},
   "outputs": [],
   "source": [
    "clients = pd.merge(orders, df_users['Source Id'], on='Uid', how='left')"
   ]
  },
  {
   "cell_type": "code",
   "execution_count": 212,
   "metadata": {},
   "outputs": [],
   "source": [
    "clients.columns = ['Buy Ts', 'revenue', 'Uid', 'order_month', 'source_id']"
   ]
  },
  {
   "cell_type": "code",
   "execution_count": 213,
   "metadata": {},
   "outputs": [],
   "source": [
    "source_cohort_sizes = clients.groupby(['order_month', 'source_id']).agg({'Uid':'nunique'}).reset_index()"
   ]
  },
  {
   "cell_type": "code",
   "execution_count": 214,
   "metadata": {},
   "outputs": [],
   "source": [
    "revenue_by_sources = clients.groupby('source_id').agg({'revenue':'sum'})"
   ]
  },
  {
   "cell_type": "code",
   "execution_count": 215,
   "metadata": {},
   "outputs": [
    {
     "data": {
      "text/html": [
       "<div>\n",
       "<style scoped>\n",
       "    .dataframe tbody tr th:only-of-type {\n",
       "        vertical-align: middle;\n",
       "    }\n",
       "\n",
       "    .dataframe tbody tr th {\n",
       "        vertical-align: top;\n",
       "    }\n",
       "\n",
       "    .dataframe thead th {\n",
       "        text-align: right;\n",
       "    }\n",
       "</style>\n",
       "<table border=\"1\" class=\"dataframe\">\n",
       "  <thead>\n",
       "    <tr style=\"text-align: right;\">\n",
       "      <th></th>\n",
       "      <th>revenue</th>\n",
       "    </tr>\n",
       "    <tr>\n",
       "      <th>source_id</th>\n",
       "      <th></th>\n",
       "    </tr>\n",
       "  </thead>\n",
       "  <tbody>\n",
       "    <tr>\n",
       "      <td>1</td>\n",
       "      <td>31090.55</td>\n",
       "    </tr>\n",
       "    <tr>\n",
       "      <td>2</td>\n",
       "      <td>46923.61</td>\n",
       "    </tr>\n",
       "    <tr>\n",
       "      <td>3</td>\n",
       "      <td>54511.24</td>\n",
       "    </tr>\n",
       "    <tr>\n",
       "      <td>4</td>\n",
       "      <td>56696.83</td>\n",
       "    </tr>\n",
       "    <tr>\n",
       "      <td>5</td>\n",
       "      <td>52624.02</td>\n",
       "    </tr>\n",
       "    <tr>\n",
       "      <td>7</td>\n",
       "      <td>1.22</td>\n",
       "    </tr>\n",
       "    <tr>\n",
       "      <td>9</td>\n",
       "      <td>5759.40</td>\n",
       "    </tr>\n",
       "    <tr>\n",
       "      <td>10</td>\n",
       "      <td>4450.33</td>\n",
       "    </tr>\n",
       "  </tbody>\n",
       "</table>\n",
       "</div>"
      ],
      "text/plain": [
       "            revenue\n",
       "source_id          \n",
       "1          31090.55\n",
       "2          46923.61\n",
       "3          54511.24\n",
       "4          56696.83\n",
       "5          52624.02\n",
       "7              1.22\n",
       "9           5759.40\n",
       "10          4450.33"
      ]
     },
     "execution_count": 215,
     "metadata": {},
     "output_type": "execute_result"
    }
   ],
   "source": [
    "revenue_by_sources"
   ]
  },
  {
   "cell_type": "markdown",
   "metadata": {},
   "source": [
    "Посчитаем ROMI по источникам"
   ]
  },
  {
   "cell_type": "code",
   "execution_count": 216,
   "metadata": {},
   "outputs": [],
   "source": [
    "romi_source_total = revenue_by_sources.merge(costs_by_sources, on='source_id')"
   ]
  },
  {
   "cell_type": "code",
   "execution_count": 217,
   "metadata": {},
   "outputs": [
    {
     "data": {
      "text/html": [
       "<div>\n",
       "<style scoped>\n",
       "    .dataframe tbody tr th:only-of-type {\n",
       "        vertical-align: middle;\n",
       "    }\n",
       "\n",
       "    .dataframe tbody tr th {\n",
       "        vertical-align: top;\n",
       "    }\n",
       "\n",
       "    .dataframe thead th {\n",
       "        text-align: right;\n",
       "    }\n",
       "</style>\n",
       "<table border=\"1\" class=\"dataframe\">\n",
       "  <thead>\n",
       "    <tr style=\"text-align: right;\">\n",
       "      <th></th>\n",
       "      <th>source_id</th>\n",
       "      <th>revenue</th>\n",
       "      <th>costs</th>\n",
       "    </tr>\n",
       "  </thead>\n",
       "  <tbody>\n",
       "    <tr>\n",
       "      <td>0</td>\n",
       "      <td>1</td>\n",
       "      <td>31090.55</td>\n",
       "      <td>20833.27</td>\n",
       "    </tr>\n",
       "    <tr>\n",
       "      <td>1</td>\n",
       "      <td>2</td>\n",
       "      <td>46923.61</td>\n",
       "      <td>42806.04</td>\n",
       "    </tr>\n",
       "    <tr>\n",
       "      <td>2</td>\n",
       "      <td>3</td>\n",
       "      <td>54511.24</td>\n",
       "      <td>141321.63</td>\n",
       "    </tr>\n",
       "    <tr>\n",
       "      <td>3</td>\n",
       "      <td>4</td>\n",
       "      <td>56696.83</td>\n",
       "      <td>61073.60</td>\n",
       "    </tr>\n",
       "    <tr>\n",
       "      <td>4</td>\n",
       "      <td>5</td>\n",
       "      <td>52624.02</td>\n",
       "      <td>51757.10</td>\n",
       "    </tr>\n",
       "    <tr>\n",
       "      <td>5</td>\n",
       "      <td>9</td>\n",
       "      <td>5759.40</td>\n",
       "      <td>5517.49</td>\n",
       "    </tr>\n",
       "    <tr>\n",
       "      <td>6</td>\n",
       "      <td>10</td>\n",
       "      <td>4450.33</td>\n",
       "      <td>5822.49</td>\n",
       "    </tr>\n",
       "  </tbody>\n",
       "</table>\n",
       "</div>"
      ],
      "text/plain": [
       "   source_id   revenue      costs\n",
       "0          1  31090.55   20833.27\n",
       "1          2  46923.61   42806.04\n",
       "2          3  54511.24  141321.63\n",
       "3          4  56696.83   61073.60\n",
       "4          5  52624.02   51757.10\n",
       "5          9   5759.40    5517.49\n",
       "6         10   4450.33    5822.49"
      ]
     },
     "execution_count": 217,
     "metadata": {},
     "output_type": "execute_result"
    }
   ],
   "source": [
    "romi_source_total"
   ]
  },
  {
   "cell_type": "code",
   "execution_count": 218,
   "metadata": {},
   "outputs": [],
   "source": [
    "romi_source_total['ROMI'] = (romi_source_total['revenue'] / romi_source_total['costs']).round(2)"
   ]
  },
  {
   "cell_type": "code",
   "execution_count": 219,
   "metadata": {},
   "outputs": [
    {
     "data": {
      "text/html": [
       "<div>\n",
       "<style scoped>\n",
       "    .dataframe tbody tr th:only-of-type {\n",
       "        vertical-align: middle;\n",
       "    }\n",
       "\n",
       "    .dataframe tbody tr th {\n",
       "        vertical-align: top;\n",
       "    }\n",
       "\n",
       "    .dataframe thead th {\n",
       "        text-align: right;\n",
       "    }\n",
       "</style>\n",
       "<table border=\"1\" class=\"dataframe\">\n",
       "  <thead>\n",
       "    <tr style=\"text-align: right;\">\n",
       "      <th></th>\n",
       "      <th>source_id</th>\n",
       "      <th>revenue</th>\n",
       "      <th>costs</th>\n",
       "      <th>ROMI</th>\n",
       "    </tr>\n",
       "  </thead>\n",
       "  <tbody>\n",
       "    <tr>\n",
       "      <td>0</td>\n",
       "      <td>1</td>\n",
       "      <td>31090.55</td>\n",
       "      <td>20833.27</td>\n",
       "      <td>1.49</td>\n",
       "    </tr>\n",
       "    <tr>\n",
       "      <td>1</td>\n",
       "      <td>2</td>\n",
       "      <td>46923.61</td>\n",
       "      <td>42806.04</td>\n",
       "      <td>1.10</td>\n",
       "    </tr>\n",
       "    <tr>\n",
       "      <td>2</td>\n",
       "      <td>3</td>\n",
       "      <td>54511.24</td>\n",
       "      <td>141321.63</td>\n",
       "      <td>0.39</td>\n",
       "    </tr>\n",
       "    <tr>\n",
       "      <td>3</td>\n",
       "      <td>4</td>\n",
       "      <td>56696.83</td>\n",
       "      <td>61073.60</td>\n",
       "      <td>0.93</td>\n",
       "    </tr>\n",
       "    <tr>\n",
       "      <td>4</td>\n",
       "      <td>5</td>\n",
       "      <td>52624.02</td>\n",
       "      <td>51757.10</td>\n",
       "      <td>1.02</td>\n",
       "    </tr>\n",
       "    <tr>\n",
       "      <td>5</td>\n",
       "      <td>9</td>\n",
       "      <td>5759.40</td>\n",
       "      <td>5517.49</td>\n",
       "      <td>1.04</td>\n",
       "    </tr>\n",
       "    <tr>\n",
       "      <td>6</td>\n",
       "      <td>10</td>\n",
       "      <td>4450.33</td>\n",
       "      <td>5822.49</td>\n",
       "      <td>0.76</td>\n",
       "    </tr>\n",
       "  </tbody>\n",
       "</table>\n",
       "</div>"
      ],
      "text/plain": [
       "   source_id   revenue      costs  ROMI\n",
       "0          1  31090.55   20833.27  1.49\n",
       "1          2  46923.61   42806.04  1.10\n",
       "2          3  54511.24  141321.63  0.39\n",
       "3          4  56696.83   61073.60  0.93\n",
       "4          5  52624.02   51757.10  1.02\n",
       "5          9   5759.40    5517.49  1.04\n",
       "6         10   4450.33    5822.49  0.76"
      ]
     },
     "execution_count": 219,
     "metadata": {},
     "output_type": "execute_result"
    }
   ],
   "source": [
    "romi_source_total"
   ]
  },
  {
   "cell_type": "markdown",
   "metadata": {},
   "source": [
    "Получаем, что самые окупаемые источники это 1,2,5,9."
   ]
  },
  {
   "cell_type": "code",
   "execution_count": 220,
   "metadata": {},
   "outputs": [
    {
     "data": {
      "text/plain": [
       "Text(0, 0.5, 'ROMI')"
      ]
     },
     "execution_count": 220,
     "metadata": {},
     "output_type": "execute_result"
    },
    {
     "data": {
      "image/png": "[encoded data removed]",
      "text/plain": [
       "<Figure size 720x288 with 1 Axes>"
      ]
     },
     "metadata": {},
     "output_type": "display_data"
    }
   ],
   "source": [
    "romi_source_total\\\n",
    ".sort_values(by='ROMI', ascending=False)\\\n",
    ".plot(kind='bar', x='source_id', y='ROMI', figsize=(10, 4), grid=False, legend=False)\n",
    "plt.title('Полный ROMI по источникам')\n",
    "plt.xlabel('Источник')\n",
    "plt.ylabel('ROMI')"
   ]
  },
  {
   "cell_type": "markdown",
   "metadata": {},
   "source": [
    "### Выводы и рекомендации<a class=\"anchor\" id=\"summary\"></a>"
   ]
  },
  {
   "cell_type": "markdown",
   "metadata": {},
   "source": [
    "### Определите источники трафика, на которые маркетологам стоит делать упор. Объясните свой выбор: на какие метрики вы ориентируетесь и почему<a class=\"anchor\" id=\"market_sense\"></a>"
   ]
  },
  {
   "cell_type": "markdown",
   "metadata": {},
   "source": [
    "При выделении перспективных источников трафика я опиралась на таблицу, которая есть в проекте; она содержит цифры по ROMI, расходам (costs) и выручке (revenue). \n",
    "Лидером по обощенным показателям стал источник №1: у него самый большой ROMI (1,49), относительно небольшие расходы - 20,8. Также можно работать с источником №2: выручка у него больше расходов + относительно высокий ROMI (1,1).\n",
    "Источник №3, наоборот, выглядит самым бесперспективным: у него самый низкий ROMI (0,39) при самых высоких расходах (141,3).\n",
    "Возможно, мы сделали бы корректировку перспективных источников, если бы знали какого они вида (в проекте они обезличены) и возможно, как-то их объединяли или компоновали для большей эффективности рекламы."
   ]
  },
  {
   "cell_type": "markdown",
   "metadata": {},
   "source": [
    "### Опишите выводы, которые вы сделали после подсчёта метрик каждого вида: маркетинговых, продуктовых и метрик электронной коммерции<a class=\"anchor\" id=\"market_summary\"></a>"
   ]
  },
  {
   "cell_type": "markdown",
   "metadata": {},
   "source": [
    "В этом проекте мы анализировали маркетинговые данные Яндекс.Афиши, цель этого анализа состояла в том, чтобы помочь маркетологам снизить расходы — отказаться от невыгодных источников трафика и перераспределить бюджет.\n",
    "Сначала мы выгрузили данные и проверили данные на предмет пропусков и неверных типов данных. Пропусков в данных не было; а там, где это было нужно, мы поменяли формат данных на подходящий для дальнейшей работы.\n",
    "\n",
    "Далее мы рассчитывали  три вида метрик: маркетинговые, продуктовые и метрики электронной коммерции.\n",
    "В числе продуктовых метрик мы рассчитали показатели пользовательской активности – DAU, WAU, MAU. Сайт Яндекс.Афиши посещают 907 уникальных пользователей в день, 5 716 уникальных пользователей в неделю, 23 228 уникальных пользователей в месяц.\n",
    "\n",
    "После снижения количества пользователей в августе 2017 начинается рост, который достигает пика в октябре и потом следующего пика  - в ноябре 2018 (покупка билетов на новогодние мероприятия и мероприятия в новогодние праздники?, потом опять начинается падение с отдельными периодами роста в феврале и марте (покупка билетов на мероприятия в районе гендерных праздников?) и затем уверенный спад активности в апреле 2018. То есть, есть определенная сезонность в уровне активности пользователей.\n",
    "\n",
    "В месяц один пользователь в среднем проводит в приложении максимум 1 сессию. Не сказать, что продукт используется регулярно. Пользовательская сессия длится в среднем 10,7 минут.\n",
    "\n",
    "Далее мы провели когортный анализ для оценки основных событий, совершаемых пользователями: визиты на сайт, заказы, повторные визиты и тд. В результате расчета Retention Rate мы выяснили, люди возвращаются на сайт вновь, но их заметно меньше, по сравнению с нулевым месяцем: из 100% нулевого месяца в первом вернулись от 4,2% до 8,5% пользователей, а к концу года во всех когортах возвращается все меньше и меньше пользователей. Возможно, были выбраны неэффективные источники трафика или пользователи не сочли интересными мероприятия, размещенные на Яндекс.Афише и не вернулись на сайт снова.\n",
    "\n",
    "Далее мы анализировали время между первым визитом и первой покупкой: в среднем между первым визитом и покупкой проходит 249 минут, медианное значение - 16 минут. То есть покупка происходит быстро и, видимо, она планировалась. Заход на сайт был целенаправленным. самое большое количество покупок было в декабре (перед Новым годом), так же пики были в марте(потом резкое падение к апрелю), в мае и рост в сентябре, закончившийся пиком в октябре.В среднем в день совершается 138 покупок, в неделю - 969, в месяц - 4200. Средний чек - от 4,1 до 5,8.\n",
    "Средний LTV по когортам за 6 месяцев составил 7.969. Общая сумма расходов на привлечение клиентов составила 329131.62 у.е. Самая большая доля расходов приходится на источник №3, примерно одинаковый вклад (13-18%) - у источников №№4,5,2; самая маленькая доля расходов приходится на источники №№10,9 (1,76-1,67%). Самые большие расходы по времени были в декабре, а самые низкие - в августе.\n",
    "Расходы на привлечение покупателей (САС) оказались самыми высокими в августовской когорте - 10,7; самые \"дешевые\" - из майской когорты -7,4. Средний САС на одного покупателя для всего проекта - 9,14. По показателю ROMI самые окупаемые источники это 1,2,5,9."
   ]
  },
  {
   "cell_type": "markdown",
   "metadata": {},
   "source": [
    "### Подведите итоги когортного анализа. Определите самые перспективные для компании когорты клиентов<a class=\"anchor\" id=\"persp_cohorts\"></a>"
   ]
  },
  {
   "cell_type": "markdown",
   "metadata": {},
   "source": [
    "Я бы выделила 2 когорты как перспективные, причины выделения у них разные:\n",
    "1. Июньскую когорту, так как она лидирует по среднему уровню Retention Rate - 6.5% на фоне других когорт. \n",
    "2. Сентябрьскую когорту, так как она к 4-му месяцу \"жизни\" начала приносить в 2 раза больше доходов (LTV), чем в свои первые месяцы \"жизни\" и также вдвое больше чем \"ранние\" когорты, например, июньская когорта, которую мы выделили выше как перспективную, проигрывает по этому показателю: она увеличила доход только к 7-му месяцу \"жизни\" "
   ]
  },
  {
   "cell_type": "code",
   "execution_count": null,
   "metadata": {},
   "outputs": [],
   "source": []
  }
 ],
 "metadata": {
  "ExecuteTimeLog": [
   {
    "duration": 2546,
    "start_time": "2021-08-31T11:35:55.539Z"
   },
   {
    "duration": 24,
    "start_time": "2021-08-31T11:35:58.087Z"
   },
   {
    "duration": 82,
    "start_time": "2021-08-31T11:35:58.115Z"
   },
   {
    "duration": 183,
    "start_time": "2021-08-31T11:35:58.201Z"
   },
   {
    "duration": 149,
    "start_time": "2021-08-31T11:35:58.387Z"
   },
   {
    "duration": 34,
    "start_time": "2021-08-31T11:35:58.538Z"
   },
   {
    "duration": 48,
    "start_time": "2021-08-31T11:35:58.574Z"
   },
   {
    "duration": 16,
    "start_time": "2021-08-31T11:35:58.626Z"
   },
   {
    "duration": 19,
    "start_time": "2021-08-31T11:35:58.646Z"
   },
   {
    "duration": 54,
    "start_time": "2021-08-31T11:35:58.667Z"
   },
   {
    "duration": 32,
    "start_time": "2021-08-31T11:35:58.723Z"
   },
   {
    "duration": 15,
    "start_time": "2021-08-31T11:35:58.758Z"
   },
   {
    "duration": 56,
    "start_time": "2021-08-31T11:35:58.775Z"
   },
   {
    "duration": 17,
    "start_time": "2021-08-31T11:35:58.833Z"
   },
   {
    "duration": 21,
    "start_time": "2021-08-31T11:35:58.853Z"
   },
   {
    "duration": 71,
    "start_time": "2021-08-31T11:35:58.877Z"
   },
   {
    "duration": 181,
    "start_time": "2021-08-31T11:35:58.951Z"
   },
   {
    "duration": 63,
    "start_time": "2021-08-31T11:35:59.136Z"
   },
   {
    "duration": 54,
    "start_time": "2021-08-31T11:35:59.216Z"
   },
   {
    "duration": 12,
    "start_time": "2021-08-31T11:35:59.273Z"
   },
   {
    "duration": 56,
    "start_time": "2021-08-31T11:35:59.288Z"
   },
   {
    "duration": 237,
    "start_time": "2021-08-31T11:35:59.347Z"
   },
   {
    "duration": 4,
    "start_time": "2021-08-31T11:35:59.590Z"
   },
   {
    "duration": 193,
    "start_time": "2021-08-31T11:35:59.599Z"
   },
   {
    "duration": 560,
    "start_time": "2021-08-31T11:35:59.795Z"
   },
   {
    "duration": 143,
    "start_time": "2021-08-31T11:36:00.357Z"
   },
   {
    "duration": 4,
    "start_time": "2021-08-31T11:36:00.503Z"
   },
   {
    "duration": 50,
    "start_time": "2021-08-31T11:36:00.517Z"
   },
   {
    "duration": 662,
    "start_time": "2021-08-31T11:36:00.570Z"
   },
   {
    "duration": 135,
    "start_time": "2021-08-31T11:36:01.234Z"
   },
   {
    "duration": 5,
    "start_time": "2021-08-31T11:36:01.371Z"
   },
   {
    "duration": 79,
    "start_time": "2021-08-31T11:36:01.379Z"
   },
   {
    "duration": 422,
    "start_time": "2021-08-31T11:36:01.461Z"
   },
   {
    "duration": 130,
    "start_time": "2021-08-31T11:36:01.886Z"
   },
   {
    "duration": 4,
    "start_time": "2021-08-31T11:36:02.019Z"
   },
   {
    "duration": 53,
    "start_time": "2021-08-31T11:36:02.026Z"
   },
   {
    "duration": 69,
    "start_time": "2021-08-31T11:36:02.081Z"
   },
   {
    "duration": 71,
    "start_time": "2021-08-31T11:36:02.153Z"
   },
   {
    "duration": 75,
    "start_time": "2021-08-31T11:36:02.227Z"
   },
   {
    "duration": 675,
    "start_time": "2021-08-31T11:36:02.304Z"
   },
   {
    "duration": 11,
    "start_time": "2021-08-31T11:36:02.981Z"
   },
   {
    "duration": 164,
    "start_time": "2021-08-31T11:36:02.994Z"
   },
   {
    "duration": 4,
    "start_time": "2021-08-31T11:36:03.160Z"
   },
   {
    "duration": 23,
    "start_time": "2021-08-31T11:36:03.167Z"
   },
   {
    "duration": 460,
    "start_time": "2021-08-31T11:36:03.192Z"
   },
   {
    "duration": 24,
    "start_time": "2021-08-31T11:36:03.655Z"
   },
   {
    "duration": 70,
    "start_time": "2021-08-31T11:36:03.682Z"
   },
   {
    "duration": 62,
    "start_time": "2021-08-31T11:36:03.754Z"
   },
   {
    "duration": 24,
    "start_time": "2021-08-31T11:36:03.819Z"
   },
   {
    "duration": 23,
    "start_time": "2021-08-31T11:36:03.846Z"
   },
   {
    "duration": 14,
    "start_time": "2021-08-31T11:36:03.871Z"
   },
   {
    "duration": 224,
    "start_time": "2021-08-31T11:36:03.887Z"
   },
   {
    "duration": 7,
    "start_time": "2021-08-31T11:36:04.114Z"
   },
   {
    "duration": 7,
    "start_time": "2021-08-31T11:36:04.123Z"
   },
   {
    "duration": 16,
    "start_time": "2021-08-31T11:36:04.133Z"
   },
   {
    "duration": 13,
    "start_time": "2021-08-31T11:36:04.151Z"
   },
   {
    "duration": 14,
    "start_time": "2021-08-31T11:36:04.166Z"
   },
   {
    "duration": 61,
    "start_time": "2021-08-31T11:36:04.183Z"
   },
   {
    "duration": 28,
    "start_time": "2021-08-31T11:36:04.246Z"
   },
   {
    "duration": 44,
    "start_time": "2021-08-31T11:36:04.276Z"
   },
   {
    "duration": 1372,
    "start_time": "2021-08-31T11:36:04.323Z"
   },
   {
    "duration": 28,
    "start_time": "2021-08-31T11:36:05.698Z"
   },
   {
    "duration": 29,
    "start_time": "2021-08-31T11:36:05.730Z"
   },
   {
    "duration": 167,
    "start_time": "2021-08-31T11:36:05.762Z"
   },
   {
    "duration": 10,
    "start_time": "2021-08-31T11:36:05.932Z"
   },
   {
    "duration": 26,
    "start_time": "2021-08-31T11:36:05.944Z"
   },
   {
    "duration": 123,
    "start_time": "2021-08-31T11:36:05.972Z"
   },
   {
    "duration": 16,
    "start_time": "2021-08-31T11:36:06.109Z"
   },
   {
    "duration": 9,
    "start_time": "2021-08-31T11:36:06.131Z"
   },
   {
    "duration": 20,
    "start_time": "2021-08-31T11:36:06.142Z"
   },
   {
    "duration": 51,
    "start_time": "2021-08-31T11:36:06.165Z"
   },
   {
    "duration": 12,
    "start_time": "2021-08-31T11:36:06.218Z"
   },
   {
    "duration": 503,
    "start_time": "2021-08-31T11:36:06.233Z"
   },
   {
    "duration": 106,
    "start_time": "2021-08-31T11:36:06.739Z"
   },
   {
    "duration": 13,
    "start_time": "2021-08-31T11:36:06.847Z"
   },
   {
    "duration": 53,
    "start_time": "2021-08-31T11:36:06.863Z"
   },
   {
    "duration": 12,
    "start_time": "2021-08-31T11:36:06.919Z"
   },
   {
    "duration": 11,
    "start_time": "2021-08-31T11:36:06.933Z"
   },
   {
    "duration": 12,
    "start_time": "2021-08-31T11:36:06.946Z"
   },
   {
    "duration": 70,
    "start_time": "2021-08-31T11:36:06.960Z"
   },
   {
    "duration": 14,
    "start_time": "2021-08-31T11:36:07.033Z"
   },
   {
    "duration": 25,
    "start_time": "2021-08-31T11:36:07.049Z"
   },
   {
    "duration": 48,
    "start_time": "2021-08-31T11:36:07.076Z"
   },
   {
    "duration": 9,
    "start_time": "2021-08-31T11:36:07.127Z"
   },
   {
    "duration": 17,
    "start_time": "2021-08-31T11:36:07.139Z"
   },
   {
    "duration": 21,
    "start_time": "2021-08-31T11:36:07.159Z"
   },
   {
    "duration": 5,
    "start_time": "2021-08-31T11:36:07.216Z"
   },
   {
    "duration": 16,
    "start_time": "2021-08-31T11:36:07.223Z"
   },
   {
    "duration": 9,
    "start_time": "2021-08-31T11:36:07.242Z"
   },
   {
    "duration": 13,
    "start_time": "2021-08-31T11:36:07.254Z"
   },
   {
    "duration": 52,
    "start_time": "2021-08-31T11:36:07.269Z"
   },
   {
    "duration": 21,
    "start_time": "2021-08-31T11:36:07.323Z"
   },
   {
    "duration": 26,
    "start_time": "2021-08-31T11:36:07.346Z"
   },
   {
    "duration": 357,
    "start_time": "2021-08-31T11:36:07.375Z"
   },
   {
    "duration": 17,
    "start_time": "2021-08-31T11:36:07.735Z"
   },
   {
    "duration": 12,
    "start_time": "2021-08-31T11:36:07.756Z"
   },
   {
    "duration": 62,
    "start_time": "2021-08-31T11:36:07.771Z"
   },
   {
    "duration": 12,
    "start_time": "2021-08-31T11:36:07.836Z"
   },
   {
    "duration": 12,
    "start_time": "2021-08-31T11:36:07.851Z"
   },
   {
    "duration": 51,
    "start_time": "2021-08-31T11:36:07.865Z"
   },
   {
    "duration": 14,
    "start_time": "2021-08-31T11:36:07.920Z"
   },
   {
    "duration": 636,
    "start_time": "2021-08-31T11:36:07.937Z"
   },
   {
    "duration": 10,
    "start_time": "2021-08-31T11:36:08.576Z"
   },
   {
    "duration": 31,
    "start_time": "2021-08-31T11:36:08.589Z"
   },
   {
    "duration": 21,
    "start_time": "2021-08-31T11:36:08.623Z"
   },
   {
    "duration": 4,
    "start_time": "2021-08-31T11:36:08.647Z"
   },
   {
    "duration": 15,
    "start_time": "2021-08-31T11:36:08.654Z"
   },
   {
    "duration": 54,
    "start_time": "2021-08-31T11:36:08.672Z"
   },
   {
    "duration": 8,
    "start_time": "2021-08-31T11:36:08.729Z"
   },
   {
    "duration": 21,
    "start_time": "2021-08-31T11:36:08.740Z"
   },
   {
    "duration": 52,
    "start_time": "2021-08-31T11:36:08.764Z"
   },
   {
    "duration": 10,
    "start_time": "2021-08-31T11:36:08.819Z"
   },
   {
    "duration": 25,
    "start_time": "2021-08-31T11:36:08.832Z"
   },
   {
    "duration": 9,
    "start_time": "2021-08-31T11:36:08.859Z"
   },
   {
    "duration": 48,
    "start_time": "2021-08-31T11:36:08.871Z"
   },
   {
    "duration": 20,
    "start_time": "2021-08-31T11:36:08.922Z"
   },
   {
    "duration": 12,
    "start_time": "2021-08-31T11:36:08.945Z"
   },
   {
    "duration": 8,
    "start_time": "2021-08-31T11:36:08.960Z"
   },
   {
    "duration": 50,
    "start_time": "2021-08-31T11:36:08.970Z"
   },
   {
    "duration": 10,
    "start_time": "2021-08-31T11:36:09.023Z"
   },
   {
    "duration": 35,
    "start_time": "2021-08-31T11:36:09.036Z"
   },
   {
    "duration": 87,
    "start_time": "2021-08-31T11:36:09.074Z"
   },
   {
    "duration": 1375,
    "start_time": "2021-08-31T11:36:09.164Z"
   },
   {
    "duration": 7,
    "start_time": "2021-08-31T11:36:10.542Z"
   },
   {
    "duration": 12,
    "start_time": "2021-08-31T11:36:10.552Z"
   },
   {
    "duration": 55,
    "start_time": "2021-08-31T11:36:10.567Z"
   },
   {
    "duration": 12,
    "start_time": "2021-08-31T11:36:10.625Z"
   },
   {
    "duration": 13,
    "start_time": "2021-08-31T11:36:10.639Z"
   },
   {
    "duration": 11,
    "start_time": "2021-08-31T11:36:10.655Z"
   },
   {
    "duration": 49,
    "start_time": "2021-08-31T11:36:10.668Z"
   },
   {
    "duration": 9,
    "start_time": "2021-08-31T11:36:10.719Z"
   },
   {
    "duration": 14,
    "start_time": "2021-08-31T11:36:10.731Z"
   },
   {
    "duration": 9,
    "start_time": "2021-08-31T11:36:10.747Z"
   },
   {
    "duration": 61,
    "start_time": "2021-08-31T11:36:10.758Z"
   },
   {
    "duration": 14,
    "start_time": "2021-08-31T11:36:10.822Z"
   },
   {
    "duration": 46,
    "start_time": "2021-08-31T11:36:10.839Z"
   },
   {
    "duration": 664,
    "start_time": "2021-08-31T11:36:10.916Z"
   },
   {
    "duration": 34,
    "start_time": "2021-08-31T11:36:11.583Z"
   },
   {
    "duration": 7,
    "start_time": "2021-08-31T11:36:11.620Z"
   },
   {
    "duration": 12,
    "start_time": "2021-08-31T11:36:11.630Z"
   },
   {
    "duration": 11,
    "start_time": "2021-08-31T11:36:11.645Z"
   },
   {
    "duration": 17,
    "start_time": "2021-08-31T11:36:11.658Z"
   },
   {
    "duration": 57,
    "start_time": "2021-08-31T11:36:11.677Z"
   },
   {
    "duration": 8,
    "start_time": "2021-08-31T11:36:11.737Z"
   },
   {
    "duration": 27,
    "start_time": "2021-08-31T11:36:11.748Z"
   },
   {
    "duration": 43,
    "start_time": "2021-08-31T11:36:11.778Z"
   },
   {
    "duration": 500,
    "start_time": "2021-08-31T11:36:11.824Z"
   },
   {
    "duration": 21,
    "start_time": "2021-08-31T11:36:12.326Z"
   },
   {
    "duration": 4,
    "start_time": "2021-08-31T11:36:12.349Z"
   },
   {
    "duration": 28,
    "start_time": "2021-08-31T11:36:12.356Z"
   },
   {
    "duration": 10,
    "start_time": "2021-08-31T11:36:12.418Z"
   },
   {
    "duration": 15,
    "start_time": "2021-08-31T11:36:12.430Z"
   },
   {
    "duration": 141,
    "start_time": "2021-08-31T11:36:12.447Z"
   },
   {
    "duration": 4,
    "start_time": "2021-08-31T11:36:12.590Z"
   },
   {
    "duration": 26,
    "start_time": "2021-08-31T11:36:12.596Z"
   },
   {
    "duration": 121,
    "start_time": "2021-08-31T11:36:12.625Z"
   },
   {
    "duration": 34,
    "start_time": "2021-08-31T11:36:12.748Z"
   },
   {
    "duration": 35,
    "start_time": "2021-08-31T11:36:12.784Z"
   },
   {
    "duration": 118,
    "start_time": "2021-08-31T11:36:12.821Z"
   },
   {
    "duration": 17,
    "start_time": "2021-08-31T11:36:12.941Z"
   },
   {
    "duration": 14,
    "start_time": "2021-08-31T11:36:12.961Z"
   },
   {
    "duration": 50,
    "start_time": "2021-08-31T11:36:12.977Z"
   },
   {
    "duration": 13,
    "start_time": "2021-08-31T11:36:13.029Z"
   },
   {
    "duration": 33,
    "start_time": "2021-08-31T11:36:13.044Z"
   },
   {
    "duration": 989,
    "start_time": "2021-08-31T11:36:13.080Z"
   },
   {
    "duration": 54,
    "start_time": "2021-08-31T11:36:14.072Z"
   },
   {
    "duration": 9,
    "start_time": "2021-08-31T11:36:14.128Z"
   },
   {
    "duration": 14,
    "start_time": "2021-08-31T11:36:14.139Z"
   },
   {
    "duration": 127,
    "start_time": "2021-08-31T11:36:14.155Z"
   },
   {
    "duration": 17,
    "start_time": "2021-08-31T11:36:14.285Z"
   },
   {
    "duration": 18,
    "start_time": "2021-08-31T11:36:14.316Z"
   },
   {
    "duration": 6,
    "start_time": "2021-08-31T11:36:14.336Z"
   },
   {
    "duration": 27,
    "start_time": "2021-08-31T11:36:14.345Z"
   },
   {
    "duration": 23,
    "start_time": "2021-08-31T11:36:14.375Z"
   },
   {
    "duration": 28,
    "start_time": "2021-08-31T11:36:14.401Z"
   },
   {
    "duration": 33,
    "start_time": "2021-08-31T11:36:14.431Z"
   },
   {
    "duration": 17,
    "start_time": "2021-08-31T11:36:14.466Z"
   },
   {
    "duration": 26,
    "start_time": "2021-08-31T11:36:14.485Z"
   },
   {
    "duration": 44,
    "start_time": "2021-08-31T11:36:14.514Z"
   },
   {
    "duration": 57,
    "start_time": "2021-08-31T11:36:14.560Z"
   },
   {
    "duration": 14,
    "start_time": "2021-08-31T11:36:14.620Z"
   },
   {
    "duration": 801,
    "start_time": "2021-08-31T11:36:14.636Z"
   },
   {
    "duration": 33,
    "start_time": "2021-08-31T11:36:15.439Z"
   },
   {
    "duration": 961,
    "start_time": "2021-08-31T11:36:15.474Z"
   },
   {
    "duration": 45,
    "start_time": "2021-08-31T11:36:16.438Z"
   },
   {
    "duration": 118,
    "start_time": "2021-08-31T11:36:16.485Z"
   },
   {
    "duration": 22,
    "start_time": "2021-08-31T11:36:16.605Z"
   },
   {
    "duration": 24,
    "start_time": "2021-08-31T11:36:16.630Z"
   },
   {
    "duration": 10,
    "start_time": "2021-08-31T11:36:16.656Z"
   },
   {
    "duration": 61,
    "start_time": "2021-08-31T11:36:16.668Z"
   },
   {
    "duration": 26,
    "start_time": "2021-08-31T11:36:16.731Z"
   },
   {
    "duration": 4,
    "start_time": "2021-08-31T11:36:16.760Z"
   },
   {
    "duration": 8,
    "start_time": "2021-08-31T11:36:16.766Z"
   },
   {
    "duration": 45,
    "start_time": "2021-08-31T11:36:16.776Z"
   },
   {
    "duration": 37,
    "start_time": "2021-08-31T11:36:16.824Z"
   },
   {
    "duration": 14,
    "start_time": "2021-08-31T11:36:16.863Z"
   },
   {
    "duration": 12,
    "start_time": "2021-08-31T11:36:16.880Z"
   },
   {
    "duration": 41,
    "start_time": "2021-08-31T11:36:16.894Z"
   },
   {
    "duration": 32,
    "start_time": "2021-08-31T11:36:16.937Z"
   },
   {
    "duration": 12,
    "start_time": "2021-08-31T11:36:16.972Z"
   },
   {
    "duration": 15,
    "start_time": "2021-08-31T11:36:16.987Z"
   },
   {
    "duration": 46,
    "start_time": "2021-08-31T11:36:17.005Z"
   },
   {
    "duration": 46,
    "start_time": "2021-08-31T11:36:17.070Z"
   },
   {
    "duration": 36,
    "start_time": "2021-08-31T11:36:17.120Z"
   },
   {
    "duration": 66,
    "start_time": "2021-08-31T11:36:17.159Z"
   },
   {
    "duration": 13,
    "start_time": "2021-08-31T11:36:17.228Z"
   },
   {
    "duration": 18,
    "start_time": "2021-08-31T11:36:17.243Z"
   },
   {
    "duration": 19,
    "start_time": "2021-08-31T11:36:17.264Z"
   },
   {
    "duration": 34,
    "start_time": "2021-08-31T11:36:17.286Z"
   },
   {
    "duration": 12,
    "start_time": "2021-08-31T11:36:17.322Z"
   },
   {
    "duration": 113,
    "start_time": "2021-08-31T11:36:17.337Z"
   },
   {
    "duration": 4,
    "start_time": "2021-08-31T11:36:17.452Z"
   },
   {
    "duration": 79,
    "start_time": "2021-08-31T11:36:17.458Z"
   },
   {
    "duration": 27,
    "start_time": "2021-08-31T11:36:17.539Z"
   },
   {
    "duration": 10,
    "start_time": "2021-08-31T11:36:17.569Z"
   },
   {
    "duration": 16,
    "start_time": "2021-08-31T11:36:17.581Z"
   },
   {
    "duration": 18,
    "start_time": "2021-08-31T11:36:17.599Z"
   },
   {
    "duration": 5,
    "start_time": "2021-08-31T11:36:17.620Z"
   },
   {
    "duration": 15,
    "start_time": "2021-08-31T11:36:17.628Z"
   },
   {
    "duration": 390,
    "start_time": "2021-08-31T11:36:17.645Z"
   }
  ],
  "kernelspec": {
   "display_name": "Python 3",
   "language": "python",
   "name": "python3"
  },
  "language_info": {
   "codemirror_mode": {
    "name": "ipython",
    "version": 3
   },
   "file_extension": ".py",
   "mimetype": "text/x-python",
   "name": "python",
   "nbconvert_exporter": "python",
   "pygments_lexer": "ipython3",
   "version": "3.7.8"
  },
  "toc": {
   "base_numbering": 1,
   "nav_menu": {},
   "number_sections": false,
   "sideBar": false,
   "skip_h1_title": false,
   "title_cell": "Содержание",
   "title_sidebar": "Contents",
   "toc_cell": false,
   "toc_position": {
    "height": "calc(100% - 180px)",
    "left": "10px",
    "top": "150px",
    "width": "302.391px"
   },
   "toc_section_display": false,
   "toc_window_display": false
  }
 },
 "nbformat": 4,
 "nbformat_minor": 2
}
